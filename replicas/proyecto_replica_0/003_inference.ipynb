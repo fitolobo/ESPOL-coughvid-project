{
 "cells": [
  {
   "cell_type": "markdown",
   "metadata": {},
   "source": [
    "# Inference of pretrained model"
   ]
  },
  {
   "cell_type": "code",
   "execution_count": 1,
   "metadata": {},
   "outputs": [],
   "source": [
    "# system imports\n",
    "import os\n",
    "\n",
    "# additional imports\n",
    "import pandas as pd\n",
    "import numpy as np\n",
    "\n",
    "from sklearn.preprocessing import LabelEncoder, StandardScaler\n",
    "\n",
    "import torch\n",
    "\n",
    "# internal imports\n",
    "from utils import preproces, CoughNet"
   ]
  },
  {
   "cell_type": "markdown",
   "metadata": {},
   "source": [
    "## Path to test file"
   ]
  },
  {
   "cell_type": "code",
   "execution_count": 2,
   "metadata": {},
   "outputs": [],
   "source": [
    "fn_wav = 'data/test.wav' # positive example"
   ]
  },
  {
   "cell_type": "markdown",
   "metadata": {},
   "source": [
    "## Inference"
   ]
  },
  {
   "cell_type": "code",
   "execution_count": 4,
   "metadata": {},
   "outputs": [
    {
     "name": "stderr",
     "output_type": "stream",
     "text": [
      "/var/folders/js/4gyf2ycn0psfjp__7974j73h0000gn/T/ipykernel_45067/850630829.py:2: FutureWarning: You are using `torch.load` with `weights_only=False` (the current default value), which uses the default pickle module implicitly. It is possible to construct malicious pickle data which will execute arbitrary code during unpickling (See https://github.com/pytorch/pytorch/blob/main/SECURITY.md#untrusted-models for more details). In a future release, the default value for `weights_only` will be flipped to `True`. This limits the functions that could be executed during unpickling. Arbitrary objects will no longer be allowed to be loaded via this mode unless they are explicitly allowlisted by the user via `torch.serialization.add_safe_globals`. We recommend you start setting `weights_only=True` for any use case where you don't have full control of the loaded file. Please open an issue on GitHub for any issues related to this experimental feature.\n",
      "  loaded_checkpoint = torch.load('checkpoints/checkpoint.pth')\n"
     ]
    },
    {
     "name": "stdout",
     "output_type": "stream",
     "text": [
      "model outputs [0.9947754 0.0052246] which predicts the class covid!\n"
     ]
    },
    {
     "name": "stderr",
     "output_type": "stream",
     "text": [
      "/var/folders/js/4gyf2ycn0psfjp__7974j73h0000gn/T/ipykernel_45067/850630829.py:15: FutureWarning: The behavior of DataFrame concatenation with empty or all-NA entries is deprecated. In a future version, this will no longer exclude empty or all-NA columns when determining the result dtypes. To retain the old behavior, exclude the relevant entries before the concat operation.\n",
      "  df_features = pd.concat([df_features, pd.DataFrame([preproces(fn_wav)])], ignore_index=True)\n"
     ]
    }
   ],
   "source": [
    "# load model from checkpoint\n",
    "loaded_checkpoint = torch.load('checkpoints/checkpoint.pth')\n",
    "hparams = loaded_checkpoint['hparams']\n",
    "scaler = loaded_checkpoint['scaler']\n",
    "encoder = loaded_checkpoint['encoder']\n",
    "\n",
    "model = CoughNet(len(hparams['features']))\n",
    "model.eval()\n",
    "model.load_state_dict(loaded_checkpoint['model_state'])\n",
    "\n",
    "# create input features\n",
    "df_features = pd.DataFrame(columns=hparams['features'])\n",
    "\n",
    "# Option 1: Using pd.concat\n",
    "df_features = pd.concat([df_features, pd.DataFrame([preproces(fn_wav)])], ignore_index=True)\n",
    "\n",
    "# Option 2: Using loc (alternative approach)\n",
    "# df_features.loc[len(df_features)] = preproces(fn_wav)\n",
    "\n",
    "X = np.array(df_features[hparams['features']], dtype=np.float32)\n",
    "X = torch.Tensor(scaler.transform(X))\n",
    "\n",
    "outputs = torch.softmax(model(X), 1)\n",
    "predictions = torch.argmax(outputs.data, 1)\n",
    "\n",
    "# print result\n",
    "print(f'model outputs {outputs[0].detach().numpy()} which predicts the class {encoder.classes_[predictions]}!')"
   ]
  },
  {
   "cell_type": "code",
   "execution_count": null,
   "metadata": {},
   "outputs": [],
   "source": []
  }
 ],
 "metadata": {
  "kernelspec": {
   "display_name": "Python 3.6.10 64-bit ('ma': conda)",
   "metadata": {
    "interpreter": {
     "hash": "739f6139ea16146f6825468ed5e82eb0c1c232f377b4e45bfd13eaa0a4a5ceb5"
    }
   },
   "name": "python3"
  },
  "language_info": {
   "codemirror_mode": {
    "name": "ipython",
    "version": 3
   },
   "file_extension": ".py",
   "mimetype": "text/x-python",
   "name": "python",
   "nbconvert_exporter": "python",
   "pygments_lexer": "ipython3",
   "version": "3.11.6"
  },
  "orig_nbformat": 2
 },
 "nbformat": 4,
 "nbformat_minor": 2
}
