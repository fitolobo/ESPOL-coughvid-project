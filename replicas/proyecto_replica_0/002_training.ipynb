{
 "cells": [
  {
   "cell_type": "markdown",
   "metadata": {},
   "source": [
    "# Training and Evaluation"
   ]
  },
  {
   "cell_type": "code",
   "execution_count": 1,
   "metadata": {},
   "outputs": [
    {
     "name": "stderr",
     "output_type": "stream",
     "text": [
      "/Users/rodolfolobocarrasco/Library/Caches/pypoetry/virtualenvs/clear-J92jq7Lm-py3.11/lib/python3.11/site-packages/tqdm/auto.py:21: TqdmWarning: IProgress not found. Please update jupyter and ipywidgets. See https://ipywidgets.readthedocs.io/en/stable/user_install.html\n",
      "  from .autonotebook import tqdm as notebook_tqdm\n"
     ]
    }
   ],
   "source": [
    "# system imports\n",
    "import os\n",
    "from datetime import datetime\n",
    "\n",
    "# additional imports\n",
    "import pandas as pd\n",
    "import numpy as np\n",
    "from tqdm.auto import tqdm\n",
    "\n",
    "from sklearn.preprocessing import LabelEncoder, StandardScaler\n",
    "from sklearn.model_selection import train_test_split\n",
    "\n",
    "import torch\n",
    "from torch.utils.tensorboard import SummaryWriter\n",
    "\n",
    "# internal imports\n",
    "from utils import plot_confusion_matrix\n",
    "\n",
    "# device config\n",
    "device = torch.device('cuda' if torch.cuda.is_available() else 'cpu')"
   ]
  },
  {
   "cell_type": "markdown",
   "metadata": {},
   "source": [
    "## Hyperparameters"
   ]
  },
  {
   "cell_type": "code",
   "execution_count": 2,
   "metadata": {},
   "outputs": [],
   "source": [
    "hparams = {    \n",
    "    'dataset': 'data/prepared_data_balanced.csv',\n",
    "    'epochs': 15,\n",
    "    'batch_size': 16,\n",
    "    'lr': 1e-3,\n",
    "    'features': [\n",
    "        'chroma_stft', 'rmse', 'spectral_centroid', 'spectral_bandwidth', 'rolloff', 'zero_crossing_rate',\n",
    "        'mfcc1', 'mfcc2', 'mfcc3', 'mfcc4', 'mfcc5', 'mfcc6', 'mfcc7', 'mfcc8', 'mfcc9', 'mfcc10', \n",
    "        'mfcc11', 'mfcc12', 'mfcc13', 'mfcc14', 'mfcc15', 'mfcc16', 'mfcc17', 'mfcc18', 'mfcc19', 'mfcc20'\n",
    "    ]\n",
    "}"
   ]
  },
  {
   "cell_type": "markdown",
   "metadata": {},
   "source": [
    "## Prepare Data"
   ]
  },
  {
   "cell_type": "code",
   "execution_count": 3,
   "metadata": {},
   "outputs": [
    {
     "name": "stdout",
     "output_type": "stream",
     "text": [
      "classes: ['covid' 'not_covid']\n",
      "X_train.shape: (107, 26)\n",
      "y_train.shape: (107,)\n"
     ]
    }
   ],
   "source": [
    "df_features = pd.read_csv(hparams['dataset'])\n",
    "\n",
    "X = np.array(df_features[hparams['features']], dtype=np.float32)\n",
    "\n",
    "encoder = LabelEncoder()\n",
    "y = encoder.fit_transform(df_features['label'])\n",
    "print('classes:', encoder.classes_)\n",
    "\n",
    "X_train, X_test, y_train, y_test = train_test_split(X, y, test_size=0.2, random_state=42)\n",
    "\n",
    "# scale data\n",
    "scaler = StandardScaler()\n",
    "X_train = scaler.fit_transform(X_train)\n",
    "X_test = scaler.transform(X_test)\n",
    "\n",
    "print('X_train.shape:', X_train.shape)\n",
    "print('y_train.shape:', y_train.shape)\n",
    "\n",
    "# create pytorch dataloader\n",
    "torch.manual_seed(42)\n",
    "train_dataset = torch.utils.data.TensorDataset(torch.Tensor(X_train), torch.Tensor(y_train).long())\n",
    "test_dataset = torch.utils.data.TensorDataset(torch.Tensor(X_test), torch.Tensor(y_test).long())\n",
    "train_loader = torch.utils.data.DataLoader(dataset=train_dataset, batch_size=hparams['batch_size'], shuffle=True)\n",
    "test_loader = torch.utils.data.DataLoader(dataset=test_dataset, batch_size=hparams['batch_size'], shuffle=False)"
   ]
  },
  {
   "cell_type": "markdown",
   "metadata": {},
   "source": [
    "## Setup Model"
   ]
  },
  {
   "cell_type": "code",
   "execution_count": 4,
   "metadata": {},
   "outputs": [],
   "source": [
    "# Design model (input, output size, forward pass)\n",
    "class CoughNet(torch.nn.Module):\n",
    "    def __init__(self, input_size):\n",
    "        super(CoughNet, self).__init__()\n",
    "        self.l1 = torch.nn.Linear(input_size, 512)\n",
    "        self.l2 = torch.nn.Linear(512, 256)\n",
    "        self.l3 = torch.nn.Linear(256, 128)\n",
    "        self.l4 = torch.nn.Linear(128, 64)\n",
    "        self.l5 = torch.nn.Linear(64, 10)\n",
    "        self.l6 = torch.nn.Linear(10, 2)\n",
    "\n",
    "    def forward(self, x):\n",
    "        x = torch.relu(self.l1(x))\n",
    "        x = torch.relu(self.l2(x))\n",
    "        x = torch.relu(self.l3(x))\n",
    "        x = torch.relu(self.l4(x))\n",
    "        x = torch.relu(self.l5(x))\n",
    "        x = self.l6(x)\n",
    "        return x\n",
    "\n",
    "model = CoughNet(len(hparams['features'])).to(device)\n",
    "#model = CoughNet(len(hparams['features'])).to(device).float()"
   ]
  },
  {
   "cell_type": "markdown",
   "metadata": {},
   "source": [
    "## Training"
   ]
  },
  {
   "cell_type": "code",
   "execution_count": 3,
   "metadata": {},
   "outputs": [
    {
     "data": {
      "text/plain": [
       "0.001"
      ]
     },
     "execution_count": 3,
     "metadata": {},
     "output_type": "execute_result"
    }
   ],
   "source": [
    "hparams['lr']"
   ]
  },
  {
   "cell_type": "code",
   "execution_count": 5,
   "metadata": {
    "tags": []
   },
   "outputs": [
    {
     "name": "stderr",
     "output_type": "stream",
     "text": [
      "[Training Epoch 1]: 100%|██████████| 7/7 [00:00<00:00, 244.24it/s, loss=0.0448, train_accuracy=0.533]\n",
      "[Evaluating Epoch 1]: 100%|██████████| 2/2 [00:00<00:00, 724.91it/s, loss=0.0515, eval_accuracy=0.37]\n",
      "[Training Epoch 2]: 100%|██████████| 7/7 [00:00<00:00, 560.94it/s, loss=0.0423, train_accuracy=0.757]\n",
      "[Evaluating Epoch 2]: 100%|██████████| 2/2 [00:00<00:00, 754.24it/s, loss=0.0459, eval_accuracy=0.704]\n",
      "[Training Epoch 3]: 100%|██████████| 7/7 [00:00<00:00, 554.54it/s, loss=0.0351, train_accuracy=0.879]\n",
      "[Evaluating Epoch 3]: 100%|██████████| 2/2 [00:00<00:00, 825.73it/s, loss=0.0353, eval_accuracy=0.741]\n",
      "[Training Epoch 4]: 100%|██████████| 7/7 [00:00<00:00, 549.02it/s, loss=0.0248, train_accuracy=0.86]\n",
      "[Evaluating Epoch 4]: 100%|██████████| 2/2 [00:00<00:00, 879.03it/s, loss=0.0316, eval_accuracy=0.815]\n",
      "[Training Epoch 5]: 100%|██████████| 7/7 [00:00<00:00, 543.31it/s, loss=0.0168, train_accuracy=0.907]\n",
      "[Evaluating Epoch 5]: 100%|██████████| 2/2 [00:00<00:00, 747.38it/s, loss=0.0429, eval_accuracy=0.778]\n",
      "[Training Epoch 6]: 100%|██████████| 7/7 [00:00<00:00, 548.15it/s, loss=0.0131, train_accuracy=0.925]\n",
      "[Evaluating Epoch 6]: 100%|██████████| 2/2 [00:00<00:00, 861.78it/s, loss=0.0321, eval_accuracy=0.852]\n",
      "[Training Epoch 7]: 100%|██████████| 7/7 [00:00<00:00, 504.47it/s, loss=0.00977, train_accuracy=0.953]\n",
      "[Evaluating Epoch 7]: 100%|██████████| 2/2 [00:00<00:00, 786.41it/s, loss=0.0491, eval_accuracy=0.778]\n",
      "[Training Epoch 8]: 100%|██████████| 7/7 [00:00<00:00, 581.35it/s, loss=0.00861, train_accuracy=0.953]\n",
      "[Evaluating Epoch 8]: 100%|██████████| 2/2 [00:00<00:00, 840.71it/s, loss=0.0384, eval_accuracy=0.852]\n",
      "[Training Epoch 9]: 100%|██████████| 7/7 [00:00<00:00, 566.67it/s, loss=0.00577, train_accuracy=0.981]\n",
      "[Evaluating Epoch 9]: 100%|██████████| 2/2 [00:00<00:00, 922.03it/s, loss=0.0477, eval_accuracy=0.778]\n",
      "[Training Epoch 10]: 100%|██████████| 7/7 [00:00<00:00, 555.55it/s, loss=0.00527, train_accuracy=0.981]\n",
      "[Evaluating Epoch 10]: 100%|██████████| 2/2 [00:00<00:00, 904.53it/s, loss=0.035, eval_accuracy=0.852]\n",
      "[Training Epoch 11]: 100%|██████████| 7/7 [00:00<00:00, 552.84it/s, loss=0.00448, train_accuracy=0.981]\n",
      "[Evaluating Epoch 11]: 100%|██████████| 2/2 [00:00<00:00, 902.58it/s, loss=0.0384, eval_accuracy=0.852]\n",
      "[Training Epoch 12]: 100%|██████████| 7/7 [00:00<00:00, 564.56it/s, loss=0.00398, train_accuracy=0.981]\n",
      "[Evaluating Epoch 12]: 100%|██████████| 2/2 [00:00<00:00, 918.70it/s, loss=0.0401, eval_accuracy=0.852]\n",
      "[Training Epoch 13]: 100%|██████████| 7/7 [00:00<00:00, 565.97it/s, loss=0.00364, train_accuracy=0.981]\n",
      "[Evaluating Epoch 13]: 100%|██████████| 2/2 [00:00<00:00, 909.83it/s, loss=0.0405, eval_accuracy=0.852]\n",
      "[Training Epoch 14]: 100%|██████████| 7/7 [00:00<00:00, 538.93it/s, loss=0.00318, train_accuracy=0.981]\n",
      "[Evaluating Epoch 14]: 100%|██████████| 2/2 [00:00<00:00, 982.16it/s, loss=0.0387, eval_accuracy=0.852]\n",
      "[Training Epoch 15]: 100%|██████████| 7/7 [00:00<00:00, 211.00it/s, loss=0.00287, train_accuracy=0.981]\n",
      "[Evaluating Epoch 15]: 100%|██████████| 2/2 [00:00<00:00, 798.46it/s, loss=0.0409, eval_accuracy=0.852]\n"
     ]
    }
   ],
   "source": [
    "# Construct loss and optimizer\n",
    "optimizer = torch.optim.Adam(model.parameters(), lr=hparams['lr'])\n",
    "criterion = torch.nn.CrossEntropyLoss()\n",
    "\n",
    "def train(loader_train, model, optimizer, epoch):\n",
    "    model.train()\n",
    "    running_loss = 0.0\n",
    "    running_correct = 0.0\n",
    "    total = 0\n",
    "    pbar = tqdm(enumerate(loader_train), total=len(loader_train))\n",
    "    for batch_ndx, sample in pbar: \n",
    "        features, labels = sample[0].to(device), sample[1].to(device) \n",
    "\n",
    "        # forward pass and loss calculation\n",
    "        outputs = model(features)\n",
    "        loss = criterion(outputs, labels)  \n",
    "        \n",
    "        # backward pass    \n",
    "        loss.backward()\n",
    "        \n",
    "        # update weights\n",
    "        optimizer.step()\n",
    "        optimizer.zero_grad()\n",
    "        \n",
    "        # calculate metrics\n",
    "        running_loss += loss.item()\n",
    "        predictions = torch.argmax(outputs.data, 1)\n",
    "        running_correct += (predictions == labels).sum().item()\n",
    "\n",
    "        # print informations\n",
    "        pbar.set_description(f'[Training Epoch {epoch+1}]') \n",
    "        total += labels.shape[0]\n",
    "        pbar.set_postfix({'loss': running_loss / total, 'train_accuracy': running_correct / total})\n",
    "        \n",
    "    # write informations to tensorboard\n",
    "    writer.add_scalar('Loss/Train', running_loss / total, epoch+1)\n",
    "    writer.add_scalar('Accuracy/Train', running_correct / total, epoch+1)\n",
    "\n",
    "def evaluate(loader_test, model, epoch):\n",
    "    model.eval()\n",
    "    running_loss = 0.0\n",
    "    running_correct = 0.0\n",
    "    total = 0\n",
    "    with torch.no_grad():\n",
    "        pbar = tqdm(enumerate(loader_test), total=len(loader_test))\n",
    "        for batch_ndx, sample in pbar:\n",
    "            features, labels = sample[0].to(device), sample[1].to(device) \n",
    "\n",
    "            # forward pass and loss calculation\n",
    "            outputs = model(features)\n",
    "            loss = criterion(outputs, labels)  \n",
    "\n",
    "            # calculate metrics\n",
    "            running_loss += loss.item()\n",
    "            predictions = torch.argmax(outputs.data, 1)\n",
    "            running_correct += (predictions == labels).sum().item()\n",
    "\n",
    "            # print informations\n",
    "            pbar.set_description(f'[Evaluating Epoch {epoch+1}]')\n",
    "            total += labels.shape[0]\n",
    "            pbar.set_postfix({'loss': running_loss / total, 'eval_accuracy': running_correct / total})\n",
    "        \n",
    "    # write informations to tensorboard\n",
    "    writer.add_scalar('Loss/Eval', running_loss / total, epoch+1)\n",
    "    writer.add_scalar('Accuracy/Eval', running_correct / total, epoch+1)\n",
    "\n",
    "# initialize tensorboard summary writer\n",
    "time_stamp = datetime.now().strftime('%Y%m%d-%H%M%S')\n",
    "writer = SummaryWriter(f'logs/{time_stamp}/')\n",
    "\n",
    "# add graph to tensorboard\n",
    "features = iter(test_loader).__next__()[0]\n",
    "writer.add_graph(model, features)\n",
    "\n",
    "# training loop\n",
    "for epoch in range(hparams['epochs']):\n",
    "    train(train_loader, model, optimizer, epoch)\n",
    "    evaluate(test_loader, model, epoch)\n",
    "\n",
    "# close tensorboard\n",
    "writer.close()\n",
    "\n",
    "# open tensorboard\n",
    "# tensorboard --logdir logs"
   ]
  },
  {
   "cell_type": "markdown",
   "metadata": {},
   "source": [
    "## Plot confusion matrix"
   ]
  },
  {
   "cell_type": "code",
   "execution_count": 8,
   "metadata": {},
   "outputs": [],
   "source": [
    "import matplotlib.pyplot as plt \n",
    "from sklearn.metrics import confusion_matrix"
   ]
  },
  {
   "cell_type": "code",
   "execution_count": 17,
   "metadata": {},
   "outputs": [
    {
     "name": "stdout",
     "output_type": "stream",
     "text": [
      "[0 1 0 1 1 1 1 0 0 0 1 1 1 1 0 1 0 1 1 0 0 1 1 1 1 0 1]\n"
     ]
    },
    {
     "data": {
      "image/png": "[encoded data removed]",
      "text/plain": [
       "<Figure size 1000x800 with 2 Axes>"
      ]
     },
     "metadata": {},
     "output_type": "display_data"
    },
    {
     "data": {
      "image/png": "[encoded data removed]",
      "text/plain": [
       "<Figure size 1000x800 with 2 Axes>"
      ]
     },
     "metadata": {},
     "output_type": "display_data"
    }
   ],
   "source": [
    "model.eval()\n",
    "with torch.no_grad():\n",
    "    test_tensor = torch.Tensor(X_test).to(device)  # This will be float32 by default\n",
    "    outputs = model(test_tensor)\n",
    "    predictions = torch.argmax(outputs.data, 1).cpu()  # Add .cpu() if predictions needed for plotting\n",
    "\n",
    "\n",
    "# Then modify the plot_confusion_matrix function in utils.py:\n",
    "def plot_confusion_matrix(targets, predictions, classes):\n",
    "    # calculate confusion matrix\n",
    "    cm = confusion_matrix(targets, predictions)\n",
    "    \n",
    "    # calculate percentages\n",
    "    cm_percent = cm.astype(np.float64) / cm.sum(axis=1)[:, np.newaxis]\n",
    "    \n",
    "    plt.figure(figsize=(10, 8))\n",
    "    plt.imshow(cm_percent, interpolation='nearest', cmap=plt.cm.Blues)\n",
    "    plt.title('Confusion Matrix')\n",
    "    plt.colorbar()\n",
    "    \n",
    "    # Add labels to each cell\n",
    "    thresh = cm_percent.max() / 2.\n",
    "    for i in range(cm.shape[0]):\n",
    "        for j in range(cm.shape[1]):\n",
    "            # Format as percentage\n",
    "            plt.text(j, i, f'{cm_percent[i, j]:.1%}\\n({cm[i, j]})',\n",
    "                    ha=\"center\", va=\"center\",\n",
    "                    color=\"white\" if cm_percent[i, j] > thresh else \"black\")\n",
    "    \n",
    "    # Add labels\n",
    "    tick_marks = np.arange(len(classes))\n",
    "    plt.xticks(tick_marks, classes, rotation=45)\n",
    "    plt.yticks(tick_marks, classes)\n",
    "    plt.ylabel('True Label')\n",
    "    plt.xlabel('Predicted Label')\n",
    "    plt.tight_layout()\n",
    "\n",
    "# Now you can call it:\n",
    "# Make sure both are numpy arrays before plotting\n",
    "y_test_np = y_test if isinstance(y_test, np.ndarray) else y_test.numpy()\n",
    "print(y_test_np)\n",
    "plot_confusion_matrix(y_test_np, predictions, encoder.classes_)\n",
    "\n",
    "plot_confusion_matrix(y_test_np, predictions, encoder.classes_)"
   ]
  },
  {
   "cell_type": "markdown",
   "metadata": {},
   "source": [
    "## Save checkpoint after training"
   ]
  },
  {
   "cell_type": "code",
   "execution_count": 18,
   "metadata": {},
   "outputs": [],
   "source": [
    "checkpoint = {\n",
    "    'hparams': hparams,\n",
    "    'model_state': model.state_dict(),\n",
    "    'scaler': scaler,\n",
    "    'encoder': encoder\n",
    "}\n",
    "torch.save(checkpoint, 'checkpoints/checkpoint.pth')"
   ]
  }
 ],
 "metadata": {
  "kernelspec": {
   "display_name": "Python 3.6.10 64-bit ('ma': conda)",
   "metadata": {
    "interpreter": {
     "hash": "739f6139ea16146f6825468ed5e82eb0c1c232f377b4e45bfd13eaa0a4a5ceb5"
    }
   },
   "name": "python3"
  },
  "language_info": {
   "codemirror_mode": {
    "name": "ipython",
    "version": 3
   },
   "file_extension": ".py",
   "mimetype": "text/x-python",
   "name": "python",
   "nbconvert_exporter": "python",
   "pygments_lexer": "ipython3",
   "version": "3.11.6"
  },
  "orig_nbformat": 2
 },
 "nbformat": 4,
 "nbformat_minor": 2
}
