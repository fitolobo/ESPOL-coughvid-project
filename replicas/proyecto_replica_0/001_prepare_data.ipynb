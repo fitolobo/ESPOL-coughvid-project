{
 "cells": [
  {
   "cell_type": "markdown",
   "metadata": {},
   "source": [
    "# Prepare Data for Training"
   ]
  },
  {
   "cell_type": "code",
   "execution_count": 1,
   "metadata": {},
   "outputs": [],
   "source": [
    "# !pip install torch torchvision\n"
   ]
  },
  {
   "cell_type": "code",
   "execution_count": 2,
   "metadata": {},
   "outputs": [
    {
     "name": "stderr",
     "output_type": "stream",
     "text": [
      "/Users/rodolfolobocarrasco/Library/Caches/pypoetry/virtualenvs/clear-J92jq7Lm-py3.11/lib/python3.11/site-packages/tqdm/auto.py:21: TqdmWarning: IProgress not found. Please update jupyter and ipywidgets. See https://ipywidgets.readthedocs.io/en/stable/user_install.html\n",
      "  from .autonotebook import tqdm as notebook_tqdm\n"
     ]
    }
   ],
   "source": [
    "# system imports\n",
    "import os\n",
    "import glob\n",
    "\n",
    "# additional imports\n",
    "import pandas as pd\n",
    "from tqdm.auto import tqdm\n",
    "from sklearn.utils import resample\n",
    "\n",
    "# internal imports\n",
    "from utils import preproces"
   ]
  },
  {
   "cell_type": "markdown",
   "metadata": {},
   "source": [
    "## Kaggle Dataset - Exploration"
   ]
  },
  {
   "cell_type": "code",
   "execution_count": 3,
   "metadata": {},
   "outputs": [
    {
     "name": "stdout",
     "output_type": "stream",
     "text": [
      "Total number of examples: 170\n",
      "Number of positive examples: 19\n",
      "Number of negative examples: 151\n"
     ]
    },
    {
     "data": {
      "text/html": [
       "<div>\n",
       "<style scoped>\n",
       "    .dataframe tbody tr th:only-of-type {\n",
       "        vertical-align: middle;\n",
       "    }\n",
       "\n",
       "    .dataframe tbody tr th {\n",
       "        vertical-align: top;\n",
       "    }\n",
       "\n",
       "    .dataframe thead th {\n",
       "        text-align: right;\n",
       "    }\n",
       "</style>\n",
       "<table border=\"1\" class=\"dataframe\">\n",
       "  <thead>\n",
       "    <tr style=\"text-align: right;\">\n",
       "      <th></th>\n",
       "      <th>file_properties</th>\n",
       "      <th>class</th>\n",
       "    </tr>\n",
       "  </thead>\n",
       "  <tbody>\n",
       "    <tr>\n",
       "      <th>0</th>\n",
       "      <td>0v8MGxNetjg_ 10.000_ 20.000.wav</td>\n",
       "      <td>not_covid</td>\n",
       "    </tr>\n",
       "    <tr>\n",
       "      <th>1</th>\n",
       "      <td>1j1duoxdxBg_ 70.000_ 80.000.wav</td>\n",
       "      <td>not_covid</td>\n",
       "    </tr>\n",
       "    <tr>\n",
       "      <th>2</th>\n",
       "      <td>1MSYO4wgiag_ 120.000_ 130.000.wav</td>\n",
       "      <td>not_covid</td>\n",
       "    </tr>\n",
       "    <tr>\n",
       "      <th>3</th>\n",
       "      <td>1PajbAKd8Kg_ 0.000_ 10.000.wav</td>\n",
       "      <td>not_covid</td>\n",
       "    </tr>\n",
       "    <tr>\n",
       "      <th>4</th>\n",
       "      <td>cov1.wav</td>\n",
       "      <td>covid</td>\n",
       "    </tr>\n",
       "  </tbody>\n",
       "</table>\n",
       "</div>"
      ],
      "text/plain": [
       "                     file_properties      class\n",
       "0    0v8MGxNetjg_ 10.000_ 20.000.wav  not_covid\n",
       "1    1j1duoxdxBg_ 70.000_ 80.000.wav  not_covid\n",
       "2  1MSYO4wgiag_ 120.000_ 130.000.wav  not_covid\n",
       "3     1PajbAKd8Kg_ 0.000_ 10.000.wav  not_covid\n",
       "4                           cov1.wav      covid"
      ]
     },
     "execution_count": 3,
     "metadata": {},
     "output_type": "execute_result"
    }
   ],
   "source": [
    "# download and extract the dataset from kaggle into the ./data/kaggle folder!\n",
    "# https://www.kaggle.com/himanshu007121/coughclassifier-trial/download\n",
    "\n",
    "fn_dataset = 'data/kaggle/cough_trial_extended.csv'\n",
    "df_dataset = pd.read_csv(fn_dataset)\n",
    "\n",
    "print('Total number of examples:', len(df_dataset))\n",
    "print('Number of positive examples:', len(df_dataset[df_dataset['class'] == 'covid']))\n",
    "print('Number of negative examples:', len(df_dataset[df_dataset['class'] == 'not_covid']))\n",
    "\n",
    "df_dataset.head()"
   ]
  },
  {
   "cell_type": "markdown",
   "metadata": {},
   "source": [
    "## Kaggle Dataset - Feature Extraction"
   ]
  },
  {
   "cell_type": "code",
   "execution_count": 4,
   "metadata": {
    "tags": []
   },
   "outputs": [
    {
     "name": "stderr",
     "output_type": "stream",
     "text": [
      "  0%|          | 0/170 [00:00<?, ?it/s]/var/folders/js/4gyf2ycn0psfjp__7974j73h0000gn/T/ipykernel_34578/487134913.py:17: FutureWarning: The behavior of DataFrame concatenation with empty or all-NA entries is deprecated. In a future version, this will no longer exclude empty or all-NA columns when determining the result dtypes. To retain the old behavior, exclude the relevant entries before the concat operation.\n",
      "  df_features = pd.concat([df_features, feature_row_df], ignore_index=True)\n",
      "  3%|▎         | 5/170 [00:00<00:18,  8.85it/s]"
     ]
    },
    {
     "name": "stdout",
     "output_type": "stream",
     "text": [
      "feature_row type: <class 'dict'>\n",
      "feature_row={'chroma_stft': np.float32(0.52020204), 'rmse': np.float32(0.045849107), 'spectral_centroid': np.float64(1613.207268351373), 'spectral_bandwidth': np.float64(1412.4199471418742), 'rolloff': np.float64(2908.0291748046875), 'zero_crossing_rate': np.float64(0.10701949508101852), 'mfcc1': np.float32(-377.00867), 'mfcc2': np.float32(110.92828), 'mfcc3': np.float32(-31.870615), 'mfcc4': np.float32(6.640703), 'mfcc5': np.float32(-0.8315147), 'mfcc6': np.float32(-4.4516087), 'mfcc7': np.float32(-0.1962234), 'mfcc8': np.float32(-3.776341), 'mfcc9': np.float32(-5.1953974), 'mfcc10': np.float32(-0.67670864), 'mfcc11': np.float32(-0.66683763), 'mfcc12': np.float32(-7.442677), 'mfcc13': np.float32(-1.0420707), 'mfcc14': np.float32(-0.21167755), 'mfcc15': np.float32(-3.5130289), 'mfcc16': np.float32(-1.7552835), 'mfcc17': np.float32(-3.0297434), 'mfcc18': np.float32(-2.8737524), 'mfcc19': np.float32(-2.084186), 'mfcc20': np.float32(-4.0062585), 'filename': '0v8MGxNetjg_ 10.000_ 20.000.wav', 'label': 'not_covid'}\n",
      "feature_row type: <class 'dict'>\n",
      "feature_row={'chroma_stft': np.float32(0.53591967), 'rmse': np.float32(0.0017672045), 'spectral_centroid': np.float64(2892.9003110400267), 'spectral_bandwidth': np.float64(2467.7000447091664), 'rolloff': np.float64(5074.2095947265625), 'zero_crossing_rate': np.float64(0.14858443648726852), 'mfcc1': np.float32(-519.2981), 'mfcc2': np.float32(60.83321), 'mfcc3': np.float32(-13.686949), 'mfcc4': np.float32(52.106445), 'mfcc5': np.float32(0.023676837), 'mfcc6': np.float32(-2.5801547), 'mfcc7': np.float32(16.06641), 'mfcc8': np.float32(-1.5136065), 'mfcc9': np.float32(4.1083217), 'mfcc10': np.float32(11.038373), 'mfcc11': np.float32(-0.1432299), 'mfcc12': np.float32(-0.89726895), 'mfcc13': np.float32(7.246154), 'mfcc14': np.float32(-1.7113218), 'mfcc15': np.float32(3.8798735), 'mfcc16': np.float32(3.6373014), 'mfcc17': np.float32(3.026382), 'mfcc18': np.float32(2.4391048), 'mfcc19': np.float32(2.7785068), 'mfcc20': np.float32(2.2092004), 'filename': '1j1duoxdxBg_ 70.000_ 80.000.wav', 'label': 'not_covid'}\n",
      "feature_row type: <class 'dict'>\n",
      "feature_row={'chroma_stft': np.float32(0.49570107), 'rmse': np.float32(0.033442184), 'spectral_centroid': np.float64(3429.34549321979), 'spectral_bandwidth': np.float64(2788.624736490241), 'rolloff': np.float64(6887.833658854167), 'zero_crossing_rate': np.float64(0.2253146701388889), 'mfcc1': np.float32(-282.54663), 'mfcc2': np.float32(48.55093), 'mfcc3': np.float32(-15.530038), 'mfcc4': np.float32(12.70684), 'mfcc5': np.float32(4.197268), 'mfcc6': np.float32(-7.5824986), 'mfcc7': np.float32(-19.339329), 'mfcc8': np.float32(-12.062805), 'mfcc9': np.float32(-16.914818), 'mfcc10': np.float32(13.680665), 'mfcc11': np.float32(0.8189353), 'mfcc12': np.float32(-6.072834), 'mfcc13': np.float32(-4.1813583), 'mfcc14': np.float32(0.9958034), 'mfcc15': np.float32(-0.5268777), 'mfcc16': np.float32(0.5449486), 'mfcc17': np.float32(-8.846841), 'mfcc18': np.float32(-2.909318), 'mfcc19': np.float32(-1.1150063), 'mfcc20': np.float32(-5.9217405), 'filename': '1MSYO4wgiag_ 120.000_ 130.000.wav', 'label': 'not_covid'}\n",
      "feature_row type: <class 'dict'>\n",
      "feature_row={'chroma_stft': np.float32(0.40794486), 'rmse': np.float32(0.013446356), 'spectral_centroid': np.float64(2710.614836856473), 'spectral_bandwidth': np.float64(2664.172991819635), 'rolloff': np.float64(5778.3253987630205), 'zero_crossing_rate': np.float64(0.14207628038194445), 'mfcc1': np.float32(-346.9259), 'mfcc2': np.float32(75.774315), 'mfcc3': np.float32(-7.6401367), 'mfcc4': np.float32(11.369929), 'mfcc5': np.float32(11.364984), 'mfcc6': np.float32(1.8391443), 'mfcc7': np.float32(-7.9596004), 'mfcc8': np.float32(-4.2627482), 'mfcc9': np.float32(-8.286303), 'mfcc10': np.float32(3.0995579), 'mfcc11': np.float32(-2.8376002), 'mfcc12': np.float32(5.065131), 'mfcc13': np.float32(-0.28432748), 'mfcc14': np.float32(0.9862598), 'mfcc15': np.float32(-2.45342), 'mfcc16': np.float32(3.6917222), 'mfcc17': np.float32(2.3170958), 'mfcc18': np.float32(-2.0618885), 'mfcc19': np.float32(-4.779807), 'mfcc20': np.float32(-0.5130339), 'filename': '1PajbAKd8Kg_ 0.000_ 10.000.wav', 'label': 'not_covid'}\n",
      "feature_row type: <class 'dict'>\n",
      "feature_row={'chroma_stft': np.float32(0.4194979), 'rmse': np.float32(0.0590042), 'spectral_centroid': np.float64(1581.1319897502392), 'spectral_bandwidth': np.float64(1444.274548176184), 'rolloff': np.float64(2926.5762992527175), 'zero_crossing_rate': np.float64(0.1527835064052795), 'mfcc1': np.float32(-340.57166), 'mfcc2': np.float32(104.13354), 'mfcc3': np.float32(-32.205322), 'mfcc4': np.float32(-13.6384115), 'mfcc5': np.float32(-3.0067115), 'mfcc6': np.float32(0.48926607), 'mfcc7': np.float32(-21.789171), 'mfcc8': np.float32(-17.804296), 'mfcc9': np.float32(-9.2478), 'mfcc10': np.float32(-5.5276556), 'mfcc11': np.float32(-5.3641615), 'mfcc12': np.float32(-8.268666), 'mfcc13': np.float32(0.9611924), 'mfcc14': np.float32(-5.721938), 'mfcc15': np.float32(-6.3061304), 'mfcc16': np.float32(-1.1001683), 'mfcc17': np.float32(-1.7928774), 'mfcc18': np.float32(-2.538296), 'mfcc19': np.float32(-3.665395), 'mfcc20': np.float32(-3.5825646), 'filename': 'cov1.wav', 'label': 'covid'}\n",
      "feature_row type: <class 'dict'>\n",
      "feature_row={'chroma_stft': np.float32(0.41107738), 'rmse': np.float32(0.06251653), 'spectral_centroid': np.float64(2588.027617341581), 'spectral_bandwidth': np.float64(2145.801645149437), 'rolloff': np.float64(4966.0451253255205), 'zero_crossing_rate': np.float64(0.19728370949074073), 'mfcc1': np.float32(-341.9194), 'mfcc2': np.float32(48.33653), 'mfcc3': np.float32(-20.548458), 'mfcc4': np.float32(18.098045), 'mfcc5': np.float32(-16.14926), 'mfcc6': np.float32(26.623495), 'mfcc7': np.float32(-12.104099), 'mfcc8': np.float32(-15.420532), 'mfcc9': np.float32(-22.6216), 'mfcc10': np.float32(-10.579588), 'mfcc11': np.float32(-14.631243), 'mfcc12': np.float32(-13.193799), 'mfcc13': np.float32(-4.2880287), 'mfcc14': np.float32(-12.152698), 'mfcc15': np.float32(-5.9177585), 'mfcc16': np.float32(-9.498706), 'mfcc17': np.float32(-5.771674), 'mfcc18': np.float32(-12.553814), 'mfcc19': np.float32(-14.746588), 'mfcc20': np.float32(-5.8560157), 'filename': 'cov2.wav', 'label': 'covid'}\n",
      "feature_row type: <class 'dict'>\n",
      "feature_row={'chroma_stft': np.float32(0.44137663), 'rmse': np.float32(0.0076060365), 'spectral_centroid': np.float64(2080.6253384712413), 'spectral_bandwidth': np.float64(2395.2657314421112), 'rolloff': np.float64(4954.509171195652), 'zero_crossing_rate': np.float64(0.10875934103260869), 'mfcc1': np.float32(-355.1338), 'mfcc2': np.float32(105.44903), 'mfcc3': np.float32(-4.3263164), 'mfcc4': np.float32(16.073124), 'mfcc5': np.float32(-12.426584), 'mfcc6': np.float32(16.466995), 'mfcc7': np.float32(-20.445553), 'mfcc8': np.float32(-10.95889), 'mfcc9': np.float32(-6.833091), 'mfcc10': np.float32(-13.056872), 'mfcc11': np.float32(-7.093515), 'mfcc12': np.float32(-7.933701), 'mfcc13': np.float32(-12.521332), 'mfcc14': np.float32(-8.411142), 'mfcc15': np.float32(-7.298593), 'mfcc16': np.float32(0.44690853), 'mfcc17': np.float32(-11.754906), 'mfcc18': np.float32(-6.7673845), 'mfcc19': np.float32(-15.617129), 'mfcc20': np.float32(-7.7615743), 'filename': 'cough-shallow-3CwioNQVDBQ6CttLyFVRJpMpVHk2.wav', 'label': 'covid'}\n",
      "feature_row type: <class 'dict'>\n",
      "feature_row={'chroma_stft': np.float32(0.42446485), 'rmse': np.float32(0.030156247), 'spectral_centroid': np.float64(1874.1249883837586), 'spectral_bandwidth': np.float64(1868.2647803732634), 'rolloff': np.float64(3816.0125732421875), 'zero_crossing_rate': np.float64(0.11048267505787036), 'mfcc1': np.float32(-436.97656), 'mfcc2': np.float32(57.27324), 'mfcc3': np.float32(-3.1057553), 'mfcc4': np.float32(9.518657), 'mfcc5': np.float32(-7.685403), 'mfcc6': np.float32(0.9128014), 'mfcc7': np.float32(-10.634791), 'mfcc8': np.float32(-7.9153175), 'mfcc9': np.float32(-12.532555), 'mfcc10': np.float32(-2.9522426), 'mfcc11': np.float32(2.4074583), 'mfcc12': np.float32(-6.689236), 'mfcc13': np.float32(-3.5944326), 'mfcc14': np.float32(-6.0637197), 'mfcc15': np.float32(0.21977006), 'mfcc16': np.float32(-4.865323), 'mfcc17': np.float32(-6.6251106), 'mfcc18': np.float32(-4.521542), 'mfcc19': np.float32(-5.5099063), 'mfcc20': np.float32(-5.9957333), 'filename': 'pos-0421-084-cough-m-50.wav', 'label': 'covid'}\n",
      "feature_row type: <class 'dict'>\n",
      "feature_row={'chroma_stft': np.float32(0.4739196), 'rmse': np.float32(0.07059329), 'spectral_centroid': np.float64(3054.1827405330664), 'spectral_bandwidth': np.float64(1796.1455334754514), 'rolloff': np.float64(5009.145818280347), 'zero_crossing_rate': np.float64(0.3363072389812139), 'mfcc1': np.float32(-367.4922), 'mfcc2': np.float32(27.239416), 'mfcc3': np.float32(-84.4905), 'mfcc4': np.float32(39.251728), 'mfcc5': np.float32(-19.608345), 'mfcc6': np.float32(18.48803), 'mfcc7': np.float32(-3.4253454), 'mfcc8': np.float32(7.9527636), 'mfcc9': np.float32(-10.133782), 'mfcc10': np.float32(-7.8166237), 'mfcc11': np.float32(2.0585296), 'mfcc12': np.float32(-17.144697), 'mfcc13': np.float32(6.4504366), 'mfcc14': np.float32(-12.547795), 'mfcc15': np.float32(-4.8760924), 'mfcc16': np.float32(-4.5453863), 'mfcc17': np.float32(-9.703171), 'mfcc18': np.float32(-7.492913), 'mfcc19': np.float32(-3.6404517), 'mfcc20': np.float32(0.10029388), 'filename': 'cough-heavy-6T43bddKoKfG7MwnJWvrPZSsyrc2.wav', 'label': 'covid'}\n"
     ]
    },
    {
     "name": "stderr",
     "output_type": "stream",
     "text": [
      "  8%|▊         | 14/170 [00:00<00:07, 22.20it/s]"
     ]
    },
    {
     "name": "stdout",
     "output_type": "stream",
     "text": [
      "feature_row type: <class 'dict'>\n",
      "feature_row={'chroma_stft': np.float32(0.4194979), 'rmse': np.float32(0.0590042), 'spectral_centroid': np.float64(1581.1319897502392), 'spectral_bandwidth': np.float64(1444.274548176184), 'rolloff': np.float64(2926.5762992527175), 'zero_crossing_rate': np.float64(0.1527835064052795), 'mfcc1': np.float32(-340.57166), 'mfcc2': np.float32(104.13354), 'mfcc3': np.float32(-32.205322), 'mfcc4': np.float32(-13.6384115), 'mfcc5': np.float32(-3.0067115), 'mfcc6': np.float32(0.48926607), 'mfcc7': np.float32(-21.789171), 'mfcc8': np.float32(-17.804296), 'mfcc9': np.float32(-9.2478), 'mfcc10': np.float32(-5.5276556), 'mfcc11': np.float32(-5.3641615), 'mfcc12': np.float32(-8.268666), 'mfcc13': np.float32(0.9611924), 'mfcc14': np.float32(-5.721938), 'mfcc15': np.float32(-6.3061304), 'mfcc16': np.float32(-1.1001683), 'mfcc17': np.float32(-1.7928774), 'mfcc18': np.float32(-2.538296), 'mfcc19': np.float32(-3.665395), 'mfcc20': np.float32(-3.5825646), 'filename': 'cough-heavy-hNAGUEhL2Nh7V89at3yFEjQYo6c2.wav', 'label': 'covid'}\n",
      "feature_row type: <class 'dict'>\n",
      "feature_row={'chroma_stft': np.float32(0.30934688), 'rmse': np.float32(0.026950028), 'spectral_centroid': np.float64(1804.3883259198917), 'spectral_bandwidth': np.float64(1612.6973535742125), 'rolloff': np.float64(3421.436564127604), 'zero_crossing_rate': np.float64(0.12226019965277778), 'mfcc1': np.float32(-356.9894), 'mfcc2': np.float32(101.45515), 'mfcc3': np.float32(-28.474022), 'mfcc4': np.float32(-0.34416565), 'mfcc5': np.float32(-14.475245), 'mfcc6': np.float32(6.316872), 'mfcc7': np.float32(-12.748643), 'mfcc8': np.float32(-4.724302), 'mfcc9': np.float32(-7.377307), 'mfcc10': np.float32(-10.817079), 'mfcc11': np.float32(-3.2931929), 'mfcc12': np.float32(-4.7485266), 'mfcc13': np.float32(10.781029), 'mfcc14': np.float32(0.6945775), 'mfcc15': np.float32(-5.093958), 'mfcc16': np.float32(-3.615527), 'mfcc17': np.float32(-5.1561604), 'mfcc18': np.float32(-4.791159), 'mfcc19': np.float32(-13.064963), 'mfcc20': np.float32(-6.2287455), 'filename': 'cough-heavy-hte8VptUoGVFEqvHpbh5brgfcNP2.wav', 'label': 'covid'}\n",
      "feature_row type: <class 'dict'>\n",
      "feature_row={'chroma_stft': np.float32(0.3700644), 'rmse': np.float32(0.090211585), 'spectral_centroid': np.float64(2077.804949331153), 'spectral_bandwidth': np.float64(1927.6737056987822), 'rolloff': np.float64(4134.674072265625), 'zero_crossing_rate': np.float64(0.12262641059027778), 'mfcc1': np.float32(-303.77203), 'mfcc2': np.float32(66.2439), 'mfcc3': np.float32(-13.149077), 'mfcc4': np.float32(15.70981), 'mfcc5': np.float32(-23.537992), 'mfcc6': np.float32(18.56787), 'mfcc7': np.float32(-14.955671), 'mfcc8': np.float32(-8.284855), 'mfcc9': np.float32(-20.240505), 'mfcc10': np.float32(-19.130457), 'mfcc11': np.float32(-24.953857), 'mfcc12': np.float32(-15.479501), 'mfcc13': np.float32(1.8049833), 'mfcc14': np.float32(-11.567767), 'mfcc15': np.float32(-5.517813), 'mfcc16': np.float32(-7.427192), 'mfcc17': np.float32(-15.61039), 'mfcc18': np.float32(-8.813783), 'mfcc19': np.float32(-4.079649), 'mfcc20': np.float32(-11.253162), 'filename': 'cough-shallow-QjBZv868nydJzk0ZzwgKDHSG6Q82.wav', 'label': 'covid'}\n",
      "feature_row type: <class 'dict'>\n",
      "feature_row={'chroma_stft': np.float32(0.337845), 'rmse': np.float32(0.02578689), 'spectral_centroid': np.float64(2403.2030771773984), 'spectral_bandwidth': np.float64(1857.4914578578757), 'rolloff': np.float64(4217.5669352213545), 'zero_crossing_rate': np.float64(0.19655580873842593), 'mfcc1': np.float32(-462.02722), 'mfcc2': np.float32(64.605675), 'mfcc3': np.float32(0.11511852), 'mfcc4': np.float32(10.268017), 'mfcc5': np.float32(-8.097081), 'mfcc6': np.float32(7.4585714), 'mfcc7': np.float32(-25.427162), 'mfcc8': np.float32(-9.214074), 'mfcc9': np.float32(-11.2778425), 'mfcc10': np.float32(-8.240182), 'mfcc11': np.float32(1.3169962), 'mfcc12': np.float32(-14.072065), 'mfcc13': np.float32(-5.957871), 'mfcc14': np.float32(-7.4505963), 'mfcc15': np.float32(-1.6861929), 'mfcc16': np.float32(-8.012409), 'mfcc17': np.float32(-4.841922), 'mfcc18': np.float32(0.4970909), 'mfcc19': np.float32(-2.2780273), 'mfcc20': np.float32(-2.6672215), 'filename': 'pos-0421-092-cough-m-53.wav', 'label': 'covid'}\n",
      "feature_row type: <class 'dict'>\n",
      "feature_row={'chroma_stft': np.float32(0.36576262), 'rmse': np.float32(0.0777994), 'spectral_centroid': np.float64(2286.475089438176), 'spectral_bandwidth': np.float64(1782.7179967132313), 'rolloff': np.float64(4151.422119140625), 'zero_crossing_rate': np.float64(0.1755710177951389), 'mfcc1': np.float32(-320.40515), 'mfcc2': np.float32(73.5584), 'mfcc3': np.float32(-29.047024), 'mfcc4': np.float32(26.315401), 'mfcc5': np.float32(-26.048037), 'mfcc6': np.float32(6.5067377), 'mfcc7': np.float32(-23.561817), 'mfcc8': np.float32(-6.2946224), 'mfcc9': np.float32(-10.2105665), 'mfcc10': np.float32(-7.424581), 'mfcc11': np.float32(-6.307288), 'mfcc12': np.float32(-10.21192), 'mfcc13': np.float32(1.262809), 'mfcc14': np.float32(-11.60273), 'mfcc15': np.float32(-1.8435756), 'mfcc16': np.float32(-9.892084), 'mfcc17': np.float32(-4.7726316), 'mfcc18': np.float32(-3.0579183), 'mfcc19': np.float32(3.40027), 'mfcc20': np.float32(-7.007076), 'filename': 'pos-0422-096-cough-m-31.wav', 'label': 'covid'}\n",
      "feature_row type: <class 'dict'>\n",
      "feature_row={'chroma_stft': np.float32(0.4027692), 'rmse': np.float32(0.06577822), 'spectral_centroid': np.float64(2407.624113317791), 'spectral_bandwidth': np.float64(1850.5050305260584), 'rolloff': np.float64(4380.8603922526045), 'zero_crossing_rate': np.float64(0.1814891673900463), 'mfcc1': np.float32(-292.15076), 'mfcc2': np.float32(69.57103), 'mfcc3': np.float32(-33.944614), 'mfcc4': np.float32(40.194057), 'mfcc5': np.float32(-23.104013), 'mfcc6': np.float32(0.07310274), 'mfcc7': np.float32(-28.734568), 'mfcc8': np.float32(-5.144026), 'mfcc9': np.float32(-15.527648), 'mfcc10': np.float32(2.4458597), 'mfcc11': np.float32(-6.7703314), 'mfcc12': np.float32(-13.55505), 'mfcc13': np.float32(5.5984983), 'mfcc14': np.float32(-14.902577), 'mfcc15': np.float32(3.1369734), 'mfcc16': np.float32(-12.318206), 'mfcc17': np.float32(-9.048323), 'mfcc18': np.float32(-2.1477077), 'mfcc19': np.float32(-3.8869135), 'mfcc20': np.float32(-10.084786), 'filename': 'pos-0421-094-cough-m-51.wav', 'label': 'covid'}\n",
      "feature_row type: <class 'dict'>\n",
      "feature_row={'chroma_stft': np.float32(0.35475862), 'rmse': np.float32(0.027681416), 'spectral_centroid': np.float64(1741.8006292193893), 'spectral_bandwidth': np.float64(1932.1208088485328), 'rolloff': np.float64(3743.416063262195), 'zero_crossing_rate': np.float64(0.13588509908536586), 'mfcc1': np.float32(-463.2612), 'mfcc2': np.float32(47.229153), 'mfcc3': np.float32(-1.7170027), 'mfcc4': np.float32(2.3227944), 'mfcc5': np.float32(6.7159553), 'mfcc6': np.float32(0.88180614), 'mfcc7': np.float32(-5.084325), 'mfcc8': np.float32(-1.5748931), 'mfcc9': np.float32(-1.5827128), 'mfcc10': np.float32(-2.950601), 'mfcc11': np.float32(-1.0790638), 'mfcc12': np.float32(-2.6428099), 'mfcc13': np.float32(-3.1277206), 'mfcc14': np.float32(-3.2420723), 'mfcc15': np.float32(-3.7974494), 'mfcc16': np.float32(-3.9735894), 'mfcc17': np.float32(-2.442209), 'mfcc18': np.float32(-3.1355364), 'mfcc19': np.float32(-4.2124), 'mfcc20': np.float32(-3.2313507), 'filename': 'cough-shallow-hNAGUEhL2Nh7V89at3yFEjQYo6c2.wav', 'label': 'covid'}\n",
      "feature_row type: <class 'dict'>\n",
      "feature_row={'chroma_stft': np.float32(0.42610478), 'rmse': np.float32(0.04590622), 'spectral_centroid': np.float64(1980.80470699497), 'spectral_bandwidth': np.float64(1863.0119404476252), 'rolloff': np.float64(4059.1084798177085), 'zero_crossing_rate': np.float64(0.11846471715856481), 'mfcc1': np.float32(-400.55832), 'mfcc2': np.float32(82.51791), 'mfcc3': np.float32(-15.948558), 'mfcc4': np.float32(17.2189), 'mfcc5': np.float32(-26.478691), 'mfcc6': np.float32(1.327047), 'mfcc7': np.float32(-21.99925), 'mfcc8': np.float32(-1.6310827), 'mfcc9': np.float32(-13.141837), 'mfcc10': np.float32(-9.503777), 'mfcc11': np.float32(1.1138607), 'mfcc12': np.float32(-4.7434015), 'mfcc13': np.float32(1.371253), 'mfcc14': np.float32(-10.218298), 'mfcc15': np.float32(-2.0041754), 'mfcc16': np.float32(-9.869281), 'mfcc17': np.float32(-3.221338), 'mfcc18': np.float32(-5.2583027), 'mfcc19': np.float32(-4.040333), 'mfcc20': np.float32(-2.4760363), 'filename': 'pos-0421-086-cough-m-65.wav', 'label': 'covid'}\n"
     ]
    },
    {
     "name": "stderr",
     "output_type": "stream",
     "text": [
      " 14%|█▎        | 23/170 [00:01<00:04, 31.50it/s]"
     ]
    },
    {
     "name": "stdout",
     "output_type": "stream",
     "text": [
      "feature_row type: <class 'dict'>\n",
      "feature_row={'chroma_stft': np.float32(0.4599867), 'rmse': np.float32(0.02776158), 'spectral_centroid': np.float64(1913.2559556576123), 'spectral_bandwidth': np.float64(1892.7339888919712), 'rolloff': np.float64(4002.2847493489585), 'zero_crossing_rate': np.float64(0.11395715784143519), 'mfcc1': np.float32(-450.34042), 'mfcc2': np.float32(61.531487), 'mfcc3': np.float32(-5.5369654), 'mfcc4': np.float32(16.884499), 'mfcc5': np.float32(-9.322832), 'mfcc6': np.float32(0.20191094), 'mfcc7': np.float32(-10.691822), 'mfcc8': np.float32(-7.7013073), 'mfcc9': np.float32(-3.9354792), 'mfcc10': np.float32(-1.9633969), 'mfcc11': np.float32(-4.858679), 'mfcc12': np.float32(-9.538855), 'mfcc13': np.float32(-3.964478), 'mfcc14': np.float32(-8.000937), 'mfcc15': np.float32(-4.9029975), 'mfcc16': np.float32(-7.975529), 'mfcc17': np.float32(-8.217475), 'mfcc18': np.float32(-4.8350167), 'mfcc19': np.float32(-1.2289433), 'mfcc20': np.float32(-5.7310586), 'filename': 'pos-0421-087-cough-f-40.wav', 'label': 'covid'}\n",
      "feature_row type: <class 'dict'>\n",
      "feature_row={'chroma_stft': np.float32(0.62002015), 'rmse': np.float32(0.0044348184), 'spectral_centroid': np.float64(2440.5649951435234), 'spectral_bandwidth': np.float64(2482.5885740840536), 'rolloff': np.float64(5395.86181640625), 'zero_crossing_rate': np.float64(0.15767415364583334), 'mfcc1': np.float32(-366.2401), 'mfcc2': np.float32(95.4046), 'mfcc3': np.float32(-12.598873), 'mfcc4': np.float32(10.822472), 'mfcc5': np.float32(-13.230243), 'mfcc6': np.float32(19.891153), 'mfcc7': np.float32(-18.92771), 'mfcc8': np.float32(-8.7321), 'mfcc9': np.float32(-2.9824789), 'mfcc10': np.float32(-9.291828), 'mfcc11': np.float32(-4.3902135), 'mfcc12': np.float32(-7.6872315), 'mfcc13': np.float32(-13.707353), 'mfcc14': np.float32(-2.8475144), 'mfcc15': np.float32(-7.6122565), 'mfcc16': np.float32(0.9730845), 'mfcc17': np.float32(-9.461116), 'mfcc18': np.float32(1.2314067), 'mfcc19': np.float32(-11.364268), 'mfcc20': np.float32(-5.1295), 'filename': 'cough-heavy-3CwioNQVDBQ6CttLyFVRJpMpVHk2.wav', 'label': 'covid'}\n",
      "feature_row type: <class 'dict'>\n",
      "feature_row={'chroma_stft': np.float32(0.4633562), 'rmse': np.float32(0.02396026), 'spectral_centroid': np.float64(2763.3157981930326), 'spectral_bandwidth': np.float64(1947.717087307887), 'rolloff': np.float64(4894.572061567164), 'zero_crossing_rate': np.float64(0.3165398592972637), 'mfcc1': np.float32(-455.45966), 'mfcc2': np.float32(38.40345), 'mfcc3': np.float32(-61.26381), 'mfcc4': np.float32(31.349169), 'mfcc5': np.float32(-10.228538), 'mfcc6': np.float32(22.307795), 'mfcc7': np.float32(2.76683), 'mfcc8': np.float32(4.2363076), 'mfcc9': np.float32(-7.9324307), 'mfcc10': np.float32(-4.521824), 'mfcc11': np.float32(0.4374061), 'mfcc12': np.float32(-13.788751), 'mfcc13': np.float32(2.9370081), 'mfcc14': np.float32(-13.494929), 'mfcc15': np.float32(-6.87353), 'mfcc16': np.float32(-7.765286), 'mfcc17': np.float32(-10.145505), 'mfcc18': np.float32(-6.112367), 'mfcc19': np.float32(-1.6220618), 'mfcc20': np.float32(-1.2727957), 'filename': 'cough-shallow-6T43bddKoKfG7MwnJWvrPZSsyrc2.wav', 'label': 'covid'}\n",
      "feature_row type: <class 'dict'>\n",
      "feature_row={'chroma_stft': np.float32(0.41107738), 'rmse': np.float32(0.06251653), 'spectral_centroid': np.float64(2588.027617341581), 'spectral_bandwidth': np.float64(2145.801645149437), 'rolloff': np.float64(4966.0451253255205), 'zero_crossing_rate': np.float64(0.19728370949074073), 'mfcc1': np.float32(-341.9194), 'mfcc2': np.float32(48.33653), 'mfcc3': np.float32(-20.548458), 'mfcc4': np.float32(18.098045), 'mfcc5': np.float32(-16.14926), 'mfcc6': np.float32(26.623495), 'mfcc7': np.float32(-12.104099), 'mfcc8': np.float32(-15.420532), 'mfcc9': np.float32(-22.6216), 'mfcc10': np.float32(-10.579588), 'mfcc11': np.float32(-14.631243), 'mfcc12': np.float32(-13.193799), 'mfcc13': np.float32(-4.2880287), 'mfcc14': np.float32(-12.152698), 'mfcc15': np.float32(-5.9177585), 'mfcc16': np.float32(-9.498706), 'mfcc17': np.float32(-5.771674), 'mfcc18': np.float32(-12.553814), 'mfcc19': np.float32(-14.746588), 'mfcc20': np.float32(-5.8560157), 'filename': 'cough-heavy-QjBZv868nydJzk0ZzwgKDHSG6Q82.wav', 'label': 'covid'}\n",
      "feature_row type: <class 'dict'>\n",
      "feature_row={'chroma_stft': np.float32(0.3640532), 'rmse': np.float32(0.06561634), 'spectral_centroid': np.float64(1912.9777928814028), 'spectral_bandwidth': np.float64(1715.0780159408034), 'rolloff': np.float64(3664.8502349853516), 'zero_crossing_rate': np.float64(0.1264673868815104), 'mfcc1': np.float32(-290.88074), 'mfcc2': np.float32(99.656715), 'mfcc3': np.float32(-21.604187), 'mfcc4': np.float32(10.014783), 'mfcc5': np.float32(-10.880939), 'mfcc6': np.float32(18.827093), 'mfcc7': np.float32(-16.923075), 'mfcc8': np.float32(-7.103294), 'mfcc9': np.float32(-12.208863), 'mfcc10': np.float32(-5.5568027), 'mfcc11': np.float32(0.39596176), 'mfcc12': np.float32(-10.505244), 'mfcc13': np.float32(2.9802818), 'mfcc14': np.float32(-4.6940875), 'mfcc15': np.float32(-1.8524022), 'mfcc16': np.float32(-0.61850435), 'mfcc17': np.float32(-7.9285583), 'mfcc18': np.float32(-4.118536), 'mfcc19': np.float32(-8.23253), 'mfcc20': np.float32(-2.0159872), 'filename': 'cough-shallow-hte8VptUoGVFEqvHpbh5brgfcNP2.wav', 'label': 'covid'}\n",
      "feature_row type: <class 'dict'>\n",
      "feature_row={'chroma_stft': np.float32(0.41373137), 'rmse': np.float32(0.028027782), 'spectral_centroid': np.float64(2198.474401614199), 'spectral_bandwidth': np.float64(2010.810321405649), 'rolloff': np.float64(4389.1845703125), 'zero_crossing_rate': np.float64(0.14160608362268517), 'mfcc1': np.float32(-440.53714), 'mfcc2': np.float32(40.657497), 'mfcc3': np.float32(-6.665581), 'mfcc4': np.float32(19.84157), 'mfcc5': np.float32(-22.116209), 'mfcc6': np.float32(-3.142564), 'mfcc7': np.float32(-9.840533), 'mfcc8': np.float32(-5.1514926), 'mfcc9': np.float32(-8.042061), 'mfcc10': np.float32(-7.5694113), 'mfcc11': np.float32(-6.4463634), 'mfcc12': np.float32(-4.9716187), 'mfcc13': np.float32(1.3321946), 'mfcc14': np.float32(-5.7857122), 'mfcc15': np.float32(-1.2008469), 'mfcc16': np.float32(-7.3208065), 'mfcc17': np.float32(-4.439869), 'mfcc18': np.float32(-4.777438), 'mfcc19': np.float32(-6.016563), 'mfcc20': np.float32(-3.8583293), 'filename': 'pos-0421-093-cough-f-24.wav', 'label': 'covid'}\n",
      "feature_row type: <class 'dict'>\n",
      "feature_row={'chroma_stft': np.float32(0.51240593), 'rmse': np.float32(0.03260369), 'spectral_centroid': np.float64(3509.3240021357924), 'spectral_bandwidth': np.float64(2784.7206938473196), 'rolloff': np.float64(6720.951334635417), 'zero_crossing_rate': np.float64(0.24809208622685186), 'mfcc1': np.float32(-380.6802), 'mfcc2': np.float32(43.91717), 'mfcc3': np.float32(-20.969595), 'mfcc4': np.float32(-13.528221), 'mfcc5': np.float32(-14.683474), 'mfcc6': np.float32(-6.3052025), 'mfcc7': np.float32(-9.029257), 'mfcc8': np.float32(-25.697107), 'mfcc9': np.float32(-7.9325557), 'mfcc10': np.float32(-10.285077), 'mfcc11': np.float32(-14.037986), 'mfcc12': np.float32(-9.928337), 'mfcc13': np.float32(-10.198853), 'mfcc14': np.float32(-6.441879), 'mfcc15': np.float32(-7.9650555), 'mfcc16': np.float32(1.763443), 'mfcc17': np.float32(-4.0112753), 'mfcc18': np.float32(-0.6039699), 'mfcc19': np.float32(0.44835556), 'mfcc20': np.float32(2.7222016), 'filename': '-jZav58HEOw_ 50.000_ 60.000.wav', 'label': 'not_covid'}\n",
      "feature_row type: <class 'dict'>\n",
      "feature_row={'chroma_stft': np.float32(0.34863833), 'rmse': np.float32(0.039175954), 'spectral_centroid': np.float64(1528.9965678626947), 'spectral_bandwidth': np.float64(1286.7435391717893), 'rolloff': np.float64(2393.425496419271), 'zero_crossing_rate': np.float64(0.09537760416666667), 'mfcc1': np.float32(-304.33774), 'mfcc2': np.float32(132.9627), 'mfcc3': np.float32(-70.87845), 'mfcc4': np.float32(-9.815285), 'mfcc5': np.float32(-17.766685), 'mfcc6': np.float32(-6.0460424), 'mfcc7': np.float32(-35.349323), 'mfcc8': np.float32(-8.068818), 'mfcc9': np.float32(-17.32808), 'mfcc10': np.float32(-12.754891), 'mfcc11': np.float32(3.253215), 'mfcc12': np.float32(-14.664923), 'mfcc13': np.float32(3.4293149), 'mfcc14': np.float32(4.2128425), 'mfcc15': np.float32(-4.02098), 'mfcc16': np.float32(-1.8467987), 'mfcc17': np.float32(0.863942), 'mfcc18': np.float32(-13.518793), 'mfcc19': np.float32(-0.06260391), 'mfcc20': np.float32(0.43540326), 'filename': '-Mdd8ysxJ5c_ 10.000_ 20.000.wav', 'label': 'not_covid'}\n",
      "feature_row type: <class 'dict'>\n",
      "feature_row={'chroma_stft': np.float32(0.4582591), 'rmse': np.float32(0.12450897), 'spectral_centroid': np.float64(2760.3100715371506), 'spectral_bandwidth': np.float64(2606.7440165676894), 'rolloff': np.float64(5586.2213134765625), 'zero_crossing_rate': np.float64(0.11855287905092593), 'mfcc1': np.float32(-193.25241), 'mfcc2': np.float32(54.40502), 'mfcc3': np.float32(-7.248737), 'mfcc4': np.float32(13.643358), 'mfcc5': np.float32(8.728921), 'mfcc6': np.float32(6.0836477), 'mfcc7': np.float32(-3.74386), 'mfcc8': np.float32(4.106497), 'mfcc9': np.float32(-5.6737213), 'mfcc10': np.float32(6.0874634), 'mfcc11': np.float32(2.5613544), 'mfcc12': np.float32(2.3062701), 'mfcc13': np.float32(1.3694224), 'mfcc14': np.float32(7.0988407), 'mfcc15': np.float32(0.024155427), 'mfcc16': np.float32(5.121106), 'mfcc17': np.float32(1.9656491), 'mfcc18': np.float32(2.3465238), 'mfcc19': np.float32(-2.8590784), 'mfcc20': np.float32(2.8189287), 'filename': '-o2vmOibWF4_ 310.000_ 320.000.wav', 'label': 'not_covid'}\n"
     ]
    },
    {
     "name": "stderr",
     "output_type": "stream",
     "text": [
      " 18%|█▊        | 31/170 [00:01<00:04, 34.14it/s]"
     ]
    },
    {
     "name": "stdout",
     "output_type": "stream",
     "text": [
      "feature_row type: <class 'dict'>\n",
      "feature_row={'chroma_stft': np.float32(0.4754125), 'rmse': np.float32(0.0025492462), 'spectral_centroid': np.float64(3668.817812604212), 'spectral_bandwidth': np.float64(3029.983042341557), 'rolloff': np.float64(7403.035481770833), 'zero_crossing_rate': np.float64(0.32707157841435186), 'mfcc1': np.float32(-457.56323), 'mfcc2': np.float32(53.727684), 'mfcc3': np.float32(2.941071), 'mfcc4': np.float32(13.524925), 'mfcc5': np.float32(1.0129014), 'mfcc6': np.float32(16.307896), 'mfcc7': np.float32(-8.133647), 'mfcc8': np.float32(3.5777674), 'mfcc9': np.float32(-4.9124775), 'mfcc10': np.float32(6.9081306), 'mfcc11': np.float32(-5.7918525), 'mfcc12': np.float32(3.4714174), 'mfcc13': np.float32(-7.968561), 'mfcc14': np.float32(1.675826), 'mfcc15': np.float32(-9.408663), 'mfcc16': np.float32(4.9953427), 'mfcc17': np.float32(-4.4673867), 'mfcc18': np.float32(-5.791992), 'mfcc19': np.float32(1.0243897), 'mfcc20': np.float32(-3.1417952), 'filename': '-OanE09iAA4_ 0.000_ 10.000.wav', 'label': 'not_covid'}\n",
      "feature_row type: <class 'dict'>\n",
      "feature_row={'chroma_stft': np.float32(0.42956778), 'rmse': np.float32(0.10008618), 'spectral_centroid': np.float64(2055.449754135966), 'spectral_bandwidth': np.float64(2256.200241718388), 'rolloff': np.float64(4544.2535400390625), 'zero_crossing_rate': np.float64(0.10960783781828703), 'mfcc1': np.float32(-185.69914), 'mfcc2': np.float32(117.21582), 'mfcc3': np.float32(-5.2675023), 'mfcc4': np.float32(-0.6865257), 'mfcc5': np.float32(-19.359785), 'mfcc6': np.float32(10.544557), 'mfcc7': np.float32(-17.67948), 'mfcc8': np.float32(9.0339), 'mfcc9': np.float32(-12.755324), 'mfcc10': np.float32(14.20055), 'mfcc11': np.float32(-12.774865), 'mfcc12': np.float32(1.5859731), 'mfcc13': np.float32(0.16685416), 'mfcc14': np.float32(8.162939), 'mfcc15': np.float32(-2.3477905), 'mfcc16': np.float32(-1.0080775), 'mfcc17': np.float32(10.485661), 'mfcc18': np.float32(2.61956), 'mfcc19': np.float32(4.8480167), 'mfcc20': np.float32(1.357483), 'filename': '-szeMToBrRE_ 60.000_ 70.000.wav', 'label': 'not_covid'}\n",
      "feature_row type: <class 'dict'>\n",
      "feature_row={'chroma_stft': np.float32(0.27981815), 'rmse': np.float32(0.16486928), 'spectral_centroid': np.float64(1957.9655209687508), 'spectral_bandwidth': np.float64(1877.0512440248776), 'rolloff': np.float64(3532.392374674479), 'zero_crossing_rate': np.float64(0.1047634548611111), 'mfcc1': np.float32(-202.34132), 'mfcc2': np.float32(80.87926), 'mfcc3': np.float32(-57.582638), 'mfcc4': np.float32(-26.869358), 'mfcc5': np.float32(-29.818773), 'mfcc6': np.float32(-12.444899), 'mfcc7': np.float32(-32.779068), 'mfcc8': np.float32(-11.275922), 'mfcc9': np.float32(6.5034595), 'mfcc10': np.float32(-10.549357), 'mfcc11': np.float32(-18.610865), 'mfcc12': np.float32(1.7849612), 'mfcc13': np.float32(-6.173786), 'mfcc14': np.float32(-2.0684588), 'mfcc15': np.float32(-10.954552), 'mfcc16': np.float32(-7.024291), 'mfcc17': np.float32(-9.632359), 'mfcc18': np.float32(-3.694077), 'mfcc19': np.float32(6.1005464), 'mfcc20': np.float32(14.133898), 'filename': '-TbcaCBA0pI_ 50.000_ 60.000.wav', 'label': 'not_covid'}\n",
      "feature_row type: <class 'dict'>\n",
      "feature_row={'chroma_stft': np.float32(0.5258959), 'rmse': np.float32(0.007699344), 'spectral_centroid': np.float64(3232.9853314733214), 'spectral_bandwidth': np.float64(2889.765078432018), 'rolloff': np.float64(6784.4045003255205), 'zero_crossing_rate': np.float64(0.19389512803819445), 'mfcc1': np.float32(-419.42297), 'mfcc2': np.float32(66.32738), 'mfcc3': np.float32(-4.07197), 'mfcc4': np.float32(-9.785206), 'mfcc5': np.float32(-12.347618), 'mfcc6': np.float32(-1.070978), 'mfcc7': np.float32(-11.038294), 'mfcc8': np.float32(-24.413504), 'mfcc9': np.float32(-11.23612), 'mfcc10': np.float32(7.9236183), 'mfcc11': np.float32(-21.892876), 'mfcc12': np.float32(1.954213), 'mfcc13': np.float32(5.808066), 'mfcc14': np.float32(-14.377643), 'mfcc15': np.float32(-2.0890386), 'mfcc16': np.float32(-4.6744456), 'mfcc17': np.float32(-2.5136838), 'mfcc18': np.float32(-6.856149), 'mfcc19': np.float32(-6.779681), 'mfcc20': np.float32(1.7481519), 'filename': '-THYRau6Prs_ 220.000_ 230.000.wav', 'label': 'not_covid'}\n",
      "feature_row type: <class 'dict'>\n",
      "feature_row={'chroma_stft': np.float32(0.46329036), 'rmse': np.float32(0.043482892), 'spectral_centroid': np.float64(2454.1523233170074), 'spectral_bandwidth': np.float64(1973.0758638397426), 'rolloff': np.float64(4241.343180338542), 'zero_crossing_rate': np.float64(0.16391556351273148), 'mfcc1': np.float32(-234.97073), 'mfcc2': np.float32(79.56476), 'mfcc3': np.float32(-53.64622), 'mfcc4': np.float32(22.154188), 'mfcc5': np.float32(10.994185), 'mfcc6': np.float32(5.2227507), 'mfcc7': np.float32(-25.46425), 'mfcc8': np.float32(13.125208), 'mfcc9': np.float32(-16.952402), 'mfcc10': np.float32(22.3943), 'mfcc11': np.float32(6.216547), 'mfcc12': np.float32(3.1628172), 'mfcc13': np.float32(4.5520873), 'mfcc14': np.float32(11.323882), 'mfcc15': np.float32(-5.272158), 'mfcc16': np.float32(-0.21128438), 'mfcc17': np.float32(-3.721639), 'mfcc18': np.float32(5.98605), 'mfcc19': np.float32(-2.293411), 'mfcc20': np.float32(-0.14024714), 'filename': '--U7joUcTCo_ 0.000_ 10.000.wav', 'label': 'not_covid'}\n",
      "feature_row type: <class 'dict'>\n",
      "feature_row={'chroma_stft': np.float32(0.4902036), 'rmse': np.float32(0.0030901239), 'spectral_centroid': np.float64(2448.0484750180904), 'spectral_bandwidth': np.float64(2841.159236967983), 'rolloff': np.float64(5941.9677734375), 'zero_crossing_rate': np.float64(0.06606490523726852), 'mfcc1': np.float32(-496.27762), 'mfcc2': np.float32(81.60247), 'mfcc3': np.float32(17.528414), 'mfcc4': np.float32(15.70296), 'mfcc5': np.float32(-8.165078), 'mfcc6': np.float32(13.387035), 'mfcc7': np.float32(-11.671819), 'mfcc8': np.float32(0.92370105), 'mfcc9': np.float32(5.8313847), 'mfcc10': np.float32(10.591882), 'mfcc11': np.float32(5.365191), 'mfcc12': np.float32(1.970455), 'mfcc13': np.float32(-7.749342), 'mfcc14': np.float32(3.745793), 'mfcc15': np.float32(0.019985128), 'mfcc16': np.float32(-3.6186597), 'mfcc17': np.float32(-0.8863221), 'mfcc18': np.float32(3.536066), 'mfcc19': np.float32(-2.4064512), 'mfcc20': np.float32(-6.2957826), 'filename': '-VbTE2bPuyw_ 210.000_ 220.000.wav', 'label': 'not_covid'}\n",
      "feature_row type: <class 'dict'>\n",
      "feature_row={'chroma_stft': np.float32(0.30860943), 'rmse': np.float32(0.14273249), 'spectral_centroid': np.float64(2201.8440515070024), 'spectral_bandwidth': np.float64(2222.938132428307), 'rolloff': np.float64(4217.018636067708), 'zero_crossing_rate': np.float64(0.1183132595486111), 'mfcc1': np.float32(-227.76515), 'mfcc2': np.float32(76.25892), 'mfcc3': np.float32(7.459514), 'mfcc4': np.float32(32.058746), 'mfcc5': np.float32(-6.956261), 'mfcc6': np.float32(-8.742458), 'mfcc7': np.float32(-14.395817), 'mfcc8': np.float32(-8.103182), 'mfcc9': np.float32(-4.461938), 'mfcc10': np.float32(0.1866749), 'mfcc11': np.float32(-10.623052), 'mfcc12': np.float32(-3.9428318), 'mfcc13': np.float32(-8.930396), 'mfcc14': np.float32(-6.276002), 'mfcc15': np.float32(-14.363739), 'mfcc16': np.float32(-3.994983), 'mfcc17': np.float32(-7.2972684), 'mfcc18': np.float32(-3.4689116), 'mfcc19': np.float32(-1.2790442), 'mfcc20': np.float32(-2.303499), 'filename': '-vu4jJkffMw_ 80.000_ 90.000.wav', 'label': 'not_covid'}\n",
      "feature_row type: <class 'dict'>\n",
      "feature_row={'chroma_stft': np.float32(0.41086248), 'rmse': np.float32(0.079372756), 'spectral_centroid': np.float64(2141.566169032724), 'spectral_bandwidth': np.float64(2380.4115328563225), 'rolloff': np.float64(4703.7587483723955), 'zero_crossing_rate': np.float64(0.0907909252025463), 'mfcc1': np.float32(-250.36378), 'mfcc2': np.float32(97.43924), 'mfcc3': np.float32(-0.031237567), 'mfcc4': np.float32(20.929817), 'mfcc5': np.float32(-3.799303), 'mfcc6': np.float32(5.087614), 'mfcc7': np.float32(-2.1222122), 'mfcc8': np.float32(-0.051328305), 'mfcc9': np.float32(0.3938066), 'mfcc10': np.float32(2.6673007), 'mfcc11': np.float32(-3.1696246), 'mfcc12': np.float32(10.161063), 'mfcc13': np.float32(1.4784632), 'mfcc14': np.float32(8.772511), 'mfcc15': np.float32(2.2004545), 'mfcc16': np.float32(-4.4008856), 'mfcc17': np.float32(-2.6062608), 'mfcc18': np.float32(-4.569824), 'mfcc19': np.float32(-7.434006), 'mfcc20': np.float32(0.25671804), 'filename': '-yJtuj9EuMg_ 190.000_ 200.000.wav', 'label': 'not_covid'}\n"
     ]
    },
    {
     "name": "stderr",
     "output_type": "stream",
     "text": [
      " 23%|██▎       | 39/170 [00:01<00:03, 35.48it/s]"
     ]
    },
    {
     "name": "stdout",
     "output_type": "stream",
     "text": [
      "feature_row type: <class 'dict'>\n",
      "feature_row={'chroma_stft': np.float32(0.43535104), 'rmse': np.float32(0.014196722), 'spectral_centroid': np.float64(2358.2342050646484), 'spectral_bandwidth': np.float64(2759.98833986397), 'rolloff': np.float64(5648.478190104167), 'zero_crossing_rate': np.float64(0.08831561053240741), 'mfcc1': np.float32(-356.37527), 'mfcc2': np.float32(95.75518), 'mfcc3': np.float32(15.4070425), 'mfcc4': np.float32(12.987427), 'mfcc5': np.float32(7.7905884), 'mfcc6': np.float32(2.050174), 'mfcc7': np.float32(-6.431891), 'mfcc8': np.float32(7.333416), 'mfcc9': np.float32(-2.3452718), 'mfcc10': np.float32(4.964059), 'mfcc11': np.float32(-10.239633), 'mfcc12': np.float32(0.5662355), 'mfcc13': np.float32(-5.200167), 'mfcc14': np.float32(0.9210939), 'mfcc15': np.float32(-4.958295), 'mfcc16': np.float32(0.42422053), 'mfcc17': np.float32(-5.246018), 'mfcc18': np.float32(-1.5718695), 'mfcc19': np.float32(-0.6577484), 'mfcc20': np.float32(1.323008), 'filename': '-zeXIY8V1-E_ 30.000_ 40.000.wav', 'label': 'not_covid'}\n",
      "feature_row type: <class 'dict'>\n",
      "feature_row={'chroma_stft': np.float32(0.42890897), 'rmse': np.float32(0.18710239), 'spectral_centroid': np.float64(1525.3486874723667), 'spectral_bandwidth': np.float64(993.8581120442059), 'rolloff': np.float64(2480.256144205729), 'zero_crossing_rate': np.float64(0.12256311487268519), 'mfcc1': np.float32(-156.83807), 'mfcc2': np.float32(156.25919), 'mfcc3': np.float32(-89.3705), 'mfcc4': np.float32(-7.892111), 'mfcc5': np.float32(13.505516), 'mfcc6': np.float32(-32.62791), 'mfcc7': np.float32(-24.917576), 'mfcc8': np.float32(-6.9365063), 'mfcc9': np.float32(-24.260105), 'mfcc10': np.float32(-4.7492614), 'mfcc11': np.float32(-1.1920561), 'mfcc12': np.float32(-13.110116), 'mfcc13': np.float32(3.8018417), 'mfcc14': np.float32(-6.6444764), 'mfcc15': np.float32(-14.324406), 'mfcc16': np.float32(2.1406407), 'mfcc17': np.float32(-4.996746), 'mfcc18': np.float32(-14.113256), 'mfcc19': np.float32(-0.37363532), 'mfcc20': np.float32(-0.69846064), 'filename': '_-_5kbw2Mcw_ 0.000_ 10.000.wav', 'label': 'not_covid'}\n",
      "feature_row type: <class 'dict'>\n",
      "feature_row={'chroma_stft': np.float32(0.44239986), 'rmse': np.float32(0.05637547), 'spectral_centroid': np.float64(4758.293215867982), 'spectral_bandwidth': np.float64(2732.1953221233844), 'rolloff': np.float64(7728.5756429036455), 'zero_crossing_rate': np.float64(0.34273726851851855), 'mfcc1': np.float32(-171.78526), 'mfcc2': np.float32(3.5725596), 'mfcc3': np.float32(6.6806345), 'mfcc4': np.float32(12.73264), 'mfcc5': np.float32(-5.932827), 'mfcc6': np.float32(1.5314721), 'mfcc7': np.float32(-22.341038), 'mfcc8': np.float32(8.811702), 'mfcc9': np.float32(-10.694887), 'mfcc10': np.float32(-3.0451612), 'mfcc11': np.float32(-10.024663), 'mfcc12': np.float32(-0.5809527), 'mfcc13': np.float32(-4.600771), 'mfcc14': np.float32(-7.1614656), 'mfcc15': np.float32(-0.38867724), 'mfcc16': np.float32(2.6280725), 'mfcc17': np.float32(-4.856635), 'mfcc18': np.float32(0.03354341), 'mfcc19': np.float32(-4.7766213), 'mfcc20': np.float32(-4.6281214), 'filename': '_0WKVY0n8aE_ 150.000_ 160.000.wav', 'label': 'not_covid'}\n",
      "feature_row type: <class 'dict'>\n",
      "feature_row={'chroma_stft': np.float32(0.54680985), 'rmse': np.float32(0.03233172), 'spectral_centroid': np.float64(2613.574621757671), 'spectral_bandwidth': np.float64(2761.6407851786475), 'rolloff': np.float64(5793.1793212890625), 'zero_crossing_rate': np.float64(0.11017523871527778), 'mfcc1': np.float32(-354.66876), 'mfcc2': np.float32(64.23236), 'mfcc3': np.float32(2.9219344), 'mfcc4': np.float32(10.310173), 'mfcc5': np.float32(0.11855231), 'mfcc6': np.float32(4.472696), 'mfcc7': np.float32(1.1783627), 'mfcc8': np.float32(5.819587), 'mfcc9': np.float32(-5.386902), 'mfcc10': np.float32(0.73387456), 'mfcc11': np.float32(2.905791), 'mfcc12': np.float32(0.8290273), 'mfcc13': np.float32(-1.5980784), 'mfcc14': np.float32(-0.7220593), 'mfcc15': np.float32(-0.76038337), 'mfcc16': np.float32(1.6549934), 'mfcc17': np.float32(-1.7316657), 'mfcc18': np.float32(0.59379816), 'mfcc19': np.float32(-1.0367146), 'mfcc20': np.float32(-0.3891901), 'filename': '_9YKlnmoDjs_ 11.000_ 21.000.wav', 'label': 'not_covid'}\n",
      "feature_row type: <class 'dict'>\n",
      "feature_row={'chroma_stft': np.float32(0.57057333), 'rmse': np.float32(0.022096742), 'spectral_centroid': np.float64(1236.0658268931368), 'spectral_bandwidth': np.float64(1187.2745130620963), 'rolloff': np.float64(2505.278523763021), 'zero_crossing_rate': np.float64(0.07706705729166667), 'mfcc1': np.float32(-387.3669), 'mfcc2': np.float32(92.72216), 'mfcc3': np.float32(-1.3316792), 'mfcc4': np.float32(15.403123), 'mfcc5': np.float32(16.576414), 'mfcc6': np.float32(-13.318049), 'mfcc7': np.float32(-5.921279), 'mfcc8': np.float32(4.0369835), 'mfcc9': np.float32(-0.98039585), 'mfcc10': np.float32(1.0568535), 'mfcc11': np.float32(0.010610368), 'mfcc12': np.float32(1.4248171), 'mfcc13': np.float32(5.5862913), 'mfcc14': np.float32(-1.5852654), 'mfcc15': np.float32(-3.199539), 'mfcc16': np.float32(4.120195), 'mfcc17': np.float32(3.0685086), 'mfcc18': np.float32(3.308108), 'mfcc19': np.float32(6.5621014), 'mfcc20': np.float32(2.2208133), 'filename': '_AjXY9cHCxA_ 150.000_ 160.000.wav', 'label': 'not_covid'}\n",
      "feature_row type: <class 'dict'>\n",
      "feature_row={'chroma_stft': np.float32(0.4695979), 'rmse': np.float32(0.03905296), 'spectral_centroid': np.float64(3281.523688067909), 'spectral_bandwidth': np.float64(2692.7790368715673), 'rolloff': np.float64(6281.614176432292), 'zero_crossing_rate': np.float64(0.19234438295717593), 'mfcc1': np.float32(-326.21426), 'mfcc2': np.float32(48.814644), 'mfcc3': np.float32(-25.714304), 'mfcc4': np.float32(2.955606), 'mfcc5': np.float32(-16.930676), 'mfcc6': np.float32(-12.067701), 'mfcc7': np.float32(-15.325496), 'mfcc8': np.float32(-19.92229), 'mfcc9': np.float32(-6.012952), 'mfcc10': np.float32(-8.249544), 'mfcc11': np.float32(-12.117723), 'mfcc12': np.float32(-2.823078), 'mfcc13': np.float32(-4.5254054), 'mfcc14': np.float32(-5.227288), 'mfcc15': np.float32(-8.388598), 'mfcc16': np.float32(-2.600032), 'mfcc17': np.float32(-5.0859866), 'mfcc18': np.float32(-6.7766995), 'mfcc19': np.float32(-7.1116567), 'mfcc20': np.float32(-4.6827602), 'filename': '_D3sxdtbFas_ 40.000_ 50.000.wav', 'label': 'not_covid'}\n",
      "feature_row type: <class 'dict'>\n",
      "feature_row={'chroma_stft': np.float32(0.67182237), 'rmse': np.float32(0.020217026), 'spectral_centroid': np.float64(1391.2814847749169), 'spectral_bandwidth': np.float64(1240.7687598951995), 'rolloff': np.float64(2948.3540852864585), 'zero_crossing_rate': np.float64(0.08205159505208333), 'mfcc1': np.float32(-340.51657), 'mfcc2': np.float32(148.96423), 'mfcc3': np.float32(-50.98515), 'mfcc4': np.float32(32.663334), 'mfcc5': np.float32(24.891996), 'mfcc6': np.float32(-18.555618), 'mfcc7': np.float32(24.405323), 'mfcc8': np.float32(6.3311048), 'mfcc9': np.float32(-5.6712985), 'mfcc10': np.float32(18.420845), 'mfcc11': np.float32(-3.8820474), 'mfcc12': np.float32(-3.699986), 'mfcc13': np.float32(8.225099), 'mfcc14': np.float32(-8.897298), 'mfcc15': np.float32(-1.4210695), 'mfcc16': np.float32(3.8358607), 'mfcc17': np.float32(-6.938317), 'mfcc18': np.float32(1.5128112), 'mfcc19': np.float32(1.2473744), 'mfcc20': np.float32(-3.3226666), 'filename': '_dfcXBTcmqU_ 70.000_ 80.000.wav', 'label': 'not_covid'}\n",
      "feature_row type: <class 'dict'>\n",
      "feature_row={'chroma_stft': np.float32(0.32106405), 'rmse': np.float32(0.14705756), 'spectral_centroid': np.float64(2143.102342852958), 'spectral_bandwidth': np.float64(1969.994848223752), 'rolloff': np.float64(4560.1043701171875), 'zero_crossing_rate': np.float64(0.11388029875578703), 'mfcc1': np.float32(-114.54255), 'mfcc2': np.float32(109.36717), 'mfcc3': np.float32(-42.634434), 'mfcc4': np.float32(36.051357), 'mfcc5': np.float32(-32.803833), 'mfcc6': np.float32(27.446266), 'mfcc7': np.float32(-23.25392), 'mfcc8': np.float32(11.44854), 'mfcc9': np.float32(-18.279486), 'mfcc10': np.float32(1.4961568), 'mfcc11': np.float32(-3.0578127), 'mfcc12': np.float32(-8.062501), 'mfcc13': np.float32(-2.6685438), 'mfcc14': np.float32(-11.031573), 'mfcc15': np.float32(6.4946246), 'mfcc16': np.float32(-4.2688174), 'mfcc17': np.float32(11.669255), 'mfcc18': np.float32(1.445462), 'mfcc19': np.float32(7.1405706), 'mfcc20': np.float32(-1.7680391), 'filename': '_e4GZ6p6nCY_ 20.000_ 30.000.wav', 'label': 'not_covid'}\n"
     ]
    },
    {
     "name": "stderr",
     "output_type": "stream",
     "text": [
      " 28%|██▊       | 47/170 [00:01<00:03, 36.41it/s]"
     ]
    },
    {
     "name": "stdout",
     "output_type": "stream",
     "text": [
      "feature_row type: <class 'dict'>\n",
      "feature_row={'chroma_stft': np.float32(0.4355377), 'rmse': np.float32(0.028346233), 'spectral_centroid': np.float64(3328.895146631237), 'spectral_bandwidth': np.float64(2605.8090661348433), 'rolloff': np.float64(6177.537027994792), 'zero_crossing_rate': np.float64(0.22026457609953703), 'mfcc1': np.float32(-351.05875), 'mfcc2': np.float32(43.157), 'mfcc3': np.float32(-18.395016), 'mfcc4': np.float32(2.1664288), 'mfcc5': np.float32(-14.500755), 'mfcc6': np.float32(-6.6692753), 'mfcc7': np.float32(-20.67689), 'mfcc8': np.float32(0.49633503), 'mfcc9': np.float32(-12.38825), 'mfcc10': np.float32(-3.8470383), 'mfcc11': np.float32(5.1091895), 'mfcc12': np.float32(-1.0332781), 'mfcc13': np.float32(-8.174056), 'mfcc14': np.float32(-5.585322), 'mfcc15': np.float32(-2.4092798), 'mfcc16': np.float32(-0.94128364), 'mfcc17': np.float32(-3.201595), 'mfcc18': np.float32(-3.973489), 'mfcc19': np.float32(-1.6440282), 'mfcc20': np.float32(-2.2437775), 'filename': '_FVreKE6Fj8_ 50.000_ 60.000.wav', 'label': 'not_covid'}\n",
      "feature_row type: <class 'dict'>\n",
      "feature_row={'chroma_stft': np.float32(0.6416), 'rmse': np.float32(0.017532941), 'spectral_centroid': np.float64(3691.7461294948425), 'spectral_bandwidth': np.float64(3065.263263447024), 'rolloff': np.float64(7650.168863932292), 'zero_crossing_rate': np.float64(0.17444299768518517), 'mfcc1': np.float32(-515.52435), 'mfcc2': np.float32(7.9260516), 'mfcc3': np.float32(-7.652136), 'mfcc4': np.float32(0.89490944), 'mfcc5': np.float32(-1.7665437), 'mfcc6': np.float32(-3.7356472), 'mfcc7': np.float32(-6.694241), 'mfcc8': np.float32(-7.522897), 'mfcc9': np.float32(-7.241579), 'mfcc10': np.float32(-1.8194661), 'mfcc11': np.float32(0.1392563), 'mfcc12': np.float32(1.5402188), 'mfcc13': np.float32(-2.9240556), 'mfcc14': np.float32(0.10474424), 'mfcc15': np.float32(-1.0827863), 'mfcc16': np.float32(-0.48394188), 'mfcc17': np.float32(0.51268405), 'mfcc18': np.float32(2.126094), 'mfcc19': np.float32(0.3862145), 'mfcc20': np.float32(0.6967031), 'filename': '_HLvqHDclW8_ 210.000_ 220.000.wav', 'label': 'not_covid'}\n",
      "feature_row type: <class 'dict'>\n",
      "feature_row={'chroma_stft': np.float32(0.5423088), 'rmse': np.float32(0.005537478), 'spectral_centroid': np.float64(2654.593576164206), 'spectral_bandwidth': np.float64(2633.7258019564965), 'rolloff': np.float64(5627.543131510417), 'zero_crossing_rate': np.float64(0.1427634910300926), 'mfcc1': np.float32(-515.2603), 'mfcc2': np.float32(74.73248), 'mfcc3': np.float32(0.5226417), 'mfcc4': np.float32(37.150898), 'mfcc5': np.float32(18.157894), 'mfcc6': np.float32(11.268273), 'mfcc7': np.float32(-10.943101), 'mfcc8': np.float32(-6.7226906), 'mfcc9': np.float32(2.92825), 'mfcc10': np.float32(-2.7460377), 'mfcc11': np.float32(-4.9683876), 'mfcc12': np.float32(1.4555826), 'mfcc13': np.float32(0.37925008), 'mfcc14': np.float32(5.3470054), 'mfcc15': np.float32(3.7660842), 'mfcc16': np.float32(-4.245309), 'mfcc17': np.float32(-4.711639), 'mfcc18': np.float32(1.6120175), 'mfcc19': np.float32(-1.5945284), 'mfcc20': np.float32(0.6019362), 'filename': '_hptdlGvSV4_ 10.000_ 20.000.wav', 'label': 'not_covid'}\n",
      "feature_row type: <class 'dict'>\n",
      "feature_row={'chroma_stft': np.float32(0.36379933), 'rmse': np.float32(0.03821065), 'spectral_centroid': np.float64(2467.3463558838444), 'spectral_bandwidth': np.float64(2333.5378846978597), 'rolloff': np.float64(4950.044759114583), 'zero_crossing_rate': np.float64(0.12492314091435185), 'mfcc1': np.float32(-286.5783), 'mfcc2': np.float32(76.00092), 'mfcc3': np.float32(-23.33851), 'mfcc4': np.float32(6.075291), 'mfcc5': np.float32(-27.743652), 'mfcc6': np.float32(-11.331365), 'mfcc7': np.float32(-33.42225), 'mfcc8': np.float32(-9.1773205), 'mfcc9': np.float32(-11.4207115), 'mfcc10': np.float32(-1.4348085), 'mfcc11': np.float32(-14.366882), 'mfcc12': np.float32(-10.690181), 'mfcc13': np.float32(-15.276799), 'mfcc14': np.float32(-5.978783), 'mfcc15': np.float32(-16.555586), 'mfcc16': np.float32(-12.985927), 'mfcc17': np.float32(-9.250273), 'mfcc18': np.float32(-9.8083105), 'mfcc19': np.float32(-4.921513), 'mfcc20': np.float32(3.1639307), 'filename': '_o5xtnLwtRc_ 0.000_ 10.000.wav', 'label': 'not_covid'}\n",
      "feature_row type: <class 'dict'>\n",
      "feature_row={'chroma_stft': np.float32(0.40847242), 'rmse': np.float32(0.085203156), 'spectral_centroid': np.float64(2294.5575466356463), 'spectral_bandwidth': np.float64(2376.91366255467), 'rolloff': np.float64(4856.8837483723955), 'zero_crossing_rate': np.float64(0.11806233723958333), 'mfcc1': np.float32(-207.35516), 'mfcc2': np.float32(94.84483), 'mfcc3': np.float32(-18.604456), 'mfcc4': np.float32(5.5279794), 'mfcc5': np.float32(-8.735697), 'mfcc6': np.float32(-1.7641327), 'mfcc7': np.float32(-19.932228), 'mfcc8': np.float32(-12.650184), 'mfcc9': np.float32(-14.423554), 'mfcc10': np.float32(-5.6199565), 'mfcc11': np.float32(-12.7670765), 'mfcc12': np.float32(2.2261248), 'mfcc13': np.float32(-2.2781568), 'mfcc14': np.float32(0.4177754), 'mfcc15': np.float32(-4.3032875), 'mfcc16': np.float32(-6.242496), 'mfcc17': np.float32(-7.4090858), 'mfcc18': np.float32(0.028779455), 'mfcc19': np.float32(-5.007705), 'mfcc20': np.float32(-5.2037024), 'filename': '_qDSR5skY0c_ 70.000_ 80.000.wav', 'label': 'not_covid'}\n",
      "feature_row type: <class 'dict'>\n",
      "feature_row={'chroma_stft': np.float32(0.48973563), 'rmse': np.float32(0.020382056), 'spectral_centroid': np.float64(2563.077095607638), 'spectral_bandwidth': np.float64(2679.542488470082), 'rolloff': np.float64(5490.7175699869795), 'zero_crossing_rate': np.float64(0.1227123119212963), 'mfcc1': np.float32(-289.25137), 'mfcc2': np.float32(70.347305), 'mfcc3': np.float32(-4.591855), 'mfcc4': np.float32(33.233425), 'mfcc5': np.float32(27.46157), 'mfcc6': np.float32(14.49799), 'mfcc7': np.float32(6.911659), 'mfcc8': np.float32(14.4049635), 'mfcc9': np.float32(11.318624), 'mfcc10': np.float32(3.2673688), 'mfcc11': np.float32(-6.461252), 'mfcc12': np.float32(3.6976755), 'mfcc13': np.float32(2.856693), 'mfcc14': np.float32(0.9188423), 'mfcc15': np.float32(-4.776093), 'mfcc16': np.float32(-0.19224243), 'mfcc17': np.float32(0.73370814), 'mfcc18': np.float32(-0.9390798), 'mfcc19': np.float32(-4.8660865), 'mfcc20': np.float32(-1.3689973), 'filename': '_YqaeNeVQbw_ 20.000_ 30.000.wav', 'label': 'not_covid'}\n",
      "feature_row type: <class 'dict'>\n",
      "feature_row={'chroma_stft': np.float32(0.42897522), 'rmse': np.float32(0.029467344), 'spectral_centroid': np.float64(2721.2119144951726), 'spectral_bandwidth': np.float64(2466.8197150137457), 'rolloff': np.float64(5322.0408121744795), 'zero_crossing_rate': np.float64(0.16620777271412038), 'mfcc1': np.float32(-315.71658), 'mfcc2': np.float32(74.77446), 'mfcc3': np.float32(-32.172073), 'mfcc4': np.float32(-14.0716), 'mfcc5': np.float32(-11.432487), 'mfcc6': np.float32(-7.1472583), 'mfcc7': np.float32(-9.44839), 'mfcc8': np.float32(0.6541881), 'mfcc9': np.float32(-21.80113), 'mfcc10': np.float32(-12.069262), 'mfcc11': np.float32(-12.609373), 'mfcc12': np.float32(-10.076746), 'mfcc13': np.float32(-5.078918), 'mfcc14': np.float32(-7.0656285), 'mfcc15': np.float32(-6.023566), 'mfcc16': np.float32(-4.031221), 'mfcc17': np.float32(-7.8184686), 'mfcc18': np.float32(-5.987662), 'mfcc19': np.float32(-8.795198), 'mfcc20': np.float32(-5.419461), 'filename': '_zrAnhgYzSo_ 10.000_ 20.000.wav', 'label': 'not_covid'}\n",
      "feature_row type: <class 'dict'>\n",
      "feature_row={'chroma_stft': np.float32(0.5847739), 'rmse': np.float32(0.014776639), 'spectral_centroid': np.float64(1390.287464324762), 'spectral_bandwidth': np.float64(1456.2802033263), 'rolloff': np.float64(2823.4415690104165), 'zero_crossing_rate': np.float64(0.06925229673032407), 'mfcc1': np.float32(-489.55612), 'mfcc2': np.float32(76.910126), 'mfcc3': np.float32(-12.511764), 'mfcc4': np.float32(10.396154), 'mfcc5': np.float32(10.513121), 'mfcc6': np.float32(-2.8753054), 'mfcc7': np.float32(10.989075), 'mfcc8': np.float32(4.092214), 'mfcc9': np.float32(0.6253638), 'mfcc10': np.float32(9.508793), 'mfcc11': np.float32(3.6776), 'mfcc12': np.float32(3.4499738), 'mfcc13': np.float32(6.0051417), 'mfcc14': np.float32(1.1709784), 'mfcc15': np.float32(2.014372), 'mfcc16': np.float32(0.52517486), 'mfcc17': np.float32(-2.0456805), 'mfcc18': np.float32(2.416158), 'mfcc19': np.float32(3.2378278), 'mfcc20': np.float32(2.3429792), 'filename': '0AWF9zOT8YY_ 150.000_ 160.000.wav', 'label': 'not_covid'}\n"
     ]
    },
    {
     "name": "stderr",
     "output_type": "stream",
     "text": [
      " 32%|███▏      | 55/170 [00:02<00:03, 37.07it/s]"
     ]
    },
    {
     "name": "stdout",
     "output_type": "stream",
     "text": [
      "feature_row type: <class 'dict'>\n",
      "feature_row={'chroma_stft': np.float32(0.501198), 'rmse': np.float32(0.023367425), 'spectral_centroid': np.float64(2397.0507511356086), 'spectral_bandwidth': np.float64(1850.8629720203307), 'rolloff': np.float64(4350.205485026042), 'zero_crossing_rate': np.float64(0.16975911458333334), 'mfcc1': np.float32(-369.7373), 'mfcc2': np.float32(70.125626), 'mfcc3': np.float32(-48.39216), 'mfcc4': np.float32(-1.3227508), 'mfcc5': np.float32(-5.627358), 'mfcc6': np.float32(6.252785), 'mfcc7': np.float32(-15.291578), 'mfcc8': np.float32(-1.4974562), 'mfcc9': np.float32(-7.5889263), 'mfcc10': np.float32(-2.876231), 'mfcc11': np.float32(-2.7819638), 'mfcc12': np.float32(-2.3201935), 'mfcc13': np.float32(-2.5028887), 'mfcc14': np.float32(-5.79501), 'mfcc15': np.float32(-2.14292), 'mfcc16': np.float32(-2.8194845), 'mfcc17': np.float32(0.44331482), 'mfcc18': np.float32(-3.2696562), 'mfcc19': np.float32(-1.3099458), 'mfcc20': np.float32(-1.185018), 'filename': '0Dh4NhF27jc_ 140.000_ 150.000.wav', 'label': 'not_covid'}\n",
      "feature_row type: <class 'dict'>\n",
      "feature_row={'chroma_stft': np.float32(0.3853546), 'rmse': np.float32(0.17199829), 'spectral_centroid': np.float64(1896.4474791110665), 'spectral_bandwidth': np.float64(1807.3947703939366), 'rolloff': np.float64(3812.5732421875), 'zero_crossing_rate': np.float64(0.0901828342013889), 'mfcc1': np.float32(-192.643), 'mfcc2': np.float32(49.945797), 'mfcc3': np.float32(-5.358224), 'mfcc4': np.float32(28.154558), 'mfcc5': np.float32(-0.8888119), 'mfcc6': np.float32(7.9157434), 'mfcc7': np.float32(-1.6447179), 'mfcc8': np.float32(7.555767), 'mfcc9': np.float32(-4.241135), 'mfcc10': np.float32(7.366355), 'mfcc11': np.float32(-1.9502008), 'mfcc12': np.float32(6.3543177), 'mfcc13': np.float32(-3.2284179), 'mfcc14': np.float32(2.373439), 'mfcc15': np.float32(-6.4994655), 'mfcc16': np.float32(3.707465), 'mfcc17': np.float32(-5.2340207), 'mfcc18': np.float32(0.26105112), 'mfcc19': np.float32(-3.7982817), 'mfcc20': np.float32(-0.06784884), 'filename': '0EaxcUhZWe8_ 40.000_ 50.000.wav', 'label': 'not_covid'}\n",
      "feature_row type: <class 'dict'>\n",
      "feature_row={'chroma_stft': np.float32(0.27851883), 'rmse': np.float32(0.096799694), 'spectral_centroid': np.float64(2547.762452511661), 'spectral_bandwidth': np.float64(2723.0185500412317), 'rolloff': np.float64(5744.779459635417), 'zero_crossing_rate': np.float64(0.04114221643518518), 'mfcc1': np.float32(-162.96477), 'mfcc2': np.float32(67.26162), 'mfcc3': np.float32(-8.892427), 'mfcc4': np.float32(25.764534), 'mfcc5': np.float32(23.60564), 'mfcc6': np.float32(3.8300157), 'mfcc7': np.float32(-7.386148), 'mfcc8': np.float32(24.701208), 'mfcc9': np.float32(-1.526209), 'mfcc10': np.float32(-8.242982), 'mfcc11': np.float32(-2.4351892), 'mfcc12': np.float32(-6.2817745), 'mfcc13': np.float32(-5.5037885), 'mfcc14': np.float32(4.9604683), 'mfcc15': np.float32(-16.685572), 'mfcc16': np.float32(-11.522229), 'mfcc17': np.float32(-3.3871968), 'mfcc18': np.float32(-3.4841933), 'mfcc19': np.float32(-7.7557597), 'mfcc20': np.float32(-10.120966), 'filename': '0iiwZ2_9Vi8_ 90.000_ 100.000.wav', 'label': 'not_covid'}\n",
      "feature_row type: <class 'dict'>\n",
      "feature_row={'chroma_stft': np.float32(0.31787896), 'rmse': np.float32(0.048347995), 'spectral_centroid': np.float64(1690.2166304066693), 'spectral_bandwidth': np.float64(1303.0324062595478), 'rolloff': np.float64(3204.609171549479), 'zero_crossing_rate': np.float64(0.1024169921875), 'mfcc1': np.float32(-289.26743), 'mfcc2': np.float32(152.80696), 'mfcc3': np.float32(-84.11939), 'mfcc4': np.float32(43.61345), 'mfcc5': np.float32(-36.895702), 'mfcc6': np.float32(-6.6011376), 'mfcc7': np.float32(22.137766), 'mfcc8': np.float32(-23.407036), 'mfcc9': np.float32(9.385288), 'mfcc10': np.float32(-9.059021), 'mfcc11': np.float32(-1.6263466), 'mfcc12': np.float32(7.900529), 'mfcc13': np.float32(-6.236875), 'mfcc14': np.float32(7.3443704), 'mfcc15': np.float32(3.4641879), 'mfcc16': np.float32(3.8135955), 'mfcc17': np.float32(-1.4759657), 'mfcc18': np.float32(-2.0179317), 'mfcc19': np.float32(1.673763), 'mfcc20': np.float32(-4.612534), 'filename': '0MwZQ1-WZyM_ 0.000_ 10.000.wav', 'label': 'not_covid'}\n",
      "feature_row type: <class 'dict'>\n",
      "feature_row={'chroma_stft': np.float32(0.55238533), 'rmse': np.float32(0.023119878), 'spectral_centroid': np.float64(5267.713690905254), 'spectral_bandwidth': np.float64(2804.9044810536197), 'rolloff': np.float64(8231.017049153646), 'zero_crossing_rate': np.float64(0.4378865559895833), 'mfcc1': np.float32(-323.24615), 'mfcc2': np.float32(7.462683), 'mfcc3': np.float32(30.048376), 'mfcc4': np.float32(3.2290728), 'mfcc5': np.float32(-14.661415), 'mfcc6': np.float32(16.295523), 'mfcc7': np.float32(-4.5323963), 'mfcc8': np.float32(16.118608), 'mfcc9': np.float32(-14.2223425), 'mfcc10': np.float32(8.9200115), 'mfcc11': np.float32(-2.2238367), 'mfcc12': np.float32(2.0384016), 'mfcc13': np.float32(2.4999735), 'mfcc14': np.float32(6.2653294), 'mfcc15': np.float32(-6.8191404), 'mfcc16': np.float32(8.803738), 'mfcc17': np.float32(-3.7530568), 'mfcc18': np.float32(0.57454604), 'mfcc19': np.float32(-4.109571), 'mfcc20': np.float32(2.2232137), 'filename': '0mZQ6Q-viPw_ 10.000_ 20.000.wav', 'label': 'not_covid'}\n",
      "feature_row type: <class 'dict'>\n",
      "feature_row={'chroma_stft': np.float32(0.45147714), 'rmse': np.float32(0.015549467), 'spectral_centroid': np.float64(1920.51495623048), 'spectral_bandwidth': np.float64(2045.3470377982555), 'rolloff': np.float64(3931.7535400390625), 'zero_crossing_rate': np.float64(0.09923638237847222), 'mfcc1': np.float32(-381.0385), 'mfcc2': np.float32(112.43448), 'mfcc3': np.float32(-19.37957), 'mfcc4': np.float32(1.1083118), 'mfcc5': np.float32(-0.9138564), 'mfcc6': np.float32(1.6668366), 'mfcc7': np.float32(-4.2885942), 'mfcc8': np.float32(-1.3333161), 'mfcc9': np.float32(-0.99226123), 'mfcc10': np.float32(-4.087302), 'mfcc11': np.float32(-4.748461), 'mfcc12': np.float32(-4.7417164), 'mfcc13': np.float32(-5.1844153), 'mfcc14': np.float32(-2.562027), 'mfcc15': np.float32(-2.0851314), 'mfcc16': np.float32(0.7920388), 'mfcc17': np.float32(-0.40411752), 'mfcc18': np.float32(0.5682669), 'mfcc19': np.float32(-2.1138475), 'mfcc20': np.float32(0.50595134), 'filename': '0oUkEze_kmo_ 30.000_ 40.000.wav', 'label': 'not_covid'}\n",
      "feature_row type: <class 'dict'>\n",
      "feature_row={'chroma_stft': np.float32(0.26410502), 'rmse': np.float32(0.006037144), 'spectral_centroid': np.float64(1339.4228880362357), 'spectral_bandwidth': np.float64(2057.548525453106), 'rolloff': np.float64(2829.9713134765625), 'zero_crossing_rate': np.float64(0.03323025173611111), 'mfcc1': np.float32(-439.0149), 'mfcc2': np.float32(134.77797), 'mfcc3': np.float32(12.219301), 'mfcc4': np.float32(24.14922), 'mfcc5': np.float32(4.3913913), 'mfcc6': np.float32(18.680168), 'mfcc7': np.float32(1.2967696), 'mfcc8': np.float32(4.3256), 'mfcc9': np.float32(-1.4902412), 'mfcc10': np.float32(6.8448753), 'mfcc11': np.float32(-3.7029746), 'mfcc12': np.float32(1.821131), 'mfcc13': np.float32(-5.3393245), 'mfcc14': np.float32(-2.5289738), 'mfcc15': np.float32(-6.128257), 'mfcc16': np.float32(-3.7456248), 'mfcc17': np.float32(-6.8527064), 'mfcc18': np.float32(-4.5032234), 'mfcc19': np.float32(-8.353723), 'mfcc20': np.float32(-5.5542903), 'filename': '0qCvekeAHkc_ 210.000_ 220.000.wav', 'label': 'not_covid'}\n",
      "feature_row type: <class 'dict'>\n",
      "feature_row={'chroma_stft': np.float32(0.33697534), 'rmse': np.float32(0.029915918), 'spectral_centroid': np.float64(2709.6431637369637), 'spectral_bandwidth': np.float64(2574.894986593504), 'rolloff': np.float64(5815.460205078125), 'zero_crossing_rate': np.float64(0.13584617332175927), 'mfcc1': np.float32(-341.01062), 'mfcc2': np.float32(66.534256), 'mfcc3': np.float32(-9.196719), 'mfcc4': np.float32(-7.345233), 'mfcc5': np.float32(-18.458115), 'mfcc6': np.float32(2.7425327), 'mfcc7': np.float32(-24.919058), 'mfcc8': np.float32(-14.648279), 'mfcc9': np.float32(-11.44019), 'mfcc10': np.float32(5.51117), 'mfcc11': np.float32(-14.770412), 'mfcc12': np.float32(-8.482616), 'mfcc13': np.float32(-8.999831), 'mfcc14': np.float32(-11.737665), 'mfcc15': np.float32(-7.17905), 'mfcc16': np.float32(-12.679926), 'mfcc17': np.float32(-12.653057), 'mfcc18': np.float32(-9.708363), 'mfcc19': np.float32(-10.475762), 'mfcc20': np.float32(-5.5588207), 'filename': '0qktEoIX2Sk_ 40.000_ 50.000.wav', 'label': 'not_covid'}\n"
     ]
    },
    {
     "name": "stderr",
     "output_type": "stream",
     "text": [
      " 37%|███▋      | 63/170 [00:02<00:02, 37.08it/s]"
     ]
    },
    {
     "name": "stdout",
     "output_type": "stream",
     "text": [
      "feature_row type: <class 'dict'>\n",
      "feature_row={'chroma_stft': np.float32(0.3839816), 'rmse': np.float32(0.13784923), 'spectral_centroid': np.float64(2058.809896639162), 'spectral_bandwidth': np.float64(2213.1556486179493), 'rolloff': np.float64(4099.6327718098955), 'zero_crossing_rate': np.float64(0.08789740668402778), 'mfcc1': np.float32(-76.60575), 'mfcc2': np.float32(107.72862), 'mfcc3': np.float32(-20.677078), 'mfcc4': np.float32(11.03431), 'mfcc5': np.float32(-9.601586), 'mfcc6': np.float32(-7.7287793), 'mfcc7': np.float32(-13.768376), 'mfcc8': np.float32(-8.068742), 'mfcc9': np.float32(-8.5978985), 'mfcc10': np.float32(0.81332093), 'mfcc11': np.float32(-5.6953397), 'mfcc12': np.float32(1.9649596), 'mfcc13': np.float32(-0.06605918), 'mfcc14': np.float32(4.1433096), 'mfcc15': np.float32(-1.1849803), 'mfcc16': np.float32(-1.3654935), 'mfcc17': np.float32(-3.9237936), 'mfcc18': np.float32(-2.6328518), 'mfcc19': np.float32(-6.5368786), 'mfcc20': np.float32(-1.6211805), 'filename': '0QOYirw4e3I_ 270.000_ 280.000.wav', 'label': 'not_covid'}\n",
      "feature_row type: <class 'dict'>\n",
      "feature_row={'chroma_stft': np.float32(0.67608607), 'rmse': np.float32(0.0037772695), 'spectral_centroid': np.float64(2781.836254374479), 'spectral_bandwidth': np.float64(2304.3921494874057), 'rolloff': np.float64(5649.4252522786455), 'zero_crossing_rate': np.float64(0.21398021556712962), 'mfcc1': np.float32(-463.07126), 'mfcc2': np.float32(82.44786), 'mfcc3': np.float32(-38.42121), 'mfcc4': np.float32(28.808916), 'mfcc5': np.float32(-15.517041), 'mfcc6': np.float32(5.311224), 'mfcc7': np.float32(-17.96619), 'mfcc8': np.float32(4.029472), 'mfcc9': np.float32(-21.429394), 'mfcc10': np.float32(13.275487), 'mfcc11': np.float32(-23.169228), 'mfcc12': np.float32(14.200781), 'mfcc13': np.float32(-13.558472), 'mfcc14': np.float32(0.53339106), 'mfcc15': np.float32(-0.37283492), 'mfcc16': np.float32(-6.3166604), 'mfcc17': np.float32(3.803446), 'mfcc18': np.float32(-5.9899845), 'mfcc19': np.float32(3.3361928), 'mfcc20': np.float32(-6.5034475), 'filename': '0sDlmseq2Kg_ 40.000_ 50.000.wav', 'label': 'not_covid'}\n",
      "feature_row type: <class 'dict'>\n",
      "feature_row={'chroma_stft': np.float32(0.52020204), 'rmse': np.float32(0.045849107), 'spectral_centroid': np.float64(1613.207268351373), 'spectral_bandwidth': np.float64(1412.4199471418742), 'rolloff': np.float64(2908.0291748046875), 'zero_crossing_rate': np.float64(0.10701949508101852), 'mfcc1': np.float32(-377.00867), 'mfcc2': np.float32(110.92828), 'mfcc3': np.float32(-31.870615), 'mfcc4': np.float32(6.640703), 'mfcc5': np.float32(-0.8315147), 'mfcc6': np.float32(-4.4516087), 'mfcc7': np.float32(-0.1962234), 'mfcc8': np.float32(-3.776341), 'mfcc9': np.float32(-5.1953974), 'mfcc10': np.float32(-0.67670864), 'mfcc11': np.float32(-0.66683763), 'mfcc12': np.float32(-7.442677), 'mfcc13': np.float32(-1.0420707), 'mfcc14': np.float32(-0.21167755), 'mfcc15': np.float32(-3.5130289), 'mfcc16': np.float32(-1.7552835), 'mfcc17': np.float32(-3.0297434), 'mfcc18': np.float32(-2.8737524), 'mfcc19': np.float32(-2.084186), 'mfcc20': np.float32(-4.0062585), 'filename': '0v8MGxNetjg_ 10.000_ 20.000.wav', 'label': 'not_covid'}\n",
      "feature_row type: <class 'dict'>\n",
      "feature_row={'chroma_stft': np.float32(0.47486302), 'rmse': np.float32(0.11776894), 'spectral_centroid': np.float64(2171.0932894794964), 'spectral_bandwidth': np.float64(2020.7484822333188), 'rolloff': np.float64(4154.612223307292), 'zero_crossing_rate': np.float64(0.12836145471643517), 'mfcc1': np.float32(-111.08713), 'mfcc2': np.float32(100.79208), 'mfcc3': np.float32(-45.950077), 'mfcc4': np.float32(12.435032), 'mfcc5': np.float32(-24.045479), 'mfcc6': np.float32(2.3001547), 'mfcc7': np.float32(-16.964617), 'mfcc8': np.float32(1.1209096), 'mfcc9': np.float32(-20.6723), 'mfcc10': np.float32(3.9369874), 'mfcc11': np.float32(-8.808539), 'mfcc12': np.float32(1.8302948), 'mfcc13': np.float32(-13.449332), 'mfcc14': np.float32(-6.7227383), 'mfcc15': np.float32(-9.396442), 'mfcc16': np.float32(-2.781801), 'mfcc17': np.float32(-13.162453), 'mfcc18': np.float32(-2.3638818), 'mfcc19': np.float32(-9.831853), 'mfcc20': np.float32(-6.2646356), 'filename': '0VaWzVLOWvE_ 120.000_ 130.000.wav', 'label': 'not_covid'}\n",
      "feature_row type: <class 'dict'>\n",
      "feature_row={'chroma_stft': np.float32(0.4586272), 'rmse': np.float32(0.040599808), 'spectral_centroid': np.float64(3326.842170690329), 'spectral_bandwidth': np.float64(2360.7106004079183), 'rolloff': np.float64(5806.6375732421875), 'zero_crossing_rate': np.float64(0.24002866391782407), 'mfcc1': np.float32(-252.41565), 'mfcc2': np.float32(51.849), 'mfcc3': np.float32(-34.487843), 'mfcc4': np.float32(1.1187345), 'mfcc5': np.float32(-17.809752), 'mfcc6': np.float32(-3.9884124), 'mfcc7': np.float32(-10.298352), 'mfcc8': np.float32(-1.7381831), 'mfcc9': np.float32(-10.10921), 'mfcc10': np.float32(-3.9049635), 'mfcc11': np.float32(-9.40236), 'mfcc12': np.float32(-1.7488769), 'mfcc13': np.float32(0.014857539), 'mfcc14': np.float32(3.4832408), 'mfcc15': np.float32(0.5512356), 'mfcc16': np.float32(-1.5305891), 'mfcc17': np.float32(-3.6257946), 'mfcc18': np.float32(-2.404662), 'mfcc19': np.float32(-4.9119973), 'mfcc20': np.float32(0.77234143), 'filename': '0WPDmbAui6k_ 0.000_ 10.000.wav', 'label': 'not_covid'}\n",
      "feature_row type: <class 'dict'>\n",
      "feature_row={'chroma_stft': np.float32(0.4655447), 'rmse': np.float32(0.06571353), 'spectral_centroid': np.float64(2334.825862787995), 'spectral_bandwidth': np.float64(2422.7086428001785), 'rolloff': np.float64(4712.082926432292), 'zero_crossing_rate': np.float64(0.11969898365162036), 'mfcc1': np.float32(-198.79059), 'mfcc2': np.float32(98.37748), 'mfcc3': np.float32(-22.576921), 'mfcc4': np.float32(5.585678), 'mfcc5': np.float32(-3.0981553), 'mfcc6': np.float32(-8.374064), 'mfcc7': np.float32(-8.45777), 'mfcc8': np.float32(-2.3446941), 'mfcc9': np.float32(-15.197935), 'mfcc10': np.float32(-2.1094859), 'mfcc11': np.float32(-1.8248742), 'mfcc12': np.float32(-1.605104), 'mfcc13': np.float32(-9.420197), 'mfcc14': np.float32(0.2796207), 'mfcc15': np.float32(-6.080597), 'mfcc16': np.float32(2.3494756), 'mfcc17': np.float32(-5.6015987), 'mfcc18': np.float32(-3.4037616), 'mfcc19': np.float32(-3.0551238), 'mfcc20': np.float32(-2.0613968), 'filename': '1_oZWCKCGqA_ 10.000_ 20.000.wav', 'label': 'not_covid'}\n",
      "feature_row type: <class 'dict'>\n",
      "feature_row={'chroma_stft': np.float32(0.40955085), 'rmse': np.float32(0.039194044), 'spectral_centroid': np.float64(2450.0466186577682), 'spectral_bandwidth': np.float64(2419.2525452844816), 'rolloff': np.float64(4960.811360677083), 'zero_crossing_rate': np.float64(0.11986852575231481), 'mfcc1': np.float32(-305.13477), 'mfcc2': np.float32(79.19576), 'mfcc3': np.float32(-30.300573), 'mfcc4': np.float32(10.304887), 'mfcc5': np.float32(11.462945), 'mfcc6': np.float32(8.8502245), 'mfcc7': np.float32(-9.380352), 'mfcc8': np.float32(6.0911694), 'mfcc9': np.float32(13.529256), 'mfcc10': np.float32(2.198677), 'mfcc11': np.float32(6.192039), 'mfcc12': np.float32(2.3880496), 'mfcc13': np.float32(-0.44057715), 'mfcc14': np.float32(5.9316278), 'mfcc15': np.float32(0.9972017), 'mfcc16': np.float32(-0.40927425), 'mfcc17': np.float32(-0.6205986), 'mfcc18': np.float32(1.3280013), 'mfcc19': np.float32(-3.1308684), 'mfcc20': np.float32(5.879001), 'filename': '1a1Dx52izTo_ 0.000_ 10.000.wav', 'label': 'not_covid'}\n",
      "feature_row type: <class 'dict'>\n",
      "feature_row={'chroma_stft': np.float32(0.4292126), 'rmse': np.float32(0.014138939), 'spectral_centroid': np.float64(4623.346209483054), 'spectral_bandwidth': np.float64(3265.8966275130288), 'rolloff': np.float64(8701.806640625), 'zero_crossing_rate': np.float64(0.38616943359375), 'mfcc1': np.float32(-309.53326), 'mfcc2': np.float32(50.454075), 'mfcc3': np.float32(23.255537), 'mfcc4': np.float32(-24.39106), 'mfcc5': np.float32(-27.954824), 'mfcc6': np.float32(7.0807166), 'mfcc7': np.float32(-12.845888), 'mfcc8': np.float32(-40.92119), 'mfcc9': np.float32(12.191351), 'mfcc10': np.float32(-3.7967806), 'mfcc11': np.float32(-35.15289), 'mfcc12': np.float32(-11.617707), 'mfcc13': np.float32(10.332135), 'mfcc14': np.float32(-25.111307), 'mfcc15': np.float32(-16.121363), 'mfcc16': np.float32(-3.0349393), 'mfcc17': np.float32(-1.3479828), 'mfcc18': np.float32(-15.386615), 'mfcc19': np.float32(-10.155622), 'mfcc20': np.float32(24.155577), 'filename': '1e3_ucOz0Ik_ 20.000_ 30.000.wav', 'label': 'not_covid'}\n"
     ]
    },
    {
     "name": "stderr",
     "output_type": "stream",
     "text": [
      " 42%|████▏     | 71/170 [00:02<00:02, 37.10it/s]"
     ]
    },
    {
     "name": "stdout",
     "output_type": "stream",
     "text": [
      "feature_row type: <class 'dict'>\n",
      "feature_row={'chroma_stft': np.float32(0.50915134), 'rmse': np.float32(0.017800655), 'spectral_centroid': np.float64(2720.3395740101782), 'spectral_bandwidth': np.float64(3004.6515940313598), 'rolloff': np.float64(6610.9425862630205), 'zero_crossing_rate': np.float64(0.10743091724537036), 'mfcc1': np.float32(-417.88443), 'mfcc2': np.float32(80.807335), 'mfcc3': np.float32(10.386467), 'mfcc4': np.float32(-9.372093), 'mfcc5': np.float32(-2.847483), 'mfcc6': np.float32(3.3339558), 'mfcc7': np.float32(3.1548123), 'mfcc8': np.float32(5.579749), 'mfcc9': np.float32(-4.618894), 'mfcc10': np.float32(-2.879193), 'mfcc11': np.float32(-3.4328206), 'mfcc12': np.float32(2.36394), 'mfcc13': np.float32(2.6422503), 'mfcc14': np.float32(-0.36046174), 'mfcc15': np.float32(-6.3556643), 'mfcc16': np.float32(3.4328527), 'mfcc17': np.float32(6.8947515), 'mfcc18': np.float32(2.5637167), 'mfcc19': np.float32(1.0019877), 'mfcc20': np.float32(3.305685), 'filename': '1F234DLNRYc_ 10.000_ 20.000.wav', 'label': 'not_covid'}\n",
      "feature_row type: <class 'dict'>\n",
      "feature_row={'chroma_stft': np.float32(0.53591967), 'rmse': np.float32(0.0017672045), 'spectral_centroid': np.float64(2892.9003110400267), 'spectral_bandwidth': np.float64(2467.7000447091664), 'rolloff': np.float64(5074.2095947265625), 'zero_crossing_rate': np.float64(0.14858443648726852), 'mfcc1': np.float32(-519.2981), 'mfcc2': np.float32(60.83321), 'mfcc3': np.float32(-13.686949), 'mfcc4': np.float32(52.106445), 'mfcc5': np.float32(0.023676837), 'mfcc6': np.float32(-2.5801547), 'mfcc7': np.float32(16.06641), 'mfcc8': np.float32(-1.5136065), 'mfcc9': np.float32(4.1083217), 'mfcc10': np.float32(11.038373), 'mfcc11': np.float32(-0.1432299), 'mfcc12': np.float32(-0.89726895), 'mfcc13': np.float32(7.246154), 'mfcc14': np.float32(-1.7113218), 'mfcc15': np.float32(3.8798735), 'mfcc16': np.float32(3.6373014), 'mfcc17': np.float32(3.026382), 'mfcc18': np.float32(2.4391048), 'mfcc19': np.float32(2.7785068), 'mfcc20': np.float32(2.2092004), 'filename': '1j1duoxdxBg_ 70.000_ 80.000.wav', 'label': 'not_covid'}\n",
      "feature_row type: <class 'dict'>\n",
      "feature_row={'chroma_stft': np.float32(0.49570107), 'rmse': np.float32(0.033442184), 'spectral_centroid': np.float64(3429.34549321979), 'spectral_bandwidth': np.float64(2788.624736490241), 'rolloff': np.float64(6887.833658854167), 'zero_crossing_rate': np.float64(0.2253146701388889), 'mfcc1': np.float32(-282.54663), 'mfcc2': np.float32(48.55093), 'mfcc3': np.float32(-15.530038), 'mfcc4': np.float32(12.70684), 'mfcc5': np.float32(4.197268), 'mfcc6': np.float32(-7.5824986), 'mfcc7': np.float32(-19.339329), 'mfcc8': np.float32(-12.062805), 'mfcc9': np.float32(-16.914818), 'mfcc10': np.float32(13.680665), 'mfcc11': np.float32(0.8189353), 'mfcc12': np.float32(-6.072834), 'mfcc13': np.float32(-4.1813583), 'mfcc14': np.float32(0.9958034), 'mfcc15': np.float32(-0.5268777), 'mfcc16': np.float32(0.5449486), 'mfcc17': np.float32(-8.846841), 'mfcc18': np.float32(-2.909318), 'mfcc19': np.float32(-1.1150063), 'mfcc20': np.float32(-5.9217405), 'filename': '1MSYO4wgiag_ 120.000_ 130.000.wav', 'label': 'not_covid'}\n",
      "feature_row type: <class 'dict'>\n",
      "feature_row={'chroma_stft': np.float32(0.40794486), 'rmse': np.float32(0.013446356), 'spectral_centroid': np.float64(2710.614836856473), 'spectral_bandwidth': np.float64(2664.172991819635), 'rolloff': np.float64(5778.3253987630205), 'zero_crossing_rate': np.float64(0.14207628038194445), 'mfcc1': np.float32(-346.9259), 'mfcc2': np.float32(75.774315), 'mfcc3': np.float32(-7.6401367), 'mfcc4': np.float32(11.369929), 'mfcc5': np.float32(11.364984), 'mfcc6': np.float32(1.8391443), 'mfcc7': np.float32(-7.9596004), 'mfcc8': np.float32(-4.2627482), 'mfcc9': np.float32(-8.286303), 'mfcc10': np.float32(3.0995579), 'mfcc11': np.float32(-2.8376002), 'mfcc12': np.float32(5.065131), 'mfcc13': np.float32(-0.28432748), 'mfcc14': np.float32(0.9862598), 'mfcc15': np.float32(-2.45342), 'mfcc16': np.float32(3.6917222), 'mfcc17': np.float32(2.3170958), 'mfcc18': np.float32(-2.0618885), 'mfcc19': np.float32(-4.779807), 'mfcc20': np.float32(-0.5130339), 'filename': '1PajbAKd8Kg_ 0.000_ 10.000.wav', 'label': 'not_covid'}\n",
      "feature_row type: <class 'dict'>\n",
      "feature_row={'chroma_stft': np.float32(0.45965245), 'rmse': np.float32(0.025974868), 'spectral_centroid': np.float64(2604.780449871673), 'spectral_bandwidth': np.float64(2404.7167083133336), 'rolloff': np.float64(5276.8310546875), 'zero_crossing_rate': np.float64(0.16032805266203703), 'mfcc1': np.float32(-368.9998), 'mfcc2': np.float32(68.92611), 'mfcc3': np.float32(-3.0144958), 'mfcc4': np.float32(4.740218), 'mfcc5': np.float32(-22.757189), 'mfcc6': np.float32(-6.3076215), 'mfcc7': np.float32(-5.026206), 'mfcc8': np.float32(-3.0516124), 'mfcc9': np.float32(-22.226892), 'mfcc10': np.float32(-10.342599), 'mfcc11': np.float32(-1.9116259), 'mfcc12': np.float32(-3.023776), 'mfcc13': np.float32(2.460974), 'mfcc14': np.float32(-3.8589041), 'mfcc15': np.float32(-4.766991), 'mfcc16': np.float32(1.4170516), 'mfcc17': np.float32(-7.5552206), 'mfcc18': np.float32(-5.734298), 'mfcc19': np.float32(-1.3090066), 'mfcc20': np.float32(-7.6249766), 'filename': '1UDFq2InljM_ 10.000_ 20.000.wav', 'label': 'not_covid'}\n",
      "feature_row type: <class 'dict'>\n",
      "feature_row={'chroma_stft': np.float32(0.38527867), 'rmse': np.float32(0.04919559), 'spectral_centroid': np.float64(2091.5386865176874), 'spectral_bandwidth': np.float64(1900.8516520365922), 'rolloff': np.float64(4090.3116861979165), 'zero_crossing_rate': np.float64(0.12537073206018517), 'mfcc1': np.float32(-333.28152), 'mfcc2': np.float32(77.35592), 'mfcc3': np.float32(-29.21526), 'mfcc4': np.float32(-12.000209), 'mfcc5': np.float32(-40.10727), 'mfcc6': np.float32(-14.171867), 'mfcc7': np.float32(-24.793758), 'mfcc8': np.float32(-3.5649555), 'mfcc9': np.float32(-12.181041), 'mfcc10': np.float32(-8.302249), 'mfcc11': np.float32(-11.220527), 'mfcc12': np.float32(-15.379467), 'mfcc13': np.float32(-11.852128), 'mfcc14': np.float32(-16.687006), 'mfcc15': np.float32(-6.1294665), 'mfcc16': np.float32(-6.9116344), 'mfcc17': np.float32(0.87039477), 'mfcc18': np.float32(-1.7464583), 'mfcc19': np.float32(-0.27820247), 'mfcc20': np.float32(0.44265616), 'filename': '1Xmw9VUzvLY_ 150.000_ 160.000.wav', 'label': 'not_covid'}\n",
      "feature_row type: <class 'dict'>\n",
      "feature_row={'chroma_stft': np.float32(0.4368351), 'rmse': np.float32(0.011702012), 'spectral_centroid': np.float64(2535.113665626798), 'spectral_bandwidth': np.float64(2745.4840998528), 'rolloff': np.float64(5693.937174479167), 'zero_crossing_rate': np.float64(0.10598189742476852), 'mfcc1': np.float32(-369.70807), 'mfcc2': np.float32(88.60308), 'mfcc3': np.float32(5.3926673), 'mfcc4': np.float32(7.1216035), 'mfcc5': np.float32(1.326071), 'mfcc6': np.float32(3.93072), 'mfcc7': np.float32(-9.63864), 'mfcc8': np.float32(-4.6080832), 'mfcc9': np.float32(-1.3495276), 'mfcc10': np.float32(-5.9141064), 'mfcc11': np.float32(-10.465359), 'mfcc12': np.float32(-7.2908864), 'mfcc13': np.float32(-10.122935), 'mfcc14': np.float32(-8.44247), 'mfcc15': np.float32(-11.146337), 'mfcc16': np.float32(-7.2038007), 'mfcc17': np.float32(-9.289364), 'mfcc18': np.float32(-4.730805), 'mfcc19': np.float32(-9.537123), 'mfcc20': np.float32(-4.201309), 'filename': '2B_QV_5R4Zo_ 10.000_ 20.000.wav', 'label': 'not_covid'}\n",
      "feature_row type: <class 'dict'>\n",
      "feature_row={'chroma_stft': np.float32(0.35516003), 'rmse': np.float32(0.10213928), 'spectral_centroid': np.float64(2745.177815915176), 'spectral_bandwidth': np.float64(2320.5739862251194), 'rolloff': np.float64(5164.180501302083), 'zero_crossing_rate': np.float64(0.1585964626736111), 'mfcc1': np.float32(-184.20029), 'mfcc2': np.float32(58.448418), 'mfcc3': np.float32(-38.634773), 'mfcc4': np.float32(11.382109), 'mfcc5': np.float32(-25.023125), 'mfcc6': np.float32(-19.02991), 'mfcc7': np.float32(-26.816957), 'mfcc8': np.float32(-18.449457), 'mfcc9': np.float32(-12.302553), 'mfcc10': np.float32(-10.588524), 'mfcc11': np.float32(-13.018903), 'mfcc12': np.float32(-3.4688993), 'mfcc13': np.float32(-13.434989), 'mfcc14': np.float32(-5.748342), 'mfcc15': np.float32(-10.796534), 'mfcc16': np.float32(-5.5372276), 'mfcc17': np.float32(-6.9257812), 'mfcc18': np.float32(-3.271823), 'mfcc19': np.float32(-1.9581054), 'mfcc20': np.float32(0.39123252), 'filename': '2Bx5e9vwLGk_ 60.000_ 70.000.wav', 'label': 'not_covid'}\n"
     ]
    },
    {
     "name": "stderr",
     "output_type": "stream",
     "text": [
      " 46%|████▋     | 79/170 [00:02<00:02, 37.20it/s]"
     ]
    },
    {
     "name": "stdout",
     "output_type": "stream",
     "text": [
      "feature_row type: <class 'dict'>\n",
      "feature_row={'chroma_stft': np.float32(0.29897058), 'rmse': np.float32(0.020398201), 'spectral_centroid': np.float64(1854.658799897296), 'spectral_bandwidth': np.float64(2354.372046222777), 'rolloff': np.float64(4243.636067708333), 'zero_crossing_rate': np.float64(0.06818757233796297), 'mfcc1': np.float32(-468.12488), 'mfcc2': np.float32(97.58109), 'mfcc3': np.float32(26.81769), 'mfcc4': np.float32(16.917982), 'mfcc5': np.float32(-0.93261635), 'mfcc6': np.float32(10.960842), 'mfcc7': np.float32(0.10102548), 'mfcc8': np.float32(1.1747347), 'mfcc9': np.float32(4.662215), 'mfcc10': np.float32(-4.75893), 'mfcc11': np.float32(-6.1680355), 'mfcc12': np.float32(0.42751136), 'mfcc13': np.float32(2.4147322), 'mfcc14': np.float32(5.7586803), 'mfcc15': np.float32(5.680289), 'mfcc16': np.float32(2.3748605), 'mfcc17': np.float32(3.5004776), 'mfcc18': np.float32(0.45105994), 'mfcc19': np.float32(-2.432138), 'mfcc20': np.float32(-4.1556215), 'filename': '2EFjQPMmAS8_ 0.000_ 10.000.wav', 'label': 'not_covid'}\n",
      "feature_row type: <class 'dict'>\n",
      "feature_row={'chroma_stft': np.float32(0.37993792), 'rmse': np.float32(0.090939894), 'spectral_centroid': np.float64(2421.1092042960813), 'spectral_bandwidth': np.float64(1998.1016693014035), 'rolloff': np.float64(4475.417073567708), 'zero_crossing_rate': np.float64(0.15334065755208334), 'mfcc1': np.float32(-177.62457), 'mfcc2': np.float32(77.23497), 'mfcc3': np.float32(-63.789165), 'mfcc4': np.float32(2.821692), 'mfcc5': np.float32(-31.175663), 'mfcc6': np.float32(5.626187), 'mfcc7': np.float32(-16.180315), 'mfcc8': np.float32(-4.2493587), 'mfcc9': np.float32(-8.807546), 'mfcc10': np.float32(4.5822644), 'mfcc11': np.float32(-11.615108), 'mfcc12': np.float32(-4.122291), 'mfcc13': np.float32(-10.52927), 'mfcc14': np.float32(6.5322094), 'mfcc15': np.float32(-13.0850935), 'mfcc16': np.float32(-0.013215524), 'mfcc17': np.float32(-6.971246), 'mfcc18': np.float32(5.492208), 'mfcc19': np.float32(-6.098962), 'mfcc20': np.float32(5.1319895), 'filename': '2Ev7_PQ7IIs_ 10.000_ 20.000.wav', 'label': 'not_covid'}\n",
      "feature_row type: <class 'dict'>\n",
      "feature_row={'chroma_stft': np.float32(0.3880254), 'rmse': np.float32(0.08361445), 'spectral_centroid': np.float64(2752.441129852858), 'spectral_bandwidth': np.float64(2596.353722271928), 'rolloff': np.float64(5655.7057698567705), 'zero_crossing_rate': np.float64(0.1450263129340278), 'mfcc1': np.float32(-191.26834), 'mfcc2': np.float32(71.31782), 'mfcc3': np.float32(-24.339315), 'mfcc4': np.float32(-2.24211), 'mfcc5': np.float32(-11.412065), 'mfcc6': np.float32(-3.6501544), 'mfcc7': np.float32(-19.002806), 'mfcc8': np.float32(-13.011577), 'mfcc9': np.float32(-7.39877), 'mfcc10': np.float32(0.021400876), 'mfcc11': np.float32(-9.293158), 'mfcc12': np.float32(-4.2615724), 'mfcc13': np.float32(-4.9107585), 'mfcc14': np.float32(-2.1293712), 'mfcc15': np.float32(-8.249015), 'mfcc16': np.float32(-2.3486624), 'mfcc17': np.float32(-2.090441), 'mfcc18': np.float32(1.2173777), 'mfcc19': np.float32(-3.2090805), 'mfcc20': np.float32(-1.6596051), 'filename': '2Ez4R0a1icc_ 40.000_ 50.000.wav', 'label': 'not_covid'}\n",
      "feature_row type: <class 'dict'>\n",
      "feature_row={'chroma_stft': np.float32(0.3324087), 'rmse': np.float32(0.0550426), 'spectral_centroid': np.float64(2173.256697737427), 'spectral_bandwidth': np.float64(1727.6015359682085), 'rolloff': np.float64(4085.8256022135415), 'zero_crossing_rate': np.float64(0.15013744212962962), 'mfcc1': np.float32(-246.73688), 'mfcc2': np.float32(113.05922), 'mfcc3': np.float32(-46.958546), 'mfcc4': np.float32(68.34849), 'mfcc5': np.float32(-36.672092), 'mfcc6': np.float32(6.7417974), 'mfcc7': np.float32(-13.521539), 'mfcc8': np.float32(-26.44123), 'mfcc9': np.float32(-8.497462), 'mfcc10': np.float32(-5.6039453), 'mfcc11': np.float32(-11.516028), 'mfcc12': np.float32(-6.018148), 'mfcc13': np.float32(-12.83181), 'mfcc14': np.float32(-7.1353054), 'mfcc15': np.float32(-6.889233), 'mfcc16': np.float32(-6.3125567), 'mfcc17': np.float32(1.4718124), 'mfcc18': np.float32(-3.3241656), 'mfcc19': np.float32(-2.3977387), 'mfcc20': np.float32(-7.9279175), 'filename': '2hbytlgqDx4_ 140.000_ 150.000.wav', 'label': 'not_covid'}\n",
      "feature_row type: <class 'dict'>\n",
      "feature_row={'chroma_stft': np.float32(0.33450824), 'rmse': np.float32(0.08100274), 'spectral_centroid': np.float64(2790.8635665267357), 'spectral_bandwidth': np.float64(2354.5972428489813), 'rolloff': np.float64(5333.953857421875), 'zero_crossing_rate': np.float64(0.1585761176215278), 'mfcc1': np.float32(-167.37502), 'mfcc2': np.float32(58.951008), 'mfcc3': np.float32(-46.93389), 'mfcc4': np.float32(-5.170528), 'mfcc5': np.float32(-41.844734), 'mfcc6': np.float32(-28.655758), 'mfcc7': np.float32(-22.523539), 'mfcc8': np.float32(-21.341385), 'mfcc9': np.float32(-20.543447), 'mfcc10': np.float32(1.7472962), 'mfcc11': np.float32(-24.081535), 'mfcc12': np.float32(-6.5581303), 'mfcc13': np.float32(-19.44907), 'mfcc14': np.float32(-2.574304), 'mfcc15': np.float32(-5.9640017), 'mfcc16': np.float32(-4.515179), 'mfcc17': np.float32(3.3892853), 'mfcc18': np.float32(4.9977145), 'mfcc19': np.float32(-7.8157325), 'mfcc20': np.float32(-3.2231724), 'filename': '2Hp1AvKRiOA_ 10.000_ 20.000.wav', 'label': 'not_covid'}\n",
      "feature_row type: <class 'dict'>\n",
      "feature_row={'chroma_stft': np.float32(0.477528), 'rmse': np.float32(0.15138008), 'spectral_centroid': np.float64(1177.1592898210247), 'spectral_bandwidth': np.float64(1083.203152420637), 'rolloff': np.float64(2302.4576822916665), 'zero_crossing_rate': np.float64(0.07524278428819445), 'mfcc1': np.float32(-228.54323), 'mfcc2': np.float32(143.17055), 'mfcc3': np.float32(-33.95633), 'mfcc4': np.float32(11.21646), 'mfcc5': np.float32(11.442235), 'mfcc6': np.float32(-17.636559), 'mfcc7': np.float32(-4.520245), 'mfcc8': np.float32(-21.706833), 'mfcc9': np.float32(-29.804853), 'mfcc10': np.float32(2.504172), 'mfcc11': np.float32(-4.0828714), 'mfcc12': np.float32(-12.735549), 'mfcc13': np.float32(-1.650424), 'mfcc14': np.float32(-0.6338667), 'mfcc15': np.float32(-1.0811557), 'mfcc16': np.float32(-1.5522561), 'mfcc17': np.float32(-6.677665), 'mfcc18': np.float32(-3.6267264), 'mfcc19': np.float32(-4.417686), 'mfcc20': np.float32(-6.731433), 'filename': '2I2IzXnhmtc_ 120.000_ 130.000.wav', 'label': 'not_covid'}\n",
      "feature_row type: <class 'dict'>\n",
      "feature_row={'chroma_stft': np.float32(0.54400796), 'rmse': np.float32(0.011025168), 'spectral_centroid': np.float64(2996.455209012447), 'spectral_bandwidth': np.float64(2686.6193354267075), 'rolloff': np.float64(6132.0281982421875), 'zero_crossing_rate': np.float64(0.1811839916087963), 'mfcc1': np.float32(-342.0531), 'mfcc2': np.float32(72.81359), 'mfcc3': np.float32(-13.485323), 'mfcc4': np.float32(7.831321), 'mfcc5': np.float32(-12.214817), 'mfcc6': np.float32(-0.324249), 'mfcc7': np.float32(-7.999609), 'mfcc8': np.float32(2.737833), 'mfcc9': np.float32(-3.5269823), 'mfcc10': np.float32(0.12927988), 'mfcc11': np.float32(-0.08579904), 'mfcc12': np.float32(1.4042647), 'mfcc13': np.float32(-1.0727656), 'mfcc14': np.float32(2.3998363), 'mfcc15': np.float32(-1.2704111), 'mfcc16': np.float32(-1.0644472), 'mfcc17': np.float32(-5.106885), 'mfcc18': np.float32(-1.2001157), 'mfcc19': np.float32(-5.2806325), 'mfcc20': np.float32(1.5806133), 'filename': '2R3J8pH6E6s_ 20.000_ 30.000.wav', 'label': 'not_covid'}\n",
      "feature_row type: <class 'dict'>\n",
      "feature_row={'chroma_stft': np.float32(0.45444083), 'rmse': np.float32(0.03284231), 'spectral_centroid': np.float64(3088.423931634027), 'spectral_bandwidth': np.float64(3098.960161197397), 'rolloff': np.float64(7191.2424723307295), 'zero_crossing_rate': np.float64(0.1550360785590278), 'mfcc1': np.float32(-286.77432), 'mfcc2': np.float32(78.45757), 'mfcc3': np.float32(28.38659), 'mfcc4': np.float32(-14.226269), 'mfcc5': np.float32(-9.55777), 'mfcc6': np.float32(7.9858804), 'mfcc7': np.float32(7.2736907), 'mfcc8': np.float32(-8.103652), 'mfcc9': np.float32(4.8704033), 'mfcc10': np.float32(19.298637), 'mfcc11': np.float32(-13.181172), 'mfcc12': np.float32(-1.2470658), 'mfcc13': np.float32(9.113008), 'mfcc14': np.float32(-3.0010405), 'mfcc15': np.float32(0.79290247), 'mfcc16': np.float32(3.5205584), 'mfcc17': np.float32(-0.7299014), 'mfcc18': np.float32(-1.0808077), 'mfcc19': np.float32(-8.970539), 'mfcc20': np.float32(7.9354835), 'filename': '2sMLoW22TeU_ 0.000_ 10.000.wav', 'label': 'not_covid'}\n"
     ]
    },
    {
     "name": "stderr",
     "output_type": "stream",
     "text": [
      " 51%|█████     | 87/170 [00:02<00:02, 37.67it/s]"
     ]
    },
    {
     "name": "stdout",
     "output_type": "stream",
     "text": [
      "feature_row type: <class 'dict'>\n",
      "feature_row={'chroma_stft': np.float32(0.30930322), 'rmse': np.float32(0.09303064), 'spectral_centroid': np.float64(1422.462420020673), 'spectral_bandwidth': np.float64(986.111548514627), 'rolloff': np.float64(2666.5283203125), 'zero_crossing_rate': np.float64(0.10242151331018519), 'mfcc1': np.float32(-230.64334), 'mfcc2': np.float32(174.98701), 'mfcc3': np.float32(-84.235825), 'mfcc4': np.float32(6.8563414), 'mfcc5': np.float32(5.5173883), 'mfcc6': np.float32(-31.505547), 'mfcc7': np.float32(26.30264), 'mfcc8': np.float32(-1.4951766), 'mfcc9': np.float32(-21.330767), 'mfcc10': np.float32(12.691127), 'mfcc11': np.float32(-2.2525277), 'mfcc12': np.float32(-3.2670095), 'mfcc13': np.float32(4.5118356), 'mfcc14': np.float32(-9.895765), 'mfcc15': np.float32(-2.957173), 'mfcc16': np.float32(-7.439123), 'mfcc17': np.float32(-11.530493), 'mfcc18': np.float32(9.027264), 'mfcc19': np.float32(7.104915), 'mfcc20': np.float32(2.7152984), 'filename': '2TBWSnIjJMk_ 180.000_ 190.000.wav', 'label': 'not_covid'}\n",
      "feature_row type: <class 'dict'>\n",
      "feature_row={'chroma_stft': np.float32(0.38304907), 'rmse': np.float32(0.05198553), 'spectral_centroid': np.float64(2221.717301060511), 'spectral_bandwidth': np.float64(1597.8412918579043), 'rolloff': np.float64(4180.8807373046875), 'zero_crossing_rate': np.float64(0.1618064597800926), 'mfcc1': np.float32(-243.11165), 'mfcc2': np.float32(132.58119), 'mfcc3': np.float32(-78.31796), 'mfcc4': np.float32(76.72293), 'mfcc5': np.float32(-26.23108), 'mfcc6': np.float32(11.35851), 'mfcc7': np.float32(19.461967), 'mfcc8': np.float32(-15.003627), 'mfcc9': np.float32(24.282331), 'mfcc10': np.float32(-23.302896), 'mfcc11': np.float32(2.870038), 'mfcc12': np.float32(-1.6758989), 'mfcc13': np.float32(-17.55995), 'mfcc14': np.float32(11.555347), 'mfcc15': np.float32(-14.097087), 'mfcc16': np.float32(6.5585384), 'mfcc17': np.float32(1.4476935), 'mfcc18': np.float32(-9.2020645), 'mfcc19': np.float32(7.242226), 'mfcc20': np.float32(-10.231581), 'filename': '2xURixj6I5k_ 20.000_ 30.000.wav', 'label': 'not_covid'}\n",
      "feature_row type: <class 'dict'>\n",
      "feature_row={'chroma_stft': np.float32(0.35815772), 'rmse': np.float32(0.16209285), 'spectral_centroid': np.float64(1587.5299908680952), 'spectral_bandwidth': np.float64(1106.3101810627634), 'rolloff': np.float64(2676.5032599954043), 'zero_crossing_rate': np.float64(0.11409744561887254), 'mfcc1': np.float32(-167.95927), 'mfcc2': np.float32(123.34059), 'mfcc3': np.float32(-81.642136), 'mfcc4': np.float32(2.0195165), 'mfcc5': np.float32(-4.5816517), 'mfcc6': np.float32(-7.2712197), 'mfcc7': np.float32(-1.3132247), 'mfcc8': np.float32(-17.072708), 'mfcc9': np.float32(0.43136418), 'mfcc10': np.float32(0.44842425), 'mfcc11': np.float32(1.7518301), 'mfcc12': np.float32(-0.5113713), 'mfcc13': np.float32(-0.2678173), 'mfcc14': np.float32(5.9402986), 'mfcc15': np.float32(-3.1691823), 'mfcc16': np.float32(4.389934), 'mfcc17': np.float32(3.813465), 'mfcc18': np.float32(0.90554583), 'mfcc19': np.float32(4.8775415), 'mfcc20': np.float32(2.2281685), 'filename': '2YF-ValJNas_ 0.000_ 5.000.wav', 'label': 'not_covid'}\n",
      "feature_row type: <class 'dict'>\n",
      "feature_row={'chroma_stft': np.float32(0.155621), 'rmse': np.float32(0.21983837), 'spectral_centroid': np.float64(1119.8869038173405), 'spectral_bandwidth': np.float64(1347.0047930873445), 'rolloff': np.float64(1394.2250569661458), 'zero_crossing_rate': np.float64(0.06221742983217592), 'mfcc1': np.float32(-316.90857), 'mfcc2': np.float32(95.57059), 'mfcc3': np.float32(-6.3262486), 'mfcc4': np.float32(-25.66937), 'mfcc5': np.float32(-21.94255), 'mfcc6': np.float32(-8.466969), 'mfcc7': np.float32(-10.638557), 'mfcc8': np.float32(-10.970117), 'mfcc9': np.float32(-7.546351), 'mfcc10': np.float32(1.080203), 'mfcc11': np.float32(6.503259), 'mfcc12': np.float32(4.421272), 'mfcc13': np.float32(-1.4594939), 'mfcc14': np.float32(-5.714145), 'mfcc15': np.float32(-10.391442), 'mfcc16': np.float32(-9.393058), 'mfcc17': np.float32(-6.9037557), 'mfcc18': np.float32(-3.2129164), 'mfcc19': np.float32(2.3537161), 'mfcc20': np.float32(6.081754), 'filename': '2ZfwEg4JaiU_ 0.000_ 10.000.wav', 'label': 'not_covid'}\n",
      "feature_row type: <class 'dict'>\n",
      "feature_row={'chroma_stft': np.float32(0.53806853), 'rmse': np.float32(0.054283064), 'spectral_centroid': np.float64(1890.9478316912455), 'spectral_bandwidth': np.float64(2203.379116593682), 'rolloff': np.float64(4007.3689778645835), 'zero_crossing_rate': np.float64(0.0787624782986111), 'mfcc1': np.float32(-301.37662), 'mfcc2': np.float32(73.607086), 'mfcc3': np.float32(15.62611), 'mfcc4': np.float32(30.286617), 'mfcc5': np.float32(13.255086), 'mfcc6': np.float32(20.332624), 'mfcc7': np.float32(11.7391405), 'mfcc8': np.float32(8.555934), 'mfcc9': np.float32(1.3174074), 'mfcc10': np.float32(9.269955), 'mfcc11': np.float32(12.989872), 'mfcc12': np.float32(8.381005), 'mfcc13': np.float32(3.3670247), 'mfcc14': np.float32(7.978332), 'mfcc15': np.float32(2.8769023), 'mfcc16': np.float32(8.189134), 'mfcc17': np.float32(7.8749523), 'mfcc18': np.float32(5.227478), 'mfcc19': np.float32(2.895868), 'mfcc20': np.float32(-0.22437869), 'filename': '3aFProJmJzY_ 0.000_ 10.000.wav', 'label': 'not_covid'}\n",
      "feature_row type: <class 'dict'>\n",
      "feature_row={'chroma_stft': np.float32(0.41619888), 'rmse': np.float32(0.06830471), 'spectral_centroid': np.float64(3039.845848861359), 'spectral_bandwidth': np.float64(2367.428575793313), 'rolloff': np.float64(5635.1694742838545), 'zero_crossing_rate': np.float64(0.20261637369791666), 'mfcc1': np.float32(-191.97435), 'mfcc2': np.float32(54.79184), 'mfcc3': np.float32(-25.78857), 'mfcc4': np.float32(18.522408), 'mfcc5': np.float32(-19.212492), 'mfcc6': np.float32(-0.46756235), 'mfcc7': np.float32(-31.526802), 'mfcc8': np.float32(-10.544483), 'mfcc9': np.float32(-12.752123), 'mfcc10': np.float32(7.6022677), 'mfcc11': np.float32(-4.174085), 'mfcc12': np.float32(3.5228145), 'mfcc13': np.float32(-0.95108837), 'mfcc14': np.float32(1.3321397), 'mfcc15': np.float32(-0.5818395), 'mfcc16': np.float32(-0.23594397), 'mfcc17': np.float32(-9.43954), 'mfcc18': np.float32(-0.7498046), 'mfcc19': np.float32(-3.190669), 'mfcc20': np.float32(-2.7806652), 'filename': '3bas_0f3RG0_ 50.000_ 60.000.wav', 'label': 'not_covid'}\n",
      "feature_row type: <class 'dict'>\n",
      "feature_row={'chroma_stft': np.float32(0.43061236), 'rmse': np.float32(0.14331347), 'spectral_centroid': np.float64(2640.5649542440547), 'spectral_bandwidth': np.float64(2520.6643587977396), 'rolloff': np.float64(5284.1583251953125), 'zero_crossing_rate': np.float64(0.15239122178819445), 'mfcc1': np.float32(-205.75755), 'mfcc2': np.float32(76.601135), 'mfcc3': np.float32(-20.433332), 'mfcc4': np.float32(-19.014566), 'mfcc5': np.float32(-15.777632), 'mfcc6': np.float32(-5.303349), 'mfcc7': np.float32(-7.7136526), 'mfcc8': np.float32(-5.9713783), 'mfcc9': np.float32(-12.3926935), 'mfcc10': np.float32(-7.9458323), 'mfcc11': np.float32(-11.055662), 'mfcc12': np.float32(-3.7439394), 'mfcc13': np.float32(-4.7804847), 'mfcc14': np.float32(-1.1861442), 'mfcc15': np.float32(-6.668807), 'mfcc16': np.float32(-3.0310314), 'mfcc17': np.float32(-3.808774), 'mfcc18': np.float32(-2.2589812), 'mfcc19': np.float32(-2.1242495), 'mfcc20': np.float32(-1.1406437), 'filename': '3dndmOMZlP8_ 100.000_ 110.000.wav', 'label': 'not_covid'}\n",
      "feature_row type: <class 'dict'>\n",
      "feature_row={'chroma_stft': np.float32(0.34547374), 'rmse': np.float32(0.16469033), 'spectral_centroid': np.float64(2865.377567577005), 'spectral_bandwidth': np.float64(2119.1894434219294), 'rolloff': np.float64(5144.4915771484375), 'zero_crossing_rate': np.float64(0.1829811378761574), 'mfcc1': np.float32(-158.66847), 'mfcc2': np.float32(54.371708), 'mfcc3': np.float32(-51.00118), 'mfcc4': np.float32(17.844603), 'mfcc5': np.float32(-50.834274), 'mfcc6': np.float32(5.9088955), 'mfcc7': np.float32(-21.207497), 'mfcc8': np.float32(-14.2819395), 'mfcc9': np.float32(5.28075), 'mfcc10': np.float32(-4.3432827), 'mfcc11': np.float32(-1.319822), 'mfcc12': np.float32(-14.010322), 'mfcc13': np.float32(-9.960872), 'mfcc14': np.float32(-4.660145), 'mfcc15': np.float32(-5.2755065), 'mfcc16': np.float32(-1.5863961), 'mfcc17': np.float32(-4.2156806), 'mfcc18': np.float32(-3.1983852), 'mfcc19': np.float32(-7.358306), 'mfcc20': np.float32(-1.5083154), 'filename': '3Enq7k2IpvQ_ 20.000_ 30.000.wav', 'label': 'not_covid'}\n"
     ]
    },
    {
     "name": "stderr",
     "output_type": "stream",
     "text": [
      " 56%|█████▌    | 95/170 [00:03<00:01, 37.73it/s]"
     ]
    },
    {
     "name": "stdout",
     "output_type": "stream",
     "text": [
      "feature_row type: <class 'dict'>\n",
      "feature_row={'chroma_stft': np.float32(0.3407824), 'rmse': np.float32(0.019398153), 'spectral_centroid': np.float64(2404.431631742275), 'spectral_bandwidth': np.float64(2385.8713551923292), 'rolloff': np.float64(4886.940511067708), 'zero_crossing_rate': np.float64(0.11210801866319445), 'mfcc1': np.float32(-357.23288), 'mfcc2': np.float32(85.33698), 'mfcc3': np.float32(-22.695095), 'mfcc4': np.float32(11.119347), 'mfcc5': np.float32(-9.124923), 'mfcc6': np.float32(-23.346535), 'mfcc7': np.float32(-17.955748), 'mfcc8': np.float32(-6.8193474), 'mfcc9': np.float32(-20.636423), 'mfcc10': np.float32(-4.217495), 'mfcc11': np.float32(-15.610085), 'mfcc12': np.float32(-7.1912994), 'mfcc13': np.float32(-12.213768), 'mfcc14': np.float32(-4.421536), 'mfcc15': np.float32(-10.102837), 'mfcc16': np.float32(-6.210073), 'mfcc17': np.float32(-9.865203), 'mfcc18': np.float32(-5.6879673), 'mfcc19': np.float32(-9.7726755), 'mfcc20': np.float32(-5.854809), 'filename': '3fz-0wek44c_ 0.000_ 10.000.wav', 'label': 'not_covid'}\n",
      "feature_row type: <class 'dict'>\n",
      "feature_row={'chroma_stft': np.float32(0.43053097), 'rmse': np.float32(0.065330476), 'spectral_centroid': np.float64(4189.880698797141), 'spectral_bandwidth': np.float64(2911.8730209382466), 'rolloff': np.float64(7672.3500569661455), 'zero_crossing_rate': np.float64(0.2954395435474537), 'mfcc1': np.float32(-205.964), 'mfcc2': np.float32(24.329948), 'mfcc3': np.float32(-8.410903), 'mfcc4': np.float32(4.2651863), 'mfcc5': np.float32(-5.245669), 'mfcc6': np.float32(-3.7299776), 'mfcc7': np.float32(-30.28931), 'mfcc8': np.float32(-17.875584), 'mfcc9': np.float32(-13.613511), 'mfcc10': np.float32(9.2743845), 'mfcc11': np.float32(-12.999146), 'mfcc12': np.float32(-10.15388), 'mfcc13': np.float32(-3.673068), 'mfcc14': np.float32(1.6459231), 'mfcc15': np.float32(-7.5471597), 'mfcc16': np.float32(-5.5024304), 'mfcc17': np.float32(-8.148454), 'mfcc18': np.float32(-1.2485281), 'mfcc19': np.float32(-5.2463055), 'mfcc20': np.float32(-5.111432), 'filename': '3gFShyvw8iU_ 70.000_ 80.000.wav', 'label': 'not_covid'}\n",
      "feature_row type: <class 'dict'>\n",
      "feature_row={'chroma_stft': np.float32(0.45475268), 'rmse': np.float32(0.060419776), 'spectral_centroid': np.float64(2716.0711723547033), 'spectral_bandwidth': np.float64(2530.4392114162724), 'rolloff': np.float64(5430.255126953125), 'zero_crossing_rate': np.float64(0.1585105613425926), 'mfcc1': np.float32(-343.71597), 'mfcc2': np.float32(52.392235), 'mfcc3': np.float32(-10.933131), 'mfcc4': np.float32(-1.986344), 'mfcc5': np.float32(-6.074941), 'mfcc6': np.float32(-7.059), 'mfcc7': np.float32(-2.8109531), 'mfcc8': np.float32(-16.900644), 'mfcc9': np.float32(-13.186072), 'mfcc10': np.float32(-5.0031734), 'mfcc11': np.float32(-12.023747), 'mfcc12': np.float32(-6.0235953), 'mfcc13': np.float32(-10.48388), 'mfcc14': np.float32(-2.1115115), 'mfcc15': np.float32(-4.4928994), 'mfcc16': np.float32(-7.9550805), 'mfcc17': np.float32(-6.500698), 'mfcc18': np.float32(-4.751128), 'mfcc19': np.float32(-4.8986845), 'mfcc20': np.float32(-2.8890054), 'filename': '3id3zRRZBVM_ 50.000_ 60.000.wav', 'label': 'not_covid'}\n",
      "feature_row type: <class 'dict'>\n",
      "feature_row={'chroma_stft': np.float32(0.37368038), 'rmse': np.float32(0.090674914), 'spectral_centroid': np.float64(2808.6325482899697), 'spectral_bandwidth': np.float64(2683.383096808824), 'rolloff': np.float64(6097.585042317708), 'zero_crossing_rate': np.float64(0.13274242259837962), 'mfcc1': np.float32(-145.53973), 'mfcc2': np.float32(74.4067), 'mfcc3': np.float32(-5.4971404), 'mfcc4': np.float32(9.957734), 'mfcc5': np.float32(-17.710978), 'mfcc6': np.float32(5.5916657), 'mfcc7': np.float32(-8.567296), 'mfcc8': np.float32(8.308395), 'mfcc9': np.float32(-9.749456), 'mfcc10': np.float32(-0.1312437), 'mfcc11': np.float32(-6.7744455), 'mfcc12': np.float32(1.6508276), 'mfcc13': np.float32(-8.426177), 'mfcc14': np.float32(2.3012624), 'mfcc15': np.float32(-8.255487), 'mfcc16': np.float32(-0.7762057), 'mfcc17': np.float32(-8.112306), 'mfcc18': np.float32(-3.5541685), 'mfcc19': np.float32(-8.566489), 'mfcc20': np.float32(0.6924738), 'filename': '3Liy9uBgsQM_ 60.000_ 70.000.wav', 'label': 'not_covid'}\n",
      "feature_row type: <class 'dict'>\n",
      "feature_row={'chroma_stft': np.float32(0.5197434), 'rmse': np.float32(0.013095283), 'spectral_centroid': np.float64(3269.2443390308686), 'spectral_bandwidth': np.float64(2580.703046325662), 'rolloff': np.float64(6024.1628011067705), 'zero_crossing_rate': np.float64(0.2284568504050926), 'mfcc1': np.float32(-468.69202), 'mfcc2': np.float32(58.74244), 'mfcc3': np.float32(-20.299307), 'mfcc4': np.float32(-1.8960538), 'mfcc5': np.float32(-9.254086), 'mfcc6': np.float32(-5.8531413), 'mfcc7': np.float32(-17.073618), 'mfcc8': np.float32(-19.649935), 'mfcc9': np.float32(-11.036299), 'mfcc10': np.float32(-2.5399454), 'mfcc11': np.float32(-13.4184885), 'mfcc12': np.float32(-14.7559805), 'mfcc13': np.float32(-7.9886937), 'mfcc14': np.float32(-9.813087), 'mfcc15': np.float32(-16.10417), 'mfcc16': np.float32(-9.81444), 'mfcc17': np.float32(-7.999035), 'mfcc18': np.float32(-2.603227), 'mfcc19': np.float32(-5.178617), 'mfcc20': np.float32(0.62584966), 'filename': '3nOZJicBKkU_ 90.000_ 100.000.wav', 'label': 'not_covid'}\n",
      "feature_row type: <class 'dict'>\n",
      "feature_row={'chroma_stft': np.float32(0.2279715), 'rmse': np.float32(0.029127194), 'spectral_centroid': np.float64(1003.8277923595314), 'spectral_bandwidth': np.float64(902.075245917266), 'rolloff': np.float64(1913.5640462239583), 'zero_crossing_rate': np.float64(0.03929307725694445), 'mfcc1': np.float32(-501.76236), 'mfcc2': np.float32(27.50365), 'mfcc3': np.float32(-16.35323), 'mfcc4': np.float32(3.5843146), 'mfcc5': np.float32(-0.02697316), 'mfcc6': np.float32(3.5482326), 'mfcc7': np.float32(-3.5970738), 'mfcc8': np.float32(-2.4522052), 'mfcc9': np.float32(0.90073484), 'mfcc10': np.float32(-2.863843), 'mfcc11': np.float32(-0.6260712), 'mfcc12': np.float32(-3.7066267), 'mfcc13': np.float32(0.97581637), 'mfcc14': np.float32(-0.33166203), 'mfcc15': np.float32(-2.0048609), 'mfcc16': np.float32(0.42774102), 'mfcc17': np.float32(-1.5994402), 'mfcc18': np.float32(0.5875909), 'mfcc19': np.float32(-0.8843602), 'mfcc20': np.float32(0.58902854), 'filename': '3vYB7hZxQgA_ 10.000_ 20.000.wav', 'label': 'not_covid'}\n",
      "feature_row type: <class 'dict'>\n",
      "feature_row={'chroma_stft': np.float32(0.5135176), 'rmse': np.float32(0.0027523676), 'spectral_centroid': np.float64(2479.977121650072), 'spectral_bandwidth': np.float64(2467.119030253167), 'rolloff': np.float64(5101.973470052083), 'zero_crossing_rate': np.float64(0.1348334418402778), 'mfcc1': np.float32(-458.99585), 'mfcc2': np.float32(87.15117), 'mfcc3': np.float32(-22.217491), 'mfcc4': np.float32(3.9255462), 'mfcc5': np.float32(-10.615917), 'mfcc6': np.float32(-2.6626287), 'mfcc7': np.float32(-9.651794), 'mfcc8': np.float32(-8.014304), 'mfcc9': np.float32(-8.419999), 'mfcc10': np.float32(-3.3126893), 'mfcc11': np.float32(-13.526354), 'mfcc12': np.float32(-4.2615523), 'mfcc13': np.float32(-10.431858), 'mfcc14': np.float32(-4.6313667), 'mfcc15': np.float32(-9.765511), 'mfcc16': np.float32(-6.521284), 'mfcc17': np.float32(-8.014498), 'mfcc18': np.float32(-4.260356), 'mfcc19': np.float32(-9.603701), 'mfcc20': np.float32(-4.635821), 'filename': '4_0uUL2HPe0_ 0.000_ 10.000.wav', 'label': 'not_covid'}\n",
      "feature_row type: <class 'dict'>\n",
      "feature_row={'chroma_stft': np.float32(0.25994924), 'rmse': np.float32(0.14414816), 'spectral_centroid': np.float64(1938.7807050297415), 'spectral_bandwidth': np.float64(1896.8880299983953), 'rolloff': np.float64(3570.32470703125), 'zero_crossing_rate': np.float64(0.09900580512152778), 'mfcc1': np.float32(-229.59578), 'mfcc2': np.float32(70.43281), 'mfcc3': np.float32(16.743286), 'mfcc4': np.float32(14.051873), 'mfcc5': np.float32(2.3461275), 'mfcc6': np.float32(-5.368845), 'mfcc7': np.float32(-4.9308453), 'mfcc8': np.float32(-2.1181273), 'mfcc9': np.float32(1.4832953), 'mfcc10': np.float32(-0.5595672), 'mfcc11': np.float32(-1.4372604), 'mfcc12': np.float32(1.2758882), 'mfcc13': np.float32(-7.1516933), 'mfcc14': np.float32(2.4887216), 'mfcc15': np.float32(-4.23262), 'mfcc16': np.float32(-3.3682842), 'mfcc17': np.float32(-5.894278), 'mfcc18': np.float32(-1.7274591), 'mfcc19': np.float32(-2.2733843), 'mfcc20': np.float32(-2.0092752), 'filename': '4eb2LU3X_zs_ 0.000_ 10.000.wav', 'label': 'not_covid'}\n"
     ]
    },
    {
     "name": "stderr",
     "output_type": "stream",
     "text": [
      " 61%|██████    | 103/170 [00:03<00:01, 37.59it/s]"
     ]
    },
    {
     "name": "stdout",
     "output_type": "stream",
     "text": [
      "feature_row type: <class 'dict'>\n",
      "feature_row={'chroma_stft': np.float32(0.35912743), 'rmse': np.float32(0.006452636), 'spectral_centroid': np.float64(2018.2792127084658), 'spectral_bandwidth': np.float64(1844.149553529696), 'rolloff': np.float64(3534.984334309896), 'zero_crossing_rate': np.float64(0.11928077980324074), 'mfcc1': np.float32(-452.46478), 'mfcc2': np.float32(98.283485), 'mfcc3': np.float32(-57.772568), 'mfcc4': np.float32(-7.4351673), 'mfcc5': np.float32(-17.406158), 'mfcc6': np.float32(-6.061365), 'mfcc7': np.float32(-4.936422), 'mfcc8': np.float32(1.86303), 'mfcc9': np.float32(-2.7727747), 'mfcc10': np.float32(-6.795831), 'mfcc11': np.float32(1.1317118), 'mfcc12': np.float32(2.163713), 'mfcc13': np.float32(2.4605272), 'mfcc14': np.float32(-1.0547954), 'mfcc15': np.float32(-7.0865498), 'mfcc16': np.float32(5.5989327), 'mfcc17': np.float32(3.6494281), 'mfcc18': np.float32(2.412912), 'mfcc19': np.float32(0.5859105), 'mfcc20': np.float32(-0.37692133), 'filename': '4EiskLYtkO4_ 0.000_ 10.000.wav', 'label': 'not_covid'}\n",
      "feature_row type: <class 'dict'>\n",
      "feature_row={'chroma_stft': np.float32(0.32436135), 'rmse': np.float32(0.063646846), 'spectral_centroid': np.float64(2800.37344754694), 'spectral_bandwidth': np.float64(2471.977250336215), 'rolloff': np.float64(5653.163655598958), 'zero_crossing_rate': np.float64(0.1512790256076389), 'mfcc1': np.float32(-194.71227), 'mfcc2': np.float32(61.787876), 'mfcc3': np.float32(-21.782639), 'mfcc4': np.float32(14.646528), 'mfcc5': np.float32(-6.9482965), 'mfcc6': np.float32(-5.308996), 'mfcc7': np.float32(-32.806297), 'mfcc8': np.float32(4.035564), 'mfcc9': np.float32(-2.4228995), 'mfcc10': np.float32(0.127586), 'mfcc11': np.float32(-6.7712617), 'mfcc12': np.float32(1.3856437), 'mfcc13': np.float32(-8.77589), 'mfcc14': np.float32(-6.2450542), 'mfcc15': np.float32(-1.1939338), 'mfcc16': np.float32(0.12806462), 'mfcc17': np.float32(-1.7588586), 'mfcc18': np.float32(-0.8272881), 'mfcc19': np.float32(-4.638485), 'mfcc20': np.float32(-2.3083806), 'filename': '4jQ8ffBxWkk_ 70.000_ 80.000.wav', 'label': 'not_covid'}\n",
      "feature_row type: <class 'dict'>\n",
      "feature_row={'chroma_stft': np.float32(0.43653503), 'rmse': np.float32(0.039449796), 'spectral_centroid': np.float64(2663.36056368548), 'spectral_bandwidth': np.float64(2718.582114562964), 'rolloff': np.float64(6161.6363525390625), 'zero_crossing_rate': np.float64(0.13514765986689814), 'mfcc1': np.float32(-235.75615), 'mfcc2': np.float32(71.187775), 'mfcc3': np.float32(-17.36091), 'mfcc4': np.float32(17.706196), 'mfcc5': np.float32(13.679897), 'mfcc6': np.float32(7.6339936), 'mfcc7': np.float32(3.7221222), 'mfcc8': np.float32(15.105826), 'mfcc9': np.float32(1.4291178), 'mfcc10': np.float32(14.008857), 'mfcc11': np.float32(-0.67006516), 'mfcc12': np.float32(7.5075045), 'mfcc13': np.float32(-4.5530295), 'mfcc14': np.float32(12.720875), 'mfcc15': np.float32(-1.0430868), 'mfcc16': np.float32(4.22767), 'mfcc17': np.float32(-0.37614766), 'mfcc18': np.float32(13.139169), 'mfcc19': np.float32(-0.05699659), 'mfcc20': np.float32(1.4108773), 'filename': '4K946lkrL9U_ 30.000_ 40.000.wav', 'label': 'not_covid'}\n",
      "feature_row type: <class 'dict'>\n",
      "feature_row={'chroma_stft': np.float32(0.4209778), 'rmse': np.float32(0.02429256), 'spectral_centroid': np.float64(1671.2342018737027), 'spectral_bandwidth': np.float64(1485.7374006867192), 'rolloff': np.float64(3422.1343994140625), 'zero_crossing_rate': np.float64(0.10569254557291667), 'mfcc1': np.float32(-300.95657), 'mfcc2': np.float32(143.94557), 'mfcc3': np.float32(-54.14317), 'mfcc4': np.float32(47.79485), 'mfcc5': np.float32(-24.486599), 'mfcc6': np.float32(1.5476689), 'mfcc7': np.float32(5.6467133), 'mfcc8': np.float32(-2.3815384), 'mfcc9': np.float32(14.178028), 'mfcc10': np.float32(-11.494805), 'mfcc11': np.float32(8.747676), 'mfcc12': np.float32(3.9461682), 'mfcc13': np.float32(-0.29441494), 'mfcc14': np.float32(6.495212), 'mfcc15': np.float32(2.3070154), 'mfcc16': np.float32(-0.025444243), 'mfcc17': np.float32(-0.74727476), 'mfcc18': np.float32(3.4191046), 'mfcc19': np.float32(-4.1579356), 'mfcc20': np.float32(-1.1864772), 'filename': '4ldID97D-oU_ 20.000_ 30.000.wav', 'label': 'not_covid'}\n",
      "feature_row type: <class 'dict'>\n",
      "feature_row={'chroma_stft': np.float32(0.5353395), 'rmse': np.float32(0.0090142675), 'spectral_centroid': np.float64(2994.013176592299), 'spectral_bandwidth': np.float64(2716.5695766736735), 'rolloff': np.float64(6185.711669921875), 'zero_crossing_rate': np.float64(0.17595305266203703), 'mfcc1': np.float32(-391.1525), 'mfcc2': np.float32(72.32978), 'mfcc3': np.float32(-3.9365032), 'mfcc4': np.float32(13.910456), 'mfcc5': np.float32(1.6691186), 'mfcc6': np.float32(7.616291), 'mfcc7': np.float32(-1.5991347), 'mfcc8': np.float32(3.0566995), 'mfcc9': np.float32(-2.5909076), 'mfcc10': np.float32(7.8234234), 'mfcc11': np.float32(-4.7836766), 'mfcc12': np.float32(10.791272), 'mfcc13': np.float32(3.246412), 'mfcc14': np.float32(0.28188196), 'mfcc15': np.float32(-6.010852), 'mfcc16': np.float32(1.6576986), 'mfcc17': np.float32(-5.0260415), 'mfcc18': np.float32(-0.63872635), 'mfcc19': np.float32(-3.8683476), 'mfcc20': np.float32(1.3887206), 'filename': '4lOXjW8rpxU_ 0.000_ 10.000.wav', 'label': 'not_covid'}\n",
      "feature_row type: <class 'dict'>\n",
      "feature_row={'chroma_stft': np.float32(0.36415744), 'rmse': np.float32(0.24119185), 'spectral_centroid': np.float64(3721.0814207500534), 'spectral_bandwidth': np.float64(2743.50311912644), 'rolloff': np.float64(7033.5316975911455), 'zero_crossing_rate': np.float64(0.2119479709201389), 'mfcc1': np.float32(-83.60229), 'mfcc2': np.float32(23.561207), 'mfcc3': np.float32(-15.941383), 'mfcc4': np.float32(2.733069), 'mfcc5': np.float32(-19.417631), 'mfcc6': np.float32(-3.2764452), 'mfcc7': np.float32(-8.282701), 'mfcc8': np.float32(2.158587), 'mfcc9': np.float32(0.45090005), 'mfcc10': np.float32(8.6093), 'mfcc11': np.float32(0.10469747), 'mfcc12': np.float32(3.6715481), 'mfcc13': np.float32(1.4618891), 'mfcc14': np.float32(6.4337554), 'mfcc15': np.float32(1.4990602), 'mfcc16': np.float32(2.4898489), 'mfcc17': np.float32(-1.9295055), 'mfcc18': np.float32(2.3039937), 'mfcc19': np.float32(-2.016181), 'mfcc20': np.float32(3.4157898), 'filename': '4rPNHAf-0Qw_ 30.000_ 40.000.wav', 'label': 'not_covid'}\n",
      "feature_row type: <class 'dict'>\n",
      "feature_row={'chroma_stft': np.float32(0.5143523), 'rmse': np.float32(0.037656017), 'spectral_centroid': np.float64(3528.6002489370203), 'spectral_bandwidth': np.float64(2725.0450166381725), 'rolloff': np.float64(6565.3839111328125), 'zero_crossing_rate': np.float64(0.23936179832175927), 'mfcc1': np.float32(-389.87363), 'mfcc2': np.float32(41.66419), 'mfcc3': np.float32(-11.201461), 'mfcc4': np.float32(2.0305877), 'mfcc5': np.float32(-2.1728475), 'mfcc6': np.float32(-10.556924), 'mfcc7': np.float32(-14.811694), 'mfcc8': np.float32(-8.854799), 'mfcc9': np.float32(-16.4177), 'mfcc10': np.float32(2.1295965), 'mfcc11': np.float32(-14.599781), 'mfcc12': np.float32(-7.344912), 'mfcc13': np.float32(-2.3480203), 'mfcc14': np.float32(-1.0380929), 'mfcc15': np.float32(-3.0368607), 'mfcc16': np.float32(3.8005483), 'mfcc17': np.float32(-1.5320234), 'mfcc18': np.float32(-0.17502955), 'mfcc19': np.float32(0.7652228), 'mfcc20': np.float32(0.0037364254), 'filename': '4txOUgXllWE_ 300.000_ 310.000.wav', 'label': 'not_covid'}\n",
      "feature_row type: <class 'dict'>\n",
      "feature_row={'chroma_stft': np.float32(0.56012243), 'rmse': np.float32(0.012542006), 'spectral_centroid': np.float64(1622.185962690975), 'spectral_bandwidth': np.float64(1645.41412323355), 'rolloff': np.float64(3247.077433268229), 'zero_crossing_rate': np.float64(0.09349907769097222), 'mfcc1': np.float32(-324.47522), 'mfcc2': np.float32(143.40118), 'mfcc3': np.float32(-43.711777), 'mfcc4': np.float32(28.587273), 'mfcc5': np.float32(-27.856237), 'mfcc6': np.float32(22.466198), 'mfcc7': np.float32(-20.051287), 'mfcc8': np.float32(10.850342), 'mfcc9': np.float32(2.1574602), 'mfcc10': np.float32(-2.9477708), 'mfcc11': np.float32(6.2177525), 'mfcc12': np.float32(-3.1476238), 'mfcc13': np.float32(10.537182), 'mfcc14': np.float32(-9.303453), 'mfcc15': np.float32(6.031043), 'mfcc16': np.float32(-9.274831), 'mfcc17': np.float32(0.24458216), 'mfcc18': np.float32(2.868285), 'mfcc19': np.float32(1.6212053), 'mfcc20': np.float32(6.134156), 'filename': '4vyk0EIJGWY_ 0.000_ 10.000.wav', 'label': 'not_covid'}\n"
     ]
    },
    {
     "name": "stderr",
     "output_type": "stream",
     "text": [
      " 65%|██████▌   | 111/170 [00:03<00:01, 37.39it/s]"
     ]
    },
    {
     "name": "stdout",
     "output_type": "stream",
     "text": [
      "feature_row type: <class 'dict'>\n",
      "feature_row={'chroma_stft': np.float32(0.39364943), 'rmse': np.float32(0.06855977), 'spectral_centroid': np.float64(1462.024853007055), 'spectral_bandwidth': np.float64(1094.7520600517082), 'rolloff': np.float64(2604.8197428385415), 'zero_crossing_rate': np.float64(0.10547553168402778), 'mfcc1': np.float32(-297.45193), 'mfcc2': np.float32(132.06178), 'mfcc3': np.float32(-40.498814), 'mfcc4': np.float32(25.272362), 'mfcc5': np.float32(17.133106), 'mfcc6': np.float32(-34.511353), 'mfcc7': np.float32(-2.6483264), 'mfcc8': np.float32(-3.6118433), 'mfcc9': np.float32(-21.063784), 'mfcc10': np.float32(-3.3138769), 'mfcc11': np.float32(-9.527057), 'mfcc12': np.float32(-10.277737), 'mfcc13': np.float32(2.3136735), 'mfcc14': np.float32(-4.534163), 'mfcc15': np.float32(-5.439602), 'mfcc16': np.float32(-1.2778165), 'mfcc17': np.float32(-7.576547), 'mfcc18': np.float32(-4.373743), 'mfcc19': np.float32(-3.715308), 'mfcc20': np.float32(-7.4018364), 'filename': '4WLF2CT0eCM_ 40.000_ 50.000.wav', 'label': 'not_covid'}\n",
      "feature_row type: <class 'dict'>\n",
      "feature_row={'chroma_stft': np.float32(0.40333003), 'rmse': np.float32(0.039929602), 'spectral_centroid': np.float64(2465.6595069456553), 'spectral_bandwidth': np.float64(1862.8531144553936), 'rolloff': np.float64(4560.1043701171875), 'zero_crossing_rate': np.float64(0.16628237123842593), 'mfcc1': np.float32(-319.95587), 'mfcc2': np.float32(69.43053), 'mfcc3': np.float32(-42.599102), 'mfcc4': np.float32(36.80095), 'mfcc5': np.float32(-0.6001429), 'mfcc6': np.float32(1.3405708), 'mfcc7': np.float32(-14.093217), 'mfcc8': np.float32(-8.591314), 'mfcc9': np.float32(-9.747275), 'mfcc10': np.float32(-2.0890713), 'mfcc11': np.float32(-15.894215), 'mfcc12': np.float32(-1.162691), 'mfcc13': np.float32(-3.6935651), 'mfcc14': np.float32(-5.1332145), 'mfcc15': np.float32(3.8663728), 'mfcc16': np.float32(-7.7957196), 'mfcc17': np.float32(-1.7273322), 'mfcc18': np.float32(-5.6037965), 'mfcc19': np.float32(-4.712422), 'mfcc20': np.float32(-8.459676), 'filename': '4xQcOwfV48Y_ 40.000_ 50.000.wav', 'label': 'not_covid'}\n",
      "feature_row type: <class 'dict'>\n",
      "feature_row={'chroma_stft': np.float32(0.6853596), 'rmse': np.float32(0.00023339147), 'spectral_centroid': np.float64(4223.382936378858), 'spectral_bandwidth': np.float64(3322.162501928752), 'rolloff': np.float64(8234.456380208334), 'zero_crossing_rate': np.float64(0.22531693070023148), 'mfcc1': np.float32(-667.9893), 'mfcc2': np.float32(35.68929), 'mfcc3': np.float32(24.973751), 'mfcc4': np.float32(18.006481), 'mfcc5': np.float32(6.577528), 'mfcc6': np.float32(11.8105), 'mfcc7': np.float32(-1.3463639), 'mfcc8': np.float32(6.752988), 'mfcc9': np.float32(-3.6508596), 'mfcc10': np.float32(1.5698504), 'mfcc11': np.float32(-3.522327), 'mfcc12': np.float32(-0.24228173), 'mfcc13': np.float32(-0.43132415), 'mfcc14': np.float32(0.5552082), 'mfcc15': np.float32(0.68271434), 'mfcc16': np.float32(2.0024202), 'mfcc17': np.float32(0.6552377), 'mfcc18': np.float32(2.4537427), 'mfcc19': np.float32(0.12014412), 'mfcc20': np.float32(2.9821842), 'filename': '4yFWcSkby5w_ 30.000_ 40.000.wav', 'label': 'not_covid'}\n",
      "feature_row type: <class 'dict'>\n",
      "feature_row={'chroma_stft': np.float32(0.36163616), 'rmse': np.float32(0.13112272), 'spectral_centroid': np.float64(1475.3910696818548), 'spectral_bandwidth': np.float64(967.2798762104368), 'rolloff': np.float64(2490.7735188802085), 'zero_crossing_rate': np.float64(0.11907280815972222), 'mfcc1': np.float32(-170.28111), 'mfcc2': np.float32(169.36147), 'mfcc3': np.float32(-81.36904), 'mfcc4': np.float32(17.589212), 'mfcc5': np.float32(18.222242), 'mfcc6': np.float32(-39.0934), 'mfcc7': np.float32(-3.1467388), 'mfcc8': np.float32(-6.808429), 'mfcc9': np.float32(-20.16609), 'mfcc10': np.float32(-3.8963327), 'mfcc11': np.float32(-4.957211), 'mfcc12': np.float32(-11.749964), 'mfcc13': np.float32(-9.166772), 'mfcc14': np.float32(-0.8427653), 'mfcc15': np.float32(-5.4576483), 'mfcc16': np.float32(-7.5216594), 'mfcc17': np.float32(0.9372008), 'mfcc18': np.float32(-3.4305072), 'mfcc19': np.float32(-1.3184835), 'mfcc20': np.float32(1.7796407), 'filename': '05YBpmCnoOQ_ 50.000_ 60.000.wav', 'label': 'not_covid'}\n",
      "feature_row type: <class 'dict'>\n",
      "feature_row={'chroma_stft': np.float32(0.42539686), 'rmse': np.float32(0.010314829), 'spectral_centroid': np.float64(2885.853955587517), 'spectral_bandwidth': np.float64(2777.3698399123514), 'rolloff': np.float64(6011.5020751953125), 'zero_crossing_rate': np.float64(0.1564398871527778), 'mfcc1': np.float32(-457.75143), 'mfcc2': np.float32(64.38724), 'mfcc3': np.float32(4.163975), 'mfcc4': np.float32(5.001111), 'mfcc5': np.float32(-1.764137), 'mfcc6': np.float32(-16.245512), 'mfcc7': np.float32(-16.52897), 'mfcc8': np.float32(-10.487957), 'mfcc9': np.float32(-11.371651), 'mfcc10': np.float32(-7.5680504), 'mfcc11': np.float32(-7.983097), 'mfcc12': np.float32(-3.330936), 'mfcc13': np.float32(-2.388261), 'mfcc14': np.float32(-1.7136213), 'mfcc15': np.float32(-5.227723), 'mfcc16': np.float32(-2.0155542), 'mfcc17': np.float32(-3.3538446), 'mfcc18': np.float32(-0.76351523), 'mfcc19': np.float32(-3.8635745), 'mfcc20': np.float32(-2.2153676), 'filename': '-5dCv5_nvU8_ 200.000_ 210.000.wav', 'label': 'not_covid'}\n",
      "feature_row type: <class 'dict'>\n",
      "feature_row={'chroma_stft': np.float32(0.51164085), 'rmse': np.float32(0.017034976), 'spectral_centroid': np.float64(3392.228262689561), 'spectral_bandwidth': np.float64(2746.9225140198096), 'rolloff': np.float64(6717.960611979167), 'zero_crossing_rate': np.float64(0.22966172960069445), 'mfcc1': np.float32(-440.64807), 'mfcc2': np.float32(40.754055), 'mfcc3': np.float32(-13.589542), 'mfcc4': np.float32(-2.5340424), 'mfcc5': np.float32(-14.069135), 'mfcc6': np.float32(-16.707676), 'mfcc7': np.float32(-16.349932), 'mfcc8': np.float32(-5.96813), 'mfcc9': np.float32(-2.1876462), 'mfcc10': np.float32(0.084236), 'mfcc11': np.float32(-11.700747), 'mfcc12': np.float32(-8.91322), 'mfcc13': np.float32(-4.2758484), 'mfcc14': np.float32(-6.792173), 'mfcc15': np.float32(-0.18606377), 'mfcc16': np.float32(-1.8826839), 'mfcc17': np.float32(-13.997692), 'mfcc18': np.float32(-4.97675), 'mfcc19': np.float32(-2.8260324), 'mfcc20': np.float32(-4.4134865), 'filename': '5hmDPsZnmf4_ 30.000_ 40.000.wav', 'label': 'not_covid'}\n",
      "feature_row type: <class 'dict'>\n",
      "feature_row={'chroma_stft': np.float32(0.41884094), 'rmse': np.float32(0.009328646), 'spectral_centroid': np.float64(2230.1666746829014), 'spectral_bandwidth': np.float64(1985.4963974587415), 'rolloff': np.float64(4126.898193359375), 'zero_crossing_rate': np.float64(0.12444842303240741), 'mfcc1': np.float32(-488.76584), 'mfcc2': np.float32(71.471436), 'mfcc3': np.float32(-18.099812), 'mfcc4': np.float32(24.50043), 'mfcc5': np.float32(-7.326523), 'mfcc6': np.float32(-6.70797), 'mfcc7': np.float32(-8.016309), 'mfcc8': np.float32(-22.1015), 'mfcc9': np.float32(0.7343862), 'mfcc10': np.float32(2.5883985), 'mfcc11': np.float32(-7.6756253), 'mfcc12': np.float32(-13.235168), 'mfcc13': np.float32(-4.368996), 'mfcc14': np.float32(-9.201233), 'mfcc15': np.float32(-8.620825), 'mfcc16': np.float32(-8.368413), 'mfcc17': np.float32(-8.55594), 'mfcc18': np.float32(-10.565358), 'mfcc19': np.float32(-4.781205), 'mfcc20': np.float32(-9.935764), 'filename': '5jznaeFpsJU_ 0.000_ 10.000.wav', 'label': 'not_covid'}\n",
      "feature_row type: <class 'dict'>\n",
      "feature_row={'chroma_stft': np.float32(0.41710833), 'rmse': np.float32(0.05584119), 'spectral_centroid': np.float64(3581.083849891254), 'spectral_bandwidth': np.float64(2294.960737080903), 'rolloff': np.float64(6001.6326904296875), 'zero_crossing_rate': np.float64(0.2839830186631944), 'mfcc1': np.float32(-242.97939), 'mfcc2': np.float32(39.978664), 'mfcc3': np.float32(-31.685047), 'mfcc4': np.float32(12.167521), 'mfcc5': np.float32(-55.77588), 'mfcc6': np.float32(10.256237), 'mfcc7': np.float32(-37.983536), 'mfcc8': np.float32(-9.437142), 'mfcc9': np.float32(-14.756978), 'mfcc10': np.float32(-14.523322), 'mfcc11': np.float32(-17.93683), 'mfcc12': np.float32(-12.601697), 'mfcc13': np.float32(-13.793281), 'mfcc14': np.float32(-7.3736596), 'mfcc15': np.float32(-12.895442), 'mfcc16': np.float32(-2.212106), 'mfcc17': np.float32(-4.8034062), 'mfcc18': np.float32(-7.3469057), 'mfcc19': np.float32(5.7697086), 'mfcc20': np.float32(-2.8591144), 'filename': '5l9qTa5OAL8_ 220.000_ 230.000.wav', 'label': 'not_covid'}\n"
     ]
    },
    {
     "name": "stderr",
     "output_type": "stream",
     "text": [
      " 70%|███████   | 119/170 [00:03<00:01, 35.55it/s]"
     ]
    },
    {
     "name": "stdout",
     "output_type": "stream",
     "text": [
      "feature_row type: <class 'dict'>\n",
      "feature_row={'chroma_stft': np.float32(0.2798207), 'rmse': np.float32(0.04144065), 'spectral_centroid': np.float64(2546.0530363987978), 'spectral_bandwidth': np.float64(2109.761747073702), 'rolloff': np.float64(4943.465169270833), 'zero_crossing_rate': np.float64(0.14519133391203703), 'mfcc1': np.float32(-310.6007), 'mfcc2': np.float32(37.619877), 'mfcc3': np.float32(-37.61901), 'mfcc4': np.float32(-21.719877), 'mfcc5': np.float32(-19.816912), 'mfcc6': np.float32(-0.37130752), 'mfcc7': np.float32(-10.935874), 'mfcc8': np.float32(1.1369153), 'mfcc9': np.float32(6.937353), 'mfcc10': np.float32(-7.3605876), 'mfcc11': np.float32(-0.17447323), 'mfcc12': np.float32(1.8893837), 'mfcc13': np.float32(-1.5074495), 'mfcc14': np.float32(4.282563), 'mfcc15': np.float32(-5.161272), 'mfcc16': np.float32(0.86250025), 'mfcc17': np.float32(3.2177384), 'mfcc18': np.float32(-3.1161342), 'mfcc19': np.float32(-1.3657568), 'mfcc20': np.float32(-1.976773), 'filename': '5r9Ixli8hnc_ 0.000_ 10.000.wav', 'label': 'not_covid'}\n",
      "feature_row type: <class 'dict'>\n",
      "feature_row={'chroma_stft': np.float32(0.30339873), 'rmse': np.float32(0.17374258), 'spectral_centroid': np.float64(3012.4384813290867), 'spectral_bandwidth': np.float64(2554.015805986988), 'rolloff': np.float64(5985.233561197917), 'zero_crossing_rate': np.float64(0.15453649450231483), 'mfcc1': np.float32(-119.62769), 'mfcc2': np.float32(37.273323), 'mfcc3': np.float32(-44.425907), 'mfcc4': np.float32(-11.143271), 'mfcc5': np.float32(0.5346569), 'mfcc6': np.float32(-8.1781025), 'mfcc7': np.float32(-32.76325), 'mfcc8': np.float32(-17.083078), 'mfcc9': np.float32(-10.837272), 'mfcc10': np.float32(-10.986265), 'mfcc11': np.float32(-17.47945), 'mfcc12': np.float32(-7.5311503), 'mfcc13': np.float32(-0.5326439), 'mfcc14': np.float32(-3.3129776), 'mfcc15': np.float32(-11.701427), 'mfcc16': np.float32(-10.077299), 'mfcc17': np.float32(-2.0941556), 'mfcc18': np.float32(-8.507791), 'mfcc19': np.float32(-0.26237875), 'mfcc20': np.float32(-4.368406), 'filename': '5wbc84KnDS0_ 60.000_ 70.000.wav', 'label': 'not_covid'}\n",
      "feature_row type: <class 'dict'>\n",
      "feature_row={'chroma_stft': np.float32(0.49054945), 'rmse': np.float32(0.18823919), 'spectral_centroid': np.float64(2158.314425244832), 'spectral_bandwidth': np.float64(2278.5450806823433), 'rolloff': np.float64(4454.4321695963545), 'zero_crossing_rate': np.float64(0.10672562210648148), 'mfcc1': np.float32(-35.379414), 'mfcc2': np.float32(103.341545), 'mfcc3': np.float32(-16.676249), 'mfcc4': np.float32(23.059214), 'mfcc5': np.float32(-5.8872466), 'mfcc6': np.float32(4.904931), 'mfcc7': np.float32(-1.5468649), 'mfcc8': np.float32(14.762275), 'mfcc9': np.float32(3.2518802), 'mfcc10': np.float32(2.0617158), 'mfcc11': np.float32(-3.3266418), 'mfcc12': np.float32(8.375045), 'mfcc13': np.float32(8.042348), 'mfcc14': np.float32(6.997381), 'mfcc15': np.float32(0.87355876), 'mfcc16': np.float32(0.4362739), 'mfcc17': np.float32(-5.620791), 'mfcc18': np.float32(0.65962136), 'mfcc19': np.float32(-1.8024291), 'mfcc20': np.float32(4.4806314), 'filename': '6K_sU6-dp0Q_ 30.000_ 40.000.wav', 'label': 'not_covid'}\n",
      "feature_row type: <class 'dict'>\n",
      "feature_row={'chroma_stft': np.float32(0.41122556), 'rmse': np.float32(0.11255911), 'spectral_centroid': np.float64(2383.374394783895), 'spectral_bandwidth': np.float64(1932.9546135803437), 'rolloff': np.float64(4556.266276041667), 'zero_crossing_rate': np.float64(0.14925130208333334), 'mfcc1': np.float32(-164.376), 'mfcc2': np.float32(99.349846), 'mfcc3': np.float32(-53.639248), 'mfcc4': np.float32(24.554848), 'mfcc5': np.float32(-48.022118), 'mfcc6': np.float32(6.180663), 'mfcc7': np.float32(-36.275265), 'mfcc8': np.float32(11.582999), 'mfcc9': np.float32(-24.428734), 'mfcc10': np.float32(0.62957764), 'mfcc11': np.float32(-7.3625636), 'mfcc12': np.float32(-8.161251), 'mfcc13': np.float32(-3.5782566), 'mfcc14': np.float32(-12.533533), 'mfcc15': np.float32(1.6364194), 'mfcc16': np.float32(-11.714149), 'mfcc17': np.float32(1.3576972), 'mfcc18': np.float32(-11.384374), 'mfcc19': np.float32(2.581882), 'mfcc20': np.float32(-4.5810323), 'filename': '6l52kPskdRI_ 350.000_ 360.000.wav', 'label': 'not_covid'}\n",
      "feature_row type: <class 'dict'>\n",
      "feature_row={'chroma_stft': np.float32(0.606532), 'rmse': np.float32(0.022038471), 'spectral_centroid': np.float64(4161.706694761296), 'spectral_bandwidth': np.float64(3000.871253275555), 'rolloff': np.float64(7851.84326171875), 'zero_crossing_rate': np.float64(0.31049488208912035), 'mfcc1': np.float32(-448.06815), 'mfcc2': np.float32(20.963867), 'mfcc3': np.float32(-3.575453), 'mfcc4': np.float32(4.7855067), 'mfcc5': np.float32(-8.218505), 'mfcc6': np.float32(-6.2751336), 'mfcc7': np.float32(-16.308086), 'mfcc8': np.float32(-5.9687705), 'mfcc9': np.float32(-10.177488), 'mfcc10': np.float32(0.63305175), 'mfcc11': np.float32(-2.5711653), 'mfcc12': np.float32(0.5537898), 'mfcc13': np.float32(-7.6071258), 'mfcc14': np.float32(-2.5262117), 'mfcc15': np.float32(-1.8801963), 'mfcc16': np.float32(2.5016582), 'mfcc17': np.float32(-4.2548876), 'mfcc18': np.float32(0.22955915), 'mfcc19': np.float32(-2.5880268), 'mfcc20': np.float32(-2.8137145), 'filename': '6lbkx_tf50g_ 220.000_ 230.000.wav', 'label': 'not_covid'}\n",
      "feature_row type: <class 'dict'>\n",
      "feature_row={'chroma_stft': np.float32(0.57947814), 'rmse': np.float32(0.007002054), 'spectral_centroid': np.float64(3861.2318721691286), 'spectral_bandwidth': np.float64(3103.713518031404), 'rolloff': np.float64(7661.7828369140625), 'zero_crossing_rate': np.float64(0.22602222583912038), 'mfcc1': np.float32(-534.2766), 'mfcc2': np.float32(40.97474), 'mfcc3': np.float32(12.526176), 'mfcc4': np.float32(13.56876), 'mfcc5': np.float32(-2.8325863), 'mfcc6': np.float32(10.316602), 'mfcc7': np.float32(-0.9180236), 'mfcc8': np.float32(-1.2953051), 'mfcc9': np.float32(-7.543438), 'mfcc10': np.float32(3.9711325), 'mfcc11': np.float32(-6.025423), 'mfcc12': np.float32(-0.039449763), 'mfcc13': np.float32(-1.4438807), 'mfcc14': np.float32(-2.7067583), 'mfcc15': np.float32(-1.5998546), 'mfcc16': np.float32(-2.7120416), 'mfcc17': np.float32(-2.7516959), 'mfcc18': np.float32(-0.043000326), 'mfcc19': np.float32(-3.4090912), 'mfcc20': np.float32(1.5106311), 'filename': '6nTcsNoIGDw_ 50.000_ 60.000.wav', 'label': 'not_covid'}\n",
      "feature_row type: <class 'dict'>\n",
      "feature_row={'chroma_stft': np.float32(0.29129353), 'rmse': np.float32(0.21254171), 'spectral_centroid': np.float64(2272.322067226415), 'spectral_bandwidth': np.float64(2276.2420377422054), 'rolloff': np.float64(4712.78076171875), 'zero_crossing_rate': np.float64(0.09926576967592593), 'mfcc1': np.float32(-75.538315), 'mfcc2': np.float32(85.70504), 'mfcc3': np.float32(-17.67511), 'mfcc4': np.float32(14.357701), 'mfcc5': np.float32(-22.042807), 'mfcc6': np.float32(2.4681895), 'mfcc7': np.float32(-17.42026), 'mfcc8': np.float32(-1.4379091), 'mfcc9': np.float32(-21.822592), 'mfcc10': np.float32(-6.0535855), 'mfcc11': np.float32(-7.250956), 'mfcc12': np.float32(-8.103259), 'mfcc13': np.float32(-6.8253717), 'mfcc14': np.float32(-5.083894), 'mfcc15': np.float32(-5.986204), 'mfcc16': np.float32(-3.3851726), 'mfcc17': np.float32(-10.408588), 'mfcc18': np.float32(-9.260725), 'mfcc19': np.float32(-7.8797507), 'mfcc20': np.float32(-7.925532), 'filename': '6OatUcXF4nk_ 0.000_ 10.000.wav', 'label': 'not_covid'}\n",
      "feature_row type: <class 'dict'>\n",
      "feature_row={'chroma_stft': np.float32(0.38600618), 'rmse': np.float32(0.13899936), 'spectral_centroid': np.float64(1913.645121066294), 'spectral_bandwidth': np.float64(1789.1253901818625), 'rolloff': np.float64(3815.7633463541665), 'zero_crossing_rate': np.float64(0.10954228153935185), 'mfcc1': np.float32(-148.6466), 'mfcc2': np.float32(117.51689), 'mfcc3': np.float32(-45.43185), 'mfcc4': np.float32(25.150513), 'mfcc5': np.float32(-22.104757), 'mfcc6': np.float32(27.386642), 'mfcc7': np.float32(-28.70759), 'mfcc8': np.float32(-1.4512367), 'mfcc9': np.float32(-15.225706), 'mfcc10': np.float32(-0.7292484), 'mfcc11': np.float32(-4.779956), 'mfcc12': np.float32(-7.332422), 'mfcc13': np.float32(-3.7584753), 'mfcc14': np.float32(-4.54437), 'mfcc15': np.float32(0.32331797), 'mfcc16': np.float32(-4.24696), 'mfcc17': np.float32(2.4619746), 'mfcc18': np.float32(-3.767398), 'mfcc19': np.float32(7.121261), 'mfcc20': np.float32(-8.545722), 'filename': '6PdQjCUz-S4_ 260.000_ 270.000.wav', 'label': 'not_covid'}\n"
     ]
    },
    {
     "name": "stderr",
     "output_type": "stream",
     "text": [
      " 75%|███████▍  | 127/170 [00:03<00:01, 36.44it/s]"
     ]
    },
    {
     "name": "stdout",
     "output_type": "stream",
     "text": [
      "feature_row type: <class 'dict'>\n",
      "feature_row={'chroma_stft': np.float32(0.4534394), 'rmse': np.float32(0.046354968), 'spectral_centroid': np.float64(3710.5944175759614), 'spectral_bandwidth': np.float64(2761.508394285998), 'rolloff': np.float64(6920.4823811848955), 'zero_crossing_rate': np.float64(0.26170744719328703), 'mfcc1': np.float32(-304.95865), 'mfcc2': np.float32(31.201952), 'mfcc3': np.float32(-27.3675), 'mfcc4': np.float32(-2.8305142), 'mfcc5': np.float32(-9.375258), 'mfcc6': np.float32(-13.845027), 'mfcc7': np.float32(-14.455626), 'mfcc8': np.float32(-5.6913657), 'mfcc9': np.float32(-10.302922), 'mfcc10': np.float32(1.0978088), 'mfcc11': np.float32(-10.860302), 'mfcc12': np.float32(-6.985311), 'mfcc13': np.float32(-7.480903), 'mfcc14': np.float32(-4.1615376), 'mfcc15': np.float32(-5.9111385), 'mfcc16': np.float32(-8.593483), 'mfcc17': np.float32(-4.5835137), 'mfcc18': np.float32(-2.485042), 'mfcc19': np.float32(-6.9578066), 'mfcc20': np.float32(1.4204262), 'filename': '6pyURnYYMwo_ 20.000_ 30.000.wav', 'label': 'not_covid'}\n",
      "feature_row type: <class 'dict'>\n",
      "feature_row={'chroma_stft': np.float32(0.34621364), 'rmse': np.float32(0.037672073), 'spectral_centroid': np.float64(2123.3848541694324), 'spectral_bandwidth': np.float64(2190.7435182505797), 'rolloff': np.float64(4477.2613525390625), 'zero_crossing_rate': np.float64(0.10198296440972222), 'mfcc1': np.float32(-280.8994), 'mfcc2': np.float32(81.52528), 'mfcc3': np.float32(-3.2084885), 'mfcc4': np.float32(9.37949), 'mfcc5': np.float32(-3.2428148), 'mfcc6': np.float32(3.338666), 'mfcc7': np.float32(-13.386956), 'mfcc8': np.float32(-4.2075996), 'mfcc9': np.float32(-4.3647337), 'mfcc10': np.float32(-5.228054), 'mfcc11': np.float32(-15.4747), 'mfcc12': np.float32(-0.028600905), 'mfcc13': np.float32(-8.066569), 'mfcc14': np.float32(-3.7237437), 'mfcc15': np.float32(-5.4645042), 'mfcc16': np.float32(2.445184), 'mfcc17': np.float32(-8.863515), 'mfcc18': np.float32(-2.8338091), 'mfcc19': np.float32(-1.2797079), 'mfcc20': np.float32(-2.5232482), 'filename': '6uW93XzK0Xw_ 0.000_ 10.000.wav', 'label': 'not_covid'}\n",
      "feature_row type: <class 'dict'>\n",
      "feature_row={'chroma_stft': np.float32(0.3380796), 'rmse': np.float32(0.06495587), 'spectral_centroid': np.float64(1880.3655817589902), 'spectral_bandwidth': np.float64(1374.3857193912306), 'rolloff': np.float64(3502.3356119791665), 'zero_crossing_rate': np.float64(0.13547544126157407), 'mfcc1': np.float32(-284.97498), 'mfcc2': np.float32(127.95252), 'mfcc3': np.float32(-90.14162), 'mfcc4': np.float32(26.435144), 'mfcc5': np.float32(-20.080114), 'mfcc6': np.float32(-3.6915798), 'mfcc7': np.float32(29.117977), 'mfcc8': np.float32(-18.0511), 'mfcc9': np.float32(11.573036), 'mfcc10': np.float32(-4.1629233), 'mfcc11': np.float32(-6.5804863), 'mfcc12': np.float32(19.199429), 'mfcc13': np.float32(-7.5794992), 'mfcc14': np.float32(14.675189), 'mfcc15': np.float32(6.5196934), 'mfcc16': np.float32(-6.6171775), 'mfcc17': np.float32(18.397804), 'mfcc18': np.float32(-2.854329), 'mfcc19': np.float32(-5.8598847), 'mfcc20': np.float32(4.2834177), 'filename': '7_v8jFFo9SM_ 50.000_ 60.000.wav', 'label': 'not_covid'}\n",
      "feature_row type: <class 'dict'>\n",
      "feature_row={'chroma_stft': np.float32(0.35208774), 'rmse': np.float32(0.09823704), 'spectral_centroid': np.float64(1762.4289734996748), 'spectral_bandwidth': np.float64(1209.6171026215752), 'rolloff': np.float64(2981.0028076171875), 'zero_crossing_rate': np.float64(0.1333912037037037), 'mfcc1': np.float32(-182.95177), 'mfcc2': np.float32(145.00119), 'mfcc3': np.float32(-93.66058), 'mfcc4': np.float32(30.316126), 'mfcc5': np.float32(-7.8783445), 'mfcc6': np.float32(-1.2127681), 'mfcc7': np.float32(-8.805629), 'mfcc8': np.float32(-23.433128), 'mfcc9': np.float32(19.401432), 'mfcc10': np.float32(-15.505726), 'mfcc11': np.float32(1.7893807), 'mfcc12': np.float32(10.784483), 'mfcc13': np.float32(-6.280677), 'mfcc14': np.float32(9.670164), 'mfcc15': np.float32(-8.069666), 'mfcc16': np.float32(4.779198), 'mfcc17': np.float32(5.019219), 'mfcc18': np.float32(-6.128263), 'mfcc19': np.float32(7.3904996), 'mfcc20': np.float32(-5.259907), 'filename': '7GBy8CUVUhU_ 0.000_ 10.000.wav', 'label': 'not_covid'}\n",
      "feature_row type: <class 'dict'>\n",
      "feature_row={'chroma_stft': np.float32(0.39154518), 'rmse': np.float32(0.066973194), 'spectral_centroid': np.float64(1298.7356490853304), 'spectral_bandwidth': np.float64(1275.079494275013), 'rolloff': np.float64(2506.6243489583335), 'zero_crossing_rate': np.float64(0.0669261791087963), 'mfcc1': np.float32(-281.4853), 'mfcc2': np.float32(119.27881), 'mfcc3': np.float32(-18.099451), 'mfcc4': np.float32(7.992339), 'mfcc5': np.float32(-14.783576), 'mfcc6': np.float32(-14.543864), 'mfcc7': np.float32(-0.65212786), 'mfcc8': np.float32(-16.986856), 'mfcc9': np.float32(-7.7317505), 'mfcc10': np.float32(-0.16957106), 'mfcc11': np.float32(-4.994668), 'mfcc12': np.float32(3.1823256), 'mfcc13': np.float32(-5.31372), 'mfcc14': np.float32(-6.58942), 'mfcc15': np.float32(0.61782414), 'mfcc16': np.float32(0.5449612), 'mfcc17': np.float32(3.0798166), 'mfcc18': np.float32(-0.95579135), 'mfcc19': np.float32(-6.3362484), 'mfcc20': np.float32(-3.621234), 'filename': '7hQ-7sWi8W0_ 30.000_ 40.000.wav', 'label': 'not_covid'}\n",
      "feature_row type: <class 'dict'>\n",
      "feature_row={'chroma_stft': np.float32(0.33011726), 'rmse': np.float32(0.12939093), 'spectral_centroid': np.float64(2406.9045437586715), 'spectral_bandwidth': np.float64(2072.160785417681), 'rolloff': np.float64(4513.798014322917), 'zero_crossing_rate': np.float64(0.13670518663194445), 'mfcc1': np.float32(-169.14249), 'mfcc2': np.float32(72.30895), 'mfcc3': np.float32(-47.988644), 'mfcc4': np.float32(-0.9778075), 'mfcc5': np.float32(-27.876537), 'mfcc6': np.float32(-18.051792), 'mfcc7': np.float32(-42.073124), 'mfcc8': np.float32(-0.99515617), 'mfcc9': np.float32(-20.04998), 'mfcc10': np.float32(-5.451483), 'mfcc11': np.float32(-15.091591), 'mfcc12': np.float32(-2.3574083), 'mfcc13': np.float32(-12.431652), 'mfcc14': np.float32(12.22473), 'mfcc15': np.float32(-0.9917689), 'mfcc16': np.float32(-1.7489709), 'mfcc17': np.float32(5.2846246), 'mfcc18': np.float32(7.6052756), 'mfcc19': np.float32(0.60184884), 'mfcc20': np.float32(-2.264139), 'filename': '7IMXwGU4Ja0_ 40.000_ 50.000.wav', 'label': 'not_covid'}\n",
      "feature_row type: <class 'dict'>\n",
      "feature_row={'chroma_stft': np.float32(0.3357439), 'rmse': np.float32(0.1318608), 'spectral_centroid': np.float64(1317.3119641735177), 'spectral_bandwidth': np.float64(906.6496292729001), 'rolloff': np.float64(2290.1957194010415), 'zero_crossing_rate': np.float64(0.09471073857060185), 'mfcc1': np.float32(-210.28186), 'mfcc2': np.float32(166.21654), 'mfcc3': np.float32(-77.923355), 'mfcc4': np.float32(-9.131025), 'mfcc5': np.float32(5.352753), 'mfcc6': np.float32(-43.282497), 'mfcc7': np.float32(-5.5552554), 'mfcc8': np.float32(-3.3571136), 'mfcc9': np.float32(-24.098839), 'mfcc10': np.float32(2.9826343), 'mfcc11': np.float32(-2.065531), 'mfcc12': np.float32(-14.605254), 'mfcc13': np.float32(-1.9545319), 'mfcc14': np.float32(-5.1550236), 'mfcc15': np.float32(-5.924783), 'mfcc16': np.float32(-1.3645319), 'mfcc17': np.float32(-6.104255), 'mfcc18': np.float32(-0.08180417), 'mfcc19': np.float32(-1.3282157), 'mfcc20': np.float32(-8.010947), 'filename': '7J9eEukmoIA_ 10.000_ 20.000.wav', 'label': 'not_covid'}\n",
      "feature_row type: <class 'dict'>\n",
      "feature_row={'chroma_stft': np.float32(0.49825862), 'rmse': np.float32(0.060713463), 'spectral_centroid': np.float64(1910.2615930714771), 'spectral_bandwidth': np.float64(1432.322248719194), 'rolloff': np.float64(3593.2037353515625), 'zero_crossing_rate': np.float64(0.14231363932291666), 'mfcc1': np.float32(-229.31815), 'mfcc2': np.float32(130.96332), 'mfcc3': np.float32(-64.92086), 'mfcc4': np.float32(47.610474), 'mfcc5': np.float32(-19.676207), 'mfcc6': np.float32(-7.472818), 'mfcc7': np.float32(11.755335), 'mfcc8': np.float32(-20.35527), 'mfcc9': np.float32(6.942889), 'mfcc10': np.float32(-10.576493), 'mfcc11': np.float32(-0.39154947), 'mfcc12': np.float32(-1.1198856), 'mfcc13': np.float32(-14.157758), 'mfcc14': np.float32(6.8906655), 'mfcc15': np.float32(-8.334522), 'mfcc16': np.float32(-3.89242), 'mfcc17': np.float32(-1.7713616), 'mfcc18': np.float32(-7.7704434), 'mfcc19': np.float32(1.2849817), 'mfcc20': np.float32(-7.842446), 'filename': '7-MnR3o0iAs_ 120.000_ 130.000.wav', 'label': 'not_covid'}\n"
     ]
    },
    {
     "name": "stderr",
     "output_type": "stream",
     "text": [
      " 79%|███████▉  | 135/170 [00:04<00:00, 37.04it/s]"
     ]
    },
    {
     "name": "stdout",
     "output_type": "stream",
     "text": [
      "feature_row type: <class 'dict'>\n",
      "feature_row={'chroma_stft': np.float32(0.3775021), 'rmse': np.float32(0.04787209), 'spectral_centroid': np.float64(4051.6109230186203), 'spectral_bandwidth': np.float64(2914.510718326538), 'rolloff': np.float64(7406.724039713542), 'zero_crossing_rate': np.float64(0.3598678023726852), 'mfcc1': np.float32(-284.32697), 'mfcc2': np.float32(34.67632), 'mfcc3': np.float32(-9.716488), 'mfcc4': np.float32(-4.5498524), 'mfcc5': np.float32(-12.181496), 'mfcc6': np.float32(-12.727106), 'mfcc7': np.float32(-33.215836), 'mfcc8': np.float32(-9.579267), 'mfcc9': np.float32(-29.969564), 'mfcc10': np.float32(-0.33045578), 'mfcc11': np.float32(-23.497637), 'mfcc12': np.float32(-2.9826298), 'mfcc13': np.float32(-16.397404), 'mfcc14': np.float32(-0.5537438), 'mfcc15': np.float32(-11.36214), 'mfcc16': np.float32(-8.949785), 'mfcc17': np.float32(-9.037193), 'mfcc18': np.float32(-5.063435), 'mfcc19': np.float32(-8.56292), 'mfcc20': np.float32(-8.324724), 'filename': '7pqRqXjqeX4_ 330.000_ 340.000.wav', 'label': 'not_covid'}\n",
      "feature_row type: <class 'dict'>\n",
      "feature_row={'chroma_stft': np.float32(0.3856391), 'rmse': np.float32(0.05630525), 'spectral_centroid': np.float64(2486.398708810828), 'spectral_bandwidth': np.float64(2531.4435126425146), 'rolloff': np.float64(5255.0486246744795), 'zero_crossing_rate': np.float64(0.12242974175347222), 'mfcc1': np.float32(-207.30559), 'mfcc2': np.float32(89.53616), 'mfcc3': np.float32(-3.848625), 'mfcc4': np.float32(-4.747186), 'mfcc5': np.float32(-26.074038), 'mfcc6': np.float32(-4.8439603), 'mfcc7': np.float32(-11.997492), 'mfcc8': np.float32(0.8167215), 'mfcc9': np.float32(-9.746731), 'mfcc10': np.float32(0.82795614), 'mfcc11': np.float32(0.52478665), 'mfcc12': np.float32(-8.730942), 'mfcc13': np.float32(-2.8601024), 'mfcc14': np.float32(-2.0381567), 'mfcc15': np.float32(-5.0041785), 'mfcc16': np.float32(-6.2957573), 'mfcc17': np.float32(-7.1951056), 'mfcc18': np.float32(-1.5678866), 'mfcc19': np.float32(-9.666279), 'mfcc20': np.float32(-4.593541), 'filename': '7QkwmMU4w1M_ 220.000_ 230.000.wav', 'label': 'not_covid'}\n",
      "feature_row type: <class 'dict'>\n",
      "feature_row={'chroma_stft': np.float32(0.5706355), 'rmse': np.float32(0.011845047), 'spectral_centroid': np.float64(4208.910358591846), 'spectral_bandwidth': np.float64(3173.5762852464363), 'rolloff': np.float64(8281.560262044271), 'zero_crossing_rate': np.float64(0.30251510054976855), 'mfcc1': np.float32(-373.30975), 'mfcc2': np.float32(33.90628), 'mfcc3': np.float32(-0.88976985), 'mfcc4': np.float32(-1.6823883), 'mfcc5': np.float32(-13.656413), 'mfcc6': np.float32(-15.948995), 'mfcc7': np.float32(-12.539935), 'mfcc8': np.float32(-12.096883), 'mfcc9': np.float32(-9.693353), 'mfcc10': np.float32(-8.959105), 'mfcc11': np.float32(-10.883508), 'mfcc12': np.float32(-8.159576), 'mfcc13': np.float32(-11.9265175), 'mfcc14': np.float32(-7.0542326), 'mfcc15': np.float32(-8.52795), 'mfcc16': np.float32(-8.092676), 'mfcc17': np.float32(-8.839921), 'mfcc18': np.float32(-6.5154815), 'mfcc19': np.float32(-8.095343), 'mfcc20': np.float32(-2.2707264), 'filename': '7xSTAmKAsFE_ 120.000_ 130.000.wav', 'label': 'not_covid'}\n",
      "feature_row type: <class 'dict'>\n",
      "feature_row={'chroma_stft': np.float32(0.38650888), 'rmse': np.float32(0.074825875), 'spectral_centroid': np.float64(3184.3852420219887), 'spectral_bandwidth': np.float64(2748.6835790360283), 'rolloff': np.float64(6468.93310546875), 'zero_crossing_rate': np.float64(0.18651439525462962), 'mfcc1': np.float32(-166.65773), 'mfcc2': np.float32(51.51758), 'mfcc3': np.float32(-30.736437), 'mfcc4': np.float32(-7.7148685), 'mfcc5': np.float32(3.6657183), 'mfcc6': np.float32(-18.663609), 'mfcc7': np.float32(-13.10695), 'mfcc8': np.float32(-15.867326), 'mfcc9': np.float32(-29.914778), 'mfcc10': np.float32(-5.0276084), 'mfcc11': np.float32(-15.817072), 'mfcc12': np.float32(-7.419341), 'mfcc13': np.float32(-9.812325), 'mfcc14': np.float32(-7.229117), 'mfcc15': np.float32(-4.7595882), 'mfcc16': np.float32(-3.1759326), 'mfcc17': np.float32(-16.935696), 'mfcc18': np.float32(-3.560871), 'mfcc19': np.float32(-13.425587), 'mfcc20': np.float32(-4.1110773), 'filename': '8FEQuq03bgU_ 40.000_ 50.000.wav', 'label': 'not_covid'}\n",
      "feature_row type: <class 'dict'>\n",
      "feature_row={'chroma_stft': np.float32(0.45287386), 'rmse': np.float32(0.008742805), 'spectral_centroid': np.float64(3170.1107220988556), 'spectral_bandwidth': np.float64(2783.1242922668525), 'rolloff': np.float64(6350.2512613932295), 'zero_crossing_rate': np.float64(0.19575783058449073), 'mfcc1': np.float32(-438.57703), 'mfcc2': np.float32(58.458504), 'mfcc3': np.float32(-15.639629), 'mfcc4': np.float32(-0.3369718), 'mfcc5': np.float32(-7.999992), 'mfcc6': np.float32(-7.9802732), 'mfcc7': np.float32(-12.196094), 'mfcc8': np.float32(-14.8953905), 'mfcc9': np.float32(-11.710169), 'mfcc10': np.float32(-9.226286), 'mfcc11': np.float32(-12.909379), 'mfcc12': np.float32(-8.971398), 'mfcc13': np.float32(-7.7952914), 'mfcc14': np.float32(-0.23352672), 'mfcc15': np.float32(-8.703688), 'mfcc16': np.float32(-3.4917223), 'mfcc17': np.float32(-9.931315), 'mfcc18': np.float32(-3.0444913), 'mfcc19': np.float32(-4.962888), 'mfcc20': np.float32(-1.1015704), 'filename': '8FXX56zpypA_ 30.000_ 40.000.wav', 'label': 'not_covid'}\n",
      "feature_row type: <class 'dict'>\n",
      "feature_row={'chroma_stft': np.float32(0.39689636), 'rmse': np.float32(0.05925158), 'spectral_centroid': np.float64(2730.586638676352), 'spectral_bandwidth': np.float64(2501.896231833203), 'rolloff': np.float64(5478.0568440755205), 'zero_crossing_rate': np.float64(0.14699300130208334), 'mfcc1': np.float32(-211.63284), 'mfcc2': np.float32(73.72376), 'mfcc3': np.float32(-7.5945044), 'mfcc4': np.float32(21.688047), 'mfcc5': np.float32(-3.2091212), 'mfcc6': np.float32(2.8725178), 'mfcc7': np.float32(-13.984725), 'mfcc8': np.float32(-3.347488), 'mfcc9': np.float32(-16.612772), 'mfcc10': np.float32(-6.329812), 'mfcc11': np.float32(-6.8034863), 'mfcc12': np.float32(-3.53882), 'mfcc13': np.float32(-4.9451137), 'mfcc14': np.float32(-4.6792755), 'mfcc15': np.float32(-8.720168), 'mfcc16': np.float32(-0.28630248), 'mfcc17': np.float32(-2.5961807), 'mfcc18': np.float32(0.14888255), 'mfcc19': np.float32(4.163921), 'mfcc20': np.float32(0.7848011), 'filename': '8ieJbzu7ql8_ 20.000_ 30.000.wav', 'label': 'not_covid'}\n",
      "feature_row type: <class 'dict'>\n",
      "feature_row={'chroma_stft': np.float32(0.5132902), 'rmse': np.float32(0.025696589), 'spectral_centroid': np.float64(1806.7745419226), 'spectral_bandwidth': np.float64(2115.7467669092316), 'rolloff': np.float64(3839.6891276041665), 'zero_crossing_rate': np.float64(0.07866075303819445), 'mfcc1': np.float32(-418.1561), 'mfcc2': np.float32(104.40228), 'mfcc3': np.float32(1.2251712), 'mfcc4': np.float32(8.205592), 'mfcc5': np.float32(4.3098536), 'mfcc6': np.float32(6.2439814), 'mfcc7': np.float32(4.6807485), 'mfcc8': np.float32(-4.1209774), 'mfcc9': np.float32(-6.6860805), 'mfcc10': np.float32(-4.5964136), 'mfcc11': np.float32(-4.256883), 'mfcc12': np.float32(1.5293604), 'mfcc13': np.float32(0.7515424), 'mfcc14': np.float32(-3.7596655), 'mfcc15': np.float32(-2.7448606), 'mfcc16': np.float32(-1.3609151), 'mfcc17': np.float32(0.5186312), 'mfcc18': np.float32(-0.8160977), 'mfcc19': np.float32(-2.7250185), 'mfcc20': np.float32(0.06353936), 'filename': '8IhJllXxBlQ_ 30.000_ 40.000.wav', 'label': 'not_covid'}\n",
      "feature_row type: <class 'dict'>\n",
      "feature_row={'chroma_stft': np.float32(0.4780986), 'rmse': np.float32(0.022752695), 'spectral_centroid': np.float64(3669.0398302617045), 'spectral_bandwidth': np.float64(2586.541220045209), 'rolloff': np.float64(6968.7327067057295), 'zero_crossing_rate': np.float64(0.2830765335648148), 'mfcc1': np.float32(-300.88165), 'mfcc2': np.float32(59.78055), 'mfcc3': np.float32(-45.978226), 'mfcc4': np.float32(13.009049), 'mfcc5': np.float32(-10.954612), 'mfcc6': np.float32(21.146227), 'mfcc7': np.float32(-50.513363), 'mfcc8': np.float32(53.565704), 'mfcc9': np.float32(-37.482742), 'mfcc10': np.float32(26.16178), 'mfcc11': np.float32(-9.455072), 'mfcc12': np.float32(7.1958814), 'mfcc13': np.float32(1.9595886), 'mfcc14': np.float32(9.124372), 'mfcc15': np.float32(-2.9371831), 'mfcc16': np.float32(6.902163), 'mfcc17': np.float32(6.265903), 'mfcc18': np.float32(-3.8339002), 'mfcc19': np.float32(16.91888), 'mfcc20': np.float32(-3.2040205), 'filename': '8l8ghk2CDbE_ 190.000_ 200.000.wav', 'label': 'not_covid'}\n"
     ]
    },
    {
     "name": "stderr",
     "output_type": "stream",
     "text": [
      " 84%|████████▍ | 143/170 [00:04<00:00, 37.55it/s]"
     ]
    },
    {
     "name": "stdout",
     "output_type": "stream",
     "text": [
      "feature_row type: <class 'dict'>\n",
      "feature_row={'chroma_stft': np.float32(0.28011283), 'rmse': np.float32(0.04803174), 'spectral_centroid': np.float64(2397.0886483456748), 'spectral_bandwidth': np.float64(2240.9737142999707), 'rolloff': np.float64(4575.5564371744795), 'zero_crossing_rate': np.float64(0.12508138020833334), 'mfcc1': np.float32(-254.43262), 'mfcc2': np.float32(68.21283), 'mfcc3': np.float32(-43.923325), 'mfcc4': np.float32(-2.7646716), 'mfcc5': np.float32(-13.833159), 'mfcc6': np.float32(-21.328358), 'mfcc7': np.float32(-33.736298), 'mfcc8': np.float32(-16.2298), 'mfcc9': np.float32(-23.801514), 'mfcc10': np.float32(1.6260217), 'mfcc11': np.float32(-3.581808), 'mfcc12': np.float32(3.4335632), 'mfcc13': np.float32(6.674902), 'mfcc14': np.float32(-4.6318088), 'mfcc15': np.float32(-10.000891), 'mfcc16': np.float32(-14.773146), 'mfcc17': np.float32(-17.860283), 'mfcc18': np.float32(0.39643437), 'mfcc19': np.float32(-12.305699), 'mfcc20': np.float32(-8.164876), 'filename': '8yDeG7e1-9I_ 10.000_ 20.000.wav', 'label': 'not_covid'}\n",
      "feature_row type: <class 'dict'>\n",
      "feature_row={'chroma_stft': np.float32(0.53466785), 'rmse': np.float32(0.020392457), 'spectral_centroid': np.float64(2771.2250092242552), 'spectral_bandwidth': np.float64(2512.9766939059664), 'rolloff': np.float64(5461.458333333333), 'zero_crossing_rate': np.float64(0.17606834129050927), 'mfcc1': np.float32(-375.16776), 'mfcc2': np.float32(85.0608), 'mfcc3': np.float32(-25.335955), 'mfcc4': np.float32(2.4898448), 'mfcc5': np.float32(-2.1765363), 'mfcc6': np.float32(-5.1581845), 'mfcc7': np.float32(-0.44128573), 'mfcc8': np.float32(3.1702502), 'mfcc9': np.float32(2.9526503), 'mfcc10': np.float32(-2.2518444), 'mfcc11': np.float32(-7.724795), 'mfcc12': np.float32(9.001522), 'mfcc13': np.float32(-3.185912), 'mfcc14': np.float32(-4.3352814), 'mfcc15': np.float32(1.7832922), 'mfcc16': np.float32(-3.38004), 'mfcc17': np.float32(-5.542812), 'mfcc18': np.float32(4.6517878), 'mfcc19': np.float32(1.4682282), 'mfcc20': np.float32(-3.2467527), 'filename': '9_PvnvCyKc8_ 10.000_ 20.000.wav', 'label': 'not_covid'}\n",
      "feature_row type: <class 'dict'>\n",
      "feature_row={'chroma_stft': np.float32(0.38185173), 'rmse': np.float32(0.037022468), 'spectral_centroid': np.float64(3113.871416931973), 'spectral_bandwidth': np.float64(2934.7008420642474), 'rolloff': np.float64(6919.635009765625), 'zero_crossing_rate': np.float64(0.1623829029224537), 'mfcc1': np.float32(-278.88223), 'mfcc2': np.float32(66.806175), 'mfcc3': np.float32(-5.815797), 'mfcc4': np.float32(4.207557), 'mfcc5': np.float32(4.395787), 'mfcc6': np.float32(-3.0911252), 'mfcc7': np.float32(-16.060686), 'mfcc8': np.float32(-6.2901454), 'mfcc9': np.float32(-11.4578905), 'mfcc10': np.float32(2.5109487), 'mfcc11': np.float32(-6.2578115), 'mfcc12': np.float32(-7.795792), 'mfcc13': np.float32(-3.6824307), 'mfcc14': np.float32(6.7592354), 'mfcc15': np.float32(-4.1429157), 'mfcc16': np.float32(-0.97898686), 'mfcc17': np.float32(-2.7498977), 'mfcc18': np.float32(-3.1878107), 'mfcc19': np.float32(-7.078646), 'mfcc20': np.float32(-1.9769042), 'filename': '9h3a7fN0f-c_ 240.000_ 250.000.wav', 'label': 'not_covid'}\n",
      "feature_row type: <class 'dict'>\n",
      "feature_row={'chroma_stft': np.float32(0.34647375), 'rmse': np.float32(0.021884777), 'spectral_centroid': np.float64(2073.8219600732077), 'spectral_bandwidth': np.float64(2385.491423138299), 'rolloff': np.float64(4595.9930419921875), 'zero_crossing_rate': np.float64(0.08006230107060185), 'mfcc1': np.float32(-405.16602), 'mfcc2': np.float32(95.86275), 'mfcc3': np.float32(-2.2051404), 'mfcc4': np.float32(11.514907), 'mfcc5': np.float32(-6.0831842), 'mfcc6': np.float32(-0.44789758), 'mfcc7': np.float32(-15.475329), 'mfcc8': np.float32(-0.78039044), 'mfcc9': np.float32(9.827813), 'mfcc10': np.float32(-7.9470916), 'mfcc11': np.float32(-15.900775), 'mfcc12': np.float32(-2.4389315), 'mfcc13': np.float32(-10.464596), 'mfcc14': np.float32(2.7295833), 'mfcc15': np.float32(5.673193), 'mfcc16': np.float32(0.83512115), 'mfcc17': np.float32(7.3004346), 'mfcc18': np.float32(6.157777), 'mfcc19': np.float32(-5.1067677), 'mfcc20': np.float32(1.7022754), 'filename': '9hl4R896W3Y_ 100.000_ 110.000.wav', 'label': 'not_covid'}\n",
      "feature_row type: <class 'dict'>\n",
      "feature_row={'chroma_stft': np.float32(0.2549789), 'rmse': np.float32(0.028241452), 'spectral_centroid': np.float64(2512.1719850960044), 'spectral_bandwidth': np.float64(2512.5156769077903), 'rolloff': np.float64(5014.046223958333), 'zero_crossing_rate': np.float64(0.12369791666666667), 'mfcc1': np.float32(-346.4731), 'mfcc2': np.float32(73.39215), 'mfcc3': np.float32(-35.585808), 'mfcc4': np.float32(-12.204066), 'mfcc5': np.float32(-9.966779), 'mfcc6': np.float32(-21.947664), 'mfcc7': np.float32(4.263755), 'mfcc8': np.float32(-0.07453862), 'mfcc9': np.float32(-13.870065), 'mfcc10': np.float32(-17.381598), 'mfcc11': np.float32(-8.744066), 'mfcc12': np.float32(-17.428505), 'mfcc13': np.float32(-21.076464), 'mfcc14': np.float32(-9.947669), 'mfcc15': np.float32(-26.087908), 'mfcc16': np.float32(-6.359289), 'mfcc17': np.float32(-4.8887277), 'mfcc18': np.float32(7.9550495), 'mfcc19': np.float32(7.2242885), 'mfcc20': np.float32(-1.1555701), 'filename': '9k1ZuVzpF7c_ 40.000_ 50.000.wav', 'label': 'not_covid'}\n",
      "feature_row type: <class 'dict'>\n",
      "feature_row={'chroma_stft': np.float32(0.48300156), 'rmse': np.float32(0.0379886), 'spectral_centroid': np.float64(3611.8569137074733), 'spectral_bandwidth': np.float64(2641.512311576014), 'rolloff': np.float64(6566.4306640625), 'zero_crossing_rate': np.float64(0.2800948531539352), 'mfcc1': np.float32(-248.76541), 'mfcc2': np.float32(51.95248), 'mfcc3': np.float32(-8.98001), 'mfcc4': np.float32(-3.9617586), 'mfcc5': np.float32(-22.937302), 'mfcc6': np.float32(11.845873), 'mfcc7': np.float32(-19.844343), 'mfcc8': np.float32(4.996342), 'mfcc9': np.float32(-25.74888), 'mfcc10': np.float32(5.2110443), 'mfcc11': np.float32(-5.936218), 'mfcc12': np.float32(-1.8354796), 'mfcc13': np.float32(-2.4149034), 'mfcc14': np.float32(-1.2163645), 'mfcc15': np.float32(-1.8794152), 'mfcc16': np.float32(-2.2405713), 'mfcc17': np.float32(-6.528049), 'mfcc18': np.float32(-2.6257718), 'mfcc19': np.float32(-7.857102), 'mfcc20': np.float32(-7.0111723), 'filename': '9KNqsONT3-Y_ 70.000_ 80.000.wav', 'label': 'not_covid'}\n",
      "feature_row type: <class 'dict'>\n",
      "feature_row={'chroma_stft': np.float32(0.33218512), 'rmse': np.float32(0.018654792), 'spectral_centroid': np.float64(2710.2904021426048), 'spectral_bandwidth': np.float64(2296.9875852852556), 'rolloff': np.float64(5078.84521484375), 'zero_crossing_rate': np.float64(0.15628842954282407), 'mfcc1': np.float32(-328.65567), 'mfcc2': np.float32(62.877377), 'mfcc3': np.float32(-27.552858), 'mfcc4': np.float32(0.19619253), 'mfcc5': np.float32(-22.630203), 'mfcc6': np.float32(-10.738008), 'mfcc7': np.float32(-18.09631), 'mfcc8': np.float32(-15.584212), 'mfcc9': np.float32(-12.394299), 'mfcc10': np.float32(-3.693208), 'mfcc11': np.float32(-18.551682), 'mfcc12': np.float32(-1.3392576), 'mfcc13': np.float32(-9.117601), 'mfcc14': np.float32(0.18064146), 'mfcc15': np.float32(3.7529123), 'mfcc16': np.float32(0.111508474), 'mfcc17': np.float32(-1.5304424), 'mfcc18': np.float32(-0.7014491), 'mfcc19': np.float32(-5.2479405), 'mfcc20': np.float32(3.9530594), 'filename': '9kY53W3S_dE_ 0.000_ 10.000.wav', 'label': 'not_covid'}\n",
      "feature_row type: <class 'dict'>\n",
      "feature_row={'chroma_stft': np.float32(0.33345845), 'rmse': np.float32(0.020431006), 'spectral_centroid': np.float64(2577.023065303626), 'spectral_bandwidth': np.float64(3067.0209819536967), 'rolloff': np.float64(6707.1441650390625), 'zero_crossing_rate': np.float64(0.08710847077546297), 'mfcc1': np.float32(-452.81546), 'mfcc2': np.float32(52.563633), 'mfcc3': np.float32(22.70593), 'mfcc4': np.float32(16.191608), 'mfcc5': np.float32(22.22904), 'mfcc6': np.float32(10.08712), 'mfcc7': np.float32(5.5208216), 'mfcc8': np.float32(3.2654374), 'mfcc9': np.float32(-0.6453521), 'mfcc10': np.float32(-2.3420064), 'mfcc11': np.float32(-2.9926467), 'mfcc12': np.float32(-3.416841), 'mfcc13': np.float32(-2.4086893), 'mfcc14': np.float32(-0.8260399), 'mfcc15': np.float32(-2.9390032), 'mfcc16': np.float32(-0.022546697), 'mfcc17': np.float32(-6.371963), 'mfcc18': np.float32(-4.477344), 'mfcc19': np.float32(-6.301001), 'mfcc20': np.float32(-5.6376934), 'filename': '9P8waFCqbOQ_ 90.000_ 100.000.wav', 'label': 'not_covid'}\n"
     ]
    },
    {
     "name": "stderr",
     "output_type": "stream",
     "text": [
      " 89%|████████▉ | 151/170 [00:04<00:00, 37.78it/s]"
     ]
    },
    {
     "name": "stdout",
     "output_type": "stream",
     "text": [
      "feature_row type: <class 'dict'>\n",
      "feature_row={'chroma_stft': np.float32(0.27372506), 'rmse': np.float32(0.05959794), 'spectral_centroid': np.float64(1168.772736380334), 'spectral_bandwidth': np.float64(1034.3949217362172), 'rolloff': np.float64(2251.5157063802085), 'zero_crossing_rate': np.float64(0.07380054615162036), 'mfcc1': np.float32(-300.2989), 'mfcc2': np.float32(155.69766), 'mfcc3': np.float32(-30.781857), 'mfcc4': np.float32(24.6917), 'mfcc5': np.float32(0.8841994), 'mfcc6': np.float32(-39.143284), 'mfcc7': np.float32(10.474749), 'mfcc8': np.float32(9.620671), 'mfcc9': np.float32(3.6883466), 'mfcc10': np.float32(13.569569), 'mfcc11': np.float32(-12.365236), 'mfcc12': np.float32(-6.1126904), 'mfcc13': np.float32(5.010206), 'mfcc14': np.float32(-10.403535), 'mfcc15': np.float32(4.4424767), 'mfcc16': np.float32(12.158119), 'mfcc17': np.float32(-1.0241044), 'mfcc18': np.float32(7.567547), 'mfcc19': np.float32(10.107604), 'mfcc20': np.float32(2.575719), 'filename': '9pX8I7KzQAI_ 10.000_ 20.000.wav', 'label': 'not_covid'}\n",
      "feature_row type: <class 'dict'>\n",
      "feature_row={'chroma_stft': np.float32(0.32783857), 'rmse': np.float32(0.03498029), 'spectral_centroid': np.float64(1778.0515848644575), 'spectral_bandwidth': np.float64(2190.2998613405616), 'rolloff': np.float64(3688.408406575521), 'zero_crossing_rate': np.float64(0.07056116174768519), 'mfcc1': np.float32(-268.01996), 'mfcc2': np.float32(114.065056), 'mfcc3': np.float32(6.820194), 'mfcc4': np.float32(23.08364), 'mfcc5': np.float32(-9.022904), 'mfcc6': np.float32(-6.3232126), 'mfcc7': np.float32(-12.018413), 'mfcc8': np.float32(-7.49921), 'mfcc9': np.float32(-19.628956), 'mfcc10': np.float32(-6.2544107), 'mfcc11': np.float32(-7.5290523), 'mfcc12': np.float32(-8.194028), 'mfcc13': np.float32(-6.517655), 'mfcc14': np.float32(-9.94761), 'mfcc15': np.float32(-8.746044), 'mfcc16': np.float32(-4.271426), 'mfcc17': np.float32(-6.4158244), 'mfcc18': np.float32(-3.15307), 'mfcc19': np.float32(-5.119213), 'mfcc20': np.float32(1.281668), 'filename': '9WbIa8U8twQ_ 270.000_ 280.000.wav', 'label': 'not_covid'}\n",
      "feature_row type: <class 'dict'>\n",
      "feature_row={'chroma_stft': np.float32(0.4047733), 'rmse': np.float32(0.054612357), 'spectral_centroid': np.float64(2709.6737407799224), 'spectral_bandwidth': np.float64(2725.1258383213953), 'rolloff': np.float64(5825.130208333333), 'zero_crossing_rate': np.float64(0.12796585648148148), 'mfcc1': np.float32(-258.1454), 'mfcc2': np.float32(71.65726), 'mfcc3': np.float32(-3.9575155), 'mfcc4': np.float32(-12.348033), 'mfcc5': np.float32(-13.551556), 'mfcc6': np.float32(-11.892743), 'mfcc7': np.float32(-3.7974155), 'mfcc8': np.float32(2.6338637), 'mfcc9': np.float32(-4.447735), 'mfcc10': np.float32(-3.773528), 'mfcc11': np.float32(-2.908786), 'mfcc12': np.float32(-2.0163648), 'mfcc13': np.float32(-11.182271), 'mfcc14': np.float32(-0.9541962), 'mfcc15': np.float32(1.5216349), 'mfcc16': np.float32(-2.6005006), 'mfcc17': np.float32(0.2897313), 'mfcc18': np.float32(4.206702), 'mfcc19': np.float32(1.0199637), 'mfcc20': np.float32(7.1484227), 'filename': '9WNz_rrwLFE_ 20.000_ 30.000.wav', 'label': 'not_covid'}\n",
      "feature_row type: <class 'dict'>\n",
      "feature_row={'chroma_stft': np.float32(0.37998992), 'rmse': np.float32(0.13757963), 'spectral_centroid': np.float64(2138.8586709492133), 'spectral_bandwidth': np.float64(1596.793329503889), 'rolloff': np.float64(3981.25), 'zero_crossing_rate': np.float64(0.14260299117476852), 'mfcc1': np.float32(-186.90802), 'mfcc2': np.float32(86.48184), 'mfcc3': np.float32(-74.22047), 'mfcc4': np.float32(12.009575), 'mfcc5': np.float32(-35.79857), 'mfcc6': np.float32(-12.659197), 'mfcc7': np.float32(-22.955435), 'mfcc8': np.float32(-19.58052), 'mfcc9': np.float32(-0.37735197), 'mfcc10': np.float32(-7.912039), 'mfcc11': np.float32(0.72537965), 'mfcc12': np.float32(-15.594186), 'mfcc13': np.float32(0.60112005), 'mfcc14': np.float32(-3.1870697), 'mfcc15': np.float32(-4.603717), 'mfcc16': np.float32(3.7111073), 'mfcc17': np.float32(-9.477889), 'mfcc18': np.float32(8.72596), 'mfcc19': np.float32(-3.9244344), 'mfcc20': np.float32(4.162167), 'filename': '9-XHdlyHhaQ_ 30.000_ 40.000.wav', 'label': 'not_covid'}\n",
      "feature_row type: <class 'dict'>\n",
      "feature_row={'chroma_stft': np.float32(0.40022576), 'rmse': np.float32(0.009681683), 'spectral_centroid': np.float64(1950.3795860330704), 'spectral_bandwidth': np.float64(2558.2826533687507), 'rolloff': np.float64(4327.0273844401045), 'zero_crossing_rate': np.float64(0.06641981336805555), 'mfcc1': np.float32(-370.69342), 'mfcc2': np.float32(107.97647), 'mfcc3': np.float32(14.474492), 'mfcc4': np.float32(14.355708), 'mfcc5': np.float32(10.632331), 'mfcc6': np.float32(6.38466), 'mfcc7': np.float32(6.599711), 'mfcc8': np.float32(-5.6389647), 'mfcc9': np.float32(-14.816235), 'mfcc10': np.float32(-7.006483), 'mfcc11': np.float32(-6.6007214), 'mfcc12': np.float32(-6.483052), 'mfcc13': np.float32(-10.78279), 'mfcc14': np.float32(-7.5495167), 'mfcc15': np.float32(-10.677922), 'mfcc16': np.float32(-10.731294), 'mfcc17': np.float32(-14.02365), 'mfcc18': np.float32(-4.8273168), 'mfcc19': np.float32(-9.005913), 'mfcc20': np.float32(-5.5340924), 'filename': '9xpJWu2rNsY_ 10.000_ 20.000.wav', 'label': 'not_covid'}\n",
      "feature_row type: <class 'dict'>\n",
      "feature_row={'chroma_stft': np.float32(0.5210842), 'rmse': np.float32(0.0018514761), 'spectral_centroid': np.float64(2221.709983645314), 'spectral_bandwidth': np.float64(2552.837014649322), 'rolloff': np.float64(4863.911946614583), 'zero_crossing_rate': np.float64(0.0965892650462963), 'mfcc1': np.float32(-524.7021), 'mfcc2': np.float32(91.8793), 'mfcc3': np.float32(1.6616267), 'mfcc4': np.float32(24.463535), 'mfcc5': np.float32(11.430884), 'mfcc6': np.float32(14.352416), 'mfcc7': np.float32(4.7177672), 'mfcc8': np.float32(2.7375262), 'mfcc9': np.float32(6.299651), 'mfcc10': np.float32(7.867253), 'mfcc11': np.float32(-6.061353), 'mfcc12': np.float32(-3.2225332), 'mfcc13': np.float32(-3.863142), 'mfcc14': np.float32(-0.28825143), 'mfcc15': np.float32(-5.2013946), 'mfcc16': np.float32(-4.4595428), 'mfcc17': np.float32(-7.1773624), 'mfcc18': np.float32(0.6224556), 'mfcc19': np.float32(-2.4089377), 'mfcc20': np.float32(-0.00017439878), 'filename': '9XSE1pdHwSU_ 0.000_ 10.000.wav', 'label': 'not_covid'}\n",
      "feature_row type: <class 'dict'>\n",
      "feature_row={'chroma_stft': np.float32(0.6077864), 'rmse': np.float32(0.018233994), 'spectral_centroid': np.float64(3539.741106154494), 'spectral_bandwidth': np.float64(2912.0192718497497), 'rolloff': np.float64(6968.682861328125), 'zero_crossing_rate': np.float64(0.2135642722800926), 'mfcc1': np.float32(-478.44446), 'mfcc2': np.float32(53.950504), 'mfcc3': np.float32(-6.9734416), 'mfcc4': np.float32(-1.1121805), 'mfcc5': np.float32(3.5212843), 'mfcc6': np.float32(10.264197), 'mfcc7': np.float32(-6.921207), 'mfcc8': np.float32(9.441009), 'mfcc9': np.float32(-2.7385159), 'mfcc10': np.float32(2.336736), 'mfcc11': np.float32(-1.6513807), 'mfcc12': np.float32(0.69418937), 'mfcc13': np.float32(0.055751517), 'mfcc14': np.float32(1.2246351), 'mfcc15': np.float32(-1.564894), 'mfcc16': np.float32(-0.81358266), 'mfcc17': np.float32(1.6962804), 'mfcc18': np.float32(-8.386046), 'mfcc19': np.float32(0.71087784), 'mfcc20': np.float32(-1.2045593), 'filename': '9yAGKsPDM14_ 80.000_ 90.000.wav', 'label': 'not_covid'}\n",
      "feature_row type: <class 'dict'>\n",
      "feature_row={'chroma_stft': np.float32(0.5086586), 'rmse': np.float32(0.023505699), 'spectral_centroid': np.float64(2270.9266160173324), 'spectral_bandwidth': np.float64(2636.5934142982383), 'rolloff': np.float64(5359.474690755208), 'zero_crossing_rate': np.float64(0.07423457392939815), 'mfcc1': np.float32(-339.40598), 'mfcc2': np.float32(99.93102), 'mfcc3': np.float32(-6.619385), 'mfcc4': np.float32(6.1437297), 'mfcc5': np.float32(14.500274), 'mfcc6': np.float32(7.287847), 'mfcc7': np.float32(-1.622532), 'mfcc8': np.float32(8.473908), 'mfcc9': np.float32(6.97104), 'mfcc10': np.float32(4.1758685), 'mfcc11': np.float32(0.036116354), 'mfcc12': np.float32(4.4553103), 'mfcc13': np.float32(3.5982716), 'mfcc14': np.float32(9.0942745), 'mfcc15': np.float32(-2.592747), 'mfcc16': np.float32(7.5044885), 'mfcc17': np.float32(0.91411614), 'mfcc18': np.float32(2.6544652), 'mfcc19': np.float32(0.5487671), 'mfcc20': np.float32(1.7539771), 'filename': '9Zl4VUruA9I_ 120.000_ 130.000.wav', 'label': 'not_covid'}\n"
     ]
    },
    {
     "name": "stderr",
     "output_type": "stream",
     "text": [
      " 94%|█████████▎| 159/170 [00:04<00:00, 37.32it/s]"
     ]
    },
    {
     "name": "stdout",
     "output_type": "stream",
     "text": [
      "feature_row type: <class 'dict'>\n",
      "feature_row={'chroma_stft': np.float32(0.5376215), 'rmse': np.float32(0.025063338), 'spectral_centroid': np.float64(3721.3494957178414), 'spectral_bandwidth': np.float64(3008.0695846348167), 'rolloff': np.float64(7477.3549397786455), 'zero_crossing_rate': np.float64(0.2308892144097222), 'mfcc1': np.float32(-391.82346), 'mfcc2': np.float32(36.592236), 'mfcc3': np.float32(-12.568243), 'mfcc4': np.float32(-4.6052194), 'mfcc5': np.float32(-6.694262), 'mfcc6': np.float32(-7.753699), 'mfcc7': np.float32(-4.7088156), 'mfcc8': np.float32(2.176305), 'mfcc9': np.float32(-5.338379), 'mfcc10': np.float32(0.5673139), 'mfcc11': np.float32(-2.7902796), 'mfcc12': np.float32(-4.6133275), 'mfcc13': np.float32(-11.648442), 'mfcc14': np.float32(-9.091054), 'mfcc15': np.float32(-3.6552784), 'mfcc16': np.float32(-3.2927115), 'mfcc17': np.float32(-5.1680036), 'mfcc18': np.float32(-6.714993), 'mfcc19': np.float32(-7.423516), 'mfcc20': np.float32(-4.2873287), 'filename': '15lAut5Ry-U_ 70.000_ 80.000.wav', 'label': 'not_covid'}\n",
      "feature_row type: <class 'dict'>\n",
      "feature_row={'chroma_stft': np.float32(0.4863847), 'rmse': np.float32(0.01847632), 'spectral_centroid': np.float64(3096.765038619443), 'spectral_bandwidth': np.float64(1794.9657602802297), 'rolloff': np.float64(4814.6148681640625), 'zero_crossing_rate': np.float64(0.17811188874421297), 'mfcc1': np.float32(-441.93863), 'mfcc2': np.float32(15.298156), 'mfcc3': np.float32(-11.297228), 'mfcc4': np.float32(118.976845), 'mfcc5': np.float32(-34.58571), 'mfcc6': np.float32(-1.5620595), 'mfcc7': np.float32(30.630592), 'mfcc8': np.float32(-0.15961531), 'mfcc9': np.float32(19.068796), 'mfcc10': np.float32(-7.742779), 'mfcc11': np.float32(9.095348), 'mfcc12': np.float32(10.017584), 'mfcc13': np.float32(3.9487216), 'mfcc14': np.float32(4.3103085), 'mfcc15': np.float32(-1.3636506), 'mfcc16': np.float32(12.620484), 'mfcc17': np.float32(-0.9192645), 'mfcc18': np.float32(0.17783286), 'mfcc19': np.float32(5.778742), 'mfcc20': np.float32(0.7941176), 'filename': '33NSh9cvNvI_ 50.000_ 60.000.wav', 'label': 'not_covid'}\n",
      "feature_row type: <class 'dict'>\n",
      "feature_row={'chroma_stft': np.float32(0.37708926), 'rmse': np.float32(0.049746856), 'spectral_centroid': np.float64(2505.2730764944904), 'spectral_bandwidth': np.float64(2148.8494219334966), 'rolloff': np.float64(4904.8350016276045), 'zero_crossing_rate': np.float64(0.15639693648726852), 'mfcc1': np.float32(-218.92375), 'mfcc2': np.float32(86.41499), 'mfcc3': np.float32(-46.651447), 'mfcc4': np.float32(2.1501462), 'mfcc5': np.float32(-29.781864), 'mfcc6': np.float32(10.187267), 'mfcc7': np.float32(-20.1064), 'mfcc8': np.float32(8.843779), 'mfcc9': np.float32(-20.388315), 'mfcc10': np.float32(18.78041), 'mfcc11': np.float32(-8.26826), 'mfcc12': np.float32(7.3243647), 'mfcc13': np.float32(-7.969753), 'mfcc14': np.float32(4.218874), 'mfcc15': np.float32(-3.5690477), 'mfcc16': np.float32(1.090912), 'mfcc17': np.float32(-7.4897428), 'mfcc18': np.float32(2.4444723), 'mfcc19': np.float32(-1.8302361), 'mfcc20': np.float32(3.6527371), 'filename': '39IZIbmQPzA_ 40.000_ 50.000.wav', 'label': 'not_covid'}\n",
      "feature_row type: <class 'dict'>\n",
      "feature_row={'chroma_stft': np.float32(0.49994197), 'rmse': np.float32(0.0075306976), 'spectral_centroid': np.float64(4014.9316102081016), 'spectral_bandwidth': np.float64(2902.7769840004976), 'rolloff': np.float64(7221.299235026042), 'zero_crossing_rate': np.float64(0.28168854890046297), 'mfcc1': np.float32(-388.74652), 'mfcc2': np.float32(44.280827), 'mfcc3': np.float32(17.791552), 'mfcc4': np.float32(7.381507), 'mfcc5': np.float32(-9.619611), 'mfcc6': np.float32(19.746733), 'mfcc7': np.float32(-17.944675), 'mfcc8': np.float32(9.317699), 'mfcc9': np.float32(-11.809643), 'mfcc10': np.float32(3.398556), 'mfcc11': np.float32(2.5498638), 'mfcc12': np.float32(3.4001532), 'mfcc13': np.float32(0.5156579), 'mfcc14': np.float32(0.17396687), 'mfcc15': np.float32(-0.14581163), 'mfcc16': np.float32(0.26515177), 'mfcc17': np.float32(-1.46967), 'mfcc18': np.float32(1.3956084), 'mfcc19': np.float32(-3.9390345), 'mfcc20': np.float32(-1.3542641), 'filename': '40fIOkLK3j4_ 60.000_ 70.000.wav', 'label': 'not_covid'}\n",
      "feature_row type: <class 'dict'>\n",
      "feature_row={'chroma_stft': np.float32(0.62740767), 'rmse': np.float32(0.01645705), 'spectral_centroid': np.float64(779.601953447311), 'spectral_bandwidth': np.float64(1557.6925801674859), 'rolloff': np.float64(1337.5010172526042), 'zero_crossing_rate': np.float64(0.01989520037615741), 'mfcc1': np.float32(-501.05856), 'mfcc2': np.float32(144.35313), 'mfcc3': np.float32(34.777973), 'mfcc4': np.float32(33.467915), 'mfcc5': np.float32(28.307749), 'mfcc6': np.float32(18.721846), 'mfcc7': np.float32(10.284249), 'mfcc8': np.float32(9.14905), 'mfcc9': np.float32(6.9082055), 'mfcc10': np.float32(3.8075628), 'mfcc11': np.float32(1.904293), 'mfcc12': np.float32(6.1490316), 'mfcc13': np.float32(6.137913), 'mfcc14': np.float32(0.669843), 'mfcc15': np.float32(1.3448204), 'mfcc16': np.float32(2.597185), 'mfcc17': np.float32(-0.7448818), 'mfcc18': np.float32(0.4466412), 'mfcc19': np.float32(-1.890315), 'mfcc20': np.float32(0.2582659), 'filename': '42RAaEB-Jgs_ 110.000_ 120.000.wav', 'label': 'not_covid'}\n",
      "feature_row type: <class 'dict'>\n",
      "feature_row={'chroma_stft': np.float32(0.3991766), 'rmse': np.float32(0.12708901), 'spectral_centroid': np.float64(3400.7893918053305), 'spectral_bandwidth': np.float64(2619.3989197120386), 'rolloff': np.float64(6391.8223063151045), 'zero_crossing_rate': np.float64(0.23223424840856483), 'mfcc1': np.float32(-140.11153), 'mfcc2': np.float32(37.03235), 'mfcc3': np.float32(-37.771175), 'mfcc4': np.float32(-9.769294), 'mfcc5': np.float32(-12.370703), 'mfcc6': np.float32(-16.608238), 'mfcc7': np.float32(-24.974472), 'mfcc8': np.float32(-11.237357), 'mfcc9': np.float32(-15.854673), 'mfcc10': np.float32(3.5647612), 'mfcc11': np.float32(-4.4961286), 'mfcc12': np.float32(3.8474352), 'mfcc13': np.float32(-1.984787), 'mfcc14': np.float32(-0.99895716), 'mfcc15': np.float32(0.15628918), 'mfcc16': np.float32(-8.944933), 'mfcc17': np.float32(-7.4659977), 'mfcc18': np.float32(3.78934), 'mfcc19': np.float32(-8.9566765), 'mfcc20': np.float32(-1.2753686), 'filename': '43FtU9nHMxc_ 0.000_ 10.000.wav', 'label': 'not_covid'}\n",
      "feature_row type: <class 'dict'>\n",
      "feature_row={'chroma_stft': np.float32(0.38152003), 'rmse': np.float32(0.10989302), 'spectral_centroid': np.float64(2531.156794587967), 'spectral_bandwidth': np.float64(2229.727686041928), 'rolloff': np.float64(4985.036214192708), 'zero_crossing_rate': np.float64(0.14222547743055555), 'mfcc1': np.float32(-118.36113), 'mfcc2': np.float32(80.07905), 'mfcc3': np.float32(-45.42222), 'mfcc4': np.float32(14.403465), 'mfcc5': np.float32(-17.832598), 'mfcc6': np.float32(0.72331226), 'mfcc7': np.float32(-28.178885), 'mfcc8': np.float32(4.232775), 'mfcc9': np.float32(-20.172792), 'mfcc10': np.float32(5.4639835), 'mfcc11': np.float32(-21.80278), 'mfcc12': np.float32(-9.936226), 'mfcc13': np.float32(-7.1153936), 'mfcc14': np.float32(4.8896475), 'mfcc15': np.float32(-6.282489), 'mfcc16': np.float32(1.2590309), 'mfcc17': np.float32(-12.516778), 'mfcc18': np.float32(5.143612), 'mfcc19': np.float32(-12.546118), 'mfcc20': np.float32(-2.1844614), 'filename': '43MaVucRguE_ 20.000_ 30.000.wav', 'label': 'not_covid'}\n",
      "feature_row type: <class 'dict'>\n",
      "feature_row={'chroma_stft': np.float32(0.41792127), 'rmse': np.float32(0.1664654), 'spectral_centroid': np.float64(1164.0648841240293), 'spectral_bandwidth': np.float64(1016.1682441613709), 'rolloff': np.float64(2360.1786295572915), 'zero_crossing_rate': np.float64(0.06781684027777778), 'mfcc1': np.float32(-189.09479), 'mfcc2': np.float32(168.35623), 'mfcc3': np.float32(-48.814117), 'mfcc4': np.float32(19.812016), 'mfcc5': np.float32(27.286312), 'mfcc6': np.float32(-33.94482), 'mfcc7': np.float32(-5.6261067), 'mfcc8': np.float32(5.9442453), 'mfcc9': np.float32(-20.6358), 'mfcc10': np.float32(-3.2800798), 'mfcc11': np.float32(-0.37497318), 'mfcc12': np.float32(-12.593146), 'mfcc13': np.float32(-2.6538503), 'mfcc14': np.float32(-2.4068005), 'mfcc15': np.float32(-7.861898), 'mfcc16': np.float32(-1.4192543), 'mfcc17': np.float32(-2.5932286), 'mfcc18': np.float32(-3.8224218), 'mfcc19': np.float32(-0.28265566), 'mfcc20': np.float32(-2.006336), 'filename': '44nJyshuBYk_ 20.000_ 30.000.wav', 'label': 'not_covid'}\n"
     ]
    },
    {
     "name": "stderr",
     "output_type": "stream",
     "text": [
      "100%|██████████| 170/170 [00:05<00:00, 33.39it/s]"
     ]
    },
    {
     "name": "stdout",
     "output_type": "stream",
     "text": [
      "feature_row type: <class 'dict'>\n",
      "feature_row={'chroma_stft': np.float32(0.39377582), 'rmse': np.float32(0.03769275), 'spectral_centroid': np.float64(1508.5572065228096), 'spectral_bandwidth': np.float64(1274.6720092007658), 'rolloff': np.float64(2878.570556640625), 'zero_crossing_rate': np.float64(0.09217438874421297), 'mfcc1': np.float32(-323.79498), 'mfcc2': np.float32(141.36237), 'mfcc3': np.float32(-54.596825), 'mfcc4': np.float32(3.6136186), 'mfcc5': np.float32(17.430592), 'mfcc6': np.float32(-33.40338), 'mfcc7': np.float32(-3.2779849), 'mfcc8': np.float32(-7.425484), 'mfcc9': np.float32(-32.868114), 'mfcc10': np.float32(-6.246054), 'mfcc11': np.float32(-7.8538423), 'mfcc12': np.float32(-19.291525), 'mfcc13': np.float32(0.982023), 'mfcc14': np.float32(-0.08610874), 'mfcc15': np.float32(-6.359765), 'mfcc16': np.float32(6.618), 'mfcc17': np.float32(-4.924408), 'mfcc18': np.float32(-11.074166), 'mfcc19': np.float32(1.1470307), 'mfcc20': np.float32(-3.3027117), 'filename': '46IWQpa2v64_ 90.000_ 100.000.wav', 'label': 'not_covid'}\n",
      "feature_row type: <class 'dict'>\n",
      "feature_row={'chroma_stft': np.float32(0.4431322), 'rmse': np.float32(0.06283837), 'spectral_centroid': np.float64(2542.6009646843736), 'spectral_bandwidth': np.float64(2273.269210882273), 'rolloff': np.float64(4913.358561197917), 'zero_crossing_rate': np.float64(0.16278076171875), 'mfcc1': np.float32(-269.06958), 'mfcc2': np.float32(79.81784), 'mfcc3': np.float32(-39.098038), 'mfcc4': np.float32(7.6105175), 'mfcc5': np.float32(1.6166136), 'mfcc6': np.float32(-25.78087), 'mfcc7': np.float32(-26.401407), 'mfcc8': np.float32(-3.075107), 'mfcc9': np.float32(-16.435534), 'mfcc10': np.float32(-2.6400146), 'mfcc11': np.float32(-10.897516), 'mfcc12': np.float32(-2.0370572), 'mfcc13': np.float32(-13.440751), 'mfcc14': np.float32(-2.1292446), 'mfcc15': np.float32(-13.933376), 'mfcc16': np.float32(1.1974883), 'mfcc17': np.float32(-4.1768026), 'mfcc18': np.float32(2.8341625), 'mfcc19': np.float32(2.3856685), 'mfcc20': np.float32(11.461471), 'filename': '60NM10sTc9c_ 20.000_ 30.000.wav', 'label': 'not_covid'}\n",
      "feature_row type: <class 'dict'>\n",
      "feature_row={'chroma_stft': np.float32(0.41057223), 'rmse': np.float32(0.044292405), 'spectral_centroid': np.float64(3909.2846201519747), 'spectral_bandwidth': np.float64(2563.734664884587), 'rolloff': np.float64(6912.9058837890625), 'zero_crossing_rate': np.float64(0.29124394169560186), 'mfcc1': np.float32(-216.49376), 'mfcc2': np.float32(31.41271), 'mfcc3': np.float32(-21.301058), 'mfcc4': np.float32(8.729433), 'mfcc5': np.float32(-16.858822), 'mfcc6': np.float32(-7.0737467), 'mfcc7': np.float32(-28.834805), 'mfcc8': np.float32(16.37632), 'mfcc9': np.float32(-22.830656), 'mfcc10': np.float32(1.2348391), 'mfcc11': np.float32(-1.7712369), 'mfcc12': np.float32(3.1903534), 'mfcc13': np.float32(-3.4837081), 'mfcc14': np.float32(3.4951472), 'mfcc15': np.float32(3.3529444), 'mfcc16': np.float32(-0.6730265), 'mfcc17': np.float32(1.6700233), 'mfcc18': np.float32(6.5764065), 'mfcc19': np.float32(-1.4463903), 'mfcc20': np.float32(4.9991736), 'filename': '64Ymtt704So_ 50.000_ 60.000.wav', 'label': 'not_covid'}\n",
      "feature_row type: <class 'dict'>\n",
      "feature_row={'chroma_stft': np.float32(0.49400225), 'rmse': np.float32(0.0050907005), 'spectral_centroid': np.float64(1601.5177552753), 'spectral_bandwidth': np.float64(2301.426513088363), 'rolloff': np.float64(3662.6383463541665), 'zero_crossing_rate': np.float64(0.04781539351851852), 'mfcc1': np.float32(-543.93933), 'mfcc2': np.float32(119.11505), 'mfcc3': np.float32(23.88849), 'mfcc4': np.float32(23.672983), 'mfcc5': np.float32(8.677973), 'mfcc6': np.float32(10.82644), 'mfcc7': np.float32(1.7043161), 'mfcc8': np.float32(7.778721), 'mfcc9': np.float32(1.6772659), 'mfcc10': np.float32(3.6838093), 'mfcc11': np.float32(-2.6596541), 'mfcc12': np.float32(-1.2476948), 'mfcc13': np.float32(-2.6406004), 'mfcc14': np.float32(1.6309501), 'mfcc15': np.float32(0.6604857), 'mfcc16': np.float32(1.6167479), 'mfcc17': np.float32(-2.4730585), 'mfcc18': np.float32(0.6659199), 'mfcc19': np.float32(-5.397944), 'mfcc20': np.float32(-1.2999748), 'filename': '-bZrDCS8KAg_ 70.000_ 80.000.wav', 'label': 'not_covid'}\n",
      "feature_row type: <class 'dict'>\n",
      "feature_row={'chroma_stft': np.float32(0.40045986), 'rmse': np.float32(0.052107148), 'spectral_centroid': np.float64(2664.429263806946), 'spectral_bandwidth': np.float64(2563.5186731721956), 'rolloff': np.float64(5518.4315999348955), 'zero_crossing_rate': np.float64(0.12151421440972222), 'mfcc1': np.float32(-290.9615), 'mfcc2': np.float32(85.46466), 'mfcc3': np.float32(-10.990861), 'mfcc4': np.float32(10.985048), 'mfcc5': np.float32(1.2313823), 'mfcc6': np.float32(9.796389), 'mfcc7': np.float32(0.3214189), 'mfcc8': np.float32(-7.221658), 'mfcc9': np.float32(-2.823822), 'mfcc10': np.float32(2.9794505), 'mfcc11': np.float32(-8.841148), 'mfcc12': np.float32(-4.6285667), 'mfcc13': np.float32(-7.4163036), 'mfcc14': np.float32(-4.5068927), 'mfcc15': np.float32(-7.48081), 'mfcc16': np.float32(-4.8601775), 'mfcc17': np.float32(-6.3345113), 'mfcc18': np.float32(-5.0113444), 'mfcc19': np.float32(-8.423484), 'mfcc20': np.float32(-0.84570587), 'filename': '-ej81N6Aqo4_ 0.000_ 8.000.wav', 'label': 'not_covid'}\n",
      "feature_row type: <class 'dict'>\n",
      "feature_row={'chroma_stft': np.float32(0.7045035), 'rmse': np.float32(0.05853992), 'spectral_centroid': np.float64(3090.063143569123), 'spectral_bandwidth': np.float64(2740.9027755414127), 'rolloff': np.float64(6531.0902913411455), 'zero_crossing_rate': np.float64(0.1790771484375), 'mfcc1': np.float32(-75.81758), 'mfcc2': np.float32(68.87596), 'mfcc3': np.float32(-11.66106), 'mfcc4': np.float32(17.17953), 'mfcc5': np.float32(-4.759246), 'mfcc6': np.float32(2.0422978), 'mfcc7': np.float32(-8.551731), 'mfcc8': np.float32(5.3632374), 'mfcc9': np.float32(-4.751859), 'mfcc10': np.float32(5.720988), 'mfcc11': np.float32(-6.863299), 'mfcc12': np.float32(0.68807954), 'mfcc13': np.float32(-7.519141), 'mfcc14': np.float32(0.6089908), 'mfcc15': np.float32(-6.63144), 'mfcc16': np.float32(0.6584465), 'mfcc17': np.float32(-4.1302857), 'mfcc18': np.float32(0.7206727), 'mfcc19': np.float32(-4.663277), 'mfcc20': np.float32(-0.6498109), 'filename': '-gvLnl1smfs_ 90.000_ 100.000.wav', 'label': 'not_covid'}\n",
      "feature_row type: <class 'dict'>\n",
      "feature_row={'chroma_stft': np.float32(0.42442736), 'rmse': np.float32(0.044151228), 'spectral_centroid': np.float64(3174.170083233157), 'spectral_bandwidth': np.float64(2482.8894607635734), 'rolloff': np.float64(5768.206787109375), 'zero_crossing_rate': np.float64(0.2217429832175926), 'mfcc1': np.float32(-264.29285), 'mfcc2': np.float32(58.730362), 'mfcc3': np.float32(-7.4441547), 'mfcc4': np.float32(15.067247), 'mfcc5': np.float32(-24.53856), 'mfcc6': np.float32(-7.7509956), 'mfcc7': np.float32(-29.141836), 'mfcc8': np.float32(1.8174874), 'mfcc9': np.float32(-19.10742), 'mfcc10': np.float32(-9.144321), 'mfcc11': np.float32(-3.3562968), 'mfcc12': np.float32(-0.6348916), 'mfcc13': np.float32(0.6779838), 'mfcc14': np.float32(-3.6503866), 'mfcc15': np.float32(-6.033736), 'mfcc16': np.float32(1.209816), 'mfcc17': np.float32(-14.92458), 'mfcc18': np.float32(-11.1883), 'mfcc19': np.float32(-8.857522), 'mfcc20': np.float32(-5.0926695), 'filename': '-hu5q-Nn4BM_ 70.000_ 80.000.wav', 'label': 'not_covid'}\n",
      "feature_row type: <class 'dict'>\n",
      "feature_row={'chroma_stft': np.float32(0.4343417), 'rmse': np.float32(0.10398103), 'spectral_centroid': np.float64(3006.723594609948), 'spectral_bandwidth': np.float64(2270.1817746223), 'rolloff': np.float64(5384.0484619140625), 'zero_crossing_rate': np.float64(0.22538474754050927), 'mfcc1': np.float32(-113.81932), 'mfcc2': np.float32(61.588413), 'mfcc3': np.float32(-50.125786), 'mfcc4': np.float32(13.727833), 'mfcc5': np.float32(-3.8529956), 'mfcc6': np.float32(-16.066572), 'mfcc7': np.float32(-11.129876), 'mfcc8': np.float32(6.1272106), 'mfcc9': np.float32(-32.134502), 'mfcc10': np.float32(14.280122), 'mfcc11': np.float32(-8.903728), 'mfcc12': np.float32(1.9191098), 'mfcc13': np.float32(-8.434349), 'mfcc14': np.float32(2.8002927), 'mfcc15': np.float32(-6.146794), 'mfcc16': np.float32(-4.1732764), 'mfcc17': np.float32(-7.066526), 'mfcc18': np.float32(-0.9816587), 'mfcc19': np.float32(0.55039966), 'mfcc20': np.float32(-1.2453825), 'filename': '-jLQkyDhIxw_ 10.000_ 20.000.wav', 'label': 'not_covid'}\n"
     ]
    },
    {
     "name": "stderr",
     "output_type": "stream",
     "text": [
      "\n"
     ]
    },
    {
     "data": {
      "text/html": [
       "<div>\n",
       "<style scoped>\n",
       "    .dataframe tbody tr th:only-of-type {\n",
       "        vertical-align: middle;\n",
       "    }\n",
       "\n",
       "    .dataframe tbody tr th {\n",
       "        vertical-align: top;\n",
       "    }\n",
       "\n",
       "    .dataframe thead th {\n",
       "        text-align: right;\n",
       "    }\n",
       "</style>\n",
       "<table border=\"1\" class=\"dataframe\">\n",
       "  <thead>\n",
       "    <tr style=\"text-align: right;\">\n",
       "      <th></th>\n",
       "      <th>filename</th>\n",
       "      <th>chroma_stft</th>\n",
       "      <th>rmse</th>\n",
       "      <th>spectral_centroid</th>\n",
       "      <th>spectral_bandwidth</th>\n",
       "      <th>rolloff</th>\n",
       "      <th>zero_crossing_rate</th>\n",
       "      <th>mfcc1</th>\n",
       "      <th>mfcc2</th>\n",
       "      <th>mfcc3</th>\n",
       "      <th>...</th>\n",
       "      <th>mfcc12</th>\n",
       "      <th>mfcc13</th>\n",
       "      <th>mfcc14</th>\n",
       "      <th>mfcc15</th>\n",
       "      <th>mfcc16</th>\n",
       "      <th>mfcc17</th>\n",
       "      <th>mfcc18</th>\n",
       "      <th>mfcc19</th>\n",
       "      <th>mfcc20</th>\n",
       "      <th>label</th>\n",
       "    </tr>\n",
       "  </thead>\n",
       "  <tbody>\n",
       "    <tr>\n",
       "      <th>0</th>\n",
       "      <td>0v8MGxNetjg_ 10.000_ 20.000.wav</td>\n",
       "      <td>0.520202</td>\n",
       "      <td>0.045849</td>\n",
       "      <td>1613.207268</td>\n",
       "      <td>1412.419947</td>\n",
       "      <td>2908.029175</td>\n",
       "      <td>0.107019</td>\n",
       "      <td>-377.008667</td>\n",
       "      <td>110.928284</td>\n",
       "      <td>-31.870615</td>\n",
       "      <td>...</td>\n",
       "      <td>-7.442677</td>\n",
       "      <td>-1.042071</td>\n",
       "      <td>-0.211678</td>\n",
       "      <td>-3.513029</td>\n",
       "      <td>-1.755283</td>\n",
       "      <td>-3.029743</td>\n",
       "      <td>-2.873752</td>\n",
       "      <td>-2.084186</td>\n",
       "      <td>-4.006258</td>\n",
       "      <td>not_covid</td>\n",
       "    </tr>\n",
       "    <tr>\n",
       "      <th>1</th>\n",
       "      <td>1j1duoxdxBg_ 70.000_ 80.000.wav</td>\n",
       "      <td>0.535920</td>\n",
       "      <td>0.001767</td>\n",
       "      <td>2892.900311</td>\n",
       "      <td>2467.700045</td>\n",
       "      <td>5074.209595</td>\n",
       "      <td>0.148584</td>\n",
       "      <td>-519.298096</td>\n",
       "      <td>60.833210</td>\n",
       "      <td>-13.686949</td>\n",
       "      <td>...</td>\n",
       "      <td>-0.897269</td>\n",
       "      <td>7.246154</td>\n",
       "      <td>-1.711322</td>\n",
       "      <td>3.879874</td>\n",
       "      <td>3.637301</td>\n",
       "      <td>3.026382</td>\n",
       "      <td>2.439105</td>\n",
       "      <td>2.778507</td>\n",
       "      <td>2.209200</td>\n",
       "      <td>not_covid</td>\n",
       "    </tr>\n",
       "    <tr>\n",
       "      <th>2</th>\n",
       "      <td>1MSYO4wgiag_ 120.000_ 130.000.wav</td>\n",
       "      <td>0.495701</td>\n",
       "      <td>0.033442</td>\n",
       "      <td>3429.345493</td>\n",
       "      <td>2788.624736</td>\n",
       "      <td>6887.833659</td>\n",
       "      <td>0.225315</td>\n",
       "      <td>-282.546631</td>\n",
       "      <td>48.550930</td>\n",
       "      <td>-15.530038</td>\n",
       "      <td>...</td>\n",
       "      <td>-6.072834</td>\n",
       "      <td>-4.181358</td>\n",
       "      <td>0.995803</td>\n",
       "      <td>-0.526878</td>\n",
       "      <td>0.544949</td>\n",
       "      <td>-8.846841</td>\n",
       "      <td>-2.909318</td>\n",
       "      <td>-1.115006</td>\n",
       "      <td>-5.921741</td>\n",
       "      <td>not_covid</td>\n",
       "    </tr>\n",
       "    <tr>\n",
       "      <th>3</th>\n",
       "      <td>1PajbAKd8Kg_ 0.000_ 10.000.wav</td>\n",
       "      <td>0.407945</td>\n",
       "      <td>0.013446</td>\n",
       "      <td>2710.614837</td>\n",
       "      <td>2664.172992</td>\n",
       "      <td>5778.325399</td>\n",
       "      <td>0.142076</td>\n",
       "      <td>-346.925903</td>\n",
       "      <td>75.774315</td>\n",
       "      <td>-7.640137</td>\n",
       "      <td>...</td>\n",
       "      <td>5.065131</td>\n",
       "      <td>-0.284327</td>\n",
       "      <td>0.986260</td>\n",
       "      <td>-2.453420</td>\n",
       "      <td>3.691722</td>\n",
       "      <td>2.317096</td>\n",
       "      <td>-2.061888</td>\n",
       "      <td>-4.779807</td>\n",
       "      <td>-0.513034</td>\n",
       "      <td>not_covid</td>\n",
       "    </tr>\n",
       "    <tr>\n",
       "      <th>4</th>\n",
       "      <td>cov1.wav</td>\n",
       "      <td>0.419498</td>\n",
       "      <td>0.059004</td>\n",
       "      <td>1581.131990</td>\n",
       "      <td>1444.274548</td>\n",
       "      <td>2926.576299</td>\n",
       "      <td>0.152784</td>\n",
       "      <td>-340.571655</td>\n",
       "      <td>104.133537</td>\n",
       "      <td>-32.205322</td>\n",
       "      <td>...</td>\n",
       "      <td>-8.268666</td>\n",
       "      <td>0.961192</td>\n",
       "      <td>-5.721938</td>\n",
       "      <td>-6.306130</td>\n",
       "      <td>-1.100168</td>\n",
       "      <td>-1.792877</td>\n",
       "      <td>-2.538296</td>\n",
       "      <td>-3.665395</td>\n",
       "      <td>-3.582565</td>\n",
       "      <td>covid</td>\n",
       "    </tr>\n",
       "  </tbody>\n",
       "</table>\n",
       "<p>5 rows × 28 columns</p>\n",
       "</div>"
      ],
      "text/plain": [
       "                            filename  chroma_stft      rmse  \\\n",
       "0    0v8MGxNetjg_ 10.000_ 20.000.wav     0.520202  0.045849   \n",
       "1    1j1duoxdxBg_ 70.000_ 80.000.wav     0.535920  0.001767   \n",
       "2  1MSYO4wgiag_ 120.000_ 130.000.wav     0.495701  0.033442   \n",
       "3     1PajbAKd8Kg_ 0.000_ 10.000.wav     0.407945  0.013446   \n",
       "4                           cov1.wav     0.419498  0.059004   \n",
       "\n",
       "   spectral_centroid  spectral_bandwidth      rolloff  zero_crossing_rate  \\\n",
       "0        1613.207268         1412.419947  2908.029175            0.107019   \n",
       "1        2892.900311         2467.700045  5074.209595            0.148584   \n",
       "2        3429.345493         2788.624736  6887.833659            0.225315   \n",
       "3        2710.614837         2664.172992  5778.325399            0.142076   \n",
       "4        1581.131990         1444.274548  2926.576299            0.152784   \n",
       "\n",
       "        mfcc1       mfcc2      mfcc3  ...    mfcc12    mfcc13    mfcc14  \\\n",
       "0 -377.008667  110.928284 -31.870615  ... -7.442677 -1.042071 -0.211678   \n",
       "1 -519.298096   60.833210 -13.686949  ... -0.897269  7.246154 -1.711322   \n",
       "2 -282.546631   48.550930 -15.530038  ... -6.072834 -4.181358  0.995803   \n",
       "3 -346.925903   75.774315  -7.640137  ...  5.065131 -0.284327  0.986260   \n",
       "4 -340.571655  104.133537 -32.205322  ... -8.268666  0.961192 -5.721938   \n",
       "\n",
       "     mfcc15    mfcc16    mfcc17    mfcc18    mfcc19    mfcc20      label  \n",
       "0 -3.513029 -1.755283 -3.029743 -2.873752 -2.084186 -4.006258  not_covid  \n",
       "1  3.879874  3.637301  3.026382  2.439105  2.778507  2.209200  not_covid  \n",
       "2 -0.526878  0.544949 -8.846841 -2.909318 -1.115006 -5.921741  not_covid  \n",
       "3 -2.453420  3.691722  2.317096 -2.061888 -4.779807 -0.513034  not_covid  \n",
       "4 -6.306130 -1.100168 -1.792877 -2.538296 -3.665395 -3.582565      covid  \n",
       "\n",
       "[5 rows x 28 columns]"
      ]
     },
     "execution_count": 4,
     "metadata": {},
     "output_type": "execute_result"
    }
   ],
   "source": [
    "df_features_cols = ['filename', 'chroma_stft', 'rmse', 'spectral_centroid', 'spectral_bandwidth', 'rolloff', 'zero_crossing_rate']\n",
    "for i in range(1, 21):\n",
    "    df_features_cols.append(f'mfcc{i}')\n",
    "df_features_cols.append('label')\n",
    "\n",
    "df_features = pd.DataFrame(columns=df_features_cols)\n",
    "\n",
    "for row_index, row in tqdm(df_dataset.iterrows(), total=len(df_dataset)):\n",
    "    fn_wav = os.path.join('data/kaggle/trial_covid/', row['file_properties'])\n",
    "    feature_row = preproces(fn_wav)\n",
    "    feature_row['filename'] = row['file_properties']\n",
    "    feature_row['label'] = row['class']\n",
    "    feature_row_df = pd.DataFrame([feature_row]) \n",
    "    print(f\"feature_row type: {type(feature_row)}\")\n",
    "    print(f\"{feature_row=}\")\n",
    "    \n",
    "    df_features = pd.concat([df_features, feature_row_df], ignore_index=True)\n",
    "    \n",
    "df_features.to_csv('data/prepared_data_kaggle.csv', index=False, columns=df_features_cols)\n",
    "\n",
    "df_features.head()"
   ]
  },
  {
   "cell_type": "markdown",
   "metadata": {},
   "source": [
    "## Virufy Dataset - Exploration"
   ]
  },
  {
   "cell_type": "code",
   "execution_count": 5,
   "metadata": {},
   "outputs": [
    {
     "name": "stdout",
     "output_type": "stream",
     "text": [
      "Total number of examples: 121\n",
      "Number of positive examples: 48\n",
      "Number of negative examples: 73\n"
     ]
    },
    {
     "data": {
      "text/html": [
       "<div>\n",
       "<style scoped>\n",
       "    .dataframe tbody tr th:only-of-type {\n",
       "        vertical-align: middle;\n",
       "    }\n",
       "\n",
       "    .dataframe tbody tr th {\n",
       "        vertical-align: top;\n",
       "    }\n",
       "\n",
       "    .dataframe thead th {\n",
       "        text-align: right;\n",
       "    }\n",
       "</style>\n",
       "<table border=\"1\" class=\"dataframe\">\n",
       "  <thead>\n",
       "    <tr style=\"text-align: right;\">\n",
       "      <th></th>\n",
       "      <th>file_properties</th>\n",
       "      <th>class</th>\n",
       "    </tr>\n",
       "  </thead>\n",
       "  <tbody>\n",
       "    <tr>\n",
       "      <th>0</th>\n",
       "      <td>data/virufy/clinical/segmented/pos/pos-0421-09...</td>\n",
       "      <td>covid</td>\n",
       "    </tr>\n",
       "    <tr>\n",
       "      <th>1</th>\n",
       "      <td>data/virufy/clinical/segmented/pos/pos-0421-08...</td>\n",
       "      <td>covid</td>\n",
       "    </tr>\n",
       "    <tr>\n",
       "      <th>2</th>\n",
       "      <td>data/virufy/clinical/segmented/pos/pos-0421-08...</td>\n",
       "      <td>covid</td>\n",
       "    </tr>\n",
       "    <tr>\n",
       "      <th>3</th>\n",
       "      <td>data/virufy/clinical/segmented/pos/pos-0421-09...</td>\n",
       "      <td>covid</td>\n",
       "    </tr>\n",
       "    <tr>\n",
       "      <th>4</th>\n",
       "      <td>data/virufy/clinical/segmented/pos/pos-0421-08...</td>\n",
       "      <td>covid</td>\n",
       "    </tr>\n",
       "  </tbody>\n",
       "</table>\n",
       "</div>"
      ],
      "text/plain": [
       "                                     file_properties  class\n",
       "0  data/virufy/clinical/segmented/pos/pos-0421-09...  covid\n",
       "1  data/virufy/clinical/segmented/pos/pos-0421-08...  covid\n",
       "2  data/virufy/clinical/segmented/pos/pos-0421-08...  covid\n",
       "3  data/virufy/clinical/segmented/pos/pos-0421-09...  covid\n",
       "4  data/virufy/clinical/segmented/pos/pos-0421-08...  covid"
      ]
     },
     "execution_count": 5,
     "metadata": {},
     "output_type": "execute_result"
    }
   ],
   "source": [
    "df_dataset = pd.DataFrame(columns=['file_properties', 'class'])\n",
    "for fn in glob.glob('data/virufy/clinical/segmented/pos/*.mp3'):\n",
    "    new_row = pd.DataFrame([{'file_properties': fn, 'class': 'covid'}])\n",
    "    df_dataset = pd.concat([df_dataset, new_row], ignore_index=True)\n",
    "    \n",
    "for fn in glob.glob('data/virufy/clinical/segmented/neg/*.mp3'):\n",
    "    new_row = pd.DataFrame([{'file_properties': fn, 'class': 'not_covid'}])\n",
    "    df_dataset = pd.concat([df_dataset, new_row], ignore_index=True)\n",
    "\n",
    "print('Total number of examples:', len(df_dataset))\n",
    "print('Number of positive examples:', len(df_dataset[df_dataset['class'] == 'covid']))\n",
    "print('Number of negative examples:', len(df_dataset[df_dataset['class'] == 'not_covid']))\n",
    "\n",
    "df_dataset.head()"
   ]
  },
  {
   "cell_type": "markdown",
   "metadata": {},
   "source": [
    "## Virufy Dataset - Feature Extraction"
   ]
  },
  {
   "cell_type": "code",
   "execution_count": 6,
   "metadata": {},
   "outputs": [
    {
     "name": "stderr",
     "output_type": "stream",
     "text": [
      "  0%|          | 0/121 [00:00<?, ?it/s]/var/folders/js/4gyf2ycn0psfjp__7974j73h0000gn/T/ipykernel_34578/4044096984.py:15: FutureWarning: The behavior of DataFrame concatenation with empty or all-NA entries is deprecated. In a future version, this will no longer exclude empty or all-NA columns when determining the result dtypes. To retain the old behavior, exclude the relevant entries before the concat operation.\n",
      "  df_features = pd.concat([df_features, new_row], ignore_index=True)\n",
      "100%|██████████| 121/121 [00:01<00:00, 95.74it/s]\n"
     ]
    },
    {
     "data": {
      "text/html": [
       "<div>\n",
       "<style scoped>\n",
       "    .dataframe tbody tr th:only-of-type {\n",
       "        vertical-align: middle;\n",
       "    }\n",
       "\n",
       "    .dataframe tbody tr th {\n",
       "        vertical-align: top;\n",
       "    }\n",
       "\n",
       "    .dataframe thead th {\n",
       "        text-align: right;\n",
       "    }\n",
       "</style>\n",
       "<table border=\"1\" class=\"dataframe\">\n",
       "  <thead>\n",
       "    <tr style=\"text-align: right;\">\n",
       "      <th></th>\n",
       "      <th>filename</th>\n",
       "      <th>chroma_stft</th>\n",
       "      <th>rmse</th>\n",
       "      <th>spectral_centroid</th>\n",
       "      <th>spectral_bandwidth</th>\n",
       "      <th>rolloff</th>\n",
       "      <th>zero_crossing_rate</th>\n",
       "      <th>mfcc1</th>\n",
       "      <th>mfcc2</th>\n",
       "      <th>mfcc3</th>\n",
       "      <th>...</th>\n",
       "      <th>mfcc12</th>\n",
       "      <th>mfcc13</th>\n",
       "      <th>mfcc14</th>\n",
       "      <th>mfcc15</th>\n",
       "      <th>mfcc16</th>\n",
       "      <th>mfcc17</th>\n",
       "      <th>mfcc18</th>\n",
       "      <th>mfcc19</th>\n",
       "      <th>mfcc20</th>\n",
       "      <th>label</th>\n",
       "    </tr>\n",
       "  </thead>\n",
       "  <tbody>\n",
       "    <tr>\n",
       "      <th>0</th>\n",
       "      <td>data/virufy/clinical/segmented/pos/pos-0421-09...</td>\n",
       "      <td>0.272518</td>\n",
       "      <td>0.036754</td>\n",
       "      <td>1473.896890</td>\n",
       "      <td>1058.754038</td>\n",
       "      <td>2701.480766</td>\n",
       "      <td>0.098930</td>\n",
       "      <td>-404.255646</td>\n",
       "      <td>39.482182</td>\n",
       "      <td>-16.925148</td>\n",
       "      <td>...</td>\n",
       "      <td>-8.684143</td>\n",
       "      <td>2.136139</td>\n",
       "      <td>-10.936313</td>\n",
       "      <td>-3.605832</td>\n",
       "      <td>-7.265744</td>\n",
       "      <td>-6.121864</td>\n",
       "      <td>-3.701175</td>\n",
       "      <td>-3.240735</td>\n",
       "      <td>-1.080302</td>\n",
       "      <td>covid</td>\n",
       "    </tr>\n",
       "    <tr>\n",
       "      <th>1</th>\n",
       "      <td>data/virufy/clinical/segmented/pos/pos-0421-08...</td>\n",
       "      <td>0.276321</td>\n",
       "      <td>0.043814</td>\n",
       "      <td>1224.418615</td>\n",
       "      <td>1208.307265</td>\n",
       "      <td>2497.695525</td>\n",
       "      <td>0.055084</td>\n",
       "      <td>-400.812592</td>\n",
       "      <td>62.268505</td>\n",
       "      <td>-16.245691</td>\n",
       "      <td>...</td>\n",
       "      <td>-11.435379</td>\n",
       "      <td>0.148284</td>\n",
       "      <td>-8.326172</td>\n",
       "      <td>2.726310</td>\n",
       "      <td>-2.230798</td>\n",
       "      <td>-7.817071</td>\n",
       "      <td>-3.412647</td>\n",
       "      <td>-5.863157</td>\n",
       "      <td>-7.264128</td>\n",
       "      <td>covid</td>\n",
       "    </tr>\n",
       "    <tr>\n",
       "      <th>2</th>\n",
       "      <td>data/virufy/clinical/segmented/pos/pos-0421-08...</td>\n",
       "      <td>0.208420</td>\n",
       "      <td>0.048000</td>\n",
       "      <td>939.238438</td>\n",
       "      <td>969.471365</td>\n",
       "      <td>1897.418478</td>\n",
       "      <td>0.042183</td>\n",
       "      <td>-403.617126</td>\n",
       "      <td>63.268513</td>\n",
       "      <td>-15.479023</td>\n",
       "      <td>...</td>\n",
       "      <td>-12.407788</td>\n",
       "      <td>1.018580</td>\n",
       "      <td>-7.709322</td>\n",
       "      <td>2.080070</td>\n",
       "      <td>-5.201088</td>\n",
       "      <td>-6.287008</td>\n",
       "      <td>-4.227909</td>\n",
       "      <td>-5.575505</td>\n",
       "      <td>-4.308343</td>\n",
       "      <td>covid</td>\n",
       "    </tr>\n",
       "    <tr>\n",
       "      <th>3</th>\n",
       "      <td>data/virufy/clinical/segmented/pos/pos-0421-09...</td>\n",
       "      <td>0.230346</td>\n",
       "      <td>0.034436</td>\n",
       "      <td>1209.103502</td>\n",
       "      <td>873.038305</td>\n",
       "      <td>2154.256539</td>\n",
       "      <td>0.076335</td>\n",
       "      <td>-429.320099</td>\n",
       "      <td>38.543488</td>\n",
       "      <td>-17.620708</td>\n",
       "      <td>...</td>\n",
       "      <td>-8.519915</td>\n",
       "      <td>3.917390</td>\n",
       "      <td>-5.926056</td>\n",
       "      <td>-1.774840</td>\n",
       "      <td>-8.039624</td>\n",
       "      <td>-3.852785</td>\n",
       "      <td>-3.196847</td>\n",
       "      <td>-5.028732</td>\n",
       "      <td>-3.603700</td>\n",
       "      <td>covid</td>\n",
       "    </tr>\n",
       "    <tr>\n",
       "      <th>4</th>\n",
       "      <td>data/virufy/clinical/segmented/pos/pos-0421-08...</td>\n",
       "      <td>0.194970</td>\n",
       "      <td>0.054764</td>\n",
       "      <td>853.326698</td>\n",
       "      <td>801.330394</td>\n",
       "      <td>1730.926248</td>\n",
       "      <td>0.045983</td>\n",
       "      <td>-383.213074</td>\n",
       "      <td>58.167488</td>\n",
       "      <td>-24.574657</td>\n",
       "      <td>...</td>\n",
       "      <td>-12.978526</td>\n",
       "      <td>-0.129669</td>\n",
       "      <td>-8.502338</td>\n",
       "      <td>0.849606</td>\n",
       "      <td>-5.515317</td>\n",
       "      <td>-7.303607</td>\n",
       "      <td>-6.067671</td>\n",
       "      <td>-5.781034</td>\n",
       "      <td>-2.047338</td>\n",
       "      <td>covid</td>\n",
       "    </tr>\n",
       "  </tbody>\n",
       "</table>\n",
       "<p>5 rows × 28 columns</p>\n",
       "</div>"
      ],
      "text/plain": [
       "                                            filename  chroma_stft      rmse  \\\n",
       "0  data/virufy/clinical/segmented/pos/pos-0421-09...     0.272518  0.036754   \n",
       "1  data/virufy/clinical/segmented/pos/pos-0421-08...     0.276321  0.043814   \n",
       "2  data/virufy/clinical/segmented/pos/pos-0421-08...     0.208420  0.048000   \n",
       "3  data/virufy/clinical/segmented/pos/pos-0421-09...     0.230346  0.034436   \n",
       "4  data/virufy/clinical/segmented/pos/pos-0421-08...     0.194970  0.054764   \n",
       "\n",
       "   spectral_centroid  spectral_bandwidth      rolloff  zero_crossing_rate  \\\n",
       "0        1473.896890         1058.754038  2701.480766            0.098930   \n",
       "1        1224.418615         1208.307265  2497.695525            0.055084   \n",
       "2         939.238438          969.471365  1897.418478            0.042183   \n",
       "3        1209.103502          873.038305  2154.256539            0.076335   \n",
       "4         853.326698          801.330394  1730.926248            0.045983   \n",
       "\n",
       "        mfcc1      mfcc2      mfcc3  ...     mfcc12    mfcc13     mfcc14  \\\n",
       "0 -404.255646  39.482182 -16.925148  ...  -8.684143  2.136139 -10.936313   \n",
       "1 -400.812592  62.268505 -16.245691  ... -11.435379  0.148284  -8.326172   \n",
       "2 -403.617126  63.268513 -15.479023  ... -12.407788  1.018580  -7.709322   \n",
       "3 -429.320099  38.543488 -17.620708  ...  -8.519915  3.917390  -5.926056   \n",
       "4 -383.213074  58.167488 -24.574657  ... -12.978526 -0.129669  -8.502338   \n",
       "\n",
       "     mfcc15    mfcc16    mfcc17    mfcc18    mfcc19    mfcc20  label  \n",
       "0 -3.605832 -7.265744 -6.121864 -3.701175 -3.240735 -1.080302  covid  \n",
       "1  2.726310 -2.230798 -7.817071 -3.412647 -5.863157 -7.264128  covid  \n",
       "2  2.080070 -5.201088 -6.287008 -4.227909 -5.575505 -4.308343  covid  \n",
       "3 -1.774840 -8.039624 -3.852785 -3.196847 -5.028732 -3.603700  covid  \n",
       "4  0.849606 -5.515317 -7.303607 -6.067671 -5.781034 -2.047338  covid  \n",
       "\n",
       "[5 rows x 28 columns]"
      ]
     },
     "execution_count": 6,
     "metadata": {},
     "output_type": "execute_result"
    }
   ],
   "source": [
    "df_features_cols = ['filename', 'chroma_stft', 'rmse', 'spectral_centroid', 'spectral_bandwidth', 'rolloff', 'zero_crossing_rate']\n",
    "for i in range(1, 21):\n",
    "   df_features_cols.append(f'mfcc{i}')\n",
    "df_features_cols.append('label')\n",
    "\n",
    "df_features = pd.DataFrame(columns=df_features_cols)\n",
    "\n",
    "for row_index, row in tqdm(df_dataset.iterrows(), total=len(df_dataset)):\n",
    "   fn_wav = row['file_properties']\n",
    "   feature_row = preproces(fn_wav)\n",
    "   feature_row['filename'] = row['file_properties'] \n",
    "   feature_row['label'] = row['class']\n",
    "   # Convert dictionary to DataFrame and concat\n",
    "   new_row = pd.DataFrame([feature_row])\n",
    "   df_features = pd.concat([df_features, new_row], ignore_index=True)\n",
    "\n",
    "df_features.to_csv('data/prepared_data_virufy.csv', index=False, columns=df_features_cols)\n",
    "\n",
    "df_features.head()"
   ]
  },
  {
   "cell_type": "markdown",
   "metadata": {},
   "source": [
    "## Combine Datasets"
   ]
  },
  {
   "cell_type": "code",
   "execution_count": 7,
   "metadata": {},
   "outputs": [
    {
     "name": "stdout",
     "output_type": "stream",
     "text": [
      "Total number of examples: 291\n",
      "Number of positive examples: 67\n",
      "Number of negative examples: 224\n"
     ]
    }
   ],
   "source": [
    "df_features_kaggle = pd.read_csv('data/prepared_data_kaggle.csv')\n",
    "df_features_virufy = pd.read_csv('data/prepared_data_virufy.csv')\n",
    "df_features = pd.concat([df_features_kaggle, df_features_virufy])\n",
    "\n",
    "df_features.to_csv('data/prepared_data.csv', index=False, columns=df_features_cols)\n",
    "\n",
    "print('Total number of examples:', len(df_features))\n",
    "print('Number of positive examples:', len(df_features[df_features['label'] == 'covid']))\n",
    "print('Number of negative examples:', len(df_features[df_features['label'] == 'not_covid']))"
   ]
  },
  {
   "cell_type": "markdown",
   "metadata": {},
   "source": [
    "## Balanced Dataset"
   ]
  },
  {
   "cell_type": "code",
   "execution_count": 8,
   "metadata": {},
   "outputs": [
    {
     "name": "stdout",
     "output_type": "stream",
     "text": [
      "Total number of examples: 134\n",
      "Number of positive examples: 67\n",
      "Number of negative examples: 67\n"
     ]
    }
   ],
   "source": [
    "df_features = pd.read_csv('data/prepared_data.csv')\n",
    "\n",
    "# Separate majority and minority classes\n",
    "df_majority = df_features[df_features['label'] == 'not_covid']\n",
    "df_minority = df_features[df_features['label'] == 'covid']\n",
    " \n",
    "# Downsample majority class\n",
    "df_majority_balanced = resample(df_majority, replace=False, n_samples=len(df_minority), random_state=42)\n",
    " \n",
    "# Combine minority class with downsampled majority class\n",
    "df_balanced = pd.concat([df_majority_balanced, df_minority])\n",
    "\n",
    "df_balanced.to_csv('data/prepared_data_balanced.csv', index=False)\n",
    "\n",
    "print('Total number of examples:', len(df_balanced))\n",
    "print('Number of positive examples:', len(df_balanced[df_balanced['label'] == 'covid']))\n",
    "print('Number of negative examples:', len(df_balanced[df_balanced['label'] == 'not_covid']))"
   ]
  }
 ],
 "metadata": {
  "kernelspec": {
   "display_name": "Python 3.6.10 64-bit ('ma': conda)",
   "metadata": {
    "interpreter": {
     "hash": "739f6139ea16146f6825468ed5e82eb0c1c232f377b4e45bfd13eaa0a4a5ceb5"
    }
   },
   "name": "python3"
  },
  "language_info": {
   "codemirror_mode": {
    "name": "ipython",
    "version": 3
   },
   "file_extension": ".py",
   "mimetype": "text/x-python",
   "name": "python",
   "nbconvert_exporter": "python",
   "pygments_lexer": "ipython3",
   "version": "3.11.6"
  },
  "orig_nbformat": 2
 },
 "nbformat": 4,
 "nbformat_minor": 2
}
