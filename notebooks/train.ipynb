{
 "cells": [
  {
   "cell_type": "code",
   "execution_count": 69,
   "metadata": {},
   "outputs": [
    {
     "data": {
      "text/plain": [
       "<torch._C.Generator at 0x10d46f690>"
      ]
     },
     "execution_count": 69,
     "metadata": {},
     "output_type": "execute_result"
    }
   ],
   "source": [
    "import os\n",
    "import glob\n",
    "import torch\n",
    "import copy\n",
    "\n",
    "import pandas as pd\n",
    "from tqdm.auto import tqdm\n",
    "\n",
    "from torch import nn\n",
    "from torch.utils.data import Dataset, DataLoader\n",
    "import torch.optim as optim\n",
    "import numpy as np\n",
    "\n",
    "from sklearn.utils import resample\n",
    "from sklearn.model_selection import train_test_split\n",
    "from sklearn.preprocessing import LabelEncoder, StandardScaler\n",
    "from torch.utils.tensorboard import SummaryWriter\n",
    "from datetime import datetime\n",
    "\n",
    "from sklearn.metrics import confusion_matrix\n",
    "import matplotlib.pyplot as plt\n",
    "import seaborn as sns  # For better visualization\n",
    "\n",
    "# Mi módulo\n",
    "from utils import preproces_for_new_architecture\n",
    "\n",
    "torch.manual_seed(42)"
   ]
  },
  {
   "cell_type": "markdown",
   "metadata": {},
   "source": [
    "## Data Set \"Cough Trial Extended\" de Kaggle "
   ]
  },
  {
   "cell_type": "code",
   "execution_count": 2,
   "metadata": {},
   "outputs": [
    {
     "name": "stdout",
     "output_type": "stream",
     "text": [
      "Total number of examples: 170\n",
      "Number of positive examples: 19\n",
      "Number of negative examples: 151\n"
     ]
    },
    {
     "data": {
      "text/html": [
       "<div>\n",
       "<style scoped>\n",
       "    .dataframe tbody tr th:only-of-type {\n",
       "        vertical-align: middle;\n",
       "    }\n",
       "\n",
       "    .dataframe tbody tr th {\n",
       "        vertical-align: top;\n",
       "    }\n",
       "\n",
       "    .dataframe thead th {\n",
       "        text-align: right;\n",
       "    }\n",
       "</style>\n",
       "<table border=\"1\" class=\"dataframe\">\n",
       "  <thead>\n",
       "    <tr style=\"text-align: right;\">\n",
       "      <th></th>\n",
       "      <th>file_properties</th>\n",
       "      <th>class</th>\n",
       "    </tr>\n",
       "  </thead>\n",
       "  <tbody>\n",
       "    <tr>\n",
       "      <th>0</th>\n",
       "      <td>0v8MGxNetjg_ 10.000_ 20.000.wav</td>\n",
       "      <td>not_covid</td>\n",
       "    </tr>\n",
       "    <tr>\n",
       "      <th>1</th>\n",
       "      <td>1j1duoxdxBg_ 70.000_ 80.000.wav</td>\n",
       "      <td>not_covid</td>\n",
       "    </tr>\n",
       "    <tr>\n",
       "      <th>2</th>\n",
       "      <td>1MSYO4wgiag_ 120.000_ 130.000.wav</td>\n",
       "      <td>not_covid</td>\n",
       "    </tr>\n",
       "    <tr>\n",
       "      <th>3</th>\n",
       "      <td>1PajbAKd8Kg_ 0.000_ 10.000.wav</td>\n",
       "      <td>not_covid</td>\n",
       "    </tr>\n",
       "    <tr>\n",
       "      <th>4</th>\n",
       "      <td>cov1.wav</td>\n",
       "      <td>covid</td>\n",
       "    </tr>\n",
       "  </tbody>\n",
       "</table>\n",
       "</div>"
      ],
      "text/plain": [
       "                     file_properties      class\n",
       "0    0v8MGxNetjg_ 10.000_ 20.000.wav  not_covid\n",
       "1    1j1duoxdxBg_ 70.000_ 80.000.wav  not_covid\n",
       "2  1MSYO4wgiag_ 120.000_ 130.000.wav  not_covid\n",
       "3     1PajbAKd8Kg_ 0.000_ 10.000.wav  not_covid\n",
       "4                           cov1.wav      covid"
      ]
     },
     "execution_count": 2,
     "metadata": {},
     "output_type": "execute_result"
    }
   ],
   "source": [
    "fn_dataset = 'data/kaggle/cough_trial_extended.csv'\n",
    "df_dataset = pd.read_csv(fn_dataset)\n",
    "\n",
    "print('Total number of examples:', len(df_dataset))\n",
    "print('Number of positive examples:', len(df_dataset[df_dataset['class'] == 'covid']))\n",
    "print('Number of negative examples:', len(df_dataset[df_dataset['class'] == 'not_covid']))\n",
    "\n",
    "df_dataset.head()"
   ]
  },
  {
   "cell_type": "code",
   "execution_count": 3,
   "metadata": {},
   "outputs": [
    {
     "name": "stderr",
     "output_type": "stream",
     "text": [
      "  0%|          | 0/170 [00:00<?, ?it/s]/var/folders/js/4gyf2ycn0psfjp__7974j73h0000gn/T/ipykernel_88296/3866710988.py:40: FutureWarning: The behavior of DataFrame concatenation with empty or all-NA entries is deprecated. In a future version, this will no longer exclude empty or all-NA columns when determining the result dtypes. To retain the old behavior, exclude the relevant entries before the concat operation.\n",
      "  df_features = pd.concat([df_features, feature_row_df], ignore_index=True)\n",
      "100%|██████████| 170/170 [00:06<00:00, 24.76it/s]\n"
     ]
    }
   ],
   "source": [
    "import numpy as np\n",
    "import os\n",
    "from tqdm import tqdm\n",
    "import pandas as pd\n",
    "\n",
    "# Define columns for scalar features\n",
    "df_features_cols = ['filename', 'chroma_stft', 'rmse', 'spectral_centroid', 'spectral_bandwidth', 'rolloff', 'zero_crossing_rate']\n",
    "for i in range(1, 21):\n",
    "    df_features_cols.append(f'mfcc{i}')\n",
    "df_features_cols.append('label')\n",
    "\n",
    "# Create DataFrames\n",
    "df_features = pd.DataFrame(columns=df_features_cols)\n",
    "\n",
    "# Create dictionaries to store 2D features\n",
    "spectrograms = {}\n",
    "chromagrams = {}\n",
    "\n",
    "for row_index, row in tqdm(df_dataset.iterrows(), total=len(df_dataset)):\n",
    "    fn_wav = os.path.join('data/kaggle/trial_covid/', row['file_properties'])\n",
    "    feature_row = preproces_for_new_architecture(fn_wav)\n",
    "    \n",
    "    # Handle scalar features for CSV\n",
    "    scalar_features = {\n",
    "        'filename': row['file_properties'],\n",
    "        'label': row['class'],\n",
    "        'chroma_stft': feature_row['chroma_stft'],\n",
    "        'rmse': feature_row['rmse'],\n",
    "        'spectral_centroid': feature_row['spectral_centroid'],\n",
    "        'spectral_bandwidth': feature_row['spectral_bandwidth'],\n",
    "        'rolloff': feature_row['rolloff'],\n",
    "        'zero_crossing_rate': feature_row['zero_crossing_rate']\n",
    "    }\n",
    "    \n",
    "    # Add MFCC features\n",
    "    for i in range(1, 21):\n",
    "        scalar_features[f'mfcc{i}'] = feature_row[f'mfcc{i}']\n",
    "    \n",
    "    feature_row_df = pd.DataFrame([scalar_features])\n",
    "    df_features = pd.concat([df_features, feature_row_df], ignore_index=True)\n",
    "    \n",
    "    # Store 2D features with filename as key\n",
    "    filename = row['file_properties']\n",
    "    spectrograms[filename] = feature_row['mel_spectrogram']\n",
    "    chromagrams[filename] = feature_row['chromagram']\n",
    "\n",
    "# Save scalar features to CSV\n",
    "df_features.to_csv('data/prepared_data_kaggle_cnn.csv', index=False, columns=df_features_cols)\n",
    "\n",
    "# Save 2D features to NPZ file (compressed numpy format)\n",
    "np.savez_compressed('data/2d_features.npz',\n",
    "                   spectrograms=spectrograms,\n",
    "                   chromagrams=chromagrams,\n",
    "                   filenames=list(spectrograms.keys()),\n",
    "                   labels=df_features['label'].values)\n",
    "\n",
    "# Function to load the 2D features later\n",
    "def load_2d_features():\n",
    "    data = np.load('data/2d_features.npz', allow_pickle=True)\n",
    "    spectrograms = data['spectrograms'].item()\n",
    "    chromagrams = data['chromagrams'].item()\n",
    "    filenames = data['filenames']\n",
    "    labels = data['labels']\n",
    "    return spectrograms, chromagrams, filenames, labels\n",
    "\n",
    "# Example of how to prepare data for training:\n",
    "def prepare_2d_data_for_training():\n",
    "    spectrograms, chromagrams, filenames, labels = load_2d_features()\n",
    "    \n",
    "    # Convert dictionaries to arrays\n",
    "    X_spec = np.stack([spectrograms[f] for f in filenames])\n",
    "    X_chroma = np.stack([chromagrams[f] for f in filenames])\n",
    "    y = labels\n",
    "    \n",
    "    \n",
    "    X_spec_train, X_spec_test, X_chroma_train, X_chroma_test, y_train, y_test = train_test_split(\n",
    "        X_spec, X_chroma, y, test_size=0.2, random_state=42\n",
    "    )\n",
    "    \n",
    "    return {\n",
    "        'spectrogram': {\n",
    "            'train': X_spec_train,\n",
    "            'test': X_spec_test\n",
    "        },\n",
    "        'chromagram': {\n",
    "            'train': X_chroma_train,\n",
    "            'test': X_chroma_test\n",
    "        },\n",
    "        'labels': {\n",
    "            'train': y_train,\n",
    "            'test': y_test\n",
    "        }\n",
    "    }"
   ]
  },
  {
   "cell_type": "markdown",
   "metadata": {},
   "source": [
    "### Agregando más datos: data set \"Virufy\"!"
   ]
  },
  {
   "cell_type": "code",
   "execution_count": 4,
   "metadata": {},
   "outputs": [
    {
     "name": "stdout",
     "output_type": "stream",
     "text": [
      "Total number of examples: 121\n",
      "Number of positive examples: 48\n",
      "Number of negative examples: 73\n"
     ]
    },
    {
     "name": "stderr",
     "output_type": "stream",
     "text": [
      "100%|██████████| 121/121 [00:01<00:00, 68.12it/s]\n"
     ]
    },
    {
     "name": "stdout",
     "output_type": "stream",
     "text": [
      "Final balanced dataset:\n",
      "Total number of examples: 134\n",
      "Number of positive examples: 67\n",
      "Number of negative examples: 67\n"
     ]
    }
   ],
   "source": [
    "import glob\n",
    "import pandas as pd\n",
    "import numpy as np\n",
    "from sklearn.utils import resample\n",
    "\n",
    "# First create Virufy dataset DataFrame\n",
    "df_dataset = pd.DataFrame(columns=['file_properties', 'class'])\n",
    "for fn in glob.glob('data/virufy/clinical/segmented/pos/*.mp3'):\n",
    "    new_row = pd.DataFrame([{'file_properties': fn, 'class': 'covid'}])\n",
    "    df_dataset = pd.concat([df_dataset, new_row], ignore_index=True)\n",
    "    \n",
    "for fn in glob.glob('data/virufy/clinical/segmented/neg/*.mp3'):\n",
    "    new_row = pd.DataFrame([{'file_properties': fn, 'class': 'not_covid'}])\n",
    "    df_dataset = pd.concat([df_dataset, new_row], ignore_index=True)\n",
    "\n",
    "print('Total number of examples:', len(df_dataset))\n",
    "print('Number of positive examples:', len(df_dataset[df_dataset['class'] == 'covid']))\n",
    "print('Number of negative examples:', len(df_dataset[df_dataset['class'] == 'not_covid']))\n",
    "\n",
    "# Create dictionaries to store 2D features for Virufy\n",
    "spectrograms = {}\n",
    "chromagrams = {}\n",
    "\n",
    "# Process Virufy data and create NPZ\n",
    "for row_index, row in tqdm(df_dataset.iterrows(), total=len(df_dataset)):\n",
    "    fn_wav = row['file_properties']\n",
    "    feature_row = preproces_for_new_architecture(fn_wav)\n",
    "    \n",
    "    # Store 2D features with filename as key\n",
    "    filename = row['file_properties']\n",
    "    spectrograms[filename] = feature_row['mel_spectrogram']\n",
    "    chromagrams[filename] = feature_row['chromagram']\n",
    "\n",
    "# Save Virufy 2D features\n",
    "np.savez_compressed('data/2d_features_virufy.npz',\n",
    "                   spectrograms=spectrograms,\n",
    "                   chromagrams=chromagrams,\n",
    "                   filenames=list(spectrograms.keys()),\n",
    "                   labels=df_dataset['class'].values)\n",
    "\n",
    "# Now combine with existing Kaggle data\n",
    "# Load both NPZ files\n",
    "kaggle_2d = np.load('data/2d_features.npz', allow_pickle=True)\n",
    "virufy_2d = np.load('data/2d_features_virufy.npz', allow_pickle=True)\n",
    "\n",
    "# Combine 2D features\n",
    "combined_spectrograms = {**kaggle_2d['spectrograms'].item(), **virufy_2d['spectrograms'].item()}\n",
    "combined_chromagrams = {**kaggle_2d['chromagrams'].item(), **virufy_2d['chromagrams'].item()}\n",
    "\n",
    "# Load and combine scalar features CSV\n",
    "df_features_kaggle = pd.read_csv('data/prepared_data_kaggle.csv')\n",
    "df_features_virufy = pd.read_csv('data/prepared_data_virufy.csv')\n",
    "df_features = pd.concat([df_features_kaggle, df_features_virufy])\n",
    "\n",
    "# Save combined scalar features\n",
    "df_features.to_csv('data/prepared_data_cnn.csv', index=False, columns=df_features_cols)\n",
    "\n",
    "# Save combined 2D features\n",
    "np.savez_compressed('data/2d_features_combined.npz',\n",
    "                   spectrograms=combined_spectrograms,\n",
    "                   chromagrams=combined_chromagrams,\n",
    "                   filenames=list(combined_spectrograms.keys()),\n",
    "                   labels=df_features['label'].values)\n",
    "\n",
    "# Balance the dataset as before\n",
    "df_majority = df_features[df_features['label'] == 'not_covid']\n",
    "df_minority = df_features[df_features['label'] == 'covid']\n",
    "\n",
    "df_majority_balanced = resample(df_majority, \n",
    "                              replace=False, \n",
    "                              n_samples=len(df_minority),\n",
    "                              random_state=42)\n",
    "\n",
    "df_balanced = pd.concat([df_majority_balanced, df_minority])\n",
    "\n",
    "# Get balanced filenames\n",
    "balanced_filenames = df_balanced['filename'].values\n",
    "\n",
    "# Create balanced 2D features\n",
    "balanced_spectrograms = {k: combined_spectrograms[k] for k in balanced_filenames}\n",
    "balanced_chromagrams = {k: combined_chromagrams[k] for k in balanced_filenames}\n",
    "\n",
    "# Save balanced data\n",
    "df_balanced.to_csv('data/prepared_data_balanced.csv', index=False)\n",
    "np.savez_compressed('data/2d_features_balanced.npz',\n",
    "                   spectrograms=balanced_spectrograms,\n",
    "                   chromagrams=balanced_chromagrams,\n",
    "                   filenames=balanced_filenames,\n",
    "                   labels=df_balanced['label'].values)\n",
    "\n",
    "print('Final balanced dataset:')\n",
    "print('Total number of examples:', len(df_balanced))\n",
    "print('Number of positive examples:', len(df_balanced[df_balanced['label'] == 'covid']))\n",
    "print('Number of negative examples:', len(df_balanced[df_balanced['label'] == 'not_covid']))"
   ]
  },
  {
   "cell_type": "code",
   "execution_count": 5,
   "metadata": {},
   "outputs": [
    {
     "data": {
      "text/plain": [
       "Index(['filename', 'chroma_stft', 'rmse', 'spectral_centroid',\n",
       "       'spectral_bandwidth', 'rolloff', 'zero_crossing_rate', 'mfcc1', 'mfcc2',\n",
       "       'mfcc3', 'mfcc4', 'mfcc5', 'mfcc6', 'mfcc7', 'mfcc8', 'mfcc9', 'mfcc10',\n",
       "       'mfcc11', 'mfcc12', 'mfcc13', 'mfcc14', 'mfcc15', 'mfcc16', 'mfcc17',\n",
       "       'mfcc18', 'mfcc19', 'mfcc20', 'label'],\n",
       "      dtype='object')"
      ]
     },
     "execution_count": 5,
     "metadata": {},
     "output_type": "execute_result"
    }
   ],
   "source": [
    "df_balanced.columns"
   ]
  },
  {
   "cell_type": "code",
   "execution_count": 91,
   "metadata": {},
   "outputs": [
    {
     "data": {
      "text/plain": [
       "(134, 28)"
      ]
     },
     "execution_count": 91,
     "metadata": {},
     "output_type": "execute_result"
    }
   ],
   "source": [
    "df_balanced.shape"
   ]
  },
  {
   "cell_type": "markdown",
   "metadata": {},
   "source": [
    "## Modelo, dataloaders y parámetros de optimización"
   ]
  },
  {
   "cell_type": "code",
   "execution_count": null,
   "metadata": {},
   "outputs": [],
   "source": [
    "hparams = {    \n",
    "    'dataset': 'data/prepared_data_balanced.csv',\n",
    "    'epochs': 50,\n",
    "    'batch_size': 16,\n",
    "    'lr': 1e-3,\n",
    "    'features': [\n",
    "        'chroma_stft', 'rmse', 'spectral_centroid', 'spectral_bandwidth', 'rolloff', 'zero_crossing_rate',\n",
    "        'mfcc1', 'mfcc2', 'mfcc3', 'mfcc4', 'mfcc5', 'mfcc6', 'mfcc7', 'mfcc8', 'mfcc9', 'mfcc10', \n",
    "        'mfcc11', 'mfcc12', 'mfcc13', 'mfcc14', 'mfcc15', 'mfcc16', 'mfcc17', 'mfcc18', 'mfcc19', 'mfcc20'\n",
    "    ]\n",
    "}"
   ]
  },
  {
   "cell_type": "code",
   "execution_count": 70,
   "metadata": {},
   "outputs": [],
   "source": [
    "class CombinedDataset(Dataset):\n",
    "    def __init__(self, scalar_features, spectrograms, chromagrams, labels):\n",
    "        self.scalar_features = torch.FloatTensor(scalar_features)\n",
    "        self.spectrograms = torch.FloatTensor(spectrograms)\n",
    "        self.chromagrams = torch.FloatTensor(chromagrams)\n",
    "        self.labels = torch.LongTensor(labels)\n",
    "    \n",
    "    def __len__(self):\n",
    "        return len(self.labels)\n",
    "    \n",
    "    def __getitem__(self, idx):\n",
    "        return (self.scalar_features[idx], \n",
    "                self.spectrograms[idx], \n",
    "                self.chromagrams[idx], \n",
    "                self.labels[idx])"
   ]
  },
  {
   "cell_type": "code",
   "execution_count": 71,
   "metadata": {},
   "outputs": [],
   "source": [
    "\n",
    "class CoughNetWithCNN(torch.nn.Module):\n",
    "    def __init__(self, scalar_input_size):\n",
    "        super(CoughNetWithCNN, self).__init__()\n",
    "        \n",
    "        # CNN for spectrogram (input: batch x 1 x 128 x 128)\n",
    "        self.spec_conv = nn.Sequential(\n",
    "            nn.Conv2d(1, 16, kernel_size=3, padding=1),\n",
    "            nn.ReLU(),\n",
    "            nn.MaxPool2d(2),  # -> 16 x 64 x 64\n",
    "            nn.Conv2d(16, 32, kernel_size=3, padding=1),\n",
    "            nn.ReLU(),\n",
    "            nn.MaxPool2d(2),  # -> 32 x 32 x 32\n",
    "            nn.Conv2d(32, 64, kernel_size=3, padding=1),\n",
    "            nn.ReLU(),\n",
    "            nn.AdaptiveAvgPool2d((4, 4))  # -> 64 x 4 x 4\n",
    "        )\n",
    "        \n",
    "        # CNN for chromagram (input: batch x 1 x 12 x 128)\n",
    "        self.chroma_conv = nn.Sequential(\n",
    "            nn.Conv2d(1, 16, kernel_size=3, padding=1),\n",
    "            nn.ReLU(),\n",
    "            nn.MaxPool2d(2),  # -> 16 x 6 x 64\n",
    "            nn.Conv2d(16, 32, kernel_size=3, padding=1),\n",
    "            nn.ReLU(),\n",
    "            nn.AdaptiveAvgPool2d((2, 4))  # -> 32 x 2 x 4\n",
    "        )\n",
    "        \n",
    "        # Process scalar features\n",
    "        self.scalar_net = nn.Sequential(\n",
    "            nn.Linear(scalar_input_size, 64),\n",
    "            nn.ReLU(),\n",
    "            nn.Dropout(0.5)\n",
    "        )\n",
    "        \n",
    "        # Final layers - combine all features\n",
    "        spec_features = 64 * 4 * 4    # From spec_conv\n",
    "        chroma_features = 32 * 2 * 4  # From chroma_conv\n",
    "        combined_size = 64 + spec_features + chroma_features  # 64 from scalar_net\n",
    "        \n",
    "        self.classifier = nn.Sequential(\n",
    "            nn.Linear(combined_size, 256),\n",
    "            nn.ReLU(),\n",
    "            nn.Dropout(0.5),\n",
    "            nn.Linear(256, 64),\n",
    "            nn.ReLU(),\n",
    "            nn.Linear(64, 2)\n",
    "        )\n",
    "\n",
    "    def forward(self, scalar_x, spectrogram, chromagram):\n",
    "        # Process scalar features\n",
    "        scalar_features = self.scalar_net(scalar_x)\n",
    "        \n",
    "        # Process spectrogram - add channel dimension if needed\n",
    "        \n",
    "        if len(spectrogram.shape) == 3: \n",
    "            spectrogram = spectrogram.unsqueeze(1)\n",
    "        spec_features = self.spec_conv(spectrogram)\n",
    "        spec_features = spec_features.view(spec_features.size(0), -1) \n",
    "        \n",
    "        # Process chromagram - add channel dimension if needed\n",
    "        if len(chromagram.shape) == 3:\n",
    "            chromagram = chromagram.unsqueeze(1)\n",
    "        chroma_features = self.chroma_conv(chromagram)\n",
    "        chroma_features = chroma_features.view(chroma_features.size(0), -1)\n",
    "        \n",
    "        # Combine all features\n",
    "        combined = torch.cat([scalar_features, spec_features, chroma_features], dim=1)\n",
    "        \n",
    "        # Final classification\n",
    "        return self.classifier(combined)\n",
    "\n",
    "def prepare_data_loaders(scalar_features, spectrograms, chromagrams, labels, batch_size=32):\n",
    "    # First create train/val indices\n",
    "    dataset_size = len(labels)\n",
    "    indices = list(range(dataset_size))\n",
    "    train_size = int(0.8 * dataset_size)\n",
    "    train_indices = indices[:train_size]\n",
    "    val_indices = indices[train_size:]\n",
    "    \n",
    "    # Scale scalar features using only training data\n",
    "    scaler = StandardScaler()\n",
    "    scalar_features_train = scaler.fit_transform(scalar_features[train_indices])\n",
    "    scalar_features_val = scaler.transform(scalar_features[val_indices])\n",
    "    \n",
    "    # Create separate datasets for train and validation\n",
    "    train_dataset = CombinedDataset(\n",
    "        scalar_features_train,\n",
    "        spectrograms[train_indices],\n",
    "        chromagrams[train_indices],\n",
    "        labels[train_indices]\n",
    "    )\n",
    "    \n",
    "    val_dataset = CombinedDataset(\n",
    "        scalar_features_val,\n",
    "        spectrograms[val_indices],\n",
    "        chromagrams[val_indices],\n",
    "        labels[val_indices]\n",
    "    )\n",
    "    \n",
    "    # Create data loaders\n",
    "    train_loader = DataLoader(train_dataset, batch_size=batch_size, shuffle=True)\n",
    "    val_loader = DataLoader(val_dataset, batch_size=batch_size, shuffle=False)\n",
    "    \n",
    "    return train_loader, val_loader, scaler"
   ]
  },
  {
   "cell_type": "markdown",
   "metadata": {},
   "source": [
    "### Seteando optimizadores, función objetivo y cargando datos preprocesados anteriormente"
   ]
  },
  {
   "cell_type": "code",
   "execution_count": 7,
   "metadata": {},
   "outputs": [],
   "source": [
    "# inicializacion\n",
    "device = torch.device(\"cuda\" if torch.cuda.is_available() else \"cpu\")\n",
    "model = CoughNetWithCNN(scalar_input_size=len(hparams['features'])).to(device)\n",
    "optimizer = torch.optim.Adam(model.parameters(), lr=hparams['lr'])\n",
    "criterion = torch.nn.CrossEntropyLoss()\n",
    "\n",
    "# Preparando los datos\n",
    "scalar_features = df_balanced.drop(['filename', 'label'], axis=1).values\n",
    "labels = (df_balanced['label'] == 'covid').astype(int).values\n",
    "\n",
    "# Cargando las features en 2 dimensiones\n",
    "npz_data = np.load('data/2d_features_balanced.npz', allow_pickle=True)\n",
    "spectrograms = np.stack([npz_data['spectrograms'].item()[fn] for fn in df_balanced['filename']])\n",
    "chromagrams = np.stack([npz_data['chromagrams'].item()[fn] for fn in df_balanced['filename']])\n"
   ]
  },
  {
   "cell_type": "code",
   "execution_count": 8,
   "metadata": {},
   "outputs": [
    {
     "name": "stdout",
     "output_type": "stream",
     "text": [
      "spectrograms shape: (134, 128, 128)\n",
      "chromagrams shape: (134, 12, 128)\n"
     ]
    }
   ],
   "source": [
    "print(f\"spectrograms shape: {spectrograms.shape}\")\n",
    "print(f\"chromagrams shape: {chromagrams.shape}\")"
   ]
  },
  {
   "cell_type": "markdown",
   "metadata": {},
   "source": [
    "## Entrenando"
   ]
  },
  {
   "cell_type": "code",
   "execution_count": 11,
   "metadata": {},
   "outputs": [],
   "source": [
    "train_loader, val_loader, scaler = prepare_data_loaders(scalar_features, spectrograms, chromagrams, labels)"
   ]
  },
  {
   "cell_type": "code",
   "execution_count": 12,
   "metadata": {},
   "outputs": [
    {
     "name": "stdout",
     "output_type": "stream",
     "text": [
      "Starting training...\n"
     ]
    },
    {
     "name": "stderr",
     "output_type": "stream",
     "text": [
      "[Training Epoch 1]: 100%|██████████| 4/4 [00:00<00:00,  9.44it/s, loss=0.0241, train_accuracy=0.626]\n",
      "[Evaluating Epoch 1]: 100%|██████████| 1/1 [00:00<00:00, 27.72it/s, loss=0.0573, eval_accuracy=0]\n"
     ]
    },
    {
     "name": "stdout",
     "output_type": "stream",
     "text": [
      "New best model saved with validation loss: 0.0573\n",
      "Epoch 1/50:\n",
      "Train Loss: 0.0241, Train Acc: 0.6262\n",
      "Val Loss: 0.0573, Val Acc: 0.0000\n"
     ]
    },
    {
     "name": "stderr",
     "output_type": "stream",
     "text": [
      "[Training Epoch 2]: 100%|██████████| 4/4 [00:00<00:00,  9.90it/s, loss=0.0261, train_accuracy=0.636]\n",
      "[Evaluating Epoch 2]: 100%|██████████| 1/1 [00:00<00:00, 27.19it/s, loss=0.0235, eval_accuracy=1]\n"
     ]
    },
    {
     "name": "stdout",
     "output_type": "stream",
     "text": [
      "New best model saved with validation loss: 0.0235\n",
      "Epoch 2/50:\n",
      "Train Loss: 0.0261, Train Acc: 0.6355\n",
      "Val Loss: 0.0235, Val Acc: 1.0000\n"
     ]
    },
    {
     "name": "stderr",
     "output_type": "stream",
     "text": [
      "[Training Epoch 3]: 100%|██████████| 4/4 [00:00<00:00,  9.55it/s, loss=0.0259, train_accuracy=0.533]\n",
      "[Evaluating Epoch 3]: 100%|██████████| 1/1 [00:00<00:00, 27.46it/s, loss=0.026, eval_accuracy=0]\n"
     ]
    },
    {
     "name": "stdout",
     "output_type": "stream",
     "text": [
      "Epoch 3/50:\n",
      "Train Loss: 0.0259, Train Acc: 0.5327\n",
      "Val Loss: 0.0260, Val Acc: 0.0000\n"
     ]
    },
    {
     "name": "stderr",
     "output_type": "stream",
     "text": [
      "[Training Epoch 4]: 100%|██████████| 4/4 [00:00<00:00,  9.85it/s, loss=0.0246, train_accuracy=0.607]\n",
      "[Evaluating Epoch 4]: 100%|██████████| 1/1 [00:00<00:00, 27.90it/s, loss=0.0318, eval_accuracy=0]\n"
     ]
    },
    {
     "name": "stdout",
     "output_type": "stream",
     "text": [
      "Epoch 4/50:\n",
      "Train Loss: 0.0246, Train Acc: 0.6075\n",
      "Val Loss: 0.0318, Val Acc: 0.0000\n"
     ]
    },
    {
     "name": "stderr",
     "output_type": "stream",
     "text": [
      "[Training Epoch 5]: 100%|██████████| 4/4 [00:00<00:00,  9.70it/s, loss=0.0238, train_accuracy=0.664]\n",
      "[Evaluating Epoch 5]: 100%|██████████| 1/1 [00:00<00:00, 28.55it/s, loss=0.0276, eval_accuracy=0]\n"
     ]
    },
    {
     "name": "stdout",
     "output_type": "stream",
     "text": [
      "Epoch 5/50:\n",
      "Train Loss: 0.0238, Train Acc: 0.6636\n",
      "Val Loss: 0.0276, Val Acc: 0.0000\n"
     ]
    },
    {
     "name": "stderr",
     "output_type": "stream",
     "text": [
      "[Training Epoch 6]: 100%|██████████| 4/4 [00:00<00:00,  9.86it/s, loss=0.0229, train_accuracy=0.654]\n",
      "[Evaluating Epoch 6]: 100%|██████████| 1/1 [00:00<00:00, 27.76it/s, loss=0.0201, eval_accuracy=1]\n"
     ]
    },
    {
     "name": "stdout",
     "output_type": "stream",
     "text": [
      "New best model saved with validation loss: 0.0201\n",
      "Epoch 6/50:\n",
      "Train Loss: 0.0229, Train Acc: 0.6542\n",
      "Val Loss: 0.0201, Val Acc: 1.0000\n"
     ]
    },
    {
     "name": "stderr",
     "output_type": "stream",
     "text": [
      "[Training Epoch 7]: 100%|██████████| 4/4 [00:00<00:00,  9.68it/s, loss=0.0241, train_accuracy=0.654]\n",
      "[Evaluating Epoch 7]: 100%|██████████| 1/1 [00:00<00:00, 26.36it/s, loss=0.0199, eval_accuracy=1]\n"
     ]
    },
    {
     "name": "stdout",
     "output_type": "stream",
     "text": [
      "New best model saved with validation loss: 0.0199\n",
      "Epoch 7/50:\n",
      "Train Loss: 0.0241, Train Acc: 0.6542\n",
      "Val Loss: 0.0199, Val Acc: 1.0000\n"
     ]
    },
    {
     "name": "stderr",
     "output_type": "stream",
     "text": [
      "[Training Epoch 8]: 100%|██████████| 4/4 [00:00<00:00,  9.85it/s, loss=0.0218, train_accuracy=0.664]\n",
      "[Evaluating Epoch 8]: 100%|██████████| 1/1 [00:00<00:00, 27.48it/s, loss=0.0248, eval_accuracy=0.889]\n"
     ]
    },
    {
     "name": "stdout",
     "output_type": "stream",
     "text": [
      "Epoch 8/50:\n",
      "Train Loss: 0.0218, Train Acc: 0.6636\n",
      "Val Loss: 0.0248, Val Acc: 0.8889\n"
     ]
    },
    {
     "name": "stderr",
     "output_type": "stream",
     "text": [
      "[Training Epoch 9]: 100%|██████████| 4/4 [00:00<00:00,  9.72it/s, loss=0.0218, train_accuracy=0.682]\n",
      "[Evaluating Epoch 9]: 100%|██████████| 1/1 [00:00<00:00, 26.51it/s, loss=0.026, eval_accuracy=0.37]\n"
     ]
    },
    {
     "name": "stdout",
     "output_type": "stream",
     "text": [
      "Epoch 9/50:\n",
      "Train Loss: 0.0218, Train Acc: 0.6822\n",
      "Val Loss: 0.0260, Val Acc: 0.3704\n"
     ]
    },
    {
     "name": "stderr",
     "output_type": "stream",
     "text": [
      "[Training Epoch 10]: 100%|██████████| 4/4 [00:00<00:00,  9.86it/s, loss=0.0218, train_accuracy=0.645]\n",
      "[Evaluating Epoch 10]: 100%|██████████| 1/1 [00:00<00:00, 28.35it/s, loss=0.0249, eval_accuracy=0.704]\n"
     ]
    },
    {
     "name": "stdout",
     "output_type": "stream",
     "text": [
      "Epoch 10/50:\n",
      "Train Loss: 0.0218, Train Acc: 0.6449\n",
      "Val Loss: 0.0249, Val Acc: 0.7037\n"
     ]
    },
    {
     "name": "stderr",
     "output_type": "stream",
     "text": [
      "[Training Epoch 11]: 100%|██████████| 4/4 [00:00<00:00,  9.77it/s, loss=0.0218, train_accuracy=0.654]\n",
      "[Evaluating Epoch 11]: 100%|██████████| 1/1 [00:00<00:00, 27.28it/s, loss=0.0235, eval_accuracy=0.926]\n"
     ]
    },
    {
     "name": "stdout",
     "output_type": "stream",
     "text": [
      "Epoch 11/50:\n",
      "Train Loss: 0.0218, Train Acc: 0.6542\n",
      "Val Loss: 0.0235, Val Acc: 0.9259\n"
     ]
    },
    {
     "name": "stderr",
     "output_type": "stream",
     "text": [
      "[Training Epoch 12]: 100%|██████████| 4/4 [00:00<00:00,  9.61it/s, loss=0.0194, train_accuracy=0.71] \n",
      "[Evaluating Epoch 12]: 100%|██████████| 1/1 [00:00<00:00, 27.23it/s, loss=0.025, eval_accuracy=0.667]\n"
     ]
    },
    {
     "name": "stdout",
     "output_type": "stream",
     "text": [
      "Epoch 12/50:\n",
      "Train Loss: 0.0194, Train Acc: 0.7103\n",
      "Val Loss: 0.0250, Val Acc: 0.6667\n"
     ]
    },
    {
     "name": "stderr",
     "output_type": "stream",
     "text": [
      "[Training Epoch 13]: 100%|██████████| 4/4 [00:00<00:00,  9.33it/s, loss=0.0207, train_accuracy=0.673]\n",
      "[Evaluating Epoch 13]: 100%|██████████| 1/1 [00:00<00:00, 27.77it/s, loss=0.02, eval_accuracy=1]\n"
     ]
    },
    {
     "name": "stdout",
     "output_type": "stream",
     "text": [
      "Epoch 13/50:\n",
      "Train Loss: 0.0207, Train Acc: 0.6729\n",
      "Val Loss: 0.0200, Val Acc: 1.0000\n"
     ]
    },
    {
     "name": "stderr",
     "output_type": "stream",
     "text": [
      "[Training Epoch 14]: 100%|██████████| 4/4 [00:00<00:00,  9.67it/s, loss=0.0188, train_accuracy=0.785]\n",
      "[Evaluating Epoch 14]: 100%|██████████| 1/1 [00:00<00:00, 28.60it/s, loss=0.0213, eval_accuracy=0.889]\n"
     ]
    },
    {
     "name": "stdout",
     "output_type": "stream",
     "text": [
      "Epoch 14/50:\n",
      "Train Loss: 0.0188, Train Acc: 0.7850\n",
      "Val Loss: 0.0213, Val Acc: 0.8889\n"
     ]
    },
    {
     "name": "stderr",
     "output_type": "stream",
     "text": [
      "[Training Epoch 15]: 100%|██████████| 4/4 [00:00<00:00,  9.78it/s, loss=0.0186, train_accuracy=0.794]\n",
      "[Evaluating Epoch 15]: 100%|██████████| 1/1 [00:00<00:00, 29.04it/s, loss=0.0249, eval_accuracy=0.556]\n"
     ]
    },
    {
     "name": "stdout",
     "output_type": "stream",
     "text": [
      "Epoch 15/50:\n",
      "Train Loss: 0.0186, Train Acc: 0.7944\n",
      "Val Loss: 0.0249, Val Acc: 0.5556\n"
     ]
    },
    {
     "name": "stderr",
     "output_type": "stream",
     "text": [
      "[Training Epoch 16]: 100%|██████████| 4/4 [00:00<00:00,  9.78it/s, loss=0.0172, train_accuracy=0.822]\n",
      "[Evaluating Epoch 16]: 100%|██████████| 1/1 [00:00<00:00, 27.73it/s, loss=0.0234, eval_accuracy=0.63]\n"
     ]
    },
    {
     "name": "stdout",
     "output_type": "stream",
     "text": [
      "Epoch 16/50:\n",
      "Train Loss: 0.0172, Train Acc: 0.8224\n",
      "Val Loss: 0.0234, Val Acc: 0.6296\n"
     ]
    },
    {
     "name": "stderr",
     "output_type": "stream",
     "text": [
      "[Training Epoch 17]: 100%|██████████| 4/4 [00:00<00:00, 10.06it/s, loss=0.0162, train_accuracy=0.785]\n",
      "[Evaluating Epoch 17]: 100%|██████████| 1/1 [00:00<00:00, 28.12it/s, loss=0.0166, eval_accuracy=0.889]\n"
     ]
    },
    {
     "name": "stdout",
     "output_type": "stream",
     "text": [
      "New best model saved with validation loss: 0.0166\n",
      "Epoch 17/50:\n",
      "Train Loss: 0.0162, Train Acc: 0.7850\n",
      "Val Loss: 0.0166, Val Acc: 0.8889\n"
     ]
    },
    {
     "name": "stderr",
     "output_type": "stream",
     "text": [
      "[Training Epoch 18]: 100%|██████████| 4/4 [00:00<00:00,  9.72it/s, loss=0.016, train_accuracy=0.785] \n",
      "[Evaluating Epoch 18]: 100%|██████████| 1/1 [00:00<00:00, 28.93it/s, loss=0.0215, eval_accuracy=0.704]\n"
     ]
    },
    {
     "name": "stdout",
     "output_type": "stream",
     "text": [
      "Epoch 18/50:\n",
      "Train Loss: 0.0160, Train Acc: 0.7850\n",
      "Val Loss: 0.0215, Val Acc: 0.7037\n"
     ]
    },
    {
     "name": "stderr",
     "output_type": "stream",
     "text": [
      "[Training Epoch 19]: 100%|██████████| 4/4 [00:00<00:00,  9.81it/s, loss=0.0127, train_accuracy=0.869]\n",
      "[Evaluating Epoch 19]: 100%|██████████| 1/1 [00:00<00:00, 28.12it/s, loss=0.0158, eval_accuracy=0.852]\n"
     ]
    },
    {
     "name": "stdout",
     "output_type": "stream",
     "text": [
      "New best model saved with validation loss: 0.0158\n",
      "Epoch 19/50:\n",
      "Train Loss: 0.0127, Train Acc: 0.8692\n",
      "Val Loss: 0.0158, Val Acc: 0.8519\n"
     ]
    },
    {
     "name": "stderr",
     "output_type": "stream",
     "text": [
      "[Training Epoch 20]: 100%|██████████| 4/4 [00:00<00:00,  9.65it/s, loss=0.0125, train_accuracy=0.869] \n",
      "[Evaluating Epoch 20]: 100%|██████████| 1/1 [00:00<00:00, 27.12it/s, loss=0.0321, eval_accuracy=0.407]\n"
     ]
    },
    {
     "name": "stdout",
     "output_type": "stream",
     "text": [
      "Epoch 20/50:\n",
      "Train Loss: 0.0125, Train Acc: 0.8692\n",
      "Val Loss: 0.0321, Val Acc: 0.4074\n"
     ]
    },
    {
     "name": "stderr",
     "output_type": "stream",
     "text": [
      "[Training Epoch 21]: 100%|██████████| 4/4 [00:00<00:00,  9.43it/s, loss=0.0128, train_accuracy=0.832] \n",
      "[Evaluating Epoch 21]: 100%|██████████| 1/1 [00:00<00:00, 28.44it/s, loss=0.015, eval_accuracy=0.852]\n"
     ]
    },
    {
     "name": "stdout",
     "output_type": "stream",
     "text": [
      "New best model saved with validation loss: 0.0150\n",
      "Epoch 21/50:\n",
      "Train Loss: 0.0128, Train Acc: 0.8318\n",
      "Val Loss: 0.0150, Val Acc: 0.8519\n"
     ]
    },
    {
     "name": "stderr",
     "output_type": "stream",
     "text": [
      "[Training Epoch 22]: 100%|██████████| 4/4 [00:00<00:00,  9.67it/s, loss=0.0112, train_accuracy=0.879] \n",
      "[Evaluating Epoch 22]: 100%|██████████| 1/1 [00:00<00:00, 27.03it/s, loss=0.0278, eval_accuracy=0.556]\n"
     ]
    },
    {
     "name": "stdout",
     "output_type": "stream",
     "text": [
      "Epoch 22/50:\n",
      "Train Loss: 0.0112, Train Acc: 0.8785\n",
      "Val Loss: 0.0278, Val Acc: 0.5556\n"
     ]
    },
    {
     "name": "stderr",
     "output_type": "stream",
     "text": [
      "[Training Epoch 23]: 100%|██████████| 4/4 [00:00<00:00,  9.64it/s, loss=0.0098, train_accuracy=0.907] \n",
      "[Evaluating Epoch 23]: 100%|██████████| 1/1 [00:00<00:00, 27.67it/s, loss=0.0188, eval_accuracy=0.704]\n"
     ]
    },
    {
     "name": "stdout",
     "output_type": "stream",
     "text": [
      "Epoch 23/50:\n",
      "Train Loss: 0.0098, Train Acc: 0.9065\n",
      "Val Loss: 0.0188, Val Acc: 0.7037\n"
     ]
    },
    {
     "name": "stderr",
     "output_type": "stream",
     "text": [
      "[Training Epoch 24]: 100%|██████████| 4/4 [00:00<00:00,  9.42it/s, loss=0.0106, train_accuracy=0.879] \n",
      "[Evaluating Epoch 24]: 100%|██████████| 1/1 [00:00<00:00, 27.23it/s, loss=0.0257, eval_accuracy=0.556]\n"
     ]
    },
    {
     "name": "stdout",
     "output_type": "stream",
     "text": [
      "Epoch 24/50:\n",
      "Train Loss: 0.0106, Train Acc: 0.8785\n",
      "Val Loss: 0.0257, Val Acc: 0.5556\n"
     ]
    },
    {
     "name": "stderr",
     "output_type": "stream",
     "text": [
      "[Training Epoch 25]: 100%|██████████| 4/4 [00:00<00:00,  9.60it/s, loss=0.0114, train_accuracy=0.879] \n",
      "[Evaluating Epoch 25]: 100%|██████████| 1/1 [00:00<00:00, 26.83it/s, loss=0.0353, eval_accuracy=0.444]\n"
     ]
    },
    {
     "name": "stdout",
     "output_type": "stream",
     "text": [
      "Epoch 25/50:\n",
      "Train Loss: 0.0114, Train Acc: 0.8785\n",
      "Val Loss: 0.0353, Val Acc: 0.4444\n"
     ]
    },
    {
     "name": "stderr",
     "output_type": "stream",
     "text": [
      "[Training Epoch 26]: 100%|██████████| 4/4 [00:00<00:00,  9.45it/s, loss=0.00798, train_accuracy=0.925]\n",
      "[Evaluating Epoch 26]: 100%|██████████| 1/1 [00:00<00:00, 28.16it/s, loss=0.0198, eval_accuracy=0.704]\n"
     ]
    },
    {
     "name": "stdout",
     "output_type": "stream",
     "text": [
      "Epoch 26/50:\n",
      "Train Loss: 0.0080, Train Acc: 0.9252\n",
      "Val Loss: 0.0198, Val Acc: 0.7037\n"
     ]
    },
    {
     "name": "stderr",
     "output_type": "stream",
     "text": [
      "[Training Epoch 27]: 100%|██████████| 4/4 [00:00<00:00,  9.65it/s, loss=0.00794, train_accuracy=0.897]\n",
      "[Evaluating Epoch 27]: 100%|██████████| 1/1 [00:00<00:00, 27.17it/s, loss=0.024, eval_accuracy=0.593]\n"
     ]
    },
    {
     "name": "stdout",
     "output_type": "stream",
     "text": [
      "Epoch 27/50:\n",
      "Train Loss: 0.0079, Train Acc: 0.8972\n",
      "Val Loss: 0.0240, Val Acc: 0.5926\n"
     ]
    },
    {
     "name": "stderr",
     "output_type": "stream",
     "text": [
      "[Training Epoch 28]: 100%|██████████| 4/4 [00:00<00:00,  9.85it/s, loss=0.00807, train_accuracy=0.907]\n",
      "[Evaluating Epoch 28]: 100%|██████████| 1/1 [00:00<00:00, 26.98it/s, loss=0.0207, eval_accuracy=0.704]\n"
     ]
    },
    {
     "name": "stdout",
     "output_type": "stream",
     "text": [
      "Epoch 28/50:\n",
      "Train Loss: 0.0081, Train Acc: 0.9065\n",
      "Val Loss: 0.0207, Val Acc: 0.7037\n"
     ]
    },
    {
     "name": "stderr",
     "output_type": "stream",
     "text": [
      "[Training Epoch 29]: 100%|██████████| 4/4 [00:00<00:00,  9.76it/s, loss=0.00775, train_accuracy=0.925]\n",
      "[Evaluating Epoch 29]: 100%|██████████| 1/1 [00:00<00:00, 24.16it/s, loss=0.0284, eval_accuracy=0.556]\n"
     ]
    },
    {
     "name": "stdout",
     "output_type": "stream",
     "text": [
      "Epoch 29/50:\n",
      "Train Loss: 0.0078, Train Acc: 0.9252\n",
      "Val Loss: 0.0284, Val Acc: 0.5556\n"
     ]
    },
    {
     "name": "stderr",
     "output_type": "stream",
     "text": [
      "[Training Epoch 30]: 100%|██████████| 4/4 [00:00<00:00,  9.80it/s, loss=0.00703, train_accuracy=0.944]\n",
      "[Evaluating Epoch 30]: 100%|██████████| 1/1 [00:00<00:00, 27.66it/s, loss=0.0194, eval_accuracy=0.704]\n"
     ]
    },
    {
     "name": "stdout",
     "output_type": "stream",
     "text": [
      "Epoch 30/50:\n",
      "Train Loss: 0.0070, Train Acc: 0.9439\n",
      "Val Loss: 0.0194, Val Acc: 0.7037\n"
     ]
    },
    {
     "name": "stderr",
     "output_type": "stream",
     "text": [
      "[Training Epoch 31]: 100%|██████████| 4/4 [00:00<00:00,  9.71it/s, loss=0.00591, train_accuracy=0.925]\n",
      "[Evaluating Epoch 31]: 100%|██████████| 1/1 [00:00<00:00, 26.98it/s, loss=0.0143, eval_accuracy=0.741]\n"
     ]
    },
    {
     "name": "stdout",
     "output_type": "stream",
     "text": [
      "New best model saved with validation loss: 0.0143\n",
      "Epoch 31/50:\n",
      "Train Loss: 0.0059, Train Acc: 0.9252\n",
      "Val Loss: 0.0143, Val Acc: 0.7407\n"
     ]
    },
    {
     "name": "stderr",
     "output_type": "stream",
     "text": [
      "[Training Epoch 32]: 100%|██████████| 4/4 [00:00<00:00,  9.74it/s, loss=0.00608, train_accuracy=0.897]\n",
      "[Evaluating Epoch 32]: 100%|██████████| 1/1 [00:00<00:00, 26.92it/s, loss=0.0428, eval_accuracy=0.37]\n"
     ]
    },
    {
     "name": "stdout",
     "output_type": "stream",
     "text": [
      "Epoch 32/50:\n",
      "Train Loss: 0.0061, Train Acc: 0.8972\n",
      "Val Loss: 0.0428, Val Acc: 0.3704\n"
     ]
    },
    {
     "name": "stderr",
     "output_type": "stream",
     "text": [
      "[Training Epoch 33]: 100%|██████████| 4/4 [00:00<00:00,  9.82it/s, loss=0.0058, train_accuracy=0.944] \n",
      "[Evaluating Epoch 33]: 100%|██████████| 1/1 [00:00<00:00, 27.66it/s, loss=0.0176, eval_accuracy=0.741]\n"
     ]
    },
    {
     "name": "stdout",
     "output_type": "stream",
     "text": [
      "Epoch 33/50:\n",
      "Train Loss: 0.0058, Train Acc: 0.9439\n",
      "Val Loss: 0.0176, Val Acc: 0.7407\n"
     ]
    },
    {
     "name": "stderr",
     "output_type": "stream",
     "text": [
      "[Training Epoch 34]: 100%|██████████| 4/4 [00:00<00:00,  9.68it/s, loss=0.00734, train_accuracy=0.888]\n",
      "[Evaluating Epoch 34]: 100%|██████████| 1/1 [00:00<00:00, 28.33it/s, loss=0.0198, eval_accuracy=0.704]\n"
     ]
    },
    {
     "name": "stdout",
     "output_type": "stream",
     "text": [
      "Epoch 34/50:\n",
      "Train Loss: 0.0073, Train Acc: 0.8879\n",
      "Val Loss: 0.0198, Val Acc: 0.7037\n"
     ]
    },
    {
     "name": "stderr",
     "output_type": "stream",
     "text": [
      "[Training Epoch 35]: 100%|██████████| 4/4 [00:00<00:00,  9.78it/s, loss=0.00609, train_accuracy=0.953]\n",
      "[Evaluating Epoch 35]: 100%|██████████| 1/1 [00:00<00:00, 27.80it/s, loss=0.0258, eval_accuracy=0.63]\n"
     ]
    },
    {
     "name": "stdout",
     "output_type": "stream",
     "text": [
      "Epoch 35/50:\n",
      "Train Loss: 0.0061, Train Acc: 0.9533\n",
      "Val Loss: 0.0258, Val Acc: 0.6296\n"
     ]
    },
    {
     "name": "stderr",
     "output_type": "stream",
     "text": [
      "[Training Epoch 36]: 100%|██████████| 4/4 [00:00<00:00,  9.71it/s, loss=0.00413, train_accuracy=0.944]\n",
      "[Evaluating Epoch 36]: 100%|██████████| 1/1 [00:00<00:00, 28.50it/s, loss=0.019, eval_accuracy=0.704]\n"
     ]
    },
    {
     "name": "stdout",
     "output_type": "stream",
     "text": [
      "Epoch 36/50:\n",
      "Train Loss: 0.0041, Train Acc: 0.9439\n",
      "Val Loss: 0.0190, Val Acc: 0.7037\n"
     ]
    },
    {
     "name": "stderr",
     "output_type": "stream",
     "text": [
      "[Training Epoch 37]: 100%|██████████| 4/4 [00:00<00:00,  9.67it/s, loss=0.00469, train_accuracy=0.935]\n",
      "[Evaluating Epoch 37]: 100%|██████████| 1/1 [00:00<00:00, 28.18it/s, loss=0.0299, eval_accuracy=0.519]\n"
     ]
    },
    {
     "name": "stdout",
     "output_type": "stream",
     "text": [
      "Epoch 37/50:\n",
      "Train Loss: 0.0047, Train Acc: 0.9346\n",
      "Val Loss: 0.0299, Val Acc: 0.5185\n"
     ]
    },
    {
     "name": "stderr",
     "output_type": "stream",
     "text": [
      "[Training Epoch 38]: 100%|██████████| 4/4 [00:00<00:00,  9.60it/s, loss=0.00516, train_accuracy=0.953]\n",
      "[Evaluating Epoch 38]: 100%|██████████| 1/1 [00:00<00:00, 27.47it/s, loss=0.0236, eval_accuracy=0.667]\n"
     ]
    },
    {
     "name": "stdout",
     "output_type": "stream",
     "text": [
      "Epoch 38/50:\n",
      "Train Loss: 0.0052, Train Acc: 0.9533\n",
      "Val Loss: 0.0236, Val Acc: 0.6667\n"
     ]
    },
    {
     "name": "stderr",
     "output_type": "stream",
     "text": [
      "[Training Epoch 39]: 100%|██████████| 4/4 [00:00<00:00,  9.06it/s, loss=0.00609, train_accuracy=0.935]\n",
      "[Evaluating Epoch 39]: 100%|██████████| 1/1 [00:00<00:00, 26.04it/s, loss=0.0251, eval_accuracy=0.63]\n"
     ]
    },
    {
     "name": "stdout",
     "output_type": "stream",
     "text": [
      "Epoch 39/50:\n",
      "Train Loss: 0.0061, Train Acc: 0.9346\n",
      "Val Loss: 0.0251, Val Acc: 0.6296\n"
     ]
    },
    {
     "name": "stderr",
     "output_type": "stream",
     "text": [
      "[Training Epoch 40]: 100%|██████████| 4/4 [00:00<00:00,  9.73it/s, loss=0.00554, train_accuracy=0.944]\n",
      "[Evaluating Epoch 40]: 100%|██████████| 1/1 [00:00<00:00, 28.15it/s, loss=0.0387, eval_accuracy=0.37]\n"
     ]
    },
    {
     "name": "stdout",
     "output_type": "stream",
     "text": [
      "Epoch 40/50:\n",
      "Train Loss: 0.0055, Train Acc: 0.9439\n",
      "Val Loss: 0.0387, Val Acc: 0.3704\n"
     ]
    },
    {
     "name": "stderr",
     "output_type": "stream",
     "text": [
      "[Training Epoch 41]: 100%|██████████| 4/4 [00:00<00:00,  9.57it/s, loss=0.00407, train_accuracy=0.953]\n",
      "[Evaluating Epoch 41]: 100%|██████████| 1/1 [00:00<00:00, 27.04it/s, loss=0.0291, eval_accuracy=0.556]\n"
     ]
    },
    {
     "name": "stdout",
     "output_type": "stream",
     "text": [
      "Epoch 41/50:\n",
      "Train Loss: 0.0041, Train Acc: 0.9533\n",
      "Val Loss: 0.0291, Val Acc: 0.5556\n"
     ]
    },
    {
     "name": "stderr",
     "output_type": "stream",
     "text": [
      "[Training Epoch 42]: 100%|██████████| 4/4 [00:00<00:00,  9.76it/s, loss=0.00522, train_accuracy=0.944]\n",
      "[Evaluating Epoch 42]: 100%|██████████| 1/1 [00:00<00:00, 27.76it/s, loss=0.0257, eval_accuracy=0.63]\n"
     ]
    },
    {
     "name": "stdout",
     "output_type": "stream",
     "text": [
      "Epoch 42/50:\n",
      "Train Loss: 0.0052, Train Acc: 0.9439\n",
      "Val Loss: 0.0257, Val Acc: 0.6296\n"
     ]
    },
    {
     "name": "stderr",
     "output_type": "stream",
     "text": [
      "[Training Epoch 43]: 100%|██████████| 4/4 [00:00<00:00,  9.58it/s, loss=0.00603, train_accuracy=0.944]\n",
      "[Evaluating Epoch 43]: 100%|██████████| 1/1 [00:00<00:00, 22.57it/s, loss=0.0327, eval_accuracy=0.481]\n"
     ]
    },
    {
     "name": "stdout",
     "output_type": "stream",
     "text": [
      "Epoch 43/50:\n",
      "Train Loss: 0.0060, Train Acc: 0.9439\n",
      "Val Loss: 0.0327, Val Acc: 0.4815\n"
     ]
    },
    {
     "name": "stderr",
     "output_type": "stream",
     "text": [
      "[Training Epoch 44]: 100%|██████████| 4/4 [00:00<00:00,  9.44it/s, loss=0.00421, train_accuracy=0.953]\n",
      "[Evaluating Epoch 44]: 100%|██████████| 1/1 [00:00<00:00, 28.39it/s, loss=0.0409, eval_accuracy=0.407]\n"
     ]
    },
    {
     "name": "stdout",
     "output_type": "stream",
     "text": [
      "Epoch 44/50:\n",
      "Train Loss: 0.0042, Train Acc: 0.9533\n",
      "Val Loss: 0.0409, Val Acc: 0.4074\n"
     ]
    },
    {
     "name": "stderr",
     "output_type": "stream",
     "text": [
      "[Training Epoch 45]: 100%|██████████| 4/4 [00:00<00:00,  9.56it/s, loss=0.00505, train_accuracy=0.972]\n",
      "[Evaluating Epoch 45]: 100%|██████████| 1/1 [00:00<00:00, 27.01it/s, loss=0.0231, eval_accuracy=0.667]\n"
     ]
    },
    {
     "name": "stdout",
     "output_type": "stream",
     "text": [
      "Epoch 45/50:\n",
      "Train Loss: 0.0051, Train Acc: 0.9720\n",
      "Val Loss: 0.0231, Val Acc: 0.6667\n"
     ]
    },
    {
     "name": "stderr",
     "output_type": "stream",
     "text": [
      "[Training Epoch 46]: 100%|██████████| 4/4 [00:00<00:00,  9.70it/s, loss=0.0047, train_accuracy=0.963] \n",
      "[Evaluating Epoch 46]: 100%|██████████| 1/1 [00:00<00:00, 29.30it/s, loss=0.0227, eval_accuracy=0.667]\n"
     ]
    },
    {
     "name": "stdout",
     "output_type": "stream",
     "text": [
      "Epoch 46/50:\n",
      "Train Loss: 0.0047, Train Acc: 0.9626\n",
      "Val Loss: 0.0227, Val Acc: 0.6667\n"
     ]
    },
    {
     "name": "stderr",
     "output_type": "stream",
     "text": [
      "[Training Epoch 47]: 100%|██████████| 4/4 [00:00<00:00,  9.73it/s, loss=0.00359, train_accuracy=0.953]\n",
      "[Evaluating Epoch 47]: 100%|██████████| 1/1 [00:00<00:00, 27.22it/s, loss=0.0256, eval_accuracy=0.667]\n"
     ]
    },
    {
     "name": "stdout",
     "output_type": "stream",
     "text": [
      "Epoch 47/50:\n",
      "Train Loss: 0.0036, Train Acc: 0.9533\n",
      "Val Loss: 0.0256, Val Acc: 0.6667\n"
     ]
    },
    {
     "name": "stderr",
     "output_type": "stream",
     "text": [
      "[Training Epoch 48]: 100%|██████████| 4/4 [00:00<00:00,  9.54it/s, loss=0.00445, train_accuracy=0.953]\n",
      "[Evaluating Epoch 48]: 100%|██████████| 1/1 [00:00<00:00, 27.58it/s, loss=0.0327, eval_accuracy=0.481]\n"
     ]
    },
    {
     "name": "stdout",
     "output_type": "stream",
     "text": [
      "Epoch 48/50:\n",
      "Train Loss: 0.0044, Train Acc: 0.9533\n",
      "Val Loss: 0.0327, Val Acc: 0.4815\n"
     ]
    },
    {
     "name": "stderr",
     "output_type": "stream",
     "text": [
      "[Training Epoch 49]: 100%|██████████| 4/4 [00:00<00:00,  9.64it/s, loss=0.00364, train_accuracy=0.963]\n",
      "[Evaluating Epoch 49]: 100%|██████████| 1/1 [00:00<00:00, 26.98it/s, loss=0.0397, eval_accuracy=0.407]\n"
     ]
    },
    {
     "name": "stdout",
     "output_type": "stream",
     "text": [
      "Epoch 49/50:\n",
      "Train Loss: 0.0036, Train Acc: 0.9626\n",
      "Val Loss: 0.0397, Val Acc: 0.4074\n"
     ]
    },
    {
     "name": "stderr",
     "output_type": "stream",
     "text": [
      "[Training Epoch 50]: 100%|██████████| 4/4 [00:00<00:00,  9.42it/s, loss=0.00347, train_accuracy=0.963]\n",
      "[Evaluating Epoch 50]: 100%|██████████| 1/1 [00:00<00:00, 26.36it/s, loss=0.0276, eval_accuracy=0.593]"
     ]
    },
    {
     "name": "stdout",
     "output_type": "stream",
     "text": [
      "Epoch 50/50:\n",
      "Train Loss: 0.0035, Train Acc: 0.9626\n",
      "Val Loss: 0.0276, Val Acc: 0.5926\n",
      "Training completed!\n",
      "To view training progress, run:\n",
      "tensorboard --logdir logs\n"
     ]
    },
    {
     "name": "stderr",
     "output_type": "stream",
     "text": [
      "\n"
     ]
    }
   ],
   "source": [
    "def train(loader_train, model, optimizer, epoch):\n",
    "    \n",
    "    model.train()\n",
    "    running_loss = 0.0\n",
    "    running_correct = 0.0\n",
    "    total = 0\n",
    "    pbar = tqdm(enumerate(loader_train), total=len(loader_train))\n",
    "    \n",
    "    for batch_ndx, sample in pbar:\n",
    "        # Unpack the sample with all three types of features\n",
    "        scalar_features, spectrograms, chromagrams, labels = (\n",
    "            sample[0].to(device), \n",
    "            sample[1].to(device),\n",
    "            sample[2].to(device),\n",
    "            sample[3].to(device)\n",
    "        )\n",
    "\n",
    "        # Forward pass and loss calculation\n",
    "        outputs = model(scalar_features, spectrograms, chromagrams)\n",
    "        loss = criterion(outputs, labels)\n",
    "        \n",
    "        # Backward pass    \n",
    "        loss.backward()\n",
    "        \n",
    "        # Update weights\n",
    "        optimizer.step()\n",
    "        optimizer.zero_grad()\n",
    "        \n",
    "        # Calculate metrics\n",
    "        running_loss += loss.item()\n",
    "        predictions = torch.argmax(outputs.data, 1)\n",
    "        running_correct += (predictions == labels).sum().item()\n",
    "\n",
    "        # Print information\n",
    "        pbar.set_description(f'[Training Epoch {epoch+1}]')\n",
    "        total += labels.shape[0]\n",
    "        pbar.set_postfix({\n",
    "            'loss': running_loss / total, \n",
    "            'train_accuracy': running_correct / total\n",
    "        })\n",
    "        \n",
    "    # Write information to tensorboard\n",
    "    writer.add_scalar('Loss/Train', running_loss / total, epoch+1)\n",
    "    writer.add_scalar('Accuracy/Train', running_correct / total, epoch+1)\n",
    "    \n",
    "    return running_loss / total, running_correct / total\n",
    "\n",
    "def evaluate(loader_test, model, epoch):\n",
    "    model.eval()\n",
    "    running_loss = 0.0\n",
    "    running_correct = 0.0\n",
    "    total = 0\n",
    "    \n",
    "    with torch.no_grad():\n",
    "        pbar = tqdm(enumerate(loader_test), total=len(loader_test))\n",
    "        for batch_ndx, sample in pbar:\n",
    "            # Unpack the sample\n",
    "            scalar_features, spectrograms, chromagrams, labels = (\n",
    "                sample[0].to(device), \n",
    "                sample[1].to(device),\n",
    "                sample[2].to(device),\n",
    "                sample[3].to(device)\n",
    "            )\n",
    "\n",
    "            # Forward pass and loss calculation\n",
    "            outputs = model(scalar_features, spectrograms, chromagrams)\n",
    "            loss = criterion(outputs, labels)\n",
    "\n",
    "            # Calculate metrics\n",
    "            running_loss += loss.item()\n",
    "            predictions = torch.argmax(outputs.data, 1)\n",
    "            running_correct += (predictions == labels).sum().item()\n",
    "\n",
    "            # Print information\n",
    "            pbar.set_description(f'[Evaluating Epoch {epoch+1}]')\n",
    "            total += labels.shape[0]\n",
    "            pbar.set_postfix({\n",
    "                'loss': running_loss / total, \n",
    "                'eval_accuracy': running_correct / total\n",
    "            })\n",
    "        \n",
    "    # Write information to tensorboard\n",
    "    writer.add_scalar('Loss/Eval', running_loss / total, epoch+1)\n",
    "    writer.add_scalar('Accuracy/Eval', running_correct / total, epoch+1)\n",
    "    \n",
    "    return running_loss / total, running_correct / total\n",
    "\n",
    "# Initialize tensorboard summary writer\n",
    "time_stamp = datetime.now().strftime('%Y%m%d-%H%M%S')\n",
    "writer = SummaryWriter(f'logs/{time_stamp}/')\n",
    "\n",
    "# Add graph to tensorboard\n",
    "sample = next(iter(train_loader))\n",
    "scalar_features, spectrograms, chromagrams = sample[0][:1], sample[1][:1], sample[2][:1]\n",
    "writer.add_graph(model, (scalar_features, spectrograms, chromagrams))\n",
    "\n",
    "# Training loop\n",
    "best_val_loss = float('inf')\n",
    "best_model_state = None\n",
    "\n",
    "print(\"Starting training...\")\n",
    "for epoch in range(hparams['epochs']):\n",
    "    train_loss, train_acc = train(train_loader, model, optimizer, epoch)\n",
    "    val_loss, val_acc = evaluate(val_loader, model, epoch)\n",
    "    \n",
    "    # Save best model\n",
    "    if val_loss < best_val_loss:\n",
    "        best_val_loss = val_loss\n",
    "        best_model_state = model.state_dict().copy()\n",
    "        print(f'New best model saved with validation loss: {val_loss:.4f}')\n",
    "    \n",
    "    print(f'Epoch {epoch+1}/{hparams[\"epochs\"]}:')\n",
    "    print(f'Train Loss: {train_loss:.4f}, Train Acc: {train_acc:.4f}')\n",
    "    print(f'Val Loss: {val_loss:.4f}, Val Acc: {val_acc:.4f}')\n",
    "\n",
    "\n",
    "# Guardando el modelo\n",
    "torch.save({\n",
    "    'hparams': hparams,\n",
    "    'model_state': model.state_dict(),\n",
    "    'scaler': scaler,\n",
    "    'epoch': epoch,\n",
    "    'model_state_dict': best_model_state,\n",
    "    'optimizer_state_dict': optimizer.state_dict(),\n",
    "    'best_val_loss': best_val_loss,\n",
    "}, f'checkpoints/best_model_cnn_{time_stamp}.pth')\n",
    "\n",
    "# Close tensorboard\n",
    "writer.close()\n",
    "\n",
    "print(\"Training completed!\")\n",
    "print(\"To view training progress, run:\")\n",
    "print(\"tensorboard --logdir logs\")"
   ]
  },
  {
   "cell_type": "code",
   "execution_count": 16,
   "metadata": {},
   "outputs": [
    {
     "name": "stdout",
     "output_type": "stream",
     "text": [
      "checkpoints/best_model_cnn_20250128-200727.pth\n"
     ]
    }
   ],
   "source": [
    "model_name_str = f\"checkpoints/best_model_cnn_{time_stamp}.pth\"\n",
    "print(model_name_str)"
   ]
  },
  {
   "cell_type": "markdown",
   "metadata": {},
   "source": [
    "Los números obtenidos parecen prometedores! pero debemos revisar"
   ]
  },
  {
   "cell_type": "markdown",
   "metadata": {},
   "source": [
    "### Inferencia : testeando con un audio guardado que es covid positivo!\n",
    "\n",
    "- Recordando que $[1, 0 ]$ es sano y $[0 , 1]$ es covid. \n",
    "\n",
    "- Cargamos el modelo \n",
    "\n",
    "- Procesamos el audio de prueba covid positivo"
   ]
  },
  {
   "cell_type": "code",
   "execution_count": 20,
   "metadata": {},
   "outputs": [
    {
     "name": "stderr",
     "output_type": "stream",
     "text": [
      "/var/folders/js/4gyf2ycn0psfjp__7974j73h0000gn/T/ipykernel_88296/3748130281.py:2: FutureWarning: You are using `torch.load` with `weights_only=False` (the current default value), which uses the default pickle module implicitly. It is possible to construct malicious pickle data which will execute arbitrary code during unpickling (See https://github.com/pytorch/pytorch/blob/main/SECURITY.md#untrusted-models for more details). In a future release, the default value for `weights_only` will be flipped to `True`. This limits the functions that could be executed during unpickling. Arbitrary objects will no longer be allowed to be loaded via this mode unless they are explicitly allowlisted by the user via `torch.serialization.add_safe_globals`. We recommend you start setting `weights_only=True` for any use case where you don't have full control of the loaded file. Please open an issue on GitHub for any issues related to this experimental feature.\n",
      "  loaded_checkpoint = torch.load(model_name_str)\n"
     ]
    }
   ],
   "source": [
    "# load model from checkpoint\n",
    "loaded_checkpoint = torch.load(model_name_str)\n",
    "hparams = loaded_checkpoint['hparams']\n",
    "scaler = loaded_checkpoint['scaler']\n",
    "model = CoughNetWithCNN(len(hparams['features']))\n",
    "model.eval()\n",
    "model.load_state_dict(loaded_checkpoint['model_state'])\n",
    "\n",
    "# Preprocess the wav file to get all features\n",
    "feature_row = preproces_for_new_architecture(fn_wav)\n"
   ]
  },
  {
   "cell_type": "code",
   "execution_count": 47,
   "metadata": {},
   "outputs": [],
   "source": [
    "## Descomentar para observar\n",
    "#feature_row"
   ]
  },
  {
   "cell_type": "code",
   "execution_count": 22,
   "metadata": {},
   "outputs": [
    {
     "data": {
      "text/plain": [
       "dict_keys(['chroma_stft', 'rmse', 'spectral_centroid', 'spectral_bandwidth', 'rolloff', 'zero_crossing_rate', 'mel_spectrogram', 'chromagram', 'mfcc1', 'mfcc2', 'mfcc3', 'mfcc4', 'mfcc5', 'mfcc6', 'mfcc7', 'mfcc8', 'mfcc9', 'mfcc10', 'mfcc11', 'mfcc12', 'mfcc13', 'mfcc14', 'mfcc15', 'mfcc16', 'mfcc17', 'mfcc18', 'mfcc19', 'mfcc20'])"
      ]
     },
     "execution_count": 22,
     "metadata": {},
     "output_type": "execute_result"
    }
   ],
   "source": [
    "feature_row.keys()"
   ]
  },
  {
   "cell_type": "markdown",
   "metadata": {},
   "source": [
    "### Necesitamos cargar el audio, preprocesarlo y pasarselo al modelo"
   ]
  },
  {
   "cell_type": "code",
   "execution_count": 45,
   "metadata": {},
   "outputs": [
    {
     "name": "stdout",
     "output_type": "stream",
     "text": [
      "model outputs [0.00264193 0.997358  ] which predicts the class covid!\n",
      "Scalar features shape: torch.Size([1, 26])\n",
      "Spectrogram shape: torch.Size([1, 1, 128, 128])\n",
      "Chromagram shape: torch.Size([1, 1, 12, 128])\n"
     ]
    },
    {
     "name": "stderr",
     "output_type": "stream",
     "text": [
      "/var/folders/js/4gyf2ycn0psfjp__7974j73h0000gn/T/ipykernel_88296/1490952442.py:6: FutureWarning: You are using `torch.load` with `weights_only=False` (the current default value), which uses the default pickle module implicitly. It is possible to construct malicious pickle data which will execute arbitrary code during unpickling (See https://github.com/pytorch/pytorch/blob/main/SECURITY.md#untrusted-models for more details). In a future release, the default value for `weights_only` will be flipped to `True`. This limits the functions that could be executed during unpickling. Arbitrary objects will no longer be allowed to be loaded via this mode unless they are explicitly allowlisted by the user via `torch.serialization.add_safe_globals`. We recommend you start setting `weights_only=True` for any use case where you don't have full control of the loaded file. Please open an issue on GitHub for any issues related to this experimental feature.\n",
      "  loaded_checkpoint = torch.load(model_name_str)\n",
      "/Users/rodolfolobocarrasco/Library/Caches/pypoetry/virtualenvs/clear-J92jq7Lm-py3.11/lib/python3.11/site-packages/sklearn/utils/validation.py:2732: UserWarning: X has feature names, but StandardScaler was fitted without feature names\n",
      "  warnings.warn(\n"
     ]
    }
   ],
   "source": [
    "# Get features\n",
    "fn_wav = 'data/test.wav' \n",
    "features = preproces_for_new_architecture(fn_wav)\n",
    "\n",
    "# load model from checkpoint\n",
    "loaded_checkpoint = torch.load(model_name_str)\n",
    "hparams = loaded_checkpoint['hparams']\n",
    "scaler = loaded_checkpoint['scaler']\n",
    "model = CoughNetWithCNN(len(hparams['features']))\n",
    "model.eval()\n",
    "model.load_state_dict(loaded_checkpoint['model_state'])\n",
    "\n",
    "\n",
    "\n",
    "# Prepare scalar features\n",
    "scalar_features = []\n",
    "for feature_name in hparams['features']:\n",
    "    if feature_name not in ['mel_spectrogram', 'chromagram']:  # Exclude 2D features\n",
    "        scalar_features.append(features[feature_name])\n",
    "\n",
    "# Convert to DataFrame and scale\n",
    "df_features = pd.DataFrame([scalar_features], columns=[f for f in hparams['features'] if f not in ['mel_spectrogram', 'chromagram']])\n",
    "scalar_x = torch.Tensor(scaler.transform(df_features))\n",
    "\n",
    "# Prepare spectrogram and chromagram\n",
    "spec_x = torch.FloatTensor(features['mel_spectrogram']).unsqueeze(0).unsqueeze(0)  # Add batch and channel dimensions\n",
    "chroma_x = torch.FloatTensor(features['chromagram']).unsqueeze(0).unsqueeze(0)     # Add batch and channel dimensions\n",
    "\n",
    "# Get model prediction\n",
    "with torch.no_grad():\n",
    "    outputs = torch.softmax(model(scalar_x, spec_x, chroma_x), 1)\n",
    "predictions = torch.argmax(outputs.data, 1)\n",
    "\n",
    "# print result\n",
    "print(f'model outputs {outputs[0].detach().numpy()} which predicts the class covid!')\n",
    "\n",
    "# Optional: Print shapes to verify\n",
    "print(f\"Scalar features shape: {scalar_x.shape}\")\n",
    "print(f\"Spectrogram shape: {spec_x.shape}\")      # Should be [1, 1, 128, 128]\n",
    "print(f\"Chromagram shape: {chroma_x.shape}\")     # Should be [1, 1, 12, 128]"
   ]
  },
  {
   "cell_type": "markdown",
   "metadata": {},
   "source": [
    "## K-fold cross validation\n",
    "\n",
    "- Estudiar!: por qué y para qué sirve K-fol cross validation"
   ]
  },
  {
   "cell_type": "code",
   "execution_count": 27,
   "metadata": {},
   "outputs": [],
   "source": [
    "from sklearn.model_selection import KFold"
   ]
  },
  {
   "cell_type": "code",
   "execution_count": 34,
   "metadata": {},
   "outputs": [
    {
     "name": "stdout",
     "output_type": "stream",
     "text": [
      "K-FOLD CROSS VALIDATION RESULTS FOR 8 FOLDS\n",
      "--------------------------------------------\n",
      "|         | Train Accuracy | Test Accuracy |\n",
      "--------------------------------------------\n",
      "Fold 0, Epoch 0:\n",
      "Training Accuracy: 62.39%\n",
      "Validation Accuracy: 70.59%\n",
      "Fold 0, Epoch 5:\n",
      "Training Accuracy: 72.65%\n",
      "Validation Accuracy: 70.59%\n",
      "Fold 0, Epoch 10:\n",
      "Training Accuracy: 77.78%\n",
      "Validation Accuracy: 76.47%\n",
      "Fold 0, Epoch 15:\n",
      "Training Accuracy: 86.32%\n",
      "Validation Accuracy: 88.24%\n",
      "Fold 0, Epoch 20:\n",
      "Training Accuracy: 89.74%\n",
      "Validation Accuracy: 88.24%\n",
      "Fold 0, Epoch 25:\n",
      "Training Accuracy: 91.45%\n",
      "Validation Accuracy: 94.12%\n",
      "Fold 0, Epoch 30:\n",
      "Training Accuracy: 93.16%\n",
      "Validation Accuracy: 88.24%\n",
      "Fold 0, Epoch 35:\n",
      "Training Accuracy: 94.02%\n",
      "Validation Accuracy: 88.24%\n",
      "Fold 0, Epoch 40:\n",
      "Training Accuracy: 94.02%\n",
      "Validation Accuracy: 88.24%\n",
      "Fold 0, Epoch 45:\n",
      "Training Accuracy: 93.16%\n",
      "Validation Accuracy: 94.12%\n",
      "| Fold 0  |       94.02 % |       88.24 % |\n",
      "Fold 1, Epoch 0:\n",
      "Training Accuracy: 59.83%\n",
      "Validation Accuracy: 64.71%\n",
      "Fold 1, Epoch 5:\n",
      "Training Accuracy: 73.50%\n",
      "Validation Accuracy: 58.82%\n",
      "Fold 1, Epoch 10:\n",
      "Training Accuracy: 82.05%\n",
      "Validation Accuracy: 64.71%\n",
      "Fold 1, Epoch 15:\n",
      "Training Accuracy: 88.89%\n",
      "Validation Accuracy: 70.59%\n",
      "Fold 1, Epoch 20:\n",
      "Training Accuracy: 92.31%\n",
      "Validation Accuracy: 76.47%\n",
      "Fold 1, Epoch 25:\n",
      "Training Accuracy: 90.60%\n",
      "Validation Accuracy: 76.47%\n",
      "Fold 1, Epoch 30:\n",
      "Training Accuracy: 96.58%\n",
      "Validation Accuracy: 76.47%\n",
      "Fold 1, Epoch 35:\n",
      "Training Accuracy: 94.87%\n",
      "Validation Accuracy: 82.35%\n",
      "Fold 1, Epoch 40:\n",
      "Training Accuracy: 98.29%\n",
      "Validation Accuracy: 82.35%\n",
      "Fold 1, Epoch 45:\n",
      "Training Accuracy: 96.58%\n",
      "Validation Accuracy: 82.35%\n",
      "| Fold 1  |       98.29 % |       88.24 % |\n",
      "Fold 2, Epoch 0:\n",
      "Training Accuracy: 63.25%\n",
      "Validation Accuracy: 58.82%\n",
      "Fold 2, Epoch 5:\n",
      "Training Accuracy: 71.79%\n",
      "Validation Accuracy: 58.82%\n",
      "Fold 2, Epoch 10:\n",
      "Training Accuracy: 78.63%\n",
      "Validation Accuracy: 64.71%\n",
      "Fold 2, Epoch 15:\n",
      "Training Accuracy: 82.91%\n",
      "Validation Accuracy: 82.35%\n",
      "Fold 2, Epoch 20:\n",
      "Training Accuracy: 88.03%\n",
      "Validation Accuracy: 88.24%\n",
      "Fold 2, Epoch 25:\n",
      "Training Accuracy: 87.18%\n",
      "Validation Accuracy: 100.00%\n",
      "Fold 2, Epoch 30:\n",
      "Training Accuracy: 89.74%\n",
      "Validation Accuracy: 94.12%\n",
      "Fold 2, Epoch 35:\n",
      "Training Accuracy: 90.60%\n",
      "Validation Accuracy: 100.00%\n",
      "Fold 2, Epoch 40:\n",
      "Training Accuracy: 92.31%\n",
      "Validation Accuracy: 100.00%\n",
      "Fold 2, Epoch 45:\n",
      "Training Accuracy: 94.87%\n",
      "Validation Accuracy: 100.00%\n",
      "| Fold 2  |       98.29 % |       100.00 % |\n",
      "Fold 3, Epoch 0:\n",
      "Training Accuracy: 71.79%\n",
      "Validation Accuracy: 41.18%\n",
      "Fold 3, Epoch 5:\n",
      "Training Accuracy: 73.50%\n",
      "Validation Accuracy: 58.82%\n",
      "Fold 3, Epoch 10:\n",
      "Training Accuracy: 77.78%\n",
      "Validation Accuracy: 64.71%\n",
      "Fold 3, Epoch 15:\n",
      "Training Accuracy: 85.47%\n",
      "Validation Accuracy: 70.59%\n",
      "Fold 3, Epoch 20:\n",
      "Training Accuracy: 90.60%\n",
      "Validation Accuracy: 82.35%\n",
      "Fold 3, Epoch 25:\n",
      "Training Accuracy: 91.45%\n",
      "Validation Accuracy: 82.35%\n",
      "Fold 3, Epoch 30:\n",
      "Training Accuracy: 93.16%\n",
      "Validation Accuracy: 82.35%\n",
      "Fold 3, Epoch 35:\n",
      "Training Accuracy: 94.87%\n",
      "Validation Accuracy: 82.35%\n",
      "Fold 3, Epoch 40:\n",
      "Training Accuracy: 97.44%\n",
      "Validation Accuracy: 82.35%\n",
      "Fold 3, Epoch 45:\n",
      "Training Accuracy: 96.58%\n",
      "Validation Accuracy: 82.35%\n",
      "| Fold 3  |       96.58 % |       82.35 % |\n",
      "Fold 4, Epoch 0:\n",
      "Training Accuracy: 50.43%\n",
      "Validation Accuracy: 47.06%\n",
      "Fold 4, Epoch 5:\n",
      "Training Accuracy: 71.79%\n",
      "Validation Accuracy: 76.47%\n",
      "Fold 4, Epoch 10:\n",
      "Training Accuracy: 79.49%\n",
      "Validation Accuracy: 82.35%\n",
      "Fold 4, Epoch 15:\n",
      "Training Accuracy: 82.05%\n",
      "Validation Accuracy: 88.24%\n",
      "Fold 4, Epoch 20:\n",
      "Training Accuracy: 91.45%\n",
      "Validation Accuracy: 88.24%\n",
      "Fold 4, Epoch 25:\n",
      "Training Accuracy: 90.60%\n",
      "Validation Accuracy: 88.24%\n",
      "Fold 4, Epoch 30:\n",
      "Training Accuracy: 90.60%\n",
      "Validation Accuracy: 88.24%\n",
      "Fold 4, Epoch 35:\n",
      "Training Accuracy: 96.58%\n",
      "Validation Accuracy: 94.12%\n",
      "Fold 4, Epoch 40:\n",
      "Training Accuracy: 94.87%\n",
      "Validation Accuracy: 94.12%\n",
      "Fold 4, Epoch 45:\n",
      "Training Accuracy: 96.58%\n",
      "Validation Accuracy: 94.12%\n",
      "| Fold 4  |       96.58 % |       88.24 % |\n",
      "Fold 5, Epoch 0:\n",
      "Training Accuracy: 52.14%\n",
      "Validation Accuracy: 82.35%\n",
      "Fold 5, Epoch 5:\n",
      "Training Accuracy: 70.94%\n",
      "Validation Accuracy: 82.35%\n",
      "Fold 5, Epoch 10:\n",
      "Training Accuracy: 78.63%\n",
      "Validation Accuracy: 82.35%\n",
      "Fold 5, Epoch 15:\n",
      "Training Accuracy: 87.18%\n",
      "Validation Accuracy: 88.24%\n",
      "Fold 5, Epoch 20:\n",
      "Training Accuracy: 88.89%\n",
      "Validation Accuracy: 82.35%\n",
      "Fold 5, Epoch 25:\n",
      "Training Accuracy: 92.31%\n",
      "Validation Accuracy: 70.59%\n",
      "Fold 5, Epoch 30:\n",
      "Training Accuracy: 93.16%\n",
      "Validation Accuracy: 82.35%\n",
      "Fold 5, Epoch 35:\n",
      "Training Accuracy: 92.31%\n",
      "Validation Accuracy: 82.35%\n",
      "Fold 5, Epoch 40:\n",
      "Training Accuracy: 95.73%\n",
      "Validation Accuracy: 76.47%\n",
      "Fold 5, Epoch 45:\n",
      "Training Accuracy: 93.16%\n",
      "Validation Accuracy: 82.35%\n",
      "| Fold 5  |       95.73 % |       82.35 % |\n",
      "Fold 6, Epoch 0:\n",
      "Training Accuracy: 55.93%\n",
      "Validation Accuracy: 68.75%\n",
      "Fold 6, Epoch 5:\n",
      "Training Accuracy: 72.88%\n",
      "Validation Accuracy: 81.25%\n",
      "Fold 6, Epoch 10:\n",
      "Training Accuracy: 79.66%\n",
      "Validation Accuracy: 81.25%\n",
      "Fold 6, Epoch 15:\n",
      "Training Accuracy: 83.90%\n",
      "Validation Accuracy: 93.75%\n",
      "Fold 6, Epoch 20:\n",
      "Training Accuracy: 92.37%\n",
      "Validation Accuracy: 93.75%\n",
      "Fold 6, Epoch 25:\n",
      "Training Accuracy: 94.07%\n",
      "Validation Accuracy: 93.75%\n",
      "Fold 6, Epoch 30:\n",
      "Training Accuracy: 94.07%\n",
      "Validation Accuracy: 93.75%\n",
      "Fold 6, Epoch 35:\n",
      "Training Accuracy: 96.61%\n",
      "Validation Accuracy: 93.75%\n",
      "Fold 6, Epoch 40:\n",
      "Training Accuracy: 93.22%\n",
      "Validation Accuracy: 93.75%\n",
      "Fold 6, Epoch 45:\n",
      "Training Accuracy: 95.76%\n",
      "Validation Accuracy: 93.75%\n",
      "| Fold 6  |       95.76 % |       93.75 % |\n",
      "Fold 7, Epoch 0:\n",
      "Training Accuracy: 52.54%\n",
      "Validation Accuracy: 12.50%\n",
      "Fold 7, Epoch 5:\n",
      "Training Accuracy: 68.64%\n",
      "Validation Accuracy: 81.25%\n",
      "Fold 7, Epoch 10:\n",
      "Training Accuracy: 80.51%\n",
      "Validation Accuracy: 93.75%\n",
      "Fold 7, Epoch 15:\n",
      "Training Accuracy: 88.14%\n",
      "Validation Accuracy: 68.75%\n",
      "Fold 7, Epoch 20:\n",
      "Training Accuracy: 88.98%\n",
      "Validation Accuracy: 62.50%\n",
      "Fold 7, Epoch 25:\n",
      "Training Accuracy: 94.07%\n",
      "Validation Accuracy: 68.75%\n",
      "Fold 7, Epoch 30:\n",
      "Training Accuracy: 94.92%\n",
      "Validation Accuracy: 75.00%\n",
      "Fold 7, Epoch 35:\n",
      "Training Accuracy: 93.22%\n",
      "Validation Accuracy: 68.75%\n",
      "Fold 7, Epoch 40:\n",
      "Training Accuracy: 93.22%\n",
      "Validation Accuracy: 62.50%\n",
      "Fold 7, Epoch 45:\n",
      "Training Accuracy: 95.76%\n",
      "Validation Accuracy: 75.00%\n",
      "| Fold 7  |       96.61 % |       75.00 % |\n",
      "--------------------------------------------\n",
      "| Average |       96.48 % |       87.27 % |\n"
     ]
    }
   ],
   "source": [
    "# 1. Preparo los datos nuevamente\n",
    "scalar_features = df_balanced.drop(['filename', 'label'], axis=1).values\n",
    "labels = (df_balanced['label'] == 'covid').astype(int).values\n",
    "\n",
    "# Cargamos las imagenes\n",
    "npz_data = np.load('data/2d_features_balanced.npz', allow_pickle=True)\n",
    "spectrograms = np.stack([npz_data['spectrograms'].item()[fn] for fn in df_balanced['filename']])\n",
    "chromagrams = np.stack([npz_data['chromagrams'].item()[fn] for fn in df_balanced['filename']])\n",
    "\n",
    "# 2. Aplicamos 8 folds\n",
    "k_folds = 8\n",
    "kfold = KFold(n_splits=k_folds, shuffle=True, random_state=42)\n",
    "indices = np.arange(len(labels))\n",
    "results_train = []\n",
    "results_test = []\n",
    "\n",
    "def train(loader_train, model, optimizer, epoch):\n",
    "    model.train()\n",
    "    running_correct = 0.0\n",
    "    total = 0\n",
    "    for batch_ndx, sample in enumerate(loader_train):\n",
    "        scalar_features, spectrograms, chromagrams, labels = (\n",
    "            sample[0].to(device),\n",
    "            sample[1].to(device),\n",
    "            sample[2].to(device),\n",
    "            sample[3].to(device)\n",
    "        )\n",
    "\n",
    "        # forward pass and loss calculation\n",
    "        outputs = model(scalar_features, spectrograms, chromagrams)\n",
    "        loss = criterion(outputs, labels)\n",
    "\n",
    "        # backward pass    \n",
    "        loss.backward()\n",
    "        \n",
    "        # update weights\n",
    "        optimizer.step()\n",
    "        optimizer.zero_grad()\n",
    "\n",
    "        # calculate metrics\n",
    "        predictions = torch.argmax(outputs.data, 1)\n",
    "        running_correct += (predictions == labels).sum().item()\n",
    "        total += labels.shape[0]\n",
    "\n",
    "    return running_correct / total\n",
    "\n",
    "def evaluate(loader_test, model, epoch):\n",
    "    model.eval()\n",
    "    running_correct = 0.0\n",
    "    total = 0\n",
    "    with torch.no_grad():\n",
    "        for batch_ndx, sample in enumerate(loader_test):\n",
    "            scalar_features, spectrograms, chromagrams, labels = (\n",
    "                sample[0].to(device),\n",
    "                sample[1].to(device),\n",
    "                sample[2].to(device),\n",
    "                sample[3].to(device)\n",
    "            )\n",
    "\n",
    "            # forward pass and loss calculation\n",
    "            outputs = model(scalar_features, spectrograms, chromagrams)\n",
    "            loss = criterion(outputs, labels)\n",
    "\n",
    "            # calculate metrics\n",
    "            predictions = torch.argmax(outputs.data, 1)\n",
    "            running_correct += (predictions == labels).sum().item()\n",
    "            total += labels.shape[0]\n",
    "\n",
    "    return running_correct / total\n",
    "\n",
    "print(f'K-FOLD CROSS VALIDATION RESULTS FOR {k_folds} FOLDS')\n",
    "print('--------------------------------------------')\n",
    "print('|         | Train Accuracy | Test Accuracy |')\n",
    "print('--------------------------------------------')\n",
    "\n",
    "for fold, (train_ids, test_ids) in enumerate(kfold.split(indices)):\n",
    "    # Split all features according to fold indices\n",
    "    scalar_features_train = scalar_features[train_ids]\n",
    "    spectrograms_train = spectrograms[train_ids]\n",
    "    chromagrams_train = chromagrams[train_ids]\n",
    "    y_train = labels[train_ids]\n",
    "    \n",
    "    scalar_features_test = scalar_features[test_ids]\n",
    "    spectrograms_test = spectrograms[test_ids]\n",
    "    chromagrams_test = chromagrams[test_ids]\n",
    "    y_test = labels[test_ids]\n",
    "    \n",
    "    # Scale scalar features\n",
    "    scaler = StandardScaler()\n",
    "    scalar_features_train = scaler.fit_transform(scalar_features_train)\n",
    "    scalar_features_test = scaler.transform(scalar_features_test)\n",
    "    \n",
    "    # Create datasets\n",
    "    train_dataset = CombinedDataset(\n",
    "        scalar_features_train,\n",
    "        spectrograms_train,\n",
    "        chromagrams_train,\n",
    "        y_train\n",
    "    )\n",
    "    \n",
    "    test_dataset = CombinedDataset(\n",
    "        scalar_features_test,\n",
    "        spectrograms_test,\n",
    "        chromagrams_test,\n",
    "        y_test\n",
    "    )\n",
    "    \n",
    "    # Create dataloaders\n",
    "    train_loader = DataLoader(\n",
    "        dataset=train_dataset,\n",
    "        batch_size=hparams['batch_size'],\n",
    "        shuffle=True\n",
    "    )\n",
    "    \n",
    "    test_loader = DataLoader(\n",
    "        dataset=test_dataset,\n",
    "        batch_size=hparams['batch_size'],\n",
    "        shuffle=False\n",
    "    )\n",
    "    \n",
    "    # Create model\n",
    "    model = CoughNetWithCNN(len(scalar_features_train[0])).to(device)\n",
    "\n",
    "    # Construct loss and optimizer\n",
    "    optimizer = torch.optim.Adam(model.parameters(), lr=hparams['lr'])\n",
    "    criterion = torch.nn.CrossEntropyLoss()\n",
    "\n",
    "    # Add monitoring for best model\n",
    "    best_accuracy = 0.0\n",
    "    best_model_state = None\n",
    "\n",
    "    # Training loop\n",
    "    for epoch in range(hparams['epochs']):\n",
    "        train_accuracy = train(train_loader, model, optimizer, epoch)\n",
    "        eval_accuracy = evaluate(test_loader, model, epoch)\n",
    "        \n",
    "        # Print progress every 5 epochs\n",
    "        if epoch % 5 == 0:\n",
    "            print(f'Fold {fold}, Epoch {epoch}:')\n",
    "            print(f'Training Accuracy: {train_accuracy*100:.2f}%')\n",
    "            print(f'Validation Accuracy: {eval_accuracy*100:.2f}%')\n",
    "            \n",
    "        # Save best model\n",
    "        if eval_accuracy > best_accuracy:\n",
    "            best_accuracy = eval_accuracy\n",
    "            best_model_state = copy.deepcopy(model.state_dict())\n",
    "    \n",
    "    # Save the best model for this fold\n",
    "    torch.save({\n",
    "        'fold': fold,\n",
    "        'model_state': best_model_state,\n",
    "        'scaler': scaler,\n",
    "        'accuracy': best_accuracy,\n",
    "        'hparams': hparams\n",
    "    }, f'model_fold_{fold}.pth')\n",
    "        \n",
    "    results_train.append(train_accuracy)\n",
    "    results_test.append(eval_accuracy)\n",
    "    print(f'| Fold {fold}  |       {train_accuracy*100:.2f} % |       {eval_accuracy*100:.2f} % |')\n",
    "\n",
    "print('--------------------------------------------')\n",
    "print(f'| Average |       {np.mean(results_train)*100:.2f} % |       {np.mean(results_test)*100:.2f} % |')"
   ]
  },
  {
   "cell_type": "markdown",
   "metadata": {},
   "source": [
    "## Confusion Matrix\n",
    "\n",
    "- Aqui es posible ver que para algunos folds el modelo hace overfitting y en otros se comporta de mejor forma. Esto porque tenemos pocos datos y el modelo parece ser el adecuado para capturar las características del audio. \n",
    "\n",
    "- En este caso el modelo requirió de \"features\" escogidas arbitrariamente (en genearl features frecuenciales) a las redes lineales; e imágenes como spectrograma y chromagram a las redes convolucionales. Ambas salidas se unen para dar mayor información al clasificador final. \n",
    "\n",
    "- Más abajo podrás ver que el modelo parece estable ante este grupo de audios seleccionados. Tal vez tocaría extender este análisis a todos los datasets disponibles (BA DATA, COUGH-VID) que parecen tener menor calidad o casos menos \"evidentes\" de enfermedad entre ambas clases. \n",
    "\n",
    "- Siempre habrán porciones o folds donde el modelo no es tan bueno. Es parte de la técnica evidenciar esta posibilidad."
   ]
  },
  {
   "cell_type": "code",
   "execution_count": 37,
   "metadata": {},
   "outputs": [],
   "source": [
    "#!pip install seaborn"
   ]
  },
  {
   "cell_type": "code",
   "execution_count": 41,
   "metadata": {},
   "outputs": [],
   "source": [
    "def evaluate(loader_test, model, epoch, return_predictions=False):\n",
    "    model.eval()\n",
    "    running_correct = 0.0\n",
    "    total = 0\n",
    "    all_predictions = []\n",
    "    all_labels = []\n",
    "    \n",
    "    with torch.no_grad():\n",
    "        for batch_ndx, sample in enumerate(loader_test):\n",
    "            scalar_features, spectrograms, chromagrams, labels = (\n",
    "                sample[0].to(device),\n",
    "                sample[1].to(device),\n",
    "                sample[2].to(device),\n",
    "                sample[3].to(device)\n",
    "            )\n",
    "\n",
    "            outputs = model(scalar_features, spectrograms, chromagrams)\n",
    "            predictions = torch.argmax(outputs.data, 1)\n",
    "            \n",
    "            # Collect predictions and labels\n",
    "            all_predictions.extend(predictions.cpu().numpy())\n",
    "            all_labels.extend(labels.cpu().numpy())\n",
    "            \n",
    "            running_correct += (predictions == labels).sum().item()\n",
    "            total += labels.shape[0]\n",
    "\n",
    "    if return_predictions:\n",
    "        return running_correct / total, all_predictions, all_labels\n",
    "    return running_correct / total\n",
    "\n",
    "def plot_confusion_matrix(true_labels, predictions, fold=None):\n",
    "    # Create confusion matrix\n",
    "    cm = confusion_matrix(true_labels, predictions)\n",
    "    \n",
    "    # Calculate percentages\n",
    "    cm_percent = cm.astype('float') / cm.sum(axis=1)[:, np.newaxis]\n",
    "    \n",
    "    # Create figure\n",
    "    plt.figure(figsize=(10, 8))\n",
    "    sns.heatmap(cm_percent, annot=True, fmt='.1%', cmap='Blues', \n",
    "                xticklabels=['Non-COVID', 'COVID'],\n",
    "                yticklabels=['Non-COVID', 'COVID'])\n",
    "    \n",
    "    # Add raw counts\n",
    "    for i in range(cm.shape[0]):\n",
    "        for j in range(cm.shape[1]):\n",
    "            plt.text(j+0.5, i+0.5, f'\\n\\n({cm[i, j]})', \n",
    "                    ha='center', va='center')\n",
    "            "
   ]
  },
  {
   "cell_type": "code",
   "execution_count": 42,
   "metadata": {},
   "outputs": [
    {
     "name": "stdout",
     "output_type": "stream",
     "text": [
      "K-FOLD CROSS VALIDATION RESULTS FOR 8 FOLDS\n",
      "--------------------------------------------\n",
      "|         | Train Accuracy | Test Accuracy |\n",
      "--------------------------------------------\n",
      "Fold 0, Epoch 0:\n",
      "Training Accuracy: 69.23%\n",
      "Validation Accuracy: 58.82%\n",
      "Fold 0, Epoch 5:\n",
      "Training Accuracy: 71.79%\n",
      "Validation Accuracy: 70.59%\n",
      "Fold 0, Epoch 10:\n",
      "Training Accuracy: 79.49%\n",
      "Validation Accuracy: 76.47%\n",
      "Fold 0, Epoch 15:\n",
      "Training Accuracy: 81.20%\n",
      "Validation Accuracy: 64.71%\n",
      "Fold 0, Epoch 20:\n",
      "Training Accuracy: 88.89%\n",
      "Validation Accuracy: 88.24%\n",
      "Fold 0, Epoch 25:\n",
      "Training Accuracy: 91.45%\n",
      "Validation Accuracy: 94.12%\n",
      "Fold 0, Epoch 30:\n",
      "Training Accuracy: 92.31%\n",
      "Validation Accuracy: 94.12%\n",
      "Fold 0, Epoch 35:\n",
      "Training Accuracy: 93.16%\n",
      "Validation Accuracy: 94.12%\n",
      "Fold 0, Epoch 40:\n",
      "Training Accuracy: 93.16%\n",
      "Validation Accuracy: 94.12%\n",
      "Fold 0, Epoch 45:\n",
      "Training Accuracy: 93.16%\n",
      "Validation Accuracy: 94.12%\n",
      "| Fold 0  |       95.73 % |       94.12 % |\n"
     ]
    },
    {
     "data": {
      "image/png": "[encoded data removed]",
      "text/plain": [
       "<Figure size 1000x800 with 2 Axes>"
      ]
     },
     "metadata": {},
     "output_type": "display_data"
    },
    {
     "name": "stdout",
     "output_type": "stream",
     "text": [
      "Fold 1, Epoch 0:\n",
      "Training Accuracy: 60.68%\n",
      "Validation Accuracy: 58.82%\n",
      "Fold 1, Epoch 5:\n",
      "Training Accuracy: 72.65%\n",
      "Validation Accuracy: 58.82%\n",
      "Fold 1, Epoch 10:\n",
      "Training Accuracy: 82.05%\n",
      "Validation Accuracy: 58.82%\n",
      "Fold 1, Epoch 15:\n",
      "Training Accuracy: 86.32%\n",
      "Validation Accuracy: 64.71%\n",
      "Fold 1, Epoch 20:\n",
      "Training Accuracy: 91.45%\n",
      "Validation Accuracy: 76.47%\n",
      "Fold 1, Epoch 25:\n",
      "Training Accuracy: 94.02%\n",
      "Validation Accuracy: 76.47%\n",
      "Fold 1, Epoch 30:\n",
      "Training Accuracy: 94.02%\n",
      "Validation Accuracy: 76.47%\n",
      "Fold 1, Epoch 35:\n",
      "Training Accuracy: 96.58%\n",
      "Validation Accuracy: 76.47%\n",
      "Fold 1, Epoch 40:\n",
      "Training Accuracy: 96.58%\n",
      "Validation Accuracy: 70.59%\n",
      "Fold 1, Epoch 45:\n",
      "Training Accuracy: 97.44%\n",
      "Validation Accuracy: 76.47%\n",
      "| Fold 1  |       95.73 % |       76.47 % |\n"
     ]
    },
    {
     "data": {
      "image/png": "[encoded data removed]",
      "text/plain": [
       "<Figure size 1000x800 with 2 Axes>"
      ]
     },
     "metadata": {},
     "output_type": "display_data"
    },
    {
     "name": "stdout",
     "output_type": "stream",
     "text": [
      "Fold 2, Epoch 0:\n",
      "Training Accuracy: 55.56%\n",
      "Validation Accuracy: 64.71%\n",
      "Fold 2, Epoch 5:\n",
      "Training Accuracy: 73.50%\n",
      "Validation Accuracy: 64.71%\n",
      "Fold 2, Epoch 10:\n",
      "Training Accuracy: 75.21%\n",
      "Validation Accuracy: 70.59%\n",
      "Fold 2, Epoch 15:\n",
      "Training Accuracy: 83.76%\n",
      "Validation Accuracy: 76.47%\n",
      "Fold 2, Epoch 20:\n",
      "Training Accuracy: 86.32%\n",
      "Validation Accuracy: 94.12%\n",
      "Fold 2, Epoch 25:\n",
      "Training Accuracy: 92.31%\n",
      "Validation Accuracy: 94.12%\n",
      "Fold 2, Epoch 30:\n",
      "Training Accuracy: 91.45%\n",
      "Validation Accuracy: 94.12%\n",
      "Fold 2, Epoch 35:\n",
      "Training Accuracy: 94.02%\n",
      "Validation Accuracy: 94.12%\n",
      "Fold 2, Epoch 40:\n",
      "Training Accuracy: 94.02%\n",
      "Validation Accuracy: 94.12%\n",
      "Fold 2, Epoch 45:\n",
      "Training Accuracy: 94.87%\n",
      "Validation Accuracy: 94.12%\n",
      "| Fold 2  |       95.73 % |       100.00 % |\n"
     ]
    },
    {
     "data": {
      "image/png": "[encoded data removed]",
      "text/plain": [
       "<Figure size 1000x800 with 2 Axes>"
      ]
     },
     "metadata": {},
     "output_type": "display_data"
    },
    {
     "name": "stdout",
     "output_type": "stream",
     "text": [
      "Fold 3, Epoch 0:\n",
      "Training Accuracy: 58.97%\n",
      "Validation Accuracy: 58.82%\n",
      "Fold 3, Epoch 5:\n",
      "Training Accuracy: 73.50%\n",
      "Validation Accuracy: 52.94%\n",
      "Fold 3, Epoch 10:\n",
      "Training Accuracy: 80.34%\n",
      "Validation Accuracy: 64.71%\n",
      "Fold 3, Epoch 15:\n",
      "Training Accuracy: 87.18%\n",
      "Validation Accuracy: 76.47%\n",
      "Fold 3, Epoch 20:\n",
      "Training Accuracy: 92.31%\n",
      "Validation Accuracy: 82.35%\n",
      "Fold 3, Epoch 25:\n",
      "Training Accuracy: 94.02%\n",
      "Validation Accuracy: 88.24%\n",
      "Fold 3, Epoch 30:\n",
      "Training Accuracy: 93.16%\n",
      "Validation Accuracy: 82.35%\n",
      "Fold 3, Epoch 35:\n",
      "Training Accuracy: 96.58%\n",
      "Validation Accuracy: 82.35%\n",
      "Fold 3, Epoch 40:\n",
      "Training Accuracy: 94.02%\n",
      "Validation Accuracy: 88.24%\n",
      "Fold 3, Epoch 45:\n",
      "Training Accuracy: 94.02%\n",
      "Validation Accuracy: 82.35%\n",
      "| Fold 3  |       96.58 % |       82.35 % |\n"
     ]
    },
    {
     "data": {
      "image/png": "[encoded data removed]",
      "text/plain": [
       "<Figure size 1000x800 with 2 Axes>"
      ]
     },
     "metadata": {},
     "output_type": "display_data"
    },
    {
     "name": "stdout",
     "output_type": "stream",
     "text": [
      "Fold 4, Epoch 0:\n",
      "Training Accuracy: 58.12%\n",
      "Validation Accuracy: 76.47%\n",
      "Fold 4, Epoch 5:\n",
      "Training Accuracy: 70.94%\n",
      "Validation Accuracy: 76.47%\n",
      "Fold 4, Epoch 10:\n",
      "Training Accuracy: 83.76%\n",
      "Validation Accuracy: 82.35%\n",
      "Fold 4, Epoch 15:\n",
      "Training Accuracy: 86.32%\n",
      "Validation Accuracy: 94.12%\n",
      "Fold 4, Epoch 20:\n",
      "Training Accuracy: 89.74%\n",
      "Validation Accuracy: 94.12%\n",
      "Fold 4, Epoch 25:\n",
      "Training Accuracy: 91.45%\n",
      "Validation Accuracy: 82.35%\n",
      "Fold 4, Epoch 30:\n",
      "Training Accuracy: 94.02%\n",
      "Validation Accuracy: 88.24%\n",
      "Fold 4, Epoch 35:\n",
      "Training Accuracy: 95.73%\n",
      "Validation Accuracy: 82.35%\n",
      "Fold 4, Epoch 40:\n",
      "Training Accuracy: 93.16%\n",
      "Validation Accuracy: 82.35%\n",
      "Fold 4, Epoch 45:\n",
      "Training Accuracy: 95.73%\n",
      "Validation Accuracy: 94.12%\n",
      "| Fold 4  |       97.44 % |       82.35 % |\n"
     ]
    },
    {
     "data": {
      "image/png": "[encoded data removed]",
      "text/plain": [
       "<Figure size 1000x800 with 2 Axes>"
      ]
     },
     "metadata": {},
     "output_type": "display_data"
    },
    {
     "name": "stdout",
     "output_type": "stream",
     "text": [
      "Fold 5, Epoch 0:\n",
      "Training Accuracy: 57.26%\n",
      "Validation Accuracy: 82.35%\n",
      "Fold 5, Epoch 5:\n",
      "Training Accuracy: 70.09%\n",
      "Validation Accuracy: 82.35%\n",
      "Fold 5, Epoch 10:\n",
      "Training Accuracy: 74.36%\n",
      "Validation Accuracy: 88.24%\n",
      "Fold 5, Epoch 15:\n",
      "Training Accuracy: 84.62%\n",
      "Validation Accuracy: 82.35%\n",
      "Fold 5, Epoch 20:\n",
      "Training Accuracy: 90.60%\n",
      "Validation Accuracy: 76.47%\n",
      "Fold 5, Epoch 25:\n",
      "Training Accuracy: 91.45%\n",
      "Validation Accuracy: 76.47%\n",
      "Fold 5, Epoch 30:\n",
      "Training Accuracy: 92.31%\n",
      "Validation Accuracy: 82.35%\n",
      "Fold 5, Epoch 35:\n",
      "Training Accuracy: 93.16%\n",
      "Validation Accuracy: 76.47%\n",
      "Fold 5, Epoch 40:\n",
      "Training Accuracy: 95.73%\n",
      "Validation Accuracy: 82.35%\n",
      "Fold 5, Epoch 45:\n",
      "Training Accuracy: 96.58%\n",
      "Validation Accuracy: 76.47%\n",
      "| Fold 5  |       95.73 % |       76.47 % |\n"
     ]
    },
    {
     "data": {
      "image/png": "[encoded data removed]",
      "text/plain": [
       "<Figure size 1000x800 with 2 Axes>"
      ]
     },
     "metadata": {},
     "output_type": "display_data"
    },
    {
     "name": "stdout",
     "output_type": "stream",
     "text": [
      "Fold 6, Epoch 0:\n",
      "Training Accuracy: 54.24%\n",
      "Validation Accuracy: 31.25%\n",
      "Fold 6, Epoch 5:\n",
      "Training Accuracy: 72.03%\n",
      "Validation Accuracy: 81.25%\n",
      "Fold 6, Epoch 10:\n",
      "Training Accuracy: 79.66%\n",
      "Validation Accuracy: 81.25%\n",
      "Fold 6, Epoch 15:\n",
      "Training Accuracy: 85.59%\n",
      "Validation Accuracy: 93.75%\n",
      "Fold 6, Epoch 20:\n",
      "Training Accuracy: 89.83%\n",
      "Validation Accuracy: 93.75%\n",
      "Fold 6, Epoch 25:\n",
      "Training Accuracy: 93.22%\n",
      "Validation Accuracy: 93.75%\n",
      "Fold 6, Epoch 30:\n",
      "Training Accuracy: 95.76%\n",
      "Validation Accuracy: 93.75%\n",
      "Fold 6, Epoch 35:\n",
      "Training Accuracy: 95.76%\n",
      "Validation Accuracy: 93.75%\n",
      "Fold 6, Epoch 40:\n",
      "Training Accuracy: 97.46%\n",
      "Validation Accuracy: 93.75%\n",
      "Fold 6, Epoch 45:\n",
      "Training Accuracy: 97.46%\n",
      "Validation Accuracy: 93.75%\n",
      "| Fold 6  |       97.46 % |       93.75 % |\n"
     ]
    },
    {
     "data": {
      "image/png": "[encoded data removed]",
      "text/plain": [
       "<Figure size 1000x800 with 2 Axes>"
      ]
     },
     "metadata": {},
     "output_type": "display_data"
    },
    {
     "name": "stdout",
     "output_type": "stream",
     "text": [
      "Fold 7, Epoch 0:\n",
      "Training Accuracy: 62.71%\n",
      "Validation Accuracy: 81.25%\n",
      "Fold 7, Epoch 5:\n",
      "Training Accuracy: 72.88%\n",
      "Validation Accuracy: 81.25%\n",
      "Fold 7, Epoch 10:\n",
      "Training Accuracy: 81.36%\n",
      "Validation Accuracy: 68.75%\n",
      "Fold 7, Epoch 15:\n",
      "Training Accuracy: 87.29%\n",
      "Validation Accuracy: 56.25%\n",
      "Fold 7, Epoch 20:\n",
      "Training Accuracy: 92.37%\n",
      "Validation Accuracy: 68.75%\n",
      "Fold 7, Epoch 25:\n",
      "Training Accuracy: 90.68%\n",
      "Validation Accuracy: 62.50%\n",
      "Fold 7, Epoch 30:\n",
      "Training Accuracy: 90.68%\n",
      "Validation Accuracy: 62.50%\n",
      "Fold 7, Epoch 35:\n",
      "Training Accuracy: 96.61%\n",
      "Validation Accuracy: 62.50%\n",
      "Fold 7, Epoch 40:\n",
      "Training Accuracy: 94.07%\n",
      "Validation Accuracy: 68.75%\n",
      "Fold 7, Epoch 45:\n",
      "Training Accuracy: 95.76%\n",
      "Validation Accuracy: 62.50%\n",
      "| Fold 7  |       96.61 % |       62.50 % |\n"
     ]
    },
    {
     "data": {
      "image/png": "[encoded data removed]",
      "text/plain": [
       "<Figure size 1000x800 with 2 Axes>"
      ]
     },
     "metadata": {},
     "output_type": "display_data"
    },
    {
     "name": "stdout",
     "output_type": "stream",
     "text": [
      "--------------------------------------------\n",
      "| Average |       96.43 % |       85.39 % |\n"
     ]
    }
   ],
   "source": [
    "print(f'K-FOLD CROSS VALIDATION RESULTS FOR {k_folds} FOLDS')\n",
    "print('--------------------------------------------')\n",
    "print('|         | Train Accuracy | Test Accuracy |')\n",
    "print('--------------------------------------------')\n",
    "\n",
    "for fold, (train_ids, test_ids) in enumerate(kfold.split(indices)):\n",
    "    # Split all features according to fold indices\n",
    "    scalar_features_train = scalar_features[train_ids]\n",
    "    spectrograms_train = spectrograms[train_ids]\n",
    "    chromagrams_train = chromagrams[train_ids]\n",
    "    y_train = labels[train_ids]\n",
    "    \n",
    "    scalar_features_test = scalar_features[test_ids]\n",
    "    spectrograms_test = spectrograms[test_ids]\n",
    "    chromagrams_test = chromagrams[test_ids]\n",
    "    y_test = labels[test_ids]\n",
    "    \n",
    "    # Scale scalar features\n",
    "    scaler = StandardScaler()\n",
    "    scalar_features_train = scaler.fit_transform(scalar_features_train)\n",
    "    scalar_features_test = scaler.transform(scalar_features_test)\n",
    "    \n",
    "    # Create datasets\n",
    "    train_dataset = CombinedDataset(\n",
    "        scalar_features_train,\n",
    "        spectrograms_train,\n",
    "        chromagrams_train,\n",
    "        y_train\n",
    "    )\n",
    "    \n",
    "    test_dataset = CombinedDataset(\n",
    "        scalar_features_test,\n",
    "        spectrograms_test,\n",
    "        chromagrams_test,\n",
    "        y_test\n",
    "    )\n",
    "    \n",
    "    # Create dataloaders\n",
    "    train_loader = DataLoader(\n",
    "        dataset=train_dataset,\n",
    "        batch_size=hparams['batch_size'],\n",
    "        shuffle=True\n",
    "    )\n",
    "    \n",
    "    test_loader = DataLoader(\n",
    "        dataset=test_dataset,\n",
    "        batch_size=hparams['batch_size'],\n",
    "        shuffle=False\n",
    "    )\n",
    "    \n",
    "    # Create model\n",
    "    model = CoughNetWithCNN(len(scalar_features_train[0])).to(device)\n",
    "\n",
    "    # Construct loss and optimizer\n",
    "    optimizer = torch.optim.Adam(model.parameters(), lr=hparams['lr'])\n",
    "    criterion = torch.nn.CrossEntropyLoss()\n",
    "\n",
    "    # Add monitoring for best model\n",
    "    best_accuracy = 0.0\n",
    "    best_model_state = None\n",
    "\n",
    "    # Training loop\n",
    "    for epoch in range(hparams['epochs']):\n",
    "        train_accuracy = train(train_loader, model, optimizer, epoch)\n",
    "        eval_accuracy, eval_predictions, eval_labels = evaluate(test_loader, model, epoch, return_predictions=True)\n",
    "        \n",
    "        # Print progress every 5 epochs\n",
    "        if epoch % 5 == 0:\n",
    "            print(f'Fold {fold}, Epoch {epoch}:')\n",
    "            print(f'Training Accuracy: {train_accuracy*100:.2f}%')\n",
    "            print(f'Validation Accuracy: {eval_accuracy*100:.2f}%')\n",
    "            \n",
    "        # Save best model\n",
    "        if eval_accuracy > best_accuracy:\n",
    "            best_accuracy = eval_accuracy\n",
    "            best_model_state = copy.deepcopy(model.state_dict())\n",
    "    \n",
    "    # Save the best model for this fold\n",
    "    torch.save({\n",
    "        'fold': fold,\n",
    "        'model_state': best_model_state,\n",
    "        'scaler': scaler,\n",
    "        'accuracy': best_accuracy,\n",
    "        'hparams': hparams\n",
    "    }, f'model_fold_{fold}.pth')\n",
    "        \n",
    "    results_train.append(train_accuracy)\n",
    "    results_test.append(eval_accuracy)\n",
    "    print(f'| Fold {fold}  |       {train_accuracy*100:.2f} % |       {eval_accuracy*100:.2f} % |')\n",
    "\n",
    "    # Plot confusion matrix for this fold\n",
    "    plot_confusion_matrix(eval_labels, eval_predictions, fold=fold)\n",
    "    plt.title(f'Confusion Matrix - Fold {fold}')\n",
    "    plt.show()\n",
    "\n",
    "print('--------------------------------------------')\n",
    "print(f'| Average |       {np.mean(results_train)*100:.2f} % |       {np.mean(results_test)*100:.2f} % |')"
   ]
  }
 ],
 "metadata": {
  "kernelspec": {
   "display_name": "clear-J92jq7Lm-py3.11",
   "language": "python",
   "name": "python3"
  },
  "language_info": {
   "codemirror_mode": {
    "name": "ipython",
    "version": 3
   },
   "file_extension": ".py",
   "mimetype": "text/x-python",
   "name": "python",
   "nbconvert_exporter": "python",
   "pygments_lexer": "ipython3",
   "version": "3.11.6"
  }
 },
 "nbformat": 4,
 "nbformat_minor": 2
}
