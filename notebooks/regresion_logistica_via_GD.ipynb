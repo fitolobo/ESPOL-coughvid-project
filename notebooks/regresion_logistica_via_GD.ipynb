{
 "cells": [
  {
   "cell_type": "code",
   "execution_count": 2,
   "metadata": {},
   "outputs": [
    {
     "ename": "NameError",
     "evalue": "name 'HeatMapBuilder' is not defined",
     "output_type": "error",
     "traceback": [
      "\u001b[0;31m---------------------------------------------------------------------------\u001b[0m",
      "\u001b[0;31mNameError\u001b[0m                                 Traceback (most recent call last)",
      "Cell \u001b[0;32mIn[2], line 1\u001b[0m\n\u001b[0;32m----> 1\u001b[0m builder_obj \u001b[38;5;241m=\u001b[39m \u001b[43mHeatMapBuilder\u001b[49m(model_path)\n\u001b[1;32m      3\u001b[0m builder_obj\u001b[38;5;241m.\u001b[39mload_image(image_path)\n\u001b[1;32m      5\u001b[0m builder_obj\u001b[38;5;241m.\u001b[39mget_heat_map()\n",
      "\u001b[0;31mNameError\u001b[0m: name 'HeatMapBuilder' is not defined"
     ]
    }
   ],
   "source": [
    "builder_obj = HeatMapBuilder(model_path)\n",
    "\n",
    "builder_obj.load_image(image_path)\n",
    "\n",
    "builder_obj.get_heat_map()\n",
    "\n",
    "raw_heat_map = builder_obj.raw_heat_map \n",
    "\n",
    "print(raw_heat_map)\n",
    "\n",
    "array([[    0.44482,     0.46158,     0.45955, ...,     0.33248,     0.31029,     0.33319],\n",
    "       [    0.45115,      0.4676,     0.46498, ...,     0.34189,     0.31969,     0.34259],\n",
    "       [    0.43699,     0.45284,     0.44908, ...,     0.33493,     0.31273,     0.33562],\n",
    "       ...,\n",
    "       [    0.32501,     0.32482,     0.32374, ...,     0.36171,     0.36151,     0.36149],\n",
    "       [    0.31272,     0.31255,     0.31156, ...,     0.35004,     0.34979,     0.34977],\n",
    "       [    0.31976,      0.3196,     0.31863, ...,     0.35713,     0.35688,     0.35687]], dtype=float32)\n",
    "\n",
    "heatmap = builder_obj.raw_heat_map\n",
    "cluster_finder_obj = ClusterFinder(heatmap)\n",
    "cluster_finder_obj.get_dbscan(threshold = 90)\n",
    "cluster_finder_obj.get_visualization(save_path=\"./images/cluster.jpg\")\n",
    "cluster_points = cluster_finder_obj.raw_cluster_points\n",
    "\n",
    "print(cluster_points)\n",
    "\n",
    "array([[1915, 2059],\n",
    "       [1916, 2056],\n",
    "       [1916, 2058],\n",
    "       [1916, 2059],\n",
    "       [1916, 2060],\n",
    "       [1916, 2061],\n",
    "       [1916, 2062],\n",
    "       [1917, 2056],\n",
    "       [1917, 2057],\n",
    "       [1917, 2058],\n",
    "       [1917, 2059],\n",
    "       [1917, 2060],\n",
    "       [1917, 2061],\n",
    "       [1917, 2062],\n",
    "       [1917, 2063],\n",
    "       [1917, 2064],\n",
    "       [1918, 2059],\n",
    "       [1918, 2060],\n",
    "       [1919, 2058],\n",
    "       [1919, 2059],\n",
    "       [1919, 2060],\n",
    "       [1919, 2061],\n",
    "       [1919, 2062],\n",
    "       [1919, 2063],\n",
    "       [1919, 2064]])"
   ]
  },
  {
   "cell_type": "code",
   "execution_count": null,
   "metadata": {},
   "outputs": [],
   "source": []
  }
 ],
 "metadata": {
  "kernelspec": {
   "display_name": ".venv",
   "language": "python",
   "name": "python3"
  },
  "language_info": {
   "codemirror_mode": {
    "name": "ipython",
    "version": 3
   },
   "file_extension": ".py",
   "mimetype": "text/x-python",
   "name": "python",
   "nbconvert_exporter": "python",
   "pygments_lexer": "ipython3",
   "version": "3.10.9"
  }
 },
 "nbformat": 4,
 "nbformat_minor": 2
}
